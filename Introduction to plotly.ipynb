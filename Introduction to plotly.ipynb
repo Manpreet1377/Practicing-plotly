{
 "cells": [
  {
   "cell_type": "markdown",
   "metadata": {},
   "source": [
    "# Loading Data"
   ]
  },
  {
   "cell_type": "code",
   "execution_count": 520,
   "metadata": {},
   "outputs": [],
   "source": [
    "import pandas as pd\n",
    "timesData = pd.read_csv('timesData.csv')"
   ]
  },
  {
   "cell_type": "code",
   "execution_count": 521,
   "metadata": {},
   "outputs": [
    {
     "data": {
      "text/html": [
       "<div>\n",
       "<style scoped>\n",
       "    .dataframe tbody tr th:only-of-type {\n",
       "        vertical-align: middle;\n",
       "    }\n",
       "\n",
       "    .dataframe tbody tr th {\n",
       "        vertical-align: top;\n",
       "    }\n",
       "\n",
       "    .dataframe thead th {\n",
       "        text-align: right;\n",
       "    }\n",
       "</style>\n",
       "<table border=\"1\" class=\"dataframe\">\n",
       "  <thead>\n",
       "    <tr style=\"text-align: right;\">\n",
       "      <th></th>\n",
       "      <th>world_rank</th>\n",
       "      <th>university_name</th>\n",
       "      <th>country</th>\n",
       "      <th>teaching</th>\n",
       "      <th>international</th>\n",
       "      <th>research</th>\n",
       "      <th>citations</th>\n",
       "      <th>income</th>\n",
       "      <th>total_score</th>\n",
       "      <th>num_students</th>\n",
       "      <th>student_staff_ratio</th>\n",
       "      <th>international_students</th>\n",
       "      <th>female_male_ratio</th>\n",
       "      <th>year</th>\n",
       "    </tr>\n",
       "  </thead>\n",
       "  <tbody>\n",
       "    <tr>\n",
       "      <td>0</td>\n",
       "      <td>1</td>\n",
       "      <td>Harvard University</td>\n",
       "      <td>United States of America</td>\n",
       "      <td>99.7</td>\n",
       "      <td>72.4</td>\n",
       "      <td>98.7</td>\n",
       "      <td>98.8</td>\n",
       "      <td>34.5</td>\n",
       "      <td>96.1</td>\n",
       "      <td>20,152</td>\n",
       "      <td>8.9</td>\n",
       "      <td>25%</td>\n",
       "      <td>NaN</td>\n",
       "      <td>2011</td>\n",
       "    </tr>\n",
       "    <tr>\n",
       "      <td>1</td>\n",
       "      <td>2</td>\n",
       "      <td>California Institute of Technology</td>\n",
       "      <td>United States of America</td>\n",
       "      <td>97.7</td>\n",
       "      <td>54.6</td>\n",
       "      <td>98.0</td>\n",
       "      <td>99.9</td>\n",
       "      <td>83.7</td>\n",
       "      <td>96.0</td>\n",
       "      <td>2,243</td>\n",
       "      <td>6.9</td>\n",
       "      <td>27%</td>\n",
       "      <td>33 : 67</td>\n",
       "      <td>2011</td>\n",
       "    </tr>\n",
       "    <tr>\n",
       "      <td>2</td>\n",
       "      <td>3</td>\n",
       "      <td>Massachusetts Institute of Technology</td>\n",
       "      <td>United States of America</td>\n",
       "      <td>97.8</td>\n",
       "      <td>82.3</td>\n",
       "      <td>91.4</td>\n",
       "      <td>99.9</td>\n",
       "      <td>87.5</td>\n",
       "      <td>95.6</td>\n",
       "      <td>11,074</td>\n",
       "      <td>9.0</td>\n",
       "      <td>33%</td>\n",
       "      <td>37 : 63</td>\n",
       "      <td>2011</td>\n",
       "    </tr>\n",
       "    <tr>\n",
       "      <td>3</td>\n",
       "      <td>4</td>\n",
       "      <td>Stanford University</td>\n",
       "      <td>United States of America</td>\n",
       "      <td>98.3</td>\n",
       "      <td>29.5</td>\n",
       "      <td>98.1</td>\n",
       "      <td>99.2</td>\n",
       "      <td>64.3</td>\n",
       "      <td>94.3</td>\n",
       "      <td>15,596</td>\n",
       "      <td>7.8</td>\n",
       "      <td>22%</td>\n",
       "      <td>42 : 58</td>\n",
       "      <td>2011</td>\n",
       "    </tr>\n",
       "    <tr>\n",
       "      <td>4</td>\n",
       "      <td>5</td>\n",
       "      <td>Princeton University</td>\n",
       "      <td>United States of America</td>\n",
       "      <td>90.9</td>\n",
       "      <td>70.3</td>\n",
       "      <td>95.4</td>\n",
       "      <td>99.9</td>\n",
       "      <td>-</td>\n",
       "      <td>94.2</td>\n",
       "      <td>7,929</td>\n",
       "      <td>8.4</td>\n",
       "      <td>27%</td>\n",
       "      <td>45 : 55</td>\n",
       "      <td>2011</td>\n",
       "    </tr>\n",
       "  </tbody>\n",
       "</table>\n",
       "</div>"
      ],
      "text/plain": [
       "  world_rank                        university_name                   country  \\\n",
       "0          1                     Harvard University  United States of America   \n",
       "1          2     California Institute of Technology  United States of America   \n",
       "2          3  Massachusetts Institute of Technology  United States of America   \n",
       "3          4                    Stanford University  United States of America   \n",
       "4          5                   Princeton University  United States of America   \n",
       "\n",
       "   teaching international  research  citations income total_score  \\\n",
       "0      99.7          72.4      98.7       98.8   34.5        96.1   \n",
       "1      97.7          54.6      98.0       99.9   83.7        96.0   \n",
       "2      97.8          82.3      91.4       99.9   87.5        95.6   \n",
       "3      98.3          29.5      98.1       99.2   64.3        94.3   \n",
       "4      90.9          70.3      95.4       99.9      -        94.2   \n",
       "\n",
       "  num_students  student_staff_ratio international_students female_male_ratio  \\\n",
       "0       20,152                  8.9                    25%               NaN   \n",
       "1        2,243                  6.9                    27%           33 : 67   \n",
       "2       11,074                  9.0                    33%           37 : 63   \n",
       "3       15,596                  7.8                    22%           42 : 58   \n",
       "4        7,929                  8.4                    27%           45 : 55   \n",
       "\n",
       "   year  \n",
       "0  2011  \n",
       "1  2011  \n",
       "2  2011  \n",
       "3  2011  \n",
       "4  2011  "
      ]
     },
     "execution_count": 521,
     "metadata": {},
     "output_type": "execute_result"
    }
   ],
   "source": [
    "timesData.head()"
   ]
  },
  {
   "cell_type": "markdown",
   "metadata": {},
   "source": [
    "# Bar plot using dataframe"
   ]
  },
  {
   "cell_type": "markdown",
   "metadata": {},
   "source": [
    "## Citations of top 4 universities in 2015"
   ]
  },
  {
   "cell_type": "code",
   "execution_count": null,
   "metadata": {},
   "outputs": [],
   "source": []
  },
  {
   "cell_type": "markdown",
   "metadata": {},
   "source": [
    "# Bar plot using plotly graph objects"
   ]
  },
  {
   "cell_type": "markdown",
   "metadata": {},
   "source": [
    "### Citations of top 4 universities in 2015"
   ]
  },
  {
   "cell_type": "code",
   "execution_count": 522,
   "metadata": {},
   "outputs": [],
   "source": [
    "import plotly.graph_objects as go"
   ]
  },
  {
   "cell_type": "code",
   "execution_count": 523,
   "metadata": {},
   "outputs": [
    {
     "data": {
      "application/vnd.plotly.v1+json": {
       "config": {
        "plotlyServerURL": "https://plot.ly"
       },
       "data": [
        {
         "type": "bar",
         "x": [
          "California Institute of Technology",
          "Harvard University",
          "University of Oxford",
          "Stanford University"
         ],
         "y": [
          99.7,
          98.9,
          95.5,
          99.1
         ]
        }
       ],
       "layout": {
        "template": {
         "data": {
          "bar": [
           {
            "error_x": {
             "color": "#2a3f5f"
            },
            "error_y": {
             "color": "#2a3f5f"
            },
            "marker": {
             "line": {
              "color": "#E5ECF6",
              "width": 0.5
             }
            },
            "type": "bar"
           }
          ],
          "barpolar": [
           {
            "marker": {
             "line": {
              "color": "#E5ECF6",
              "width": 0.5
             }
            },
            "type": "barpolar"
           }
          ],
          "carpet": [
           {
            "aaxis": {
             "endlinecolor": "#2a3f5f",
             "gridcolor": "white",
             "linecolor": "white",
             "minorgridcolor": "white",
             "startlinecolor": "#2a3f5f"
            },
            "baxis": {
             "endlinecolor": "#2a3f5f",
             "gridcolor": "white",
             "linecolor": "white",
             "minorgridcolor": "white",
             "startlinecolor": "#2a3f5f"
            },
            "type": "carpet"
           }
          ],
          "choropleth": [
           {
            "colorbar": {
             "outlinewidth": 0,
             "ticks": ""
            },
            "type": "choropleth"
           }
          ],
          "contour": [
           {
            "colorbar": {
             "outlinewidth": 0,
             "ticks": ""
            },
            "colorscale": [
             [
              0,
              "#0d0887"
             ],
             [
              0.1111111111111111,
              "#46039f"
             ],
             [
              0.2222222222222222,
              "#7201a8"
             ],
             [
              0.3333333333333333,
              "#9c179e"
             ],
             [
              0.4444444444444444,
              "#bd3786"
             ],
             [
              0.5555555555555556,
              "#d8576b"
             ],
             [
              0.6666666666666666,
              "#ed7953"
             ],
             [
              0.7777777777777778,
              "#fb9f3a"
             ],
             [
              0.8888888888888888,
              "#fdca26"
             ],
             [
              1,
              "#f0f921"
             ]
            ],
            "type": "contour"
           }
          ],
          "contourcarpet": [
           {
            "colorbar": {
             "outlinewidth": 0,
             "ticks": ""
            },
            "type": "contourcarpet"
           }
          ],
          "heatmap": [
           {
            "colorbar": {
             "outlinewidth": 0,
             "ticks": ""
            },
            "colorscale": [
             [
              0,
              "#0d0887"
             ],
             [
              0.1111111111111111,
              "#46039f"
             ],
             [
              0.2222222222222222,
              "#7201a8"
             ],
             [
              0.3333333333333333,
              "#9c179e"
             ],
             [
              0.4444444444444444,
              "#bd3786"
             ],
             [
              0.5555555555555556,
              "#d8576b"
             ],
             [
              0.6666666666666666,
              "#ed7953"
             ],
             [
              0.7777777777777778,
              "#fb9f3a"
             ],
             [
              0.8888888888888888,
              "#fdca26"
             ],
             [
              1,
              "#f0f921"
             ]
            ],
            "type": "heatmap"
           }
          ],
          "heatmapgl": [
           {
            "colorbar": {
             "outlinewidth": 0,
             "ticks": ""
            },
            "colorscale": [
             [
              0,
              "#0d0887"
             ],
             [
              0.1111111111111111,
              "#46039f"
             ],
             [
              0.2222222222222222,
              "#7201a8"
             ],
             [
              0.3333333333333333,
              "#9c179e"
             ],
             [
              0.4444444444444444,
              "#bd3786"
             ],
             [
              0.5555555555555556,
              "#d8576b"
             ],
             [
              0.6666666666666666,
              "#ed7953"
             ],
             [
              0.7777777777777778,
              "#fb9f3a"
             ],
             [
              0.8888888888888888,
              "#fdca26"
             ],
             [
              1,
              "#f0f921"
             ]
            ],
            "type": "heatmapgl"
           }
          ],
          "histogram": [
           {
            "marker": {
             "colorbar": {
              "outlinewidth": 0,
              "ticks": ""
             }
            },
            "type": "histogram"
           }
          ],
          "histogram2d": [
           {
            "colorbar": {
             "outlinewidth": 0,
             "ticks": ""
            },
            "colorscale": [
             [
              0,
              "#0d0887"
             ],
             [
              0.1111111111111111,
              "#46039f"
             ],
             [
              0.2222222222222222,
              "#7201a8"
             ],
             [
              0.3333333333333333,
              "#9c179e"
             ],
             [
              0.4444444444444444,
              "#bd3786"
             ],
             [
              0.5555555555555556,
              "#d8576b"
             ],
             [
              0.6666666666666666,
              "#ed7953"
             ],
             [
              0.7777777777777778,
              "#fb9f3a"
             ],
             [
              0.8888888888888888,
              "#fdca26"
             ],
             [
              1,
              "#f0f921"
             ]
            ],
            "type": "histogram2d"
           }
          ],
          "histogram2dcontour": [
           {
            "colorbar": {
             "outlinewidth": 0,
             "ticks": ""
            },
            "colorscale": [
             [
              0,
              "#0d0887"
             ],
             [
              0.1111111111111111,
              "#46039f"
             ],
             [
              0.2222222222222222,
              "#7201a8"
             ],
             [
              0.3333333333333333,
              "#9c179e"
             ],
             [
              0.4444444444444444,
              "#bd3786"
             ],
             [
              0.5555555555555556,
              "#d8576b"
             ],
             [
              0.6666666666666666,
              "#ed7953"
             ],
             [
              0.7777777777777778,
              "#fb9f3a"
             ],
             [
              0.8888888888888888,
              "#fdca26"
             ],
             [
              1,
              "#f0f921"
             ]
            ],
            "type": "histogram2dcontour"
           }
          ],
          "mesh3d": [
           {
            "colorbar": {
             "outlinewidth": 0,
             "ticks": ""
            },
            "type": "mesh3d"
           }
          ],
          "parcoords": [
           {
            "line": {
             "colorbar": {
              "outlinewidth": 0,
              "ticks": ""
             }
            },
            "type": "parcoords"
           }
          ],
          "pie": [
           {
            "automargin": true,
            "type": "pie"
           }
          ],
          "scatter": [
           {
            "marker": {
             "colorbar": {
              "outlinewidth": 0,
              "ticks": ""
             }
            },
            "type": "scatter"
           }
          ],
          "scatter3d": [
           {
            "line": {
             "colorbar": {
              "outlinewidth": 0,
              "ticks": ""
             }
            },
            "marker": {
             "colorbar": {
              "outlinewidth": 0,
              "ticks": ""
             }
            },
            "type": "scatter3d"
           }
          ],
          "scattercarpet": [
           {
            "marker": {
             "colorbar": {
              "outlinewidth": 0,
              "ticks": ""
             }
            },
            "type": "scattercarpet"
           }
          ],
          "scattergeo": [
           {
            "marker": {
             "colorbar": {
              "outlinewidth": 0,
              "ticks": ""
             }
            },
            "type": "scattergeo"
           }
          ],
          "scattergl": [
           {
            "marker": {
             "colorbar": {
              "outlinewidth": 0,
              "ticks": ""
             }
            },
            "type": "scattergl"
           }
          ],
          "scattermapbox": [
           {
            "marker": {
             "colorbar": {
              "outlinewidth": 0,
              "ticks": ""
             }
            },
            "type": "scattermapbox"
           }
          ],
          "scatterpolar": [
           {
            "marker": {
             "colorbar": {
              "outlinewidth": 0,
              "ticks": ""
             }
            },
            "type": "scatterpolar"
           }
          ],
          "scatterpolargl": [
           {
            "marker": {
             "colorbar": {
              "outlinewidth": 0,
              "ticks": ""
             }
            },
            "type": "scatterpolargl"
           }
          ],
          "scatterternary": [
           {
            "marker": {
             "colorbar": {
              "outlinewidth": 0,
              "ticks": ""
             }
            },
            "type": "scatterternary"
           }
          ],
          "surface": [
           {
            "colorbar": {
             "outlinewidth": 0,
             "ticks": ""
            },
            "colorscale": [
             [
              0,
              "#0d0887"
             ],
             [
              0.1111111111111111,
              "#46039f"
             ],
             [
              0.2222222222222222,
              "#7201a8"
             ],
             [
              0.3333333333333333,
              "#9c179e"
             ],
             [
              0.4444444444444444,
              "#bd3786"
             ],
             [
              0.5555555555555556,
              "#d8576b"
             ],
             [
              0.6666666666666666,
              "#ed7953"
             ],
             [
              0.7777777777777778,
              "#fb9f3a"
             ],
             [
              0.8888888888888888,
              "#fdca26"
             ],
             [
              1,
              "#f0f921"
             ]
            ],
            "type": "surface"
           }
          ],
          "table": [
           {
            "cells": {
             "fill": {
              "color": "#EBF0F8"
             },
             "line": {
              "color": "white"
             }
            },
            "header": {
             "fill": {
              "color": "#C8D4E3"
             },
             "line": {
              "color": "white"
             }
            },
            "type": "table"
           }
          ]
         },
         "layout": {
          "annotationdefaults": {
           "arrowcolor": "#2a3f5f",
           "arrowhead": 0,
           "arrowwidth": 1
          },
          "autotypenumbers": "strict",
          "coloraxis": {
           "colorbar": {
            "outlinewidth": 0,
            "ticks": ""
           }
          },
          "colorscale": {
           "diverging": [
            [
             0,
             "#8e0152"
            ],
            [
             0.1,
             "#c51b7d"
            ],
            [
             0.2,
             "#de77ae"
            ],
            [
             0.3,
             "#f1b6da"
            ],
            [
             0.4,
             "#fde0ef"
            ],
            [
             0.5,
             "#f7f7f7"
            ],
            [
             0.6,
             "#e6f5d0"
            ],
            [
             0.7,
             "#b8e186"
            ],
            [
             0.8,
             "#7fbc41"
            ],
            [
             0.9,
             "#4d9221"
            ],
            [
             1,
             "#276419"
            ]
           ],
           "sequential": [
            [
             0,
             "#0d0887"
            ],
            [
             0.1111111111111111,
             "#46039f"
            ],
            [
             0.2222222222222222,
             "#7201a8"
            ],
            [
             0.3333333333333333,
             "#9c179e"
            ],
            [
             0.4444444444444444,
             "#bd3786"
            ],
            [
             0.5555555555555556,
             "#d8576b"
            ],
            [
             0.6666666666666666,
             "#ed7953"
            ],
            [
             0.7777777777777778,
             "#fb9f3a"
            ],
            [
             0.8888888888888888,
             "#fdca26"
            ],
            [
             1,
             "#f0f921"
            ]
           ],
           "sequentialminus": [
            [
             0,
             "#0d0887"
            ],
            [
             0.1111111111111111,
             "#46039f"
            ],
            [
             0.2222222222222222,
             "#7201a8"
            ],
            [
             0.3333333333333333,
             "#9c179e"
            ],
            [
             0.4444444444444444,
             "#bd3786"
            ],
            [
             0.5555555555555556,
             "#d8576b"
            ],
            [
             0.6666666666666666,
             "#ed7953"
            ],
            [
             0.7777777777777778,
             "#fb9f3a"
            ],
            [
             0.8888888888888888,
             "#fdca26"
            ],
            [
             1,
             "#f0f921"
            ]
           ]
          },
          "colorway": [
           "#636efa",
           "#EF553B",
           "#00cc96",
           "#ab63fa",
           "#FFA15A",
           "#19d3f3",
           "#FF6692",
           "#B6E880",
           "#FF97FF",
           "#FECB52"
          ],
          "font": {
           "color": "#2a3f5f"
          },
          "geo": {
           "bgcolor": "white",
           "lakecolor": "white",
           "landcolor": "#E5ECF6",
           "showlakes": true,
           "showland": true,
           "subunitcolor": "white"
          },
          "hoverlabel": {
           "align": "left"
          },
          "hovermode": "closest",
          "mapbox": {
           "style": "light"
          },
          "paper_bgcolor": "white",
          "plot_bgcolor": "#E5ECF6",
          "polar": {
           "angularaxis": {
            "gridcolor": "white",
            "linecolor": "white",
            "ticks": ""
           },
           "bgcolor": "#E5ECF6",
           "radialaxis": {
            "gridcolor": "white",
            "linecolor": "white",
            "ticks": ""
           }
          },
          "scene": {
           "xaxis": {
            "backgroundcolor": "#E5ECF6",
            "gridcolor": "white",
            "gridwidth": 2,
            "linecolor": "white",
            "showbackground": true,
            "ticks": "",
            "zerolinecolor": "white"
           },
           "yaxis": {
            "backgroundcolor": "#E5ECF6",
            "gridcolor": "white",
            "gridwidth": 2,
            "linecolor": "white",
            "showbackground": true,
            "ticks": "",
            "zerolinecolor": "white"
           },
           "zaxis": {
            "backgroundcolor": "#E5ECF6",
            "gridcolor": "white",
            "gridwidth": 2,
            "linecolor": "white",
            "showbackground": true,
            "ticks": "",
            "zerolinecolor": "white"
           }
          },
          "shapedefaults": {
           "line": {
            "color": "#2a3f5f"
           }
          },
          "ternary": {
           "aaxis": {
            "gridcolor": "white",
            "linecolor": "white",
            "ticks": ""
           },
           "baxis": {
            "gridcolor": "white",
            "linecolor": "white",
            "ticks": ""
           },
           "bgcolor": "#E5ECF6",
           "caxis": {
            "gridcolor": "white",
            "linecolor": "white",
            "ticks": ""
           }
          },
          "title": {
           "x": 0.05
          },
          "xaxis": {
           "automargin": true,
           "gridcolor": "white",
           "linecolor": "white",
           "ticks": "",
           "title": {
            "standoff": 15
           },
           "zerolinecolor": "white",
           "zerolinewidth": 2
          },
          "yaxis": {
           "automargin": true,
           "gridcolor": "white",
           "linecolor": "white",
           "ticks": "",
           "title": {
            "standoff": 15
           },
           "zerolinecolor": "white",
           "zerolinewidth": 2
          }
         }
        }
       }
      },
      "text/html": [
       "<div>                            <div id=\"8a05a8e5-f9c4-4a1c-a1e5-578ae16a1f2b\" class=\"plotly-graph-div\" style=\"height:525px; width:100%;\"></div>            <script type=\"text/javascript\">                require([\"plotly\"], function(Plotly) {                    window.PLOTLYENV=window.PLOTLYENV || {};                                    if (document.getElementById(\"8a05a8e5-f9c4-4a1c-a1e5-578ae16a1f2b\")) {                    Plotly.newPlot(                        \"8a05a8e5-f9c4-4a1c-a1e5-578ae16a1f2b\",                        [{\"type\": \"bar\", \"x\": [\"California Institute of Technology\", \"Harvard University\", \"University of Oxford\", \"Stanford University\"], \"y\": [99.7, 98.9, 95.5, 99.1]}],                        {\"template\": {\"data\": {\"bar\": [{\"error_x\": {\"color\": \"#2a3f5f\"}, \"error_y\": {\"color\": \"#2a3f5f\"}, \"marker\": {\"line\": {\"color\": \"#E5ECF6\", \"width\": 0.5}}, \"type\": \"bar\"}], \"barpolar\": [{\"marker\": {\"line\": {\"color\": \"#E5ECF6\", \"width\": 0.5}}, \"type\": \"barpolar\"}], \"carpet\": [{\"aaxis\": {\"endlinecolor\": \"#2a3f5f\", \"gridcolor\": \"white\", \"linecolor\": \"white\", \"minorgridcolor\": \"white\", \"startlinecolor\": \"#2a3f5f\"}, \"baxis\": {\"endlinecolor\": \"#2a3f5f\", \"gridcolor\": \"white\", \"linecolor\": \"white\", \"minorgridcolor\": \"white\", \"startlinecolor\": \"#2a3f5f\"}, \"type\": \"carpet\"}], \"choropleth\": [{\"colorbar\": {\"outlinewidth\": 0, \"ticks\": \"\"}, \"type\": \"choropleth\"}], \"contour\": [{\"colorbar\": {\"outlinewidth\": 0, \"ticks\": \"\"}, \"colorscale\": [[0.0, \"#0d0887\"], [0.1111111111111111, \"#46039f\"], [0.2222222222222222, \"#7201a8\"], [0.3333333333333333, \"#9c179e\"], [0.4444444444444444, \"#bd3786\"], [0.5555555555555556, \"#d8576b\"], [0.6666666666666666, \"#ed7953\"], [0.7777777777777778, \"#fb9f3a\"], [0.8888888888888888, \"#fdca26\"], [1.0, \"#f0f921\"]], \"type\": \"contour\"}], \"contourcarpet\": [{\"colorbar\": {\"outlinewidth\": 0, \"ticks\": \"\"}, \"type\": \"contourcarpet\"}], \"heatmap\": [{\"colorbar\": {\"outlinewidth\": 0, \"ticks\": \"\"}, \"colorscale\": [[0.0, \"#0d0887\"], [0.1111111111111111, \"#46039f\"], [0.2222222222222222, \"#7201a8\"], [0.3333333333333333, \"#9c179e\"], [0.4444444444444444, \"#bd3786\"], [0.5555555555555556, \"#d8576b\"], [0.6666666666666666, \"#ed7953\"], [0.7777777777777778, \"#fb9f3a\"], [0.8888888888888888, \"#fdca26\"], [1.0, \"#f0f921\"]], \"type\": \"heatmap\"}], \"heatmapgl\": [{\"colorbar\": {\"outlinewidth\": 0, \"ticks\": \"\"}, \"colorscale\": [[0.0, \"#0d0887\"], [0.1111111111111111, \"#46039f\"], [0.2222222222222222, \"#7201a8\"], [0.3333333333333333, \"#9c179e\"], [0.4444444444444444, \"#bd3786\"], [0.5555555555555556, \"#d8576b\"], [0.6666666666666666, \"#ed7953\"], [0.7777777777777778, \"#fb9f3a\"], [0.8888888888888888, \"#fdca26\"], [1.0, \"#f0f921\"]], \"type\": \"heatmapgl\"}], \"histogram\": [{\"marker\": {\"colorbar\": {\"outlinewidth\": 0, \"ticks\": \"\"}}, \"type\": \"histogram\"}], \"histogram2d\": [{\"colorbar\": {\"outlinewidth\": 0, \"ticks\": \"\"}, \"colorscale\": [[0.0, \"#0d0887\"], [0.1111111111111111, \"#46039f\"], [0.2222222222222222, \"#7201a8\"], [0.3333333333333333, \"#9c179e\"], [0.4444444444444444, \"#bd3786\"], [0.5555555555555556, \"#d8576b\"], [0.6666666666666666, \"#ed7953\"], [0.7777777777777778, \"#fb9f3a\"], [0.8888888888888888, \"#fdca26\"], [1.0, \"#f0f921\"]], \"type\": \"histogram2d\"}], \"histogram2dcontour\": [{\"colorbar\": {\"outlinewidth\": 0, \"ticks\": \"\"}, \"colorscale\": [[0.0, \"#0d0887\"], [0.1111111111111111, \"#46039f\"], [0.2222222222222222, \"#7201a8\"], [0.3333333333333333, \"#9c179e\"], [0.4444444444444444, \"#bd3786\"], [0.5555555555555556, \"#d8576b\"], [0.6666666666666666, \"#ed7953\"], [0.7777777777777778, \"#fb9f3a\"], [0.8888888888888888, \"#fdca26\"], [1.0, \"#f0f921\"]], \"type\": \"histogram2dcontour\"}], \"mesh3d\": [{\"colorbar\": {\"outlinewidth\": 0, \"ticks\": \"\"}, \"type\": \"mesh3d\"}], \"parcoords\": [{\"line\": {\"colorbar\": {\"outlinewidth\": 0, \"ticks\": \"\"}}, \"type\": \"parcoords\"}], \"pie\": [{\"automargin\": true, \"type\": \"pie\"}], \"scatter\": [{\"marker\": {\"colorbar\": {\"outlinewidth\": 0, \"ticks\": \"\"}}, \"type\": \"scatter\"}], \"scatter3d\": [{\"line\": {\"colorbar\": {\"outlinewidth\": 0, \"ticks\": \"\"}}, \"marker\": {\"colorbar\": {\"outlinewidth\": 0, \"ticks\": \"\"}}, \"type\": \"scatter3d\"}], \"scattercarpet\": [{\"marker\": {\"colorbar\": {\"outlinewidth\": 0, \"ticks\": \"\"}}, \"type\": \"scattercarpet\"}], \"scattergeo\": [{\"marker\": {\"colorbar\": {\"outlinewidth\": 0, \"ticks\": \"\"}}, \"type\": \"scattergeo\"}], \"scattergl\": [{\"marker\": {\"colorbar\": {\"outlinewidth\": 0, \"ticks\": \"\"}}, \"type\": \"scattergl\"}], \"scattermapbox\": [{\"marker\": {\"colorbar\": {\"outlinewidth\": 0, \"ticks\": \"\"}}, \"type\": \"scattermapbox\"}], \"scatterpolar\": [{\"marker\": {\"colorbar\": {\"outlinewidth\": 0, \"ticks\": \"\"}}, \"type\": \"scatterpolar\"}], \"scatterpolargl\": [{\"marker\": {\"colorbar\": {\"outlinewidth\": 0, \"ticks\": \"\"}}, \"type\": \"scatterpolargl\"}], \"scatterternary\": [{\"marker\": {\"colorbar\": {\"outlinewidth\": 0, \"ticks\": \"\"}}, \"type\": \"scatterternary\"}], \"surface\": [{\"colorbar\": {\"outlinewidth\": 0, \"ticks\": \"\"}, \"colorscale\": [[0.0, \"#0d0887\"], [0.1111111111111111, \"#46039f\"], [0.2222222222222222, \"#7201a8\"], [0.3333333333333333, \"#9c179e\"], [0.4444444444444444, \"#bd3786\"], [0.5555555555555556, \"#d8576b\"], [0.6666666666666666, \"#ed7953\"], [0.7777777777777778, \"#fb9f3a\"], [0.8888888888888888, \"#fdca26\"], [1.0, \"#f0f921\"]], \"type\": \"surface\"}], \"table\": [{\"cells\": {\"fill\": {\"color\": \"#EBF0F8\"}, \"line\": {\"color\": \"white\"}}, \"header\": {\"fill\": {\"color\": \"#C8D4E3\"}, \"line\": {\"color\": \"white\"}}, \"type\": \"table\"}]}, \"layout\": {\"annotationdefaults\": {\"arrowcolor\": \"#2a3f5f\", \"arrowhead\": 0, \"arrowwidth\": 1}, \"autotypenumbers\": \"strict\", \"coloraxis\": {\"colorbar\": {\"outlinewidth\": 0, \"ticks\": \"\"}}, \"colorscale\": {\"diverging\": [[0, \"#8e0152\"], [0.1, \"#c51b7d\"], [0.2, \"#de77ae\"], [0.3, \"#f1b6da\"], [0.4, \"#fde0ef\"], [0.5, \"#f7f7f7\"], [0.6, \"#e6f5d0\"], [0.7, \"#b8e186\"], [0.8, \"#7fbc41\"], [0.9, \"#4d9221\"], [1, \"#276419\"]], \"sequential\": [[0.0, \"#0d0887\"], [0.1111111111111111, \"#46039f\"], [0.2222222222222222, \"#7201a8\"], [0.3333333333333333, \"#9c179e\"], [0.4444444444444444, \"#bd3786\"], [0.5555555555555556, \"#d8576b\"], [0.6666666666666666, \"#ed7953\"], [0.7777777777777778, \"#fb9f3a\"], [0.8888888888888888, \"#fdca26\"], [1.0, \"#f0f921\"]], \"sequentialminus\": [[0.0, \"#0d0887\"], [0.1111111111111111, \"#46039f\"], [0.2222222222222222, \"#7201a8\"], [0.3333333333333333, \"#9c179e\"], [0.4444444444444444, \"#bd3786\"], [0.5555555555555556, \"#d8576b\"], [0.6666666666666666, \"#ed7953\"], [0.7777777777777778, \"#fb9f3a\"], [0.8888888888888888, \"#fdca26\"], [1.0, \"#f0f921\"]]}, \"colorway\": [\"#636efa\", \"#EF553B\", \"#00cc96\", \"#ab63fa\", \"#FFA15A\", \"#19d3f3\", \"#FF6692\", \"#B6E880\", \"#FF97FF\", \"#FECB52\"], \"font\": {\"color\": \"#2a3f5f\"}, \"geo\": {\"bgcolor\": \"white\", \"lakecolor\": \"white\", \"landcolor\": \"#E5ECF6\", \"showlakes\": true, \"showland\": true, \"subunitcolor\": \"white\"}, \"hoverlabel\": {\"align\": \"left\"}, \"hovermode\": \"closest\", \"mapbox\": {\"style\": \"light\"}, \"paper_bgcolor\": \"white\", \"plot_bgcolor\": \"#E5ECF6\", \"polar\": {\"angularaxis\": {\"gridcolor\": \"white\", \"linecolor\": \"white\", \"ticks\": \"\"}, \"bgcolor\": \"#E5ECF6\", \"radialaxis\": {\"gridcolor\": \"white\", \"linecolor\": \"white\", \"ticks\": \"\"}}, \"scene\": {\"xaxis\": {\"backgroundcolor\": \"#E5ECF6\", \"gridcolor\": \"white\", \"gridwidth\": 2, \"linecolor\": \"white\", \"showbackground\": true, \"ticks\": \"\", \"zerolinecolor\": \"white\"}, \"yaxis\": {\"backgroundcolor\": \"#E5ECF6\", \"gridcolor\": \"white\", \"gridwidth\": 2, \"linecolor\": \"white\", \"showbackground\": true, \"ticks\": \"\", \"zerolinecolor\": \"white\"}, \"zaxis\": {\"backgroundcolor\": \"#E5ECF6\", \"gridcolor\": \"white\", \"gridwidth\": 2, \"linecolor\": \"white\", \"showbackground\": true, \"ticks\": \"\", \"zerolinecolor\": \"white\"}}, \"shapedefaults\": {\"line\": {\"color\": \"#2a3f5f\"}}, \"ternary\": {\"aaxis\": {\"gridcolor\": \"white\", \"linecolor\": \"white\", \"ticks\": \"\"}, \"baxis\": {\"gridcolor\": \"white\", \"linecolor\": \"white\", \"ticks\": \"\"}, \"bgcolor\": \"#E5ECF6\", \"caxis\": {\"gridcolor\": \"white\", \"linecolor\": \"white\", \"ticks\": \"\"}}, \"title\": {\"x\": 0.05}, \"xaxis\": {\"automargin\": true, \"gridcolor\": \"white\", \"linecolor\": \"white\", \"ticks\": \"\", \"title\": {\"standoff\": 15}, \"zerolinecolor\": \"white\", \"zerolinewidth\": 2}, \"yaxis\": {\"automargin\": true, \"gridcolor\": \"white\", \"linecolor\": \"white\", \"ticks\": \"\", \"title\": {\"standoff\": 15}, \"zerolinecolor\": \"white\", \"zerolinewidth\": 2}}}},                        {\"responsive\": true}                    ).then(function(){\n",
       "                            \n",
       "var gd = document.getElementById('8a05a8e5-f9c4-4a1c-a1e5-578ae16a1f2b');\n",
       "var x = new MutationObserver(function (mutations, observer) {{\n",
       "        var display = window.getComputedStyle(gd).display;\n",
       "        if (!display || display === 'none') {{\n",
       "            console.log([gd, 'removed!']);\n",
       "            Plotly.purge(gd);\n",
       "            observer.disconnect();\n",
       "        }}\n",
       "}});\n",
       "\n",
       "// Listen for the removal of the full notebook cells\n",
       "var notebookContainer = gd.closest('#notebook-container');\n",
       "if (notebookContainer) {{\n",
       "    x.observe(notebookContainer, {childList: true});\n",
       "}}\n",
       "\n",
       "// Listen for the clearing of the current output cell\n",
       "var outputEl = gd.closest('.output');\n",
       "if (outputEl) {{\n",
       "    x.observe(outputEl, {childList: true});\n",
       "}}\n",
       "\n",
       "                        })                };                });            </script>        </div>"
      ]
     },
     "metadata": {},
     "output_type": "display_data"
    }
   ],
   "source": [
    "df2015 = timesData[timesData['year'] == 2015].iloc[:4,]\n",
    "\n",
    "goObject = go.Bar(x=df2015.university_name,\n",
    "       y=df2015.citations)\n",
    "fig = go.Figure([goObject])\n",
    "fig.show()"
   ]
  },
  {
   "cell_type": "markdown",
   "metadata": {},
   "source": [
    "### Citations and Research score of top 4 universities in 2015  - Horizontal"
   ]
  },
  {
   "cell_type": "code",
   "execution_count": 524,
   "metadata": {},
   "outputs": [
    {
     "data": {
      "application/vnd.plotly.v1+json": {
       "config": {
        "plotlyServerURL": "https://plot.ly"
       },
       "data": [
        {
         "marker": {
          "color": "rgb(163,6,6)",
          "line": {
           "color": "rgb(0,0,0)",
           "width": 1.5
          }
         },
         "name": "citations",
         "orientation": "h",
         "type": "bar",
         "x": [
          99.7,
          98.9,
          95.5,
          99.1
         ],
         "y": [
          "California Institute of Technology",
          "Harvard University",
          "University of Oxford",
          "Stanford University"
         ]
        },
        {
         "name": "research",
         "orientation": "h",
         "type": "bar",
         "x": [
          98.1,
          98.6,
          97.7,
          96.7
         ],
         "y": [
          "California Institute of Technology",
          "Harvard University",
          "University of Oxford",
          "Stanford University"
         ]
        }
       ],
       "layout": {
        "template": {
         "data": {
          "bar": [
           {
            "error_x": {
             "color": "#2a3f5f"
            },
            "error_y": {
             "color": "#2a3f5f"
            },
            "marker": {
             "line": {
              "color": "white",
              "width": 0.5
             }
            },
            "type": "bar"
           }
          ],
          "barpolar": [
           {
            "marker": {
             "line": {
              "color": "white",
              "width": 0.5
             }
            },
            "type": "barpolar"
           }
          ],
          "carpet": [
           {
            "aaxis": {
             "endlinecolor": "#2a3f5f",
             "gridcolor": "#C8D4E3",
             "linecolor": "#C8D4E3",
             "minorgridcolor": "#C8D4E3",
             "startlinecolor": "#2a3f5f"
            },
            "baxis": {
             "endlinecolor": "#2a3f5f",
             "gridcolor": "#C8D4E3",
             "linecolor": "#C8D4E3",
             "minorgridcolor": "#C8D4E3",
             "startlinecolor": "#2a3f5f"
            },
            "type": "carpet"
           }
          ],
          "choropleth": [
           {
            "colorbar": {
             "outlinewidth": 0,
             "ticks": ""
            },
            "type": "choropleth"
           }
          ],
          "contour": [
           {
            "colorbar": {
             "outlinewidth": 0,
             "ticks": ""
            },
            "colorscale": [
             [
              0,
              "#0d0887"
             ],
             [
              0.1111111111111111,
              "#46039f"
             ],
             [
              0.2222222222222222,
              "#7201a8"
             ],
             [
              0.3333333333333333,
              "#9c179e"
             ],
             [
              0.4444444444444444,
              "#bd3786"
             ],
             [
              0.5555555555555556,
              "#d8576b"
             ],
             [
              0.6666666666666666,
              "#ed7953"
             ],
             [
              0.7777777777777778,
              "#fb9f3a"
             ],
             [
              0.8888888888888888,
              "#fdca26"
             ],
             [
              1,
              "#f0f921"
             ]
            ],
            "type": "contour"
           }
          ],
          "contourcarpet": [
           {
            "colorbar": {
             "outlinewidth": 0,
             "ticks": ""
            },
            "type": "contourcarpet"
           }
          ],
          "heatmap": [
           {
            "colorbar": {
             "outlinewidth": 0,
             "ticks": ""
            },
            "colorscale": [
             [
              0,
              "#0d0887"
             ],
             [
              0.1111111111111111,
              "#46039f"
             ],
             [
              0.2222222222222222,
              "#7201a8"
             ],
             [
              0.3333333333333333,
              "#9c179e"
             ],
             [
              0.4444444444444444,
              "#bd3786"
             ],
             [
              0.5555555555555556,
              "#d8576b"
             ],
             [
              0.6666666666666666,
              "#ed7953"
             ],
             [
              0.7777777777777778,
              "#fb9f3a"
             ],
             [
              0.8888888888888888,
              "#fdca26"
             ],
             [
              1,
              "#f0f921"
             ]
            ],
            "type": "heatmap"
           }
          ],
          "heatmapgl": [
           {
            "colorbar": {
             "outlinewidth": 0,
             "ticks": ""
            },
            "colorscale": [
             [
              0,
              "#0d0887"
             ],
             [
              0.1111111111111111,
              "#46039f"
             ],
             [
              0.2222222222222222,
              "#7201a8"
             ],
             [
              0.3333333333333333,
              "#9c179e"
             ],
             [
              0.4444444444444444,
              "#bd3786"
             ],
             [
              0.5555555555555556,
              "#d8576b"
             ],
             [
              0.6666666666666666,
              "#ed7953"
             ],
             [
              0.7777777777777778,
              "#fb9f3a"
             ],
             [
              0.8888888888888888,
              "#fdca26"
             ],
             [
              1,
              "#f0f921"
             ]
            ],
            "type": "heatmapgl"
           }
          ],
          "histogram": [
           {
            "marker": {
             "colorbar": {
              "outlinewidth": 0,
              "ticks": ""
             }
            },
            "type": "histogram"
           }
          ],
          "histogram2d": [
           {
            "colorbar": {
             "outlinewidth": 0,
             "ticks": ""
            },
            "colorscale": [
             [
              0,
              "#0d0887"
             ],
             [
              0.1111111111111111,
              "#46039f"
             ],
             [
              0.2222222222222222,
              "#7201a8"
             ],
             [
              0.3333333333333333,
              "#9c179e"
             ],
             [
              0.4444444444444444,
              "#bd3786"
             ],
             [
              0.5555555555555556,
              "#d8576b"
             ],
             [
              0.6666666666666666,
              "#ed7953"
             ],
             [
              0.7777777777777778,
              "#fb9f3a"
             ],
             [
              0.8888888888888888,
              "#fdca26"
             ],
             [
              1,
              "#f0f921"
             ]
            ],
            "type": "histogram2d"
           }
          ],
          "histogram2dcontour": [
           {
            "colorbar": {
             "outlinewidth": 0,
             "ticks": ""
            },
            "colorscale": [
             [
              0,
              "#0d0887"
             ],
             [
              0.1111111111111111,
              "#46039f"
             ],
             [
              0.2222222222222222,
              "#7201a8"
             ],
             [
              0.3333333333333333,
              "#9c179e"
             ],
             [
              0.4444444444444444,
              "#bd3786"
             ],
             [
              0.5555555555555556,
              "#d8576b"
             ],
             [
              0.6666666666666666,
              "#ed7953"
             ],
             [
              0.7777777777777778,
              "#fb9f3a"
             ],
             [
              0.8888888888888888,
              "#fdca26"
             ],
             [
              1,
              "#f0f921"
             ]
            ],
            "type": "histogram2dcontour"
           }
          ],
          "mesh3d": [
           {
            "colorbar": {
             "outlinewidth": 0,
             "ticks": ""
            },
            "type": "mesh3d"
           }
          ],
          "parcoords": [
           {
            "line": {
             "colorbar": {
              "outlinewidth": 0,
              "ticks": ""
             }
            },
            "type": "parcoords"
           }
          ],
          "pie": [
           {
            "automargin": true,
            "type": "pie"
           }
          ],
          "scatter": [
           {
            "marker": {
             "colorbar": {
              "outlinewidth": 0,
              "ticks": ""
             }
            },
            "type": "scatter"
           }
          ],
          "scatter3d": [
           {
            "line": {
             "colorbar": {
              "outlinewidth": 0,
              "ticks": ""
             }
            },
            "marker": {
             "colorbar": {
              "outlinewidth": 0,
              "ticks": ""
             }
            },
            "type": "scatter3d"
           }
          ],
          "scattercarpet": [
           {
            "marker": {
             "colorbar": {
              "outlinewidth": 0,
              "ticks": ""
             }
            },
            "type": "scattercarpet"
           }
          ],
          "scattergeo": [
           {
            "marker": {
             "colorbar": {
              "outlinewidth": 0,
              "ticks": ""
             }
            },
            "type": "scattergeo"
           }
          ],
          "scattergl": [
           {
            "marker": {
             "colorbar": {
              "outlinewidth": 0,
              "ticks": ""
             }
            },
            "type": "scattergl"
           }
          ],
          "scattermapbox": [
           {
            "marker": {
             "colorbar": {
              "outlinewidth": 0,
              "ticks": ""
             }
            },
            "type": "scattermapbox"
           }
          ],
          "scatterpolar": [
           {
            "marker": {
             "colorbar": {
              "outlinewidth": 0,
              "ticks": ""
             }
            },
            "type": "scatterpolar"
           }
          ],
          "scatterpolargl": [
           {
            "marker": {
             "colorbar": {
              "outlinewidth": 0,
              "ticks": ""
             }
            },
            "type": "scatterpolargl"
           }
          ],
          "scatterternary": [
           {
            "marker": {
             "colorbar": {
              "outlinewidth": 0,
              "ticks": ""
             }
            },
            "type": "scatterternary"
           }
          ],
          "surface": [
           {
            "colorbar": {
             "outlinewidth": 0,
             "ticks": ""
            },
            "colorscale": [
             [
              0,
              "#0d0887"
             ],
             [
              0.1111111111111111,
              "#46039f"
             ],
             [
              0.2222222222222222,
              "#7201a8"
             ],
             [
              0.3333333333333333,
              "#9c179e"
             ],
             [
              0.4444444444444444,
              "#bd3786"
             ],
             [
              0.5555555555555556,
              "#d8576b"
             ],
             [
              0.6666666666666666,
              "#ed7953"
             ],
             [
              0.7777777777777778,
              "#fb9f3a"
             ],
             [
              0.8888888888888888,
              "#fdca26"
             ],
             [
              1,
              "#f0f921"
             ]
            ],
            "type": "surface"
           }
          ],
          "table": [
           {
            "cells": {
             "fill": {
              "color": "#EBF0F8"
             },
             "line": {
              "color": "white"
             }
            },
            "header": {
             "fill": {
              "color": "#C8D4E3"
             },
             "line": {
              "color": "white"
             }
            },
            "type": "table"
           }
          ]
         },
         "layout": {
          "annotationdefaults": {
           "arrowcolor": "#2a3f5f",
           "arrowhead": 0,
           "arrowwidth": 1
          },
          "autotypenumbers": "strict",
          "coloraxis": {
           "colorbar": {
            "outlinewidth": 0,
            "ticks": ""
           }
          },
          "colorscale": {
           "diverging": [
            [
             0,
             "#8e0152"
            ],
            [
             0.1,
             "#c51b7d"
            ],
            [
             0.2,
             "#de77ae"
            ],
            [
             0.3,
             "#f1b6da"
            ],
            [
             0.4,
             "#fde0ef"
            ],
            [
             0.5,
             "#f7f7f7"
            ],
            [
             0.6,
             "#e6f5d0"
            ],
            [
             0.7,
             "#b8e186"
            ],
            [
             0.8,
             "#7fbc41"
            ],
            [
             0.9,
             "#4d9221"
            ],
            [
             1,
             "#276419"
            ]
           ],
           "sequential": [
            [
             0,
             "#0d0887"
            ],
            [
             0.1111111111111111,
             "#46039f"
            ],
            [
             0.2222222222222222,
             "#7201a8"
            ],
            [
             0.3333333333333333,
             "#9c179e"
            ],
            [
             0.4444444444444444,
             "#bd3786"
            ],
            [
             0.5555555555555556,
             "#d8576b"
            ],
            [
             0.6666666666666666,
             "#ed7953"
            ],
            [
             0.7777777777777778,
             "#fb9f3a"
            ],
            [
             0.8888888888888888,
             "#fdca26"
            ],
            [
             1,
             "#f0f921"
            ]
           ],
           "sequentialminus": [
            [
             0,
             "#0d0887"
            ],
            [
             0.1111111111111111,
             "#46039f"
            ],
            [
             0.2222222222222222,
             "#7201a8"
            ],
            [
             0.3333333333333333,
             "#9c179e"
            ],
            [
             0.4444444444444444,
             "#bd3786"
            ],
            [
             0.5555555555555556,
             "#d8576b"
            ],
            [
             0.6666666666666666,
             "#ed7953"
            ],
            [
             0.7777777777777778,
             "#fb9f3a"
            ],
            [
             0.8888888888888888,
             "#fdca26"
            ],
            [
             1,
             "#f0f921"
            ]
           ]
          },
          "colorway": [
           "#636efa",
           "#EF553B",
           "#00cc96",
           "#ab63fa",
           "#FFA15A",
           "#19d3f3",
           "#FF6692",
           "#B6E880",
           "#FF97FF",
           "#FECB52"
          ],
          "font": {
           "color": "#2a3f5f"
          },
          "geo": {
           "bgcolor": "white",
           "lakecolor": "white",
           "landcolor": "white",
           "showlakes": true,
           "showland": true,
           "subunitcolor": "#C8D4E3"
          },
          "hoverlabel": {
           "align": "left"
          },
          "hovermode": "closest",
          "mapbox": {
           "style": "light"
          },
          "paper_bgcolor": "white",
          "plot_bgcolor": "white",
          "polar": {
           "angularaxis": {
            "gridcolor": "#EBF0F8",
            "linecolor": "#EBF0F8",
            "ticks": ""
           },
           "bgcolor": "white",
           "radialaxis": {
            "gridcolor": "#EBF0F8",
            "linecolor": "#EBF0F8",
            "ticks": ""
           }
          },
          "scene": {
           "xaxis": {
            "backgroundcolor": "white",
            "gridcolor": "#DFE8F3",
            "gridwidth": 2,
            "linecolor": "#EBF0F8",
            "showbackground": true,
            "ticks": "",
            "zerolinecolor": "#EBF0F8"
           },
           "yaxis": {
            "backgroundcolor": "white",
            "gridcolor": "#DFE8F3",
            "gridwidth": 2,
            "linecolor": "#EBF0F8",
            "showbackground": true,
            "ticks": "",
            "zerolinecolor": "#EBF0F8"
           },
           "zaxis": {
            "backgroundcolor": "white",
            "gridcolor": "#DFE8F3",
            "gridwidth": 2,
            "linecolor": "#EBF0F8",
            "showbackground": true,
            "ticks": "",
            "zerolinecolor": "#EBF0F8"
           }
          },
          "shapedefaults": {
           "line": {
            "color": "#2a3f5f"
           }
          },
          "ternary": {
           "aaxis": {
            "gridcolor": "#DFE8F3",
            "linecolor": "#A2B1C6",
            "ticks": ""
           },
           "baxis": {
            "gridcolor": "#DFE8F3",
            "linecolor": "#A2B1C6",
            "ticks": ""
           },
           "bgcolor": "white",
           "caxis": {
            "gridcolor": "#DFE8F3",
            "linecolor": "#A2B1C6",
            "ticks": ""
           }
          },
          "title": {
           "x": 0.05
          },
          "xaxis": {
           "automargin": true,
           "gridcolor": "#EBF0F8",
           "linecolor": "#EBF0F8",
           "ticks": "",
           "title": {
            "standoff": 15
           },
           "zerolinecolor": "#EBF0F8",
           "zerolinewidth": 2
          },
          "yaxis": {
           "automargin": true,
           "gridcolor": "#EBF0F8",
           "linecolor": "#EBF0F8",
           "ticks": "",
           "title": {
            "standoff": 15
           },
           "zerolinecolor": "#EBF0F8",
           "zerolinewidth": 2
          }
         }
        },
        "title": {
         "text": "CITATIONS VS RESEARCH"
        },
        "xaxis": {
         "title": {
          "text": "University Name"
         }
        },
        "yaxis": {
         "title": {
          "text": "Score"
         }
        }
       }
      },
      "text/html": [
       "<div>                            <div id=\"8cbe8a40-2a27-4f19-9ce8-55836c6cb227\" class=\"plotly-graph-div\" style=\"height:525px; width:100%;\"></div>            <script type=\"text/javascript\">                require([\"plotly\"], function(Plotly) {                    window.PLOTLYENV=window.PLOTLYENV || {};                                    if (document.getElementById(\"8cbe8a40-2a27-4f19-9ce8-55836c6cb227\")) {                    Plotly.newPlot(                        \"8cbe8a40-2a27-4f19-9ce8-55836c6cb227\",                        [{\"marker\": {\"color\": \"rgb(163,6,6)\", \"line\": {\"color\": \"rgb(0,0,0)\", \"width\": 1.5}}, \"name\": \"citations\", \"orientation\": \"h\", \"type\": \"bar\", \"x\": [99.7, 98.9, 95.5, 99.1], \"y\": [\"California Institute of Technology\", \"Harvard University\", \"University of Oxford\", \"Stanford University\"]}, {\"name\": \"research\", \"orientation\": \"h\", \"type\": \"bar\", \"x\": [98.1, 98.6, 97.7, 96.7], \"y\": [\"California Institute of Technology\", \"Harvard University\", \"University of Oxford\", \"Stanford University\"]}],                        {\"template\": {\"data\": {\"bar\": [{\"error_x\": {\"color\": \"#2a3f5f\"}, \"error_y\": {\"color\": \"#2a3f5f\"}, \"marker\": {\"line\": {\"color\": \"white\", \"width\": 0.5}}, \"type\": \"bar\"}], \"barpolar\": [{\"marker\": {\"line\": {\"color\": \"white\", \"width\": 0.5}}, \"type\": \"barpolar\"}], \"carpet\": [{\"aaxis\": {\"endlinecolor\": \"#2a3f5f\", \"gridcolor\": \"#C8D4E3\", \"linecolor\": \"#C8D4E3\", \"minorgridcolor\": \"#C8D4E3\", \"startlinecolor\": \"#2a3f5f\"}, \"baxis\": {\"endlinecolor\": \"#2a3f5f\", \"gridcolor\": \"#C8D4E3\", \"linecolor\": \"#C8D4E3\", \"minorgridcolor\": \"#C8D4E3\", \"startlinecolor\": \"#2a3f5f\"}, \"type\": \"carpet\"}], \"choropleth\": [{\"colorbar\": {\"outlinewidth\": 0, \"ticks\": \"\"}, \"type\": \"choropleth\"}], \"contour\": [{\"colorbar\": {\"outlinewidth\": 0, \"ticks\": \"\"}, \"colorscale\": [[0.0, \"#0d0887\"], [0.1111111111111111, \"#46039f\"], [0.2222222222222222, \"#7201a8\"], [0.3333333333333333, \"#9c179e\"], [0.4444444444444444, \"#bd3786\"], [0.5555555555555556, \"#d8576b\"], [0.6666666666666666, \"#ed7953\"], [0.7777777777777778, \"#fb9f3a\"], [0.8888888888888888, \"#fdca26\"], [1.0, \"#f0f921\"]], \"type\": \"contour\"}], \"contourcarpet\": [{\"colorbar\": {\"outlinewidth\": 0, \"ticks\": \"\"}, \"type\": \"contourcarpet\"}], \"heatmap\": [{\"colorbar\": {\"outlinewidth\": 0, \"ticks\": \"\"}, \"colorscale\": [[0.0, \"#0d0887\"], [0.1111111111111111, \"#46039f\"], [0.2222222222222222, \"#7201a8\"], [0.3333333333333333, \"#9c179e\"], [0.4444444444444444, \"#bd3786\"], [0.5555555555555556, \"#d8576b\"], [0.6666666666666666, \"#ed7953\"], [0.7777777777777778, \"#fb9f3a\"], [0.8888888888888888, \"#fdca26\"], [1.0, \"#f0f921\"]], \"type\": \"heatmap\"}], \"heatmapgl\": [{\"colorbar\": {\"outlinewidth\": 0, \"ticks\": \"\"}, \"colorscale\": [[0.0, \"#0d0887\"], [0.1111111111111111, \"#46039f\"], [0.2222222222222222, \"#7201a8\"], [0.3333333333333333, \"#9c179e\"], [0.4444444444444444, \"#bd3786\"], [0.5555555555555556, \"#d8576b\"], [0.6666666666666666, \"#ed7953\"], [0.7777777777777778, \"#fb9f3a\"], [0.8888888888888888, \"#fdca26\"], [1.0, \"#f0f921\"]], \"type\": \"heatmapgl\"}], \"histogram\": [{\"marker\": {\"colorbar\": {\"outlinewidth\": 0, \"ticks\": \"\"}}, \"type\": \"histogram\"}], \"histogram2d\": [{\"colorbar\": {\"outlinewidth\": 0, \"ticks\": \"\"}, \"colorscale\": [[0.0, \"#0d0887\"], [0.1111111111111111, \"#46039f\"], [0.2222222222222222, \"#7201a8\"], [0.3333333333333333, \"#9c179e\"], [0.4444444444444444, \"#bd3786\"], [0.5555555555555556, \"#d8576b\"], [0.6666666666666666, \"#ed7953\"], [0.7777777777777778, \"#fb9f3a\"], [0.8888888888888888, \"#fdca26\"], [1.0, \"#f0f921\"]], \"type\": \"histogram2d\"}], \"histogram2dcontour\": [{\"colorbar\": {\"outlinewidth\": 0, \"ticks\": \"\"}, \"colorscale\": [[0.0, \"#0d0887\"], [0.1111111111111111, \"#46039f\"], [0.2222222222222222, \"#7201a8\"], [0.3333333333333333, \"#9c179e\"], [0.4444444444444444, \"#bd3786\"], [0.5555555555555556, \"#d8576b\"], [0.6666666666666666, \"#ed7953\"], [0.7777777777777778, \"#fb9f3a\"], [0.8888888888888888, \"#fdca26\"], [1.0, \"#f0f921\"]], \"type\": \"histogram2dcontour\"}], \"mesh3d\": [{\"colorbar\": {\"outlinewidth\": 0, \"ticks\": \"\"}, \"type\": \"mesh3d\"}], \"parcoords\": [{\"line\": {\"colorbar\": {\"outlinewidth\": 0, \"ticks\": \"\"}}, \"type\": \"parcoords\"}], \"pie\": [{\"automargin\": true, \"type\": \"pie\"}], \"scatter\": [{\"marker\": {\"colorbar\": {\"outlinewidth\": 0, \"ticks\": \"\"}}, \"type\": \"scatter\"}], \"scatter3d\": [{\"line\": {\"colorbar\": {\"outlinewidth\": 0, \"ticks\": \"\"}}, \"marker\": {\"colorbar\": {\"outlinewidth\": 0, \"ticks\": \"\"}}, \"type\": \"scatter3d\"}], \"scattercarpet\": [{\"marker\": {\"colorbar\": {\"outlinewidth\": 0, \"ticks\": \"\"}}, \"type\": \"scattercarpet\"}], \"scattergeo\": [{\"marker\": {\"colorbar\": {\"outlinewidth\": 0, \"ticks\": \"\"}}, \"type\": \"scattergeo\"}], \"scattergl\": [{\"marker\": {\"colorbar\": {\"outlinewidth\": 0, \"ticks\": \"\"}}, \"type\": \"scattergl\"}], \"scattermapbox\": [{\"marker\": {\"colorbar\": {\"outlinewidth\": 0, \"ticks\": \"\"}}, \"type\": \"scattermapbox\"}], \"scatterpolar\": [{\"marker\": {\"colorbar\": {\"outlinewidth\": 0, \"ticks\": \"\"}}, \"type\": \"scatterpolar\"}], \"scatterpolargl\": [{\"marker\": {\"colorbar\": {\"outlinewidth\": 0, \"ticks\": \"\"}}, \"type\": \"scatterpolargl\"}], \"scatterternary\": [{\"marker\": {\"colorbar\": {\"outlinewidth\": 0, \"ticks\": \"\"}}, \"type\": \"scatterternary\"}], \"surface\": [{\"colorbar\": {\"outlinewidth\": 0, \"ticks\": \"\"}, \"colorscale\": [[0.0, \"#0d0887\"], [0.1111111111111111, \"#46039f\"], [0.2222222222222222, \"#7201a8\"], [0.3333333333333333, \"#9c179e\"], [0.4444444444444444, \"#bd3786\"], [0.5555555555555556, \"#d8576b\"], [0.6666666666666666, \"#ed7953\"], [0.7777777777777778, \"#fb9f3a\"], [0.8888888888888888, \"#fdca26\"], [1.0, \"#f0f921\"]], \"type\": \"surface\"}], \"table\": [{\"cells\": {\"fill\": {\"color\": \"#EBF0F8\"}, \"line\": {\"color\": \"white\"}}, \"header\": {\"fill\": {\"color\": \"#C8D4E3\"}, \"line\": {\"color\": \"white\"}}, \"type\": \"table\"}]}, \"layout\": {\"annotationdefaults\": {\"arrowcolor\": \"#2a3f5f\", \"arrowhead\": 0, \"arrowwidth\": 1}, \"autotypenumbers\": \"strict\", \"coloraxis\": {\"colorbar\": {\"outlinewidth\": 0, \"ticks\": \"\"}}, \"colorscale\": {\"diverging\": [[0, \"#8e0152\"], [0.1, \"#c51b7d\"], [0.2, \"#de77ae\"], [0.3, \"#f1b6da\"], [0.4, \"#fde0ef\"], [0.5, \"#f7f7f7\"], [0.6, \"#e6f5d0\"], [0.7, \"#b8e186\"], [0.8, \"#7fbc41\"], [0.9, \"#4d9221\"], [1, \"#276419\"]], \"sequential\": [[0.0, \"#0d0887\"], [0.1111111111111111, \"#46039f\"], [0.2222222222222222, \"#7201a8\"], [0.3333333333333333, \"#9c179e\"], [0.4444444444444444, \"#bd3786\"], [0.5555555555555556, \"#d8576b\"], [0.6666666666666666, \"#ed7953\"], [0.7777777777777778, \"#fb9f3a\"], [0.8888888888888888, \"#fdca26\"], [1.0, \"#f0f921\"]], \"sequentialminus\": [[0.0, \"#0d0887\"], [0.1111111111111111, \"#46039f\"], [0.2222222222222222, \"#7201a8\"], [0.3333333333333333, \"#9c179e\"], [0.4444444444444444, \"#bd3786\"], [0.5555555555555556, \"#d8576b\"], [0.6666666666666666, \"#ed7953\"], [0.7777777777777778, \"#fb9f3a\"], [0.8888888888888888, \"#fdca26\"], [1.0, \"#f0f921\"]]}, \"colorway\": [\"#636efa\", \"#EF553B\", \"#00cc96\", \"#ab63fa\", \"#FFA15A\", \"#19d3f3\", \"#FF6692\", \"#B6E880\", \"#FF97FF\", \"#FECB52\"], \"font\": {\"color\": \"#2a3f5f\"}, \"geo\": {\"bgcolor\": \"white\", \"lakecolor\": \"white\", \"landcolor\": \"white\", \"showlakes\": true, \"showland\": true, \"subunitcolor\": \"#C8D4E3\"}, \"hoverlabel\": {\"align\": \"left\"}, \"hovermode\": \"closest\", \"mapbox\": {\"style\": \"light\"}, \"paper_bgcolor\": \"white\", \"plot_bgcolor\": \"white\", \"polar\": {\"angularaxis\": {\"gridcolor\": \"#EBF0F8\", \"linecolor\": \"#EBF0F8\", \"ticks\": \"\"}, \"bgcolor\": \"white\", \"radialaxis\": {\"gridcolor\": \"#EBF0F8\", \"linecolor\": \"#EBF0F8\", \"ticks\": \"\"}}, \"scene\": {\"xaxis\": {\"backgroundcolor\": \"white\", \"gridcolor\": \"#DFE8F3\", \"gridwidth\": 2, \"linecolor\": \"#EBF0F8\", \"showbackground\": true, \"ticks\": \"\", \"zerolinecolor\": \"#EBF0F8\"}, \"yaxis\": {\"backgroundcolor\": \"white\", \"gridcolor\": \"#DFE8F3\", \"gridwidth\": 2, \"linecolor\": \"#EBF0F8\", \"showbackground\": true, \"ticks\": \"\", \"zerolinecolor\": \"#EBF0F8\"}, \"zaxis\": {\"backgroundcolor\": \"white\", \"gridcolor\": \"#DFE8F3\", \"gridwidth\": 2, \"linecolor\": \"#EBF0F8\", \"showbackground\": true, \"ticks\": \"\", \"zerolinecolor\": \"#EBF0F8\"}}, \"shapedefaults\": {\"line\": {\"color\": \"#2a3f5f\"}}, \"ternary\": {\"aaxis\": {\"gridcolor\": \"#DFE8F3\", \"linecolor\": \"#A2B1C6\", \"ticks\": \"\"}, \"baxis\": {\"gridcolor\": \"#DFE8F3\", \"linecolor\": \"#A2B1C6\", \"ticks\": \"\"}, \"bgcolor\": \"white\", \"caxis\": {\"gridcolor\": \"#DFE8F3\", \"linecolor\": \"#A2B1C6\", \"ticks\": \"\"}}, \"title\": {\"x\": 0.05}, \"xaxis\": {\"automargin\": true, \"gridcolor\": \"#EBF0F8\", \"linecolor\": \"#EBF0F8\", \"ticks\": \"\", \"title\": {\"standoff\": 15}, \"zerolinecolor\": \"#EBF0F8\", \"zerolinewidth\": 2}, \"yaxis\": {\"automargin\": true, \"gridcolor\": \"#EBF0F8\", \"linecolor\": \"#EBF0F8\", \"ticks\": \"\", \"title\": {\"standoff\": 15}, \"zerolinecolor\": \"#EBF0F8\", \"zerolinewidth\": 2}}}, \"title\": {\"text\": \"CITATIONS VS RESEARCH\"}, \"xaxis\": {\"title\": {\"text\": \"University Name\"}}, \"yaxis\": {\"title\": {\"text\": \"Score\"}}},                        {\"responsive\": true}                    ).then(function(){\n",
       "                            \n",
       "var gd = document.getElementById('8cbe8a40-2a27-4f19-9ce8-55836c6cb227');\n",
       "var x = new MutationObserver(function (mutations, observer) {{\n",
       "        var display = window.getComputedStyle(gd).display;\n",
       "        if (!display || display === 'none') {{\n",
       "            console.log([gd, 'removed!']);\n",
       "            Plotly.purge(gd);\n",
       "            observer.disconnect();\n",
       "        }}\n",
       "}});\n",
       "\n",
       "// Listen for the removal of the full notebook cells\n",
       "var notebookContainer = gd.closest('#notebook-container');\n",
       "if (notebookContainer) {{\n",
       "    x.observe(notebookContainer, {childList: true});\n",
       "}}\n",
       "\n",
       "// Listen for the clearing of the current output cell\n",
       "var outputEl = gd.closest('.output');\n",
       "if (outputEl) {{\n",
       "    x.observe(outputEl, {childList: true});\n",
       "}}\n",
       "\n",
       "                        })                };                });            </script>        </div>"
      ]
     },
     "metadata": {},
     "output_type": "display_data"
    }
   ],
   "source": [
    "df2015 = timesData[timesData['year'] == 2015].iloc[:4,]\n",
    "\n",
    "goObject1 = go.Bar(y=df2015.university_name,\n",
    "                   x=df2015.citations,\n",
    "                   name = 'citations',\n",
    "                   orientation = 'h',\n",
    "                   marker = dict(color = 'rgb(163,6,6)', line = dict(color='rgb(0,0,0)',width = 1.5)))\n",
    "\n",
    "goObject2 = go.Bar(y=df2015.university_name,\n",
    "                  x=df2015.research,\n",
    "                  name = 'research', orientation = 'h')\n",
    "\n",
    "layout = go.Layout(template = 'plotly_white', title= 'CITATIONS VS RESEARCH', xaxis=dict(title = 'University Name'), yaxis=dict(title = 'Score'))\n",
    "fig = go.Figure([goObject1, goObject2], layout=layout)\n",
    "fig.show()"
   ]
  },
  {
   "cell_type": "markdown",
   "metadata": {},
   "source": [
    "# Scatter Plot"
   ]
  },
  {
   "cell_type": "markdown",
   "metadata": {},
   "source": [
    "### Citation vs world rank of top 100 universities with 2014, 2015 and 2016 years"
   ]
  },
  {
   "cell_type": "code",
   "execution_count": 525,
   "metadata": {},
   "outputs": [
    {
     "data": {
      "application/vnd.plotly.v1+json": {
       "config": {
        "plotlyServerURL": "https://plot.ly"
       },
       "data": [
        {
         "marker": {
          "color": "rgb(163,6,988)"
         },
         "mode": "markers",
         "name": "2014",
         "orientation": "h",
         "text": [
          "California Institute of Technology",
          "Harvard University",
          "University of Oxford",
          "Stanford University",
          "Massachusetts Institute of Technology",
          "Princeton University",
          "University of Cambridge",
          "University of California, Berkeley",
          "University of Chicago",
          "Imperial College London",
          "Yale University",
          "University of California, Los Angeles",
          "Columbia University",
          "ETH Zurich – Swiss Federal Institute of Technology Zurich",
          "Johns Hopkins University",
          "University of Pennsylvania",
          "Duke University",
          "University of Michigan",
          "Cornell University",
          "University of Toronto",
          "University College London",
          "Northwestern University",
          "University of Tokyo",
          "Carnegie Mellon University",
          "University of Washington",
          "National University of Singapore",
          "University of Texas at Austin",
          "Georgia Institute of Technology",
          "University of Illinois at Urbana-Champaign",
          "University of Wisconsin-Madison",
          "University of British Columbia",
          "London School of Economics and Political Science",
          "University of California, Santa Barbara",
          "University of Melbourne",
          "McGill University",
          "Karolinska Institute",
          "École Polytechnique Fédérale de Lausanne",
          "King’s College London",
          "University of Edinburgh",
          "New York University",
          "University of California, San Diego",
          "Washington University in St Louis",
          "University of Hong Kong",
          "Seoul National University",
          "Peking University",
          "University of Minnesota",
          "University of North Carolina at Chapel Hill",
          "Australian National University",
          "Pennsylvania State University",
          "Boston University",
          "Tsinghua University",
          "Brown University",
          "Kyoto University",
          "University of California, Davis",
          "LMU Munich",
          "Korea Advanced Institute of Science and Technology (KAIST)",
          "Hong Kong University of Science and Technology",
          "University of Manchester",
          "Ohio State University",
          "Pohang University of Science and Technology",
          "KU Leuven",
          "Purdue University",
          "The University of Queensland",
          "University of Göttingen",
          "Rice University",
          "École Normale Supérieure",
          "Leiden University",
          "Heidelberg University",
          "Delft University of Technology",
          "University of Southern California",
          "École Polytechnique",
          "University of Sydney",
          "Erasmus University Rotterdam",
          "University of Basel",
          "Utrecht University",
          "Nanyang Technological University",
          "Wageningen University and Research Center",
          "University of Pittsburgh",
          "University of Bristol",
          "Durham University",
          "Emory University",
          "Tufts University",
          "Michigan State University",
          "University of Amsterdam",
          "Ghent University",
          "Free University of Berlin",
          "Technical University of Munich",
          "Case Western Reserve University",
          "Vanderbilt University",
          "University of Notre Dame",
          "Monash University",
          "McMaster University",
          "University of California, Irvine",
          "Humboldt University of Berlin",
          "University of Rochester",
          "Pierre and Marie Curie University",
          "University of Colorado Boulder",
          "Maastricht University",
          "University of Groningen",
          "University of Helsinki"
         ],
         "type": "scatter",
         "x": [
          "1",
          "2",
          "2",
          "4",
          "5",
          "6",
          "7",
          "8",
          "9",
          "10",
          "11",
          "12",
          "13",
          "14",
          "15",
          "16",
          "17",
          "18",
          "19",
          "20",
          "21",
          "22",
          "23",
          "24",
          "25",
          "26",
          "27",
          "28",
          "29",
          "30",
          "31",
          "32",
          "33",
          "34",
          "35",
          "36",
          "37",
          "38",
          "39",
          "40",
          "40",
          "42",
          "43",
          "44",
          "45",
          "46",
          "47",
          "48",
          "49",
          "50",
          "50",
          "52",
          "52",
          "52",
          "55",
          "56",
          "57",
          "58",
          "59",
          "60",
          "61",
          "62",
          "63",
          "63",
          "65",
          "65",
          "67",
          "68",
          "69",
          "70",
          "70",
          "72",
          "73",
          "74",
          "74",
          "76",
          "77",
          "78",
          "79",
          "80",
          "80",
          "80",
          "83",
          "83",
          "85",
          "86",
          "87",
          "88",
          "88",
          "90",
          "91",
          "92",
          "93",
          "94",
          "95",
          "96",
          "97",
          "98",
          "98",
          "100"
         ],
         "y": [
          99.8,
          99.1,
          95.4,
          99.1,
          100,
          99.7,
          95.7,
          99.3,
          98,
          90,
          93.5,
          95.6,
          95.6,
          85,
          95,
          95,
          96.7,
          90.8,
          90.8,
          84.5,
          84.1,
          97.1,
          69.8,
          93.9,
          95.6,
          66.4,
          91.3,
          87.9,
          79.4,
          87.2,
          83.7,
          69.2,
          99.4,
          80.2,
          74.5,
          76,
          95.9,
          87.6,
          87.6,
          87.9,
          96.7,
          96.4,
          61.5,
          47.3,
          62.8,
          81.2,
          90.2,
          71.2,
          79.4,
          95.3,
          59.9,
          91.3,
          58.2,
          81.2,
          83.3,
          67,
          72.3,
          77.3,
          79.4,
          85.7,
          72.9,
          67,
          73.3,
          89.6,
          99.9,
          87,
          84.2,
          76,
          47.2,
          81.2,
          82.3,
          66.6,
          81.2,
          81.4,
          82,
          67.5,
          74.1,
          84.4,
          84.9,
          88.2,
          90.8,
          93.9,
          71.5,
          75,
          74.9,
          64.8,
          80.7,
          82.8,
          86.5,
          91.8,
          65.4,
          79.4,
          89.7,
          68.4,
          89.7,
          82.3,
          97.3,
          65.8,
          71.1,
          77.8
         ]
        },
        {
         "marker": {
          "color": "rgb(163,64,9)"
         },
         "mode": "markers",
         "name": "2015",
         "orientation": "h",
         "text": [
          "California Institute of Technology",
          "Harvard University",
          "University of Oxford",
          "Stanford University",
          "University of Cambridge",
          "Massachusetts Institute of Technology",
          "Princeton University",
          "University of California, Berkeley",
          "Imperial College London",
          "Yale University",
          "University of Chicago",
          "University of California, Los Angeles",
          "ETH Zurich – Swiss Federal Institute of Technology Zurich",
          "Columbia University",
          "Johns Hopkins University",
          "University of Pennsylvania",
          "University of Michigan",
          "Duke University",
          "Cornell University",
          "University of Toronto",
          "Northwestern University",
          "University College London",
          "University of Tokyo",
          "Carnegie Mellon University",
          "National University of Singapore",
          "University of Washington",
          "Georgia Institute of Technology",
          "University of Texas at Austin",
          "LMU Munich",
          "University of Illinois at Urbana-Champaign",
          "University of Wisconsin-Madison",
          "University of British Columbia",
          "University of Melbourne",
          "London School of Economics and Political Science",
          "École Polytechnique Fédérale de Lausanne",
          "University of Edinburgh",
          "University of California, Santa Barbara",
          "New York University",
          "McGill University",
          "King’s College London",
          "University of California, San Diego",
          "Washington University in St Louis",
          "University of Hong Kong",
          "Karolinska Institute",
          "Australian National University",
          "University of Minnesota",
          "University of North Carolina at Chapel Hill",
          "Peking University",
          "Tsinghua University",
          "Seoul National University",
          "Hong Kong University of Science and Technology",
          "Korea Advanced Institute of Science and Technology (KAIST)",
          "University of Manchester",
          "Brown University",
          "KU Leuven",
          "University of California, Davis",
          "Boston University",
          "Pennsylvania State University",
          "Kyoto University",
          "University of Sydney",
          "Nanyang Technological University",
          "École Polytechnique",
          "Scuola Normale Superiore di Pisa",
          "Leiden University",
          "The University of Queensland",
          "Pohang University of Science and Technology",
          "University of Göttingen",
          "Ohio State University",
          "Rice University",
          "Heidelberg University",
          "Delft University of Technology",
          "Erasmus University Rotterdam",
          "Wageningen University and Research Center",
          "University of Bristol",
          "University of Basel",
          "University of Southern California",
          "University of Amsterdam",
          "École Normale Supérieure",
          "Utrecht University",
          "Humboldt University of Berlin",
          "Free University of Berlin",
          "Michigan State University",
          "Durham University",
          "Monash University",
          "Middle East Technical University",
          "University of Arizona",
          "University of Notre Dame",
          "Tufts University",
          "University of California, Irvine",
          "Ghent University",
          "University of Massachusetts",
          "University of Pittsburgh",
          "Emory University",
          "McMaster University",
          "University of Glasgow",
          "Vanderbilt University",
          "University of Colorado Boulder",
          "Stockholm University",
          "Technical University of Munich",
          "Uppsala University"
         ],
         "type": "scatter",
         "x": [
          "1",
          "2",
          "3",
          "4",
          "5",
          "6",
          "7",
          "8",
          "9",
          "9",
          "11",
          "12",
          "13",
          "14",
          "15",
          "16",
          "17",
          "18",
          "19",
          "20",
          "21",
          "22",
          "23",
          "24",
          "25",
          "26",
          "27",
          "28",
          "29",
          "29",
          "29",
          "32",
          "33",
          "34",
          "34",
          "36",
          "37",
          "38",
          "39",
          "40",
          "41",
          "42",
          "43",
          "44",
          "45",
          "46",
          "46",
          "48",
          "49",
          "50",
          "51",
          "52",
          "52",
          "54",
          "55",
          "55",
          "57",
          "58",
          "59",
          "60",
          "61",
          "61",
          "63",
          "64",
          "65",
          "66",
          "67",
          "68",
          "69",
          "70",
          "71",
          "72",
          "73",
          "74",
          "75",
          "75",
          "77",
          "78",
          "79",
          "80",
          "81",
          "82",
          "83",
          "83",
          "85",
          "86",
          "86",
          "88",
          "88",
          "90",
          "91",
          "91",
          "93",
          "94",
          "94",
          "96",
          "97",
          "98",
          "98",
          "98"
         ],
         "y": [
          99.7,
          98.9,
          95.5,
          99.1,
          95.2,
          100,
          99.6,
          99.1,
          89.4,
          94,
          97.3,
          95.3,
          83.5,
          95.3,
          93.6,
          94.4,
          88.9,
          96.6,
          91.5,
          83,
          96.9,
          85.1,
          74.7,
          92,
          66,
          95,
          85.8,
          91.5,
          83,
          77.8,
          87.7,
          85.3,
          80.6,
          71.3,
          95,
          88.3,
          99.2,
          89.5,
          76,
          88.3,
          96.4,
          97.1,
          65.1,
          76.8,
          71.1,
          82.9,
          91,
          63.7,
          65,
          48.7,
          72.9,
          71.4,
          74.3,
          92,
          71.8,
          80.4,
          94.4,
          76,
          57,
          69,
          75.9,
          79.9,
          96.4,
          82.3,
          74.2,
          84.4,
          92.3,
          80.4,
          99.9,
          81.4,
          42.6,
          82.3,
          77.5,
          85.1,
          81.4,
          81.3,
          76.6,
          84.8,
          80,
          71.9,
          67.6,
          74,
          88.9,
          65.7,
          92,
          74,
          90,
          92.9,
          89.5,
          73.8,
          78.7,
          84.4,
          89.5,
          78.8,
          83.7,
          87.7,
          97.4,
          90.9,
          78.8,
          70.9
         ]
        },
        {
         "marker": {
          "color": "rgb(199,69,100)"
         },
         "mode": "markers",
         "name": "2016",
         "orientation": "h",
         "text": [
          "California Institute of Technology",
          "University of Oxford",
          "Stanford University",
          "University of Cambridge",
          "Massachusetts Institute of Technology",
          "Harvard University",
          "Princeton University",
          "Imperial College London",
          "ETH Zurich – Swiss Federal Institute of Technology Zurich",
          "University of Chicago",
          "Johns Hopkins University",
          "Yale University",
          "University of California, Berkeley",
          "University College London",
          "Columbia University",
          "University of California, Los Angeles",
          "University of Pennsylvania",
          "Cornell University",
          "University of Toronto",
          "Duke University",
          "University of Michigan",
          "Carnegie Mellon University",
          "London School of Economics and Political Science",
          "University of Edinburgh",
          "Northwestern University",
          "National University of Singapore",
          "King’s College London",
          "Karolinska Institute",
          "LMU Munich",
          "New York University",
          "École Polytechnique Fédérale de Lausanne",
          "University of Washington",
          "University of Melbourne",
          "University of British Columbia",
          "KU Leuven",
          "University of Illinois at Urbana-Champaign",
          "Heidelberg University",
          "McGill University",
          "University of California, San Diego",
          "University of California, Santa Barbara",
          "Georgia Institute of Technology",
          "Peking University",
          "University of Tokyo",
          "University of California, Davis",
          "University of Hong Kong",
          "University of Texas at Austin",
          "Tsinghua University",
          "Wageningen University and Research Center",
          "Humboldt University of Berlin",
          "University of Wisconsin-Madison",
          "Brown University",
          "Australian National University",
          "Technical University of Munich",
          "École Normale Supérieure",
          "Nanyang Technological University",
          "University of Manchester",
          "University of Sydney",
          "University of Amsterdam",
          "Hong Kong University of Science and Technology",
          "The University of Queensland",
          "Washington University in St Louis",
          "Utrecht University",
          "University of North Carolina at Chapel Hill",
          "Boston University",
          "Delft University of Technology",
          "University of Minnesota",
          "Leiden University",
          "University of Southern California",
          "University of Bristol",
          "Durham University",
          "Erasmus University Rotterdam",
          "Free University of Berlin",
          "Monash University",
          "University of Groningen",
          "Pennsylvania State University",
          "University of Glasgow",
          "University of Helsinki",
          "University of Tübingen",
          "University of Pittsburgh",
          "University of Warwick",
          "Uppsala University",
          "University of Copenhagen",
          "University of New South Wales",
          "University of Freiburg",
          "Seoul National University",
          "University of St Andrews",
          "Vanderbilt University",
          "Kyoto University",
          "Maastricht University",
          "Emory University",
          "Lund University",
          "Ohio State University",
          "University of Exeter",
          "University of Bonn",
          "Georgetown University",
          "McMaster University",
          "University of Sheffield",
          "Queen Mary University of London",
          "University of Göttingen",
          "Michigan State University"
         ],
         "type": "scatter",
         "x": [
          "1",
          "2",
          "3",
          "4",
          "5",
          "6",
          "7",
          "8",
          "9",
          "10",
          "11",
          "12",
          "13",
          "14",
          "15",
          "16",
          "17",
          "18",
          "19",
          "20",
          "21",
          "22",
          "23",
          "24",
          "25",
          "26",
          "27",
          "28",
          "29",
          "30",
          "31",
          "32",
          "33",
          "34",
          "35",
          "36",
          "37",
          "38",
          "=39",
          "=39",
          "41",
          "42",
          "43",
          "=44",
          "=44",
          "46",
          "=47",
          "=47",
          "49",
          "50",
          "51",
          "52",
          "53",
          "54",
          "55",
          "=56",
          "=56",
          "58",
          "59",
          "=60",
          "=60",
          "62",
          "63",
          "64",
          "=65",
          "=65",
          "67",
          "68",
          "69",
          "70",
          "71",
          "72",
          "73",
          "74",
          "75",
          "=76",
          "=76",
          "78",
          "79",
          "80",
          "81",
          "=82",
          "=82",
          "84",
          "85",
          "86",
          "87",
          "=88",
          "=88",
          "=90",
          "=90",
          "=90",
          "93",
          "=94",
          "=94",
          "=94",
          "97",
          "98",
          "=99",
          "=99"
         ],
         "y": [
          99.8,
          98.8,
          99.9,
          97,
          99.7,
          99.8,
          99.3,
          96.7,
          91.1,
          99.2,
          98.2,
          97.2,
          99.7,
          94.2,
          98.1,
          98.5,
          98.6,
          97.2,
          90.9,
          99,
          94.4,
          99.1,
          94.3,
          96.3,
          96.5,
          79.4,
          93.8,
          92.2,
          85.7,
          95.3,
          94.6,
          98.6,
          86.6,
          91.5,
          87.3,
          86.8,
          88.2,
          78.9,
          98.7,
          99.2,
          86,
          69.1,
          60.9,
          84.3,
          70.1,
          92.2,
          58.8,
          87.8,
          73.6,
          86.6,
          96.4,
          72.3,
          80.1,
          87.1,
          85.6,
          77.3,
          77.5,
          87.4,
          82.6,
          82.4,
          99.2,
          88.1,
          95.9,
          97.7,
          61.5,
          88,
          85.2,
          93,
          91.2,
          87.7,
          95.6,
          60.2,
          73.3,
          84,
          80.5,
          92.3,
          82.1,
          79.3,
          92.3,
          78.2,
          80.9,
          86.2,
          82.1,
          80.5,
          50,
          78.8,
          95.7,
          46.6,
          82.7,
          96.7,
          81.3,
          83.2,
          94.3,
          85.3,
          82.5,
          84.9,
          80.1,
          93.3,
          72.7,
          76.8
         ]
        }
       ],
       "layout": {
        "template": {
         "data": {
          "bar": [
           {
            "error_x": {
             "color": "#2a3f5f"
            },
            "error_y": {
             "color": "#2a3f5f"
            },
            "marker": {
             "line": {
              "color": "white",
              "width": 0.5
             }
            },
            "type": "bar"
           }
          ],
          "barpolar": [
           {
            "marker": {
             "line": {
              "color": "white",
              "width": 0.5
             }
            },
            "type": "barpolar"
           }
          ],
          "carpet": [
           {
            "aaxis": {
             "endlinecolor": "#2a3f5f",
             "gridcolor": "#C8D4E3",
             "linecolor": "#C8D4E3",
             "minorgridcolor": "#C8D4E3",
             "startlinecolor": "#2a3f5f"
            },
            "baxis": {
             "endlinecolor": "#2a3f5f",
             "gridcolor": "#C8D4E3",
             "linecolor": "#C8D4E3",
             "minorgridcolor": "#C8D4E3",
             "startlinecolor": "#2a3f5f"
            },
            "type": "carpet"
           }
          ],
          "choropleth": [
           {
            "colorbar": {
             "outlinewidth": 0,
             "ticks": ""
            },
            "type": "choropleth"
           }
          ],
          "contour": [
           {
            "colorbar": {
             "outlinewidth": 0,
             "ticks": ""
            },
            "colorscale": [
             [
              0,
              "#0d0887"
             ],
             [
              0.1111111111111111,
              "#46039f"
             ],
             [
              0.2222222222222222,
              "#7201a8"
             ],
             [
              0.3333333333333333,
              "#9c179e"
             ],
             [
              0.4444444444444444,
              "#bd3786"
             ],
             [
              0.5555555555555556,
              "#d8576b"
             ],
             [
              0.6666666666666666,
              "#ed7953"
             ],
             [
              0.7777777777777778,
              "#fb9f3a"
             ],
             [
              0.8888888888888888,
              "#fdca26"
             ],
             [
              1,
              "#f0f921"
             ]
            ],
            "type": "contour"
           }
          ],
          "contourcarpet": [
           {
            "colorbar": {
             "outlinewidth": 0,
             "ticks": ""
            },
            "type": "contourcarpet"
           }
          ],
          "heatmap": [
           {
            "colorbar": {
             "outlinewidth": 0,
             "ticks": ""
            },
            "colorscale": [
             [
              0,
              "#0d0887"
             ],
             [
              0.1111111111111111,
              "#46039f"
             ],
             [
              0.2222222222222222,
              "#7201a8"
             ],
             [
              0.3333333333333333,
              "#9c179e"
             ],
             [
              0.4444444444444444,
              "#bd3786"
             ],
             [
              0.5555555555555556,
              "#d8576b"
             ],
             [
              0.6666666666666666,
              "#ed7953"
             ],
             [
              0.7777777777777778,
              "#fb9f3a"
             ],
             [
              0.8888888888888888,
              "#fdca26"
             ],
             [
              1,
              "#f0f921"
             ]
            ],
            "type": "heatmap"
           }
          ],
          "heatmapgl": [
           {
            "colorbar": {
             "outlinewidth": 0,
             "ticks": ""
            },
            "colorscale": [
             [
              0,
              "#0d0887"
             ],
             [
              0.1111111111111111,
              "#46039f"
             ],
             [
              0.2222222222222222,
              "#7201a8"
             ],
             [
              0.3333333333333333,
              "#9c179e"
             ],
             [
              0.4444444444444444,
              "#bd3786"
             ],
             [
              0.5555555555555556,
              "#d8576b"
             ],
             [
              0.6666666666666666,
              "#ed7953"
             ],
             [
              0.7777777777777778,
              "#fb9f3a"
             ],
             [
              0.8888888888888888,
              "#fdca26"
             ],
             [
              1,
              "#f0f921"
             ]
            ],
            "type": "heatmapgl"
           }
          ],
          "histogram": [
           {
            "marker": {
             "colorbar": {
              "outlinewidth": 0,
              "ticks": ""
             }
            },
            "type": "histogram"
           }
          ],
          "histogram2d": [
           {
            "colorbar": {
             "outlinewidth": 0,
             "ticks": ""
            },
            "colorscale": [
             [
              0,
              "#0d0887"
             ],
             [
              0.1111111111111111,
              "#46039f"
             ],
             [
              0.2222222222222222,
              "#7201a8"
             ],
             [
              0.3333333333333333,
              "#9c179e"
             ],
             [
              0.4444444444444444,
              "#bd3786"
             ],
             [
              0.5555555555555556,
              "#d8576b"
             ],
             [
              0.6666666666666666,
              "#ed7953"
             ],
             [
              0.7777777777777778,
              "#fb9f3a"
             ],
             [
              0.8888888888888888,
              "#fdca26"
             ],
             [
              1,
              "#f0f921"
             ]
            ],
            "type": "histogram2d"
           }
          ],
          "histogram2dcontour": [
           {
            "colorbar": {
             "outlinewidth": 0,
             "ticks": ""
            },
            "colorscale": [
             [
              0,
              "#0d0887"
             ],
             [
              0.1111111111111111,
              "#46039f"
             ],
             [
              0.2222222222222222,
              "#7201a8"
             ],
             [
              0.3333333333333333,
              "#9c179e"
             ],
             [
              0.4444444444444444,
              "#bd3786"
             ],
             [
              0.5555555555555556,
              "#d8576b"
             ],
             [
              0.6666666666666666,
              "#ed7953"
             ],
             [
              0.7777777777777778,
              "#fb9f3a"
             ],
             [
              0.8888888888888888,
              "#fdca26"
             ],
             [
              1,
              "#f0f921"
             ]
            ],
            "type": "histogram2dcontour"
           }
          ],
          "mesh3d": [
           {
            "colorbar": {
             "outlinewidth": 0,
             "ticks": ""
            },
            "type": "mesh3d"
           }
          ],
          "parcoords": [
           {
            "line": {
             "colorbar": {
              "outlinewidth": 0,
              "ticks": ""
             }
            },
            "type": "parcoords"
           }
          ],
          "pie": [
           {
            "automargin": true,
            "type": "pie"
           }
          ],
          "scatter": [
           {
            "marker": {
             "colorbar": {
              "outlinewidth": 0,
              "ticks": ""
             }
            },
            "type": "scatter"
           }
          ],
          "scatter3d": [
           {
            "line": {
             "colorbar": {
              "outlinewidth": 0,
              "ticks": ""
             }
            },
            "marker": {
             "colorbar": {
              "outlinewidth": 0,
              "ticks": ""
             }
            },
            "type": "scatter3d"
           }
          ],
          "scattercarpet": [
           {
            "marker": {
             "colorbar": {
              "outlinewidth": 0,
              "ticks": ""
             }
            },
            "type": "scattercarpet"
           }
          ],
          "scattergeo": [
           {
            "marker": {
             "colorbar": {
              "outlinewidth": 0,
              "ticks": ""
             }
            },
            "type": "scattergeo"
           }
          ],
          "scattergl": [
           {
            "marker": {
             "colorbar": {
              "outlinewidth": 0,
              "ticks": ""
             }
            },
            "type": "scattergl"
           }
          ],
          "scattermapbox": [
           {
            "marker": {
             "colorbar": {
              "outlinewidth": 0,
              "ticks": ""
             }
            },
            "type": "scattermapbox"
           }
          ],
          "scatterpolar": [
           {
            "marker": {
             "colorbar": {
              "outlinewidth": 0,
              "ticks": ""
             }
            },
            "type": "scatterpolar"
           }
          ],
          "scatterpolargl": [
           {
            "marker": {
             "colorbar": {
              "outlinewidth": 0,
              "ticks": ""
             }
            },
            "type": "scatterpolargl"
           }
          ],
          "scatterternary": [
           {
            "marker": {
             "colorbar": {
              "outlinewidth": 0,
              "ticks": ""
             }
            },
            "type": "scatterternary"
           }
          ],
          "surface": [
           {
            "colorbar": {
             "outlinewidth": 0,
             "ticks": ""
            },
            "colorscale": [
             [
              0,
              "#0d0887"
             ],
             [
              0.1111111111111111,
              "#46039f"
             ],
             [
              0.2222222222222222,
              "#7201a8"
             ],
             [
              0.3333333333333333,
              "#9c179e"
             ],
             [
              0.4444444444444444,
              "#bd3786"
             ],
             [
              0.5555555555555556,
              "#d8576b"
             ],
             [
              0.6666666666666666,
              "#ed7953"
             ],
             [
              0.7777777777777778,
              "#fb9f3a"
             ],
             [
              0.8888888888888888,
              "#fdca26"
             ],
             [
              1,
              "#f0f921"
             ]
            ],
            "type": "surface"
           }
          ],
          "table": [
           {
            "cells": {
             "fill": {
              "color": "#EBF0F8"
             },
             "line": {
              "color": "white"
             }
            },
            "header": {
             "fill": {
              "color": "#C8D4E3"
             },
             "line": {
              "color": "white"
             }
            },
            "type": "table"
           }
          ]
         },
         "layout": {
          "annotationdefaults": {
           "arrowcolor": "#2a3f5f",
           "arrowhead": 0,
           "arrowwidth": 1
          },
          "autotypenumbers": "strict",
          "coloraxis": {
           "colorbar": {
            "outlinewidth": 0,
            "ticks": ""
           }
          },
          "colorscale": {
           "diverging": [
            [
             0,
             "#8e0152"
            ],
            [
             0.1,
             "#c51b7d"
            ],
            [
             0.2,
             "#de77ae"
            ],
            [
             0.3,
             "#f1b6da"
            ],
            [
             0.4,
             "#fde0ef"
            ],
            [
             0.5,
             "#f7f7f7"
            ],
            [
             0.6,
             "#e6f5d0"
            ],
            [
             0.7,
             "#b8e186"
            ],
            [
             0.8,
             "#7fbc41"
            ],
            [
             0.9,
             "#4d9221"
            ],
            [
             1,
             "#276419"
            ]
           ],
           "sequential": [
            [
             0,
             "#0d0887"
            ],
            [
             0.1111111111111111,
             "#46039f"
            ],
            [
             0.2222222222222222,
             "#7201a8"
            ],
            [
             0.3333333333333333,
             "#9c179e"
            ],
            [
             0.4444444444444444,
             "#bd3786"
            ],
            [
             0.5555555555555556,
             "#d8576b"
            ],
            [
             0.6666666666666666,
             "#ed7953"
            ],
            [
             0.7777777777777778,
             "#fb9f3a"
            ],
            [
             0.8888888888888888,
             "#fdca26"
            ],
            [
             1,
             "#f0f921"
            ]
           ],
           "sequentialminus": [
            [
             0,
             "#0d0887"
            ],
            [
             0.1111111111111111,
             "#46039f"
            ],
            [
             0.2222222222222222,
             "#7201a8"
            ],
            [
             0.3333333333333333,
             "#9c179e"
            ],
            [
             0.4444444444444444,
             "#bd3786"
            ],
            [
             0.5555555555555556,
             "#d8576b"
            ],
            [
             0.6666666666666666,
             "#ed7953"
            ],
            [
             0.7777777777777778,
             "#fb9f3a"
            ],
            [
             0.8888888888888888,
             "#fdca26"
            ],
            [
             1,
             "#f0f921"
            ]
           ]
          },
          "colorway": [
           "#636efa",
           "#EF553B",
           "#00cc96",
           "#ab63fa",
           "#FFA15A",
           "#19d3f3",
           "#FF6692",
           "#B6E880",
           "#FF97FF",
           "#FECB52"
          ],
          "font": {
           "color": "#2a3f5f"
          },
          "geo": {
           "bgcolor": "white",
           "lakecolor": "white",
           "landcolor": "white",
           "showlakes": true,
           "showland": true,
           "subunitcolor": "#C8D4E3"
          },
          "hoverlabel": {
           "align": "left"
          },
          "hovermode": "closest",
          "mapbox": {
           "style": "light"
          },
          "paper_bgcolor": "white",
          "plot_bgcolor": "white",
          "polar": {
           "angularaxis": {
            "gridcolor": "#EBF0F8",
            "linecolor": "#EBF0F8",
            "ticks": ""
           },
           "bgcolor": "white",
           "radialaxis": {
            "gridcolor": "#EBF0F8",
            "linecolor": "#EBF0F8",
            "ticks": ""
           }
          },
          "scene": {
           "xaxis": {
            "backgroundcolor": "white",
            "gridcolor": "#DFE8F3",
            "gridwidth": 2,
            "linecolor": "#EBF0F8",
            "showbackground": true,
            "ticks": "",
            "zerolinecolor": "#EBF0F8"
           },
           "yaxis": {
            "backgroundcolor": "white",
            "gridcolor": "#DFE8F3",
            "gridwidth": 2,
            "linecolor": "#EBF0F8",
            "showbackground": true,
            "ticks": "",
            "zerolinecolor": "#EBF0F8"
           },
           "zaxis": {
            "backgroundcolor": "white",
            "gridcolor": "#DFE8F3",
            "gridwidth": 2,
            "linecolor": "#EBF0F8",
            "showbackground": true,
            "ticks": "",
            "zerolinecolor": "#EBF0F8"
           }
          },
          "shapedefaults": {
           "line": {
            "color": "#2a3f5f"
           }
          },
          "ternary": {
           "aaxis": {
            "gridcolor": "#DFE8F3",
            "linecolor": "#A2B1C6",
            "ticks": ""
           },
           "baxis": {
            "gridcolor": "#DFE8F3",
            "linecolor": "#A2B1C6",
            "ticks": ""
           },
           "bgcolor": "white",
           "caxis": {
            "gridcolor": "#DFE8F3",
            "linecolor": "#A2B1C6",
            "ticks": ""
           }
          },
          "title": {
           "x": 0.05
          },
          "xaxis": {
           "automargin": true,
           "gridcolor": "#EBF0F8",
           "linecolor": "#EBF0F8",
           "ticks": "",
           "title": {
            "standoff": 15
           },
           "zerolinecolor": "#EBF0F8",
           "zerolinewidth": 2
          },
          "yaxis": {
           "automargin": true,
           "gridcolor": "#EBF0F8",
           "linecolor": "#EBF0F8",
           "ticks": "",
           "title": {
            "standoff": 15
           },
           "zerolinecolor": "#EBF0F8",
           "zerolinewidth": 2
          }
         }
        },
        "title": {
         "text": "WORLD RANK VS CITATIONS"
        },
        "xaxis": {
         "title": {
          "text": "World Rank"
         }
        },
        "yaxis": {
         "title": {
          "text": "Citation"
         }
        }
       }
      },
      "text/html": [
       "<div>                            <div id=\"c403d37a-2bec-4b52-af51-22cbf96084d2\" class=\"plotly-graph-div\" style=\"height:525px; width:100%;\"></div>            <script type=\"text/javascript\">                require([\"plotly\"], function(Plotly) {                    window.PLOTLYENV=window.PLOTLYENV || {};                                    if (document.getElementById(\"c403d37a-2bec-4b52-af51-22cbf96084d2\")) {                    Plotly.newPlot(                        \"c403d37a-2bec-4b52-af51-22cbf96084d2\",                        [{\"marker\": {\"color\": \"rgb(163,6,988)\"}, \"mode\": \"markers\", \"name\": \"2014\", \"orientation\": \"h\", \"text\": [\"California Institute of Technology\", \"Harvard University\", \"University of Oxford\", \"Stanford University\", \"Massachusetts Institute of Technology\", \"Princeton University\", \"University of Cambridge\", \"University of California, Berkeley\", \"University of Chicago\", \"Imperial College London\", \"Yale University\", \"University of California, Los Angeles\", \"Columbia University\", \"ETH Zurich \\u2013 Swiss Federal Institute of Technology Zurich\", \"Johns Hopkins University\", \"University of Pennsylvania\", \"Duke University\", \"University of Michigan\", \"Cornell University\", \"University of Toronto\", \"University College London\", \"Northwestern University\", \"University of Tokyo\", \"Carnegie Mellon University\", \"University of Washington\", \"National University of Singapore\", \"University of Texas at Austin\", \"Georgia Institute of Technology\", \"University of Illinois at Urbana-Champaign\", \"University of Wisconsin-Madison\", \"University of British Columbia\", \"London School of Economics and Political Science\", \"University of California, Santa Barbara\", \"University of Melbourne\", \"McGill University\", \"Karolinska Institute\", \"\\u00c9cole Polytechnique F\\u00e9d\\u00e9rale de Lausanne\", \"King\\u2019s College London\", \"University of Edinburgh\", \"New York University\", \"University of California, San Diego\", \"Washington University in St Louis\", \"University of Hong Kong\", \"Seoul National University\", \"Peking University\", \"University of Minnesota\", \"University of North Carolina at Chapel Hill\", \"Australian National University\", \"Pennsylvania State University\", \"Boston University\", \"Tsinghua University\", \"Brown University\", \"Kyoto University\", \"University of California, Davis\", \"LMU Munich\", \"Korea Advanced Institute of Science and Technology (KAIST)\", \"Hong Kong University of Science and Technology\", \"University of Manchester\", \"Ohio State University\", \"Pohang University of Science and Technology\", \"KU Leuven\", \"Purdue University\", \"The University of Queensland\", \"University of G\\u00f6ttingen\", \"Rice University\", \"\\u00c9cole Normale Sup\\u00e9rieure\", \"Leiden University\", \"Heidelberg University\", \"Delft University of Technology\", \"University of Southern California\", \"\\u00c9cole Polytechnique\", \"University of Sydney\", \"Erasmus University Rotterdam\", \"University of Basel\", \"Utrecht University\", \"Nanyang Technological University\", \"Wageningen University and Research Center\", \"University of Pittsburgh\", \"University of Bristol\", \"Durham University\", \"Emory University\", \"Tufts University\", \"Michigan State University\", \"University of Amsterdam\", \"Ghent University\", \"Free University of Berlin\", \"Technical University of Munich\", \"Case Western Reserve University\", \"Vanderbilt University\", \"University of Notre Dame\", \"Monash University\", \"McMaster University\", \"University of California, Irvine\", \"Humboldt University of Berlin\", \"University of Rochester\", \"Pierre and Marie Curie University\", \"University of Colorado Boulder\", \"Maastricht University\", \"University of Groningen\", \"University of Helsinki\"], \"type\": \"scatter\", \"x\": [\"1\", \"2\", \"2\", \"4\", \"5\", \"6\", \"7\", \"8\", \"9\", \"10\", \"11\", \"12\", \"13\", \"14\", \"15\", \"16\", \"17\", \"18\", \"19\", \"20\", \"21\", \"22\", \"23\", \"24\", \"25\", \"26\", \"27\", \"28\", \"29\", \"30\", \"31\", \"32\", \"33\", \"34\", \"35\", \"36\", \"37\", \"38\", \"39\", \"40\", \"40\", \"42\", \"43\", \"44\", \"45\", \"46\", \"47\", \"48\", \"49\", \"50\", \"50\", \"52\", \"52\", \"52\", \"55\", \"56\", \"57\", \"58\", \"59\", \"60\", \"61\", \"62\", \"63\", \"63\", \"65\", \"65\", \"67\", \"68\", \"69\", \"70\", \"70\", \"72\", \"73\", \"74\", \"74\", \"76\", \"77\", \"78\", \"79\", \"80\", \"80\", \"80\", \"83\", \"83\", \"85\", \"86\", \"87\", \"88\", \"88\", \"90\", \"91\", \"92\", \"93\", \"94\", \"95\", \"96\", \"97\", \"98\", \"98\", \"100\"], \"y\": [99.8, 99.1, 95.4, 99.1, 100.0, 99.7, 95.7, 99.3, 98.0, 90.0, 93.5, 95.6, 95.6, 85.0, 95.0, 95.0, 96.7, 90.8, 90.8, 84.5, 84.1, 97.1, 69.8, 93.9, 95.6, 66.4, 91.3, 87.9, 79.4, 87.2, 83.7, 69.2, 99.4, 80.2, 74.5, 76.0, 95.9, 87.6, 87.6, 87.9, 96.7, 96.4, 61.5, 47.3, 62.8, 81.2, 90.2, 71.2, 79.4, 95.3, 59.9, 91.3, 58.2, 81.2, 83.3, 67.0, 72.3, 77.3, 79.4, 85.7, 72.9, 67.0, 73.3, 89.6, 99.9, 87.0, 84.2, 76.0, 47.2, 81.2, 82.3, 66.6, 81.2, 81.4, 82.0, 67.5, 74.1, 84.4, 84.9, 88.2, 90.8, 93.9, 71.5, 75.0, 74.9, 64.8, 80.7, 82.8, 86.5, 91.8, 65.4, 79.4, 89.7, 68.4, 89.7, 82.3, 97.3, 65.8, 71.1, 77.8]}, {\"marker\": {\"color\": \"rgb(163,64,9)\"}, \"mode\": \"markers\", \"name\": \"2015\", \"orientation\": \"h\", \"text\": [\"California Institute of Technology\", \"Harvard University\", \"University of Oxford\", \"Stanford University\", \"University of Cambridge\", \"Massachusetts Institute of Technology\", \"Princeton University\", \"University of California, Berkeley\", \"Imperial College London\", \"Yale University\", \"University of Chicago\", \"University of California, Los Angeles\", \"ETH Zurich \\u2013 Swiss Federal Institute of Technology Zurich\", \"Columbia University\", \"Johns Hopkins University\", \"University of Pennsylvania\", \"University of Michigan\", \"Duke University\", \"Cornell University\", \"University of Toronto\", \"Northwestern University\", \"University College London\", \"University of Tokyo\", \"Carnegie Mellon University\", \"National University of Singapore\", \"University of Washington\", \"Georgia Institute of Technology\", \"University of Texas at Austin\", \"LMU Munich\", \"University of Illinois at Urbana-Champaign\", \"University of Wisconsin-Madison\", \"University of British Columbia\", \"University of Melbourne\", \"London School of Economics and Political Science\", \"\\u00c9cole Polytechnique F\\u00e9d\\u00e9rale de Lausanne\", \"University of Edinburgh\", \"University of California, Santa Barbara\", \"New York University\", \"McGill University\", \"King\\u2019s College London\", \"University of California, San Diego\", \"Washington University in St Louis\", \"University of Hong Kong\", \"Karolinska Institute\", \"Australian National University\", \"University of Minnesota\", \"University of North Carolina at Chapel Hill\", \"Peking University\", \"Tsinghua University\", \"Seoul National University\", \"Hong Kong University of Science and Technology\", \"Korea Advanced Institute of Science and Technology (KAIST)\", \"University of Manchester\", \"Brown University\", \"KU Leuven\", \"University of California, Davis\", \"Boston University\", \"Pennsylvania State University\", \"Kyoto University\", \"University of Sydney\", \"Nanyang Technological University\", \"\\u00c9cole Polytechnique\", \"Scuola Normale Superiore di Pisa\", \"Leiden University\", \"The University of Queensland\", \"Pohang University of Science and Technology\", \"University of G\\u00f6ttingen\", \"Ohio State University\", \"Rice University\", \"Heidelberg University\", \"Delft University of Technology\", \"Erasmus University Rotterdam\", \"Wageningen University and Research Center\", \"University of Bristol\", \"University of Basel\", \"University of Southern California\", \"University of Amsterdam\", \"\\u00c9cole Normale Sup\\u00e9rieure\", \"Utrecht University\", \"Humboldt University of Berlin\", \"Free University of Berlin\", \"Michigan State University\", \"Durham University\", \"Monash University\", \"Middle East Technical University\", \"University of Arizona\", \"University of Notre Dame\", \"Tufts University\", \"University of California, Irvine\", \"Ghent University\", \"University of Massachusetts\", \"University of Pittsburgh\", \"Emory University\", \"McMaster University\", \"University of Glasgow\", \"Vanderbilt University\", \"University of Colorado Boulder\", \"Stockholm University\", \"Technical University of Munich\", \"Uppsala University\"], \"type\": \"scatter\", \"x\": [\"1\", \"2\", \"3\", \"4\", \"5\", \"6\", \"7\", \"8\", \"9\", \"9\", \"11\", \"12\", \"13\", \"14\", \"15\", \"16\", \"17\", \"18\", \"19\", \"20\", \"21\", \"22\", \"23\", \"24\", \"25\", \"26\", \"27\", \"28\", \"29\", \"29\", \"29\", \"32\", \"33\", \"34\", \"34\", \"36\", \"37\", \"38\", \"39\", \"40\", \"41\", \"42\", \"43\", \"44\", \"45\", \"46\", \"46\", \"48\", \"49\", \"50\", \"51\", \"52\", \"52\", \"54\", \"55\", \"55\", \"57\", \"58\", \"59\", \"60\", \"61\", \"61\", \"63\", \"64\", \"65\", \"66\", \"67\", \"68\", \"69\", \"70\", \"71\", \"72\", \"73\", \"74\", \"75\", \"75\", \"77\", \"78\", \"79\", \"80\", \"81\", \"82\", \"83\", \"83\", \"85\", \"86\", \"86\", \"88\", \"88\", \"90\", \"91\", \"91\", \"93\", \"94\", \"94\", \"96\", \"97\", \"98\", \"98\", \"98\"], \"y\": [99.7, 98.9, 95.5, 99.1, 95.2, 100.0, 99.6, 99.1, 89.4, 94.0, 97.3, 95.3, 83.5, 95.3, 93.6, 94.4, 88.9, 96.6, 91.5, 83.0, 96.9, 85.1, 74.7, 92.0, 66.0, 95.0, 85.8, 91.5, 83.0, 77.8, 87.7, 85.3, 80.6, 71.3, 95.0, 88.3, 99.2, 89.5, 76.0, 88.3, 96.4, 97.1, 65.1, 76.8, 71.1, 82.9, 91.0, 63.7, 65.0, 48.7, 72.9, 71.4, 74.3, 92.0, 71.8, 80.4, 94.4, 76.0, 57.0, 69.0, 75.9, 79.9, 96.4, 82.3, 74.2, 84.4, 92.3, 80.4, 99.9, 81.4, 42.6, 82.3, 77.5, 85.1, 81.4, 81.3, 76.6, 84.8, 80.0, 71.9, 67.6, 74.0, 88.9, 65.7, 92.0, 74.0, 90.0, 92.9, 89.5, 73.8, 78.7, 84.4, 89.5, 78.8, 83.7, 87.7, 97.4, 90.9, 78.8, 70.9]}, {\"marker\": {\"color\": \"rgb(199,69,100)\"}, \"mode\": \"markers\", \"name\": \"2016\", \"orientation\": \"h\", \"text\": [\"California Institute of Technology\", \"University of Oxford\", \"Stanford University\", \"University of Cambridge\", \"Massachusetts Institute of Technology\", \"Harvard University\", \"Princeton University\", \"Imperial College London\", \"ETH Zurich \\u2013 Swiss Federal Institute of Technology Zurich\", \"University of Chicago\", \"Johns Hopkins University\", \"Yale University\", \"University of California, Berkeley\", \"University College London\", \"Columbia University\", \"University of California, Los Angeles\", \"University of Pennsylvania\", \"Cornell University\", \"University of Toronto\", \"Duke University\", \"University of Michigan\", \"Carnegie Mellon University\", \"London School of Economics and Political Science\", \"University of Edinburgh\", \"Northwestern University\", \"National University of Singapore\", \"King\\u2019s College London\", \"Karolinska Institute\", \"LMU Munich\", \"New York University\", \"\\u00c9cole Polytechnique F\\u00e9d\\u00e9rale de Lausanne\", \"University of Washington\", \"University of Melbourne\", \"University of British Columbia\", \"KU Leuven\", \"University of Illinois at Urbana-Champaign\", \"Heidelberg University\", \"McGill University\", \"University of California, San Diego\", \"University of California, Santa Barbara\", \"Georgia Institute of Technology\", \"Peking University\", \"University of Tokyo\", \"University of California, Davis\", \"University of Hong Kong\", \"University of Texas at Austin\", \"Tsinghua University\", \"Wageningen University and Research Center\", \"Humboldt University of Berlin\", \"University of Wisconsin-Madison\", \"Brown University\", \"Australian National University\", \"Technical University of Munich\", \"\\u00c9cole Normale Sup\\u00e9rieure\", \"Nanyang Technological University\", \"University of Manchester\", \"University of Sydney\", \"University of Amsterdam\", \"Hong Kong University of Science and Technology\", \"The University of Queensland\", \"Washington University in St Louis\", \"Utrecht University\", \"University of North Carolina at Chapel Hill\", \"Boston University\", \"Delft University of Technology\", \"University of Minnesota\", \"Leiden University\", \"University of Southern California\", \"University of Bristol\", \"Durham University\", \"Erasmus University Rotterdam\", \"Free University of Berlin\", \"Monash University\", \"University of Groningen\", \"Pennsylvania State University\", \"University of Glasgow\", \"University of Helsinki\", \"University of T\\u00fcbingen\", \"University of Pittsburgh\", \"University of Warwick\", \"Uppsala University\", \"University of Copenhagen\", \"University of New South Wales\", \"University of Freiburg\", \"Seoul National University\", \"University of St Andrews\", \"Vanderbilt University\", \"Kyoto University\", \"Maastricht University\", \"Emory University\", \"Lund University\", \"Ohio State University\", \"University of Exeter\", \"University of Bonn\", \"Georgetown University\", \"McMaster University\", \"University of Sheffield\", \"Queen Mary University of London\", \"University of G\\u00f6ttingen\", \"Michigan State University\"], \"type\": \"scatter\", \"x\": [\"1\", \"2\", \"3\", \"4\", \"5\", \"6\", \"7\", \"8\", \"9\", \"10\", \"11\", \"12\", \"13\", \"14\", \"15\", \"16\", \"17\", \"18\", \"19\", \"20\", \"21\", \"22\", \"23\", \"24\", \"25\", \"26\", \"27\", \"28\", \"29\", \"30\", \"31\", \"32\", \"33\", \"34\", \"35\", \"36\", \"37\", \"38\", \"=39\", \"=39\", \"41\", \"42\", \"43\", \"=44\", \"=44\", \"46\", \"=47\", \"=47\", \"49\", \"50\", \"51\", \"52\", \"53\", \"54\", \"55\", \"=56\", \"=56\", \"58\", \"59\", \"=60\", \"=60\", \"62\", \"63\", \"64\", \"=65\", \"=65\", \"67\", \"68\", \"69\", \"70\", \"71\", \"72\", \"73\", \"74\", \"75\", \"=76\", \"=76\", \"78\", \"79\", \"80\", \"81\", \"=82\", \"=82\", \"84\", \"85\", \"86\", \"87\", \"=88\", \"=88\", \"=90\", \"=90\", \"=90\", \"93\", \"=94\", \"=94\", \"=94\", \"97\", \"98\", \"=99\", \"=99\"], \"y\": [99.8, 98.8, 99.9, 97.0, 99.7, 99.8, 99.3, 96.7, 91.1, 99.2, 98.2, 97.2, 99.7, 94.2, 98.1, 98.5, 98.6, 97.2, 90.9, 99.0, 94.4, 99.1, 94.3, 96.3, 96.5, 79.4, 93.8, 92.2, 85.7, 95.3, 94.6, 98.6, 86.6, 91.5, 87.3, 86.8, 88.2, 78.9, 98.7, 99.2, 86.0, 69.1, 60.9, 84.3, 70.1, 92.2, 58.8, 87.8, 73.6, 86.6, 96.4, 72.3, 80.1, 87.1, 85.6, 77.3, 77.5, 87.4, 82.6, 82.4, 99.2, 88.1, 95.9, 97.7, 61.5, 88.0, 85.2, 93.0, 91.2, 87.7, 95.6, 60.2, 73.3, 84.0, 80.5, 92.3, 82.1, 79.3, 92.3, 78.2, 80.9, 86.2, 82.1, 80.5, 50.0, 78.8, 95.7, 46.6, 82.7, 96.7, 81.3, 83.2, 94.3, 85.3, 82.5, 84.9, 80.1, 93.3, 72.7, 76.8]}],                        {\"template\": {\"data\": {\"bar\": [{\"error_x\": {\"color\": \"#2a3f5f\"}, \"error_y\": {\"color\": \"#2a3f5f\"}, \"marker\": {\"line\": {\"color\": \"white\", \"width\": 0.5}}, \"type\": \"bar\"}], \"barpolar\": [{\"marker\": {\"line\": {\"color\": \"white\", \"width\": 0.5}}, \"type\": \"barpolar\"}], \"carpet\": [{\"aaxis\": {\"endlinecolor\": \"#2a3f5f\", \"gridcolor\": \"#C8D4E3\", \"linecolor\": \"#C8D4E3\", \"minorgridcolor\": \"#C8D4E3\", \"startlinecolor\": \"#2a3f5f\"}, \"baxis\": {\"endlinecolor\": \"#2a3f5f\", \"gridcolor\": \"#C8D4E3\", \"linecolor\": \"#C8D4E3\", \"minorgridcolor\": \"#C8D4E3\", \"startlinecolor\": \"#2a3f5f\"}, \"type\": \"carpet\"}], \"choropleth\": [{\"colorbar\": {\"outlinewidth\": 0, \"ticks\": \"\"}, \"type\": \"choropleth\"}], \"contour\": [{\"colorbar\": {\"outlinewidth\": 0, \"ticks\": \"\"}, \"colorscale\": [[0.0, \"#0d0887\"], [0.1111111111111111, \"#46039f\"], [0.2222222222222222, \"#7201a8\"], [0.3333333333333333, \"#9c179e\"], [0.4444444444444444, \"#bd3786\"], [0.5555555555555556, \"#d8576b\"], [0.6666666666666666, \"#ed7953\"], [0.7777777777777778, \"#fb9f3a\"], [0.8888888888888888, \"#fdca26\"], [1.0, \"#f0f921\"]], \"type\": \"contour\"}], \"contourcarpet\": [{\"colorbar\": {\"outlinewidth\": 0, \"ticks\": \"\"}, \"type\": \"contourcarpet\"}], \"heatmap\": [{\"colorbar\": {\"outlinewidth\": 0, \"ticks\": \"\"}, \"colorscale\": [[0.0, \"#0d0887\"], [0.1111111111111111, \"#46039f\"], [0.2222222222222222, \"#7201a8\"], [0.3333333333333333, \"#9c179e\"], [0.4444444444444444, \"#bd3786\"], [0.5555555555555556, \"#d8576b\"], [0.6666666666666666, \"#ed7953\"], [0.7777777777777778, \"#fb9f3a\"], [0.8888888888888888, \"#fdca26\"], [1.0, \"#f0f921\"]], \"type\": \"heatmap\"}], \"heatmapgl\": [{\"colorbar\": {\"outlinewidth\": 0, \"ticks\": \"\"}, \"colorscale\": [[0.0, \"#0d0887\"], [0.1111111111111111, \"#46039f\"], [0.2222222222222222, \"#7201a8\"], [0.3333333333333333, \"#9c179e\"], [0.4444444444444444, \"#bd3786\"], [0.5555555555555556, \"#d8576b\"], [0.6666666666666666, \"#ed7953\"], [0.7777777777777778, \"#fb9f3a\"], [0.8888888888888888, \"#fdca26\"], [1.0, \"#f0f921\"]], \"type\": \"heatmapgl\"}], \"histogram\": [{\"marker\": {\"colorbar\": {\"outlinewidth\": 0, \"ticks\": \"\"}}, \"type\": \"histogram\"}], \"histogram2d\": [{\"colorbar\": {\"outlinewidth\": 0, \"ticks\": \"\"}, \"colorscale\": [[0.0, \"#0d0887\"], [0.1111111111111111, \"#46039f\"], [0.2222222222222222, \"#7201a8\"], [0.3333333333333333, \"#9c179e\"], [0.4444444444444444, \"#bd3786\"], [0.5555555555555556, \"#d8576b\"], [0.6666666666666666, \"#ed7953\"], [0.7777777777777778, \"#fb9f3a\"], [0.8888888888888888, \"#fdca26\"], [1.0, \"#f0f921\"]], \"type\": \"histogram2d\"}], \"histogram2dcontour\": [{\"colorbar\": {\"outlinewidth\": 0, \"ticks\": \"\"}, \"colorscale\": [[0.0, \"#0d0887\"], [0.1111111111111111, \"#46039f\"], [0.2222222222222222, \"#7201a8\"], [0.3333333333333333, \"#9c179e\"], [0.4444444444444444, \"#bd3786\"], [0.5555555555555556, \"#d8576b\"], [0.6666666666666666, \"#ed7953\"], [0.7777777777777778, \"#fb9f3a\"], [0.8888888888888888, \"#fdca26\"], [1.0, \"#f0f921\"]], \"type\": \"histogram2dcontour\"}], \"mesh3d\": [{\"colorbar\": {\"outlinewidth\": 0, \"ticks\": \"\"}, \"type\": \"mesh3d\"}], \"parcoords\": [{\"line\": {\"colorbar\": {\"outlinewidth\": 0, \"ticks\": \"\"}}, \"type\": \"parcoords\"}], \"pie\": [{\"automargin\": true, \"type\": \"pie\"}], \"scatter\": [{\"marker\": {\"colorbar\": {\"outlinewidth\": 0, \"ticks\": \"\"}}, \"type\": \"scatter\"}], \"scatter3d\": [{\"line\": {\"colorbar\": {\"outlinewidth\": 0, \"ticks\": \"\"}}, \"marker\": {\"colorbar\": {\"outlinewidth\": 0, \"ticks\": \"\"}}, \"type\": \"scatter3d\"}], \"scattercarpet\": [{\"marker\": {\"colorbar\": {\"outlinewidth\": 0, \"ticks\": \"\"}}, \"type\": \"scattercarpet\"}], \"scattergeo\": [{\"marker\": {\"colorbar\": {\"outlinewidth\": 0, \"ticks\": \"\"}}, \"type\": \"scattergeo\"}], \"scattergl\": [{\"marker\": {\"colorbar\": {\"outlinewidth\": 0, \"ticks\": \"\"}}, \"type\": \"scattergl\"}], \"scattermapbox\": [{\"marker\": {\"colorbar\": {\"outlinewidth\": 0, \"ticks\": \"\"}}, \"type\": \"scattermapbox\"}], \"scatterpolar\": [{\"marker\": {\"colorbar\": {\"outlinewidth\": 0, \"ticks\": \"\"}}, \"type\": \"scatterpolar\"}], \"scatterpolargl\": [{\"marker\": {\"colorbar\": {\"outlinewidth\": 0, \"ticks\": \"\"}}, \"type\": \"scatterpolargl\"}], \"scatterternary\": [{\"marker\": {\"colorbar\": {\"outlinewidth\": 0, \"ticks\": \"\"}}, \"type\": \"scatterternary\"}], \"surface\": [{\"colorbar\": {\"outlinewidth\": 0, \"ticks\": \"\"}, \"colorscale\": [[0.0, \"#0d0887\"], [0.1111111111111111, \"#46039f\"], [0.2222222222222222, \"#7201a8\"], [0.3333333333333333, \"#9c179e\"], [0.4444444444444444, \"#bd3786\"], [0.5555555555555556, \"#d8576b\"], [0.6666666666666666, \"#ed7953\"], [0.7777777777777778, \"#fb9f3a\"], [0.8888888888888888, \"#fdca26\"], [1.0, \"#f0f921\"]], \"type\": \"surface\"}], \"table\": [{\"cells\": {\"fill\": {\"color\": \"#EBF0F8\"}, \"line\": {\"color\": \"white\"}}, \"header\": {\"fill\": {\"color\": \"#C8D4E3\"}, \"line\": {\"color\": \"white\"}}, \"type\": \"table\"}]}, \"layout\": {\"annotationdefaults\": {\"arrowcolor\": \"#2a3f5f\", \"arrowhead\": 0, \"arrowwidth\": 1}, \"autotypenumbers\": \"strict\", \"coloraxis\": {\"colorbar\": {\"outlinewidth\": 0, \"ticks\": \"\"}}, \"colorscale\": {\"diverging\": [[0, \"#8e0152\"], [0.1, \"#c51b7d\"], [0.2, \"#de77ae\"], [0.3, \"#f1b6da\"], [0.4, \"#fde0ef\"], [0.5, \"#f7f7f7\"], [0.6, \"#e6f5d0\"], [0.7, \"#b8e186\"], [0.8, \"#7fbc41\"], [0.9, \"#4d9221\"], [1, \"#276419\"]], \"sequential\": [[0.0, \"#0d0887\"], [0.1111111111111111, \"#46039f\"], [0.2222222222222222, \"#7201a8\"], [0.3333333333333333, \"#9c179e\"], [0.4444444444444444, \"#bd3786\"], [0.5555555555555556, \"#d8576b\"], [0.6666666666666666, \"#ed7953\"], [0.7777777777777778, \"#fb9f3a\"], [0.8888888888888888, \"#fdca26\"], [1.0, \"#f0f921\"]], \"sequentialminus\": [[0.0, \"#0d0887\"], [0.1111111111111111, \"#46039f\"], [0.2222222222222222, \"#7201a8\"], [0.3333333333333333, \"#9c179e\"], [0.4444444444444444, \"#bd3786\"], [0.5555555555555556, \"#d8576b\"], [0.6666666666666666, \"#ed7953\"], [0.7777777777777778, \"#fb9f3a\"], [0.8888888888888888, \"#fdca26\"], [1.0, \"#f0f921\"]]}, \"colorway\": [\"#636efa\", \"#EF553B\", \"#00cc96\", \"#ab63fa\", \"#FFA15A\", \"#19d3f3\", \"#FF6692\", \"#B6E880\", \"#FF97FF\", \"#FECB52\"], \"font\": {\"color\": \"#2a3f5f\"}, \"geo\": {\"bgcolor\": \"white\", \"lakecolor\": \"white\", \"landcolor\": \"white\", \"showlakes\": true, \"showland\": true, \"subunitcolor\": \"#C8D4E3\"}, \"hoverlabel\": {\"align\": \"left\"}, \"hovermode\": \"closest\", \"mapbox\": {\"style\": \"light\"}, \"paper_bgcolor\": \"white\", \"plot_bgcolor\": \"white\", \"polar\": {\"angularaxis\": {\"gridcolor\": \"#EBF0F8\", \"linecolor\": \"#EBF0F8\", \"ticks\": \"\"}, \"bgcolor\": \"white\", \"radialaxis\": {\"gridcolor\": \"#EBF0F8\", \"linecolor\": \"#EBF0F8\", \"ticks\": \"\"}}, \"scene\": {\"xaxis\": {\"backgroundcolor\": \"white\", \"gridcolor\": \"#DFE8F3\", \"gridwidth\": 2, \"linecolor\": \"#EBF0F8\", \"showbackground\": true, \"ticks\": \"\", \"zerolinecolor\": \"#EBF0F8\"}, \"yaxis\": {\"backgroundcolor\": \"white\", \"gridcolor\": \"#DFE8F3\", \"gridwidth\": 2, \"linecolor\": \"#EBF0F8\", \"showbackground\": true, \"ticks\": \"\", \"zerolinecolor\": \"#EBF0F8\"}, \"zaxis\": {\"backgroundcolor\": \"white\", \"gridcolor\": \"#DFE8F3\", \"gridwidth\": 2, \"linecolor\": \"#EBF0F8\", \"showbackground\": true, \"ticks\": \"\", \"zerolinecolor\": \"#EBF0F8\"}}, \"shapedefaults\": {\"line\": {\"color\": \"#2a3f5f\"}}, \"ternary\": {\"aaxis\": {\"gridcolor\": \"#DFE8F3\", \"linecolor\": \"#A2B1C6\", \"ticks\": \"\"}, \"baxis\": {\"gridcolor\": \"#DFE8F3\", \"linecolor\": \"#A2B1C6\", \"ticks\": \"\"}, \"bgcolor\": \"white\", \"caxis\": {\"gridcolor\": \"#DFE8F3\", \"linecolor\": \"#A2B1C6\", \"ticks\": \"\"}}, \"title\": {\"x\": 0.05}, \"xaxis\": {\"automargin\": true, \"gridcolor\": \"#EBF0F8\", \"linecolor\": \"#EBF0F8\", \"ticks\": \"\", \"title\": {\"standoff\": 15}, \"zerolinecolor\": \"#EBF0F8\", \"zerolinewidth\": 2}, \"yaxis\": {\"automargin\": true, \"gridcolor\": \"#EBF0F8\", \"linecolor\": \"#EBF0F8\", \"ticks\": \"\", \"title\": {\"standoff\": 15}, \"zerolinecolor\": \"#EBF0F8\", \"zerolinewidth\": 2}}}, \"title\": {\"text\": \"WORLD RANK VS CITATIONS\"}, \"xaxis\": {\"title\": {\"text\": \"World Rank\"}}, \"yaxis\": {\"title\": {\"text\": \"Citation\"}}},                        {\"responsive\": true}                    ).then(function(){\n",
       "                            \n",
       "var gd = document.getElementById('c403d37a-2bec-4b52-af51-22cbf96084d2');\n",
       "var x = new MutationObserver(function (mutations, observer) {{\n",
       "        var display = window.getComputedStyle(gd).display;\n",
       "        if (!display || display === 'none') {{\n",
       "            console.log([gd, 'removed!']);\n",
       "            Plotly.purge(gd);\n",
       "            observer.disconnect();\n",
       "        }}\n",
       "}});\n",
       "\n",
       "// Listen for the removal of the full notebook cells\n",
       "var notebookContainer = gd.closest('#notebook-container');\n",
       "if (notebookContainer) {{\n",
       "    x.observe(notebookContainer, {childList: true});\n",
       "}}\n",
       "\n",
       "// Listen for the clearing of the current output cell\n",
       "var outputEl = gd.closest('.output');\n",
       "if (outputEl) {{\n",
       "    x.observe(outputEl, {childList: true});\n",
       "}}\n",
       "\n",
       "                        })                };                });            </script>        </div>"
      ]
     },
     "metadata": {},
     "output_type": "display_data"
    }
   ],
   "source": [
    "df2014 = timesData[timesData['year'] == 2014].iloc[:100,]\n",
    "df2015 = timesData[timesData['year'] == 2015].iloc[:100,]\n",
    "df2016 = timesData[timesData['year'] == 2016].iloc[:100,]\n",
    "\n",
    "\n",
    "goObject2014 = go.Scatter(x=df2014.world_rank,\n",
    "                   y=df2014.citations,\n",
    "                   name = '2014',\n",
    "                   orientation = 'h',\n",
    "                   marker = dict(color = 'rgb(163,6,988)'),\n",
    "                   mode = 'markers',\n",
    "                   text = df2014.university_name)\n",
    "\n",
    "goObject2015 = go.Scatter(x=df2015.world_rank,\n",
    "                   y=df2015.citations,\n",
    "                   name = '2015',\n",
    "                   orientation = 'h',\n",
    "                   marker = dict(color = 'rgb(163,64,9)'),\n",
    "                   mode = 'markers',\n",
    "                         text = df2015.university_name)\n",
    "\n",
    "goObject2016 = go.Scatter(x=df2016.world_rank,\n",
    "                   y=df2016.citations,\n",
    "                   name = '2016',\n",
    "                   orientation = 'h',\n",
    "                   marker = dict(color = 'rgb(199,69,100)'),\n",
    "                   mode = 'markers',\n",
    "                         text = df2016.university_name)\n",
    "\n",
    "layout = go.Layout(template = 'plotly_white', title= 'WORLD RANK VS CITATIONS', xaxis=dict(title = 'World Rank'), yaxis=dict(title = 'Citation'))\n",
    "figure = go.Figure(data = [goObject2014, goObject2015, goObject2016], layout = layout)\n",
    "figure.show()"
   ]
  },
  {
   "cell_type": "markdown",
   "metadata": {},
   "source": [
    "# Lineplot"
   ]
  },
  {
   "cell_type": "markdown",
   "metadata": {},
   "source": [
    "### Citation vs world rank of top 100 universities with 2014, 2015 and 2016 years"
   ]
  },
  {
   "cell_type": "code",
   "execution_count": 526,
   "metadata": {},
   "outputs": [
    {
     "data": {
      "application/vnd.plotly.v1+json": {
       "config": {
        "plotlyServerURL": "https://plot.ly"
       },
       "data": [
        {
         "marker": {
          "color": "rgb(163,6,988)"
         },
         "mode": "markers",
         "name": "2014",
         "text": [
          "California Institute of Technology",
          "Harvard University",
          "University of Oxford",
          "Stanford University",
          "Massachusetts Institute of Technology",
          "Princeton University",
          "University of Cambridge",
          "University of California, Berkeley",
          "University of Chicago",
          "Imperial College London",
          "Yale University",
          "University of California, Los Angeles",
          "Columbia University",
          "ETH Zurich – Swiss Federal Institute of Technology Zurich",
          "Johns Hopkins University",
          "University of Pennsylvania",
          "Duke University",
          "University of Michigan",
          "Cornell University",
          "University of Toronto",
          "University College London",
          "Northwestern University",
          "University of Tokyo",
          "Carnegie Mellon University",
          "University of Washington",
          "National University of Singapore",
          "University of Texas at Austin",
          "Georgia Institute of Technology",
          "University of Illinois at Urbana-Champaign",
          "University of Wisconsin-Madison",
          "University of British Columbia",
          "London School of Economics and Political Science",
          "University of California, Santa Barbara",
          "University of Melbourne",
          "McGill University",
          "Karolinska Institute",
          "École Polytechnique Fédérale de Lausanne",
          "King’s College London",
          "University of Edinburgh",
          "New York University",
          "University of California, San Diego",
          "Washington University in St Louis",
          "University of Hong Kong",
          "Seoul National University",
          "Peking University",
          "University of Minnesota",
          "University of North Carolina at Chapel Hill",
          "Australian National University",
          "Pennsylvania State University",
          "Boston University",
          "Tsinghua University",
          "Brown University",
          "Kyoto University",
          "University of California, Davis",
          "LMU Munich",
          "Korea Advanced Institute of Science and Technology (KAIST)",
          "Hong Kong University of Science and Technology",
          "University of Manchester",
          "Ohio State University",
          "Pohang University of Science and Technology",
          "KU Leuven",
          "Purdue University",
          "The University of Queensland",
          "University of Göttingen",
          "Rice University",
          "École Normale Supérieure",
          "Leiden University",
          "Heidelberg University",
          "Delft University of Technology",
          "University of Southern California",
          "École Polytechnique",
          "University of Sydney",
          "Erasmus University Rotterdam",
          "University of Basel",
          "Utrecht University",
          "Nanyang Technological University",
          "Wageningen University and Research Center",
          "University of Pittsburgh",
          "University of Bristol",
          "Durham University",
          "Emory University",
          "Tufts University",
          "Michigan State University",
          "University of Amsterdam",
          "Ghent University",
          "Free University of Berlin",
          "Technical University of Munich",
          "Case Western Reserve University",
          "Vanderbilt University",
          "University of Notre Dame",
          "Monash University",
          "McMaster University",
          "University of California, Irvine",
          "Humboldt University of Berlin",
          "University of Rochester",
          "Pierre and Marie Curie University",
          "University of Colorado Boulder",
          "Maastricht University",
          "University of Groningen",
          "University of Helsinki"
         ],
         "type": "scatter",
         "x": [
          "1",
          "2",
          "2",
          "4",
          "5",
          "6",
          "7",
          "8",
          "9",
          "10",
          "11",
          "12",
          "13",
          "14",
          "15",
          "16",
          "17",
          "18",
          "19",
          "20",
          "21",
          "22",
          "23",
          "24",
          "25",
          "26",
          "27",
          "28",
          "29",
          "30",
          "31",
          "32",
          "33",
          "34",
          "35",
          "36",
          "37",
          "38",
          "39",
          "40",
          "40",
          "42",
          "43",
          "44",
          "45",
          "46",
          "47",
          "48",
          "49",
          "50",
          "50",
          "52",
          "52",
          "52",
          "55",
          "56",
          "57",
          "58",
          "59",
          "60",
          "61",
          "62",
          "63",
          "63",
          "65",
          "65",
          "67",
          "68",
          "69",
          "70",
          "70",
          "72",
          "73",
          "74",
          "74",
          "76",
          "77",
          "78",
          "79",
          "80",
          "80",
          "80",
          "83",
          "83",
          "85",
          "86",
          "87",
          "88",
          "88",
          "90",
          "91",
          "92",
          "93",
          "94",
          "95",
          "96",
          "97",
          "98",
          "98",
          "100"
         ],
         "y": [
          99.8,
          99.1,
          95.4,
          99.1,
          100,
          99.7,
          95.7,
          99.3,
          98,
          90,
          93.5,
          95.6,
          95.6,
          85,
          95,
          95,
          96.7,
          90.8,
          90.8,
          84.5,
          84.1,
          97.1,
          69.8,
          93.9,
          95.6,
          66.4,
          91.3,
          87.9,
          79.4,
          87.2,
          83.7,
          69.2,
          99.4,
          80.2,
          74.5,
          76,
          95.9,
          87.6,
          87.6,
          87.9,
          96.7,
          96.4,
          61.5,
          47.3,
          62.8,
          81.2,
          90.2,
          71.2,
          79.4,
          95.3,
          59.9,
          91.3,
          58.2,
          81.2,
          83.3,
          67,
          72.3,
          77.3,
          79.4,
          85.7,
          72.9,
          67,
          73.3,
          89.6,
          99.9,
          87,
          84.2,
          76,
          47.2,
          81.2,
          82.3,
          66.6,
          81.2,
          81.4,
          82,
          67.5,
          74.1,
          84.4,
          84.9,
          88.2,
          90.8,
          93.9,
          71.5,
          75,
          74.9,
          64.8,
          80.7,
          82.8,
          86.5,
          91.8,
          65.4,
          79.4,
          89.7,
          68.4,
          89.7,
          82.3,
          97.3,
          65.8,
          71.1,
          77.8
         ]
        },
        {
         "marker": {
          "color": "rgb(163,64,9)"
         },
         "mode": "lines",
         "name": "2015",
         "text": [
          "California Institute of Technology",
          "Harvard University",
          "University of Oxford",
          "Stanford University",
          "University of Cambridge",
          "Massachusetts Institute of Technology",
          "Princeton University",
          "University of California, Berkeley",
          "Imperial College London",
          "Yale University",
          "University of Chicago",
          "University of California, Los Angeles",
          "ETH Zurich – Swiss Federal Institute of Technology Zurich",
          "Columbia University",
          "Johns Hopkins University",
          "University of Pennsylvania",
          "University of Michigan",
          "Duke University",
          "Cornell University",
          "University of Toronto",
          "Northwestern University",
          "University College London",
          "University of Tokyo",
          "Carnegie Mellon University",
          "National University of Singapore",
          "University of Washington",
          "Georgia Institute of Technology",
          "University of Texas at Austin",
          "LMU Munich",
          "University of Illinois at Urbana-Champaign",
          "University of Wisconsin-Madison",
          "University of British Columbia",
          "University of Melbourne",
          "London School of Economics and Political Science",
          "École Polytechnique Fédérale de Lausanne",
          "University of Edinburgh",
          "University of California, Santa Barbara",
          "New York University",
          "McGill University",
          "King’s College London",
          "University of California, San Diego",
          "Washington University in St Louis",
          "University of Hong Kong",
          "Karolinska Institute",
          "Australian National University",
          "University of Minnesota",
          "University of North Carolina at Chapel Hill",
          "Peking University",
          "Tsinghua University",
          "Seoul National University",
          "Hong Kong University of Science and Technology",
          "Korea Advanced Institute of Science and Technology (KAIST)",
          "University of Manchester",
          "Brown University",
          "KU Leuven",
          "University of California, Davis",
          "Boston University",
          "Pennsylvania State University",
          "Kyoto University",
          "University of Sydney",
          "Nanyang Technological University",
          "École Polytechnique",
          "Scuola Normale Superiore di Pisa",
          "Leiden University",
          "The University of Queensland",
          "Pohang University of Science and Technology",
          "University of Göttingen",
          "Ohio State University",
          "Rice University",
          "Heidelberg University",
          "Delft University of Technology",
          "Erasmus University Rotterdam",
          "Wageningen University and Research Center",
          "University of Bristol",
          "University of Basel",
          "University of Southern California",
          "University of Amsterdam",
          "École Normale Supérieure",
          "Utrecht University",
          "Humboldt University of Berlin",
          "Free University of Berlin",
          "Michigan State University",
          "Durham University",
          "Monash University",
          "Middle East Technical University",
          "University of Arizona",
          "University of Notre Dame",
          "Tufts University",
          "University of California, Irvine",
          "Ghent University",
          "University of Massachusetts",
          "University of Pittsburgh",
          "Emory University",
          "McMaster University",
          "University of Glasgow",
          "Vanderbilt University",
          "University of Colorado Boulder",
          "Stockholm University",
          "Technical University of Munich",
          "Uppsala University"
         ],
         "type": "scatter",
         "x": [
          "1",
          "2",
          "3",
          "4",
          "5",
          "6",
          "7",
          "8",
          "9",
          "9",
          "11",
          "12",
          "13",
          "14",
          "15",
          "16",
          "17",
          "18",
          "19",
          "20",
          "21",
          "22",
          "23",
          "24",
          "25",
          "26",
          "27",
          "28",
          "29",
          "29",
          "29",
          "32",
          "33",
          "34",
          "34",
          "36",
          "37",
          "38",
          "39",
          "40",
          "41",
          "42",
          "43",
          "44",
          "45",
          "46",
          "46",
          "48",
          "49",
          "50",
          "51",
          "52",
          "52",
          "54",
          "55",
          "55",
          "57",
          "58",
          "59",
          "60",
          "61",
          "61",
          "63",
          "64",
          "65",
          "66",
          "67",
          "68",
          "69",
          "70",
          "71",
          "72",
          "73",
          "74",
          "75",
          "75",
          "77",
          "78",
          "79",
          "80",
          "81",
          "82",
          "83",
          "83",
          "85",
          "86",
          "86",
          "88",
          "88",
          "90",
          "91",
          "91",
          "93",
          "94",
          "94",
          "96",
          "97",
          "98",
          "98",
          "98"
         ],
         "y": [
          99.7,
          98.9,
          95.5,
          99.1,
          95.2,
          100,
          99.6,
          99.1,
          89.4,
          94,
          97.3,
          95.3,
          83.5,
          95.3,
          93.6,
          94.4,
          88.9,
          96.6,
          91.5,
          83,
          96.9,
          85.1,
          74.7,
          92,
          66,
          95,
          85.8,
          91.5,
          83,
          77.8,
          87.7,
          85.3,
          80.6,
          71.3,
          95,
          88.3,
          99.2,
          89.5,
          76,
          88.3,
          96.4,
          97.1,
          65.1,
          76.8,
          71.1,
          82.9,
          91,
          63.7,
          65,
          48.7,
          72.9,
          71.4,
          74.3,
          92,
          71.8,
          80.4,
          94.4,
          76,
          57,
          69,
          75.9,
          79.9,
          96.4,
          82.3,
          74.2,
          84.4,
          92.3,
          80.4,
          99.9,
          81.4,
          42.6,
          82.3,
          77.5,
          85.1,
          81.4,
          81.3,
          76.6,
          84.8,
          80,
          71.9,
          67.6,
          74,
          88.9,
          65.7,
          92,
          74,
          90,
          92.9,
          89.5,
          73.8,
          78.7,
          84.4,
          89.5,
          78.8,
          83.7,
          87.7,
          97.4,
          90.9,
          78.8,
          70.9
         ]
        },
        {
         "marker": {
          "color": "rgb(199,69,100)"
         },
         "mode": "lines+markers",
         "name": "2016",
         "text": [
          "California Institute of Technology",
          "University of Oxford",
          "Stanford University",
          "University of Cambridge",
          "Massachusetts Institute of Technology",
          "Harvard University",
          "Princeton University",
          "Imperial College London",
          "ETH Zurich – Swiss Federal Institute of Technology Zurich",
          "University of Chicago",
          "Johns Hopkins University",
          "Yale University",
          "University of California, Berkeley",
          "University College London",
          "Columbia University",
          "University of California, Los Angeles",
          "University of Pennsylvania",
          "Cornell University",
          "University of Toronto",
          "Duke University",
          "University of Michigan",
          "Carnegie Mellon University",
          "London School of Economics and Political Science",
          "University of Edinburgh",
          "Northwestern University",
          "National University of Singapore",
          "King’s College London",
          "Karolinska Institute",
          "LMU Munich",
          "New York University",
          "École Polytechnique Fédérale de Lausanne",
          "University of Washington",
          "University of Melbourne",
          "University of British Columbia",
          "KU Leuven",
          "University of Illinois at Urbana-Champaign",
          "Heidelberg University",
          "McGill University",
          "University of California, San Diego",
          "University of California, Santa Barbara",
          "Georgia Institute of Technology",
          "Peking University",
          "University of Tokyo",
          "University of California, Davis",
          "University of Hong Kong",
          "University of Texas at Austin",
          "Tsinghua University",
          "Wageningen University and Research Center",
          "Humboldt University of Berlin",
          "University of Wisconsin-Madison",
          "Brown University",
          "Australian National University",
          "Technical University of Munich",
          "École Normale Supérieure",
          "Nanyang Technological University",
          "University of Manchester",
          "University of Sydney",
          "University of Amsterdam",
          "Hong Kong University of Science and Technology",
          "The University of Queensland",
          "Washington University in St Louis",
          "Utrecht University",
          "University of North Carolina at Chapel Hill",
          "Boston University",
          "Delft University of Technology",
          "University of Minnesota",
          "Leiden University",
          "University of Southern California",
          "University of Bristol",
          "Durham University",
          "Erasmus University Rotterdam",
          "Free University of Berlin",
          "Monash University",
          "University of Groningen",
          "Pennsylvania State University",
          "University of Glasgow",
          "University of Helsinki",
          "University of Tübingen",
          "University of Pittsburgh",
          "University of Warwick",
          "Uppsala University",
          "University of Copenhagen",
          "University of New South Wales",
          "University of Freiburg",
          "Seoul National University",
          "University of St Andrews",
          "Vanderbilt University",
          "Kyoto University",
          "Maastricht University",
          "Emory University",
          "Lund University",
          "Ohio State University",
          "University of Exeter",
          "University of Bonn",
          "Georgetown University",
          "McMaster University",
          "University of Sheffield",
          "Queen Mary University of London",
          "University of Göttingen",
          "Michigan State University"
         ],
         "type": "scatter",
         "x": [
          "1",
          "2",
          "3",
          "4",
          "5",
          "6",
          "7",
          "8",
          "9",
          "10",
          "11",
          "12",
          "13",
          "14",
          "15",
          "16",
          "17",
          "18",
          "19",
          "20",
          "21",
          "22",
          "23",
          "24",
          "25",
          "26",
          "27",
          "28",
          "29",
          "30",
          "31",
          "32",
          "33",
          "34",
          "35",
          "36",
          "37",
          "38",
          "=39",
          "=39",
          "41",
          "42",
          "43",
          "=44",
          "=44",
          "46",
          "=47",
          "=47",
          "49",
          "50",
          "51",
          "52",
          "53",
          "54",
          "55",
          "=56",
          "=56",
          "58",
          "59",
          "=60",
          "=60",
          "62",
          "63",
          "64",
          "=65",
          "=65",
          "67",
          "68",
          "69",
          "70",
          "71",
          "72",
          "73",
          "74",
          "75",
          "=76",
          "=76",
          "78",
          "79",
          "80",
          "81",
          "=82",
          "=82",
          "84",
          "85",
          "86",
          "87",
          "=88",
          "=88",
          "=90",
          "=90",
          "=90",
          "93",
          "=94",
          "=94",
          "=94",
          "97",
          "98",
          "=99",
          "=99"
         ],
         "y": [
          99.8,
          98.8,
          99.9,
          97,
          99.7,
          99.8,
          99.3,
          96.7,
          91.1,
          99.2,
          98.2,
          97.2,
          99.7,
          94.2,
          98.1,
          98.5,
          98.6,
          97.2,
          90.9,
          99,
          94.4,
          99.1,
          94.3,
          96.3,
          96.5,
          79.4,
          93.8,
          92.2,
          85.7,
          95.3,
          94.6,
          98.6,
          86.6,
          91.5,
          87.3,
          86.8,
          88.2,
          78.9,
          98.7,
          99.2,
          86,
          69.1,
          60.9,
          84.3,
          70.1,
          92.2,
          58.8,
          87.8,
          73.6,
          86.6,
          96.4,
          72.3,
          80.1,
          87.1,
          85.6,
          77.3,
          77.5,
          87.4,
          82.6,
          82.4,
          99.2,
          88.1,
          95.9,
          97.7,
          61.5,
          88,
          85.2,
          93,
          91.2,
          87.7,
          95.6,
          60.2,
          73.3,
          84,
          80.5,
          92.3,
          82.1,
          79.3,
          92.3,
          78.2,
          80.9,
          86.2,
          82.1,
          80.5,
          50,
          78.8,
          95.7,
          46.6,
          82.7,
          96.7,
          81.3,
          83.2,
          94.3,
          85.3,
          82.5,
          84.9,
          80.1,
          93.3,
          72.7,
          76.8
         ]
        }
       ],
       "layout": {
        "template": {
         "data": {
          "bar": [
           {
            "error_x": {
             "color": "#f2f5fa"
            },
            "error_y": {
             "color": "#f2f5fa"
            },
            "marker": {
             "line": {
              "color": "rgb(17,17,17)",
              "width": 0.5
             }
            },
            "type": "bar"
           }
          ],
          "barpolar": [
           {
            "marker": {
             "line": {
              "color": "rgb(17,17,17)",
              "width": 0.5
             }
            },
            "type": "barpolar"
           }
          ],
          "carpet": [
           {
            "aaxis": {
             "endlinecolor": "#A2B1C6",
             "gridcolor": "#506784",
             "linecolor": "#506784",
             "minorgridcolor": "#506784",
             "startlinecolor": "#A2B1C6"
            },
            "baxis": {
             "endlinecolor": "#A2B1C6",
             "gridcolor": "#506784",
             "linecolor": "#506784",
             "minorgridcolor": "#506784",
             "startlinecolor": "#A2B1C6"
            },
            "type": "carpet"
           }
          ],
          "choropleth": [
           {
            "colorbar": {
             "outlinewidth": 0,
             "ticks": ""
            },
            "type": "choropleth"
           }
          ],
          "contour": [
           {
            "colorbar": {
             "outlinewidth": 0,
             "ticks": ""
            },
            "colorscale": [
             [
              0,
              "#0d0887"
             ],
             [
              0.1111111111111111,
              "#46039f"
             ],
             [
              0.2222222222222222,
              "#7201a8"
             ],
             [
              0.3333333333333333,
              "#9c179e"
             ],
             [
              0.4444444444444444,
              "#bd3786"
             ],
             [
              0.5555555555555556,
              "#d8576b"
             ],
             [
              0.6666666666666666,
              "#ed7953"
             ],
             [
              0.7777777777777778,
              "#fb9f3a"
             ],
             [
              0.8888888888888888,
              "#fdca26"
             ],
             [
              1,
              "#f0f921"
             ]
            ],
            "type": "contour"
           }
          ],
          "contourcarpet": [
           {
            "colorbar": {
             "outlinewidth": 0,
             "ticks": ""
            },
            "type": "contourcarpet"
           }
          ],
          "heatmap": [
           {
            "colorbar": {
             "outlinewidth": 0,
             "ticks": ""
            },
            "colorscale": [
             [
              0,
              "#0d0887"
             ],
             [
              0.1111111111111111,
              "#46039f"
             ],
             [
              0.2222222222222222,
              "#7201a8"
             ],
             [
              0.3333333333333333,
              "#9c179e"
             ],
             [
              0.4444444444444444,
              "#bd3786"
             ],
             [
              0.5555555555555556,
              "#d8576b"
             ],
             [
              0.6666666666666666,
              "#ed7953"
             ],
             [
              0.7777777777777778,
              "#fb9f3a"
             ],
             [
              0.8888888888888888,
              "#fdca26"
             ],
             [
              1,
              "#f0f921"
             ]
            ],
            "type": "heatmap"
           }
          ],
          "heatmapgl": [
           {
            "colorbar": {
             "outlinewidth": 0,
             "ticks": ""
            },
            "colorscale": [
             [
              0,
              "#0d0887"
             ],
             [
              0.1111111111111111,
              "#46039f"
             ],
             [
              0.2222222222222222,
              "#7201a8"
             ],
             [
              0.3333333333333333,
              "#9c179e"
             ],
             [
              0.4444444444444444,
              "#bd3786"
             ],
             [
              0.5555555555555556,
              "#d8576b"
             ],
             [
              0.6666666666666666,
              "#ed7953"
             ],
             [
              0.7777777777777778,
              "#fb9f3a"
             ],
             [
              0.8888888888888888,
              "#fdca26"
             ],
             [
              1,
              "#f0f921"
             ]
            ],
            "type": "heatmapgl"
           }
          ],
          "histogram": [
           {
            "marker": {
             "colorbar": {
              "outlinewidth": 0,
              "ticks": ""
             }
            },
            "type": "histogram"
           }
          ],
          "histogram2d": [
           {
            "colorbar": {
             "outlinewidth": 0,
             "ticks": ""
            },
            "colorscale": [
             [
              0,
              "#0d0887"
             ],
             [
              0.1111111111111111,
              "#46039f"
             ],
             [
              0.2222222222222222,
              "#7201a8"
             ],
             [
              0.3333333333333333,
              "#9c179e"
             ],
             [
              0.4444444444444444,
              "#bd3786"
             ],
             [
              0.5555555555555556,
              "#d8576b"
             ],
             [
              0.6666666666666666,
              "#ed7953"
             ],
             [
              0.7777777777777778,
              "#fb9f3a"
             ],
             [
              0.8888888888888888,
              "#fdca26"
             ],
             [
              1,
              "#f0f921"
             ]
            ],
            "type": "histogram2d"
           }
          ],
          "histogram2dcontour": [
           {
            "colorbar": {
             "outlinewidth": 0,
             "ticks": ""
            },
            "colorscale": [
             [
              0,
              "#0d0887"
             ],
             [
              0.1111111111111111,
              "#46039f"
             ],
             [
              0.2222222222222222,
              "#7201a8"
             ],
             [
              0.3333333333333333,
              "#9c179e"
             ],
             [
              0.4444444444444444,
              "#bd3786"
             ],
             [
              0.5555555555555556,
              "#d8576b"
             ],
             [
              0.6666666666666666,
              "#ed7953"
             ],
             [
              0.7777777777777778,
              "#fb9f3a"
             ],
             [
              0.8888888888888888,
              "#fdca26"
             ],
             [
              1,
              "#f0f921"
             ]
            ],
            "type": "histogram2dcontour"
           }
          ],
          "mesh3d": [
           {
            "colorbar": {
             "outlinewidth": 0,
             "ticks": ""
            },
            "type": "mesh3d"
           }
          ],
          "parcoords": [
           {
            "line": {
             "colorbar": {
              "outlinewidth": 0,
              "ticks": ""
             }
            },
            "type": "parcoords"
           }
          ],
          "pie": [
           {
            "automargin": true,
            "type": "pie"
           }
          ],
          "scatter": [
           {
            "marker": {
             "line": {
              "color": "#283442"
             }
            },
            "type": "scatter"
           }
          ],
          "scatter3d": [
           {
            "line": {
             "colorbar": {
              "outlinewidth": 0,
              "ticks": ""
             }
            },
            "marker": {
             "colorbar": {
              "outlinewidth": 0,
              "ticks": ""
             }
            },
            "type": "scatter3d"
           }
          ],
          "scattercarpet": [
           {
            "marker": {
             "colorbar": {
              "outlinewidth": 0,
              "ticks": ""
             }
            },
            "type": "scattercarpet"
           }
          ],
          "scattergeo": [
           {
            "marker": {
             "colorbar": {
              "outlinewidth": 0,
              "ticks": ""
             }
            },
            "type": "scattergeo"
           }
          ],
          "scattergl": [
           {
            "marker": {
             "line": {
              "color": "#283442"
             }
            },
            "type": "scattergl"
           }
          ],
          "scattermapbox": [
           {
            "marker": {
             "colorbar": {
              "outlinewidth": 0,
              "ticks": ""
             }
            },
            "type": "scattermapbox"
           }
          ],
          "scatterpolar": [
           {
            "marker": {
             "colorbar": {
              "outlinewidth": 0,
              "ticks": ""
             }
            },
            "type": "scatterpolar"
           }
          ],
          "scatterpolargl": [
           {
            "marker": {
             "colorbar": {
              "outlinewidth": 0,
              "ticks": ""
             }
            },
            "type": "scatterpolargl"
           }
          ],
          "scatterternary": [
           {
            "marker": {
             "colorbar": {
              "outlinewidth": 0,
              "ticks": ""
             }
            },
            "type": "scatterternary"
           }
          ],
          "surface": [
           {
            "colorbar": {
             "outlinewidth": 0,
             "ticks": ""
            },
            "colorscale": [
             [
              0,
              "#0d0887"
             ],
             [
              0.1111111111111111,
              "#46039f"
             ],
             [
              0.2222222222222222,
              "#7201a8"
             ],
             [
              0.3333333333333333,
              "#9c179e"
             ],
             [
              0.4444444444444444,
              "#bd3786"
             ],
             [
              0.5555555555555556,
              "#d8576b"
             ],
             [
              0.6666666666666666,
              "#ed7953"
             ],
             [
              0.7777777777777778,
              "#fb9f3a"
             ],
             [
              0.8888888888888888,
              "#fdca26"
             ],
             [
              1,
              "#f0f921"
             ]
            ],
            "type": "surface"
           }
          ],
          "table": [
           {
            "cells": {
             "fill": {
              "color": "#506784"
             },
             "line": {
              "color": "rgb(17,17,17)"
             }
            },
            "header": {
             "fill": {
              "color": "#2a3f5f"
             },
             "line": {
              "color": "rgb(17,17,17)"
             }
            },
            "type": "table"
           }
          ]
         },
         "layout": {
          "annotationdefaults": {
           "arrowcolor": "#f2f5fa",
           "arrowhead": 0,
           "arrowwidth": 1
          },
          "autotypenumbers": "strict",
          "coloraxis": {
           "colorbar": {
            "outlinewidth": 0,
            "ticks": ""
           }
          },
          "colorscale": {
           "diverging": [
            [
             0,
             "#8e0152"
            ],
            [
             0.1,
             "#c51b7d"
            ],
            [
             0.2,
             "#de77ae"
            ],
            [
             0.3,
             "#f1b6da"
            ],
            [
             0.4,
             "#fde0ef"
            ],
            [
             0.5,
             "#f7f7f7"
            ],
            [
             0.6,
             "#e6f5d0"
            ],
            [
             0.7,
             "#b8e186"
            ],
            [
             0.8,
             "#7fbc41"
            ],
            [
             0.9,
             "#4d9221"
            ],
            [
             1,
             "#276419"
            ]
           ],
           "sequential": [
            [
             0,
             "#0d0887"
            ],
            [
             0.1111111111111111,
             "#46039f"
            ],
            [
             0.2222222222222222,
             "#7201a8"
            ],
            [
             0.3333333333333333,
             "#9c179e"
            ],
            [
             0.4444444444444444,
             "#bd3786"
            ],
            [
             0.5555555555555556,
             "#d8576b"
            ],
            [
             0.6666666666666666,
             "#ed7953"
            ],
            [
             0.7777777777777778,
             "#fb9f3a"
            ],
            [
             0.8888888888888888,
             "#fdca26"
            ],
            [
             1,
             "#f0f921"
            ]
           ],
           "sequentialminus": [
            [
             0,
             "#0d0887"
            ],
            [
             0.1111111111111111,
             "#46039f"
            ],
            [
             0.2222222222222222,
             "#7201a8"
            ],
            [
             0.3333333333333333,
             "#9c179e"
            ],
            [
             0.4444444444444444,
             "#bd3786"
            ],
            [
             0.5555555555555556,
             "#d8576b"
            ],
            [
             0.6666666666666666,
             "#ed7953"
            ],
            [
             0.7777777777777778,
             "#fb9f3a"
            ],
            [
             0.8888888888888888,
             "#fdca26"
            ],
            [
             1,
             "#f0f921"
            ]
           ]
          },
          "colorway": [
           "#636efa",
           "#EF553B",
           "#00cc96",
           "#ab63fa",
           "#FFA15A",
           "#19d3f3",
           "#FF6692",
           "#B6E880",
           "#FF97FF",
           "#FECB52"
          ],
          "font": {
           "color": "#f2f5fa"
          },
          "geo": {
           "bgcolor": "rgb(17,17,17)",
           "lakecolor": "rgb(17,17,17)",
           "landcolor": "rgb(17,17,17)",
           "showlakes": true,
           "showland": true,
           "subunitcolor": "#506784"
          },
          "hoverlabel": {
           "align": "left"
          },
          "hovermode": "closest",
          "mapbox": {
           "style": "dark"
          },
          "paper_bgcolor": "rgb(17,17,17)",
          "plot_bgcolor": "rgb(17,17,17)",
          "polar": {
           "angularaxis": {
            "gridcolor": "#506784",
            "linecolor": "#506784",
            "ticks": ""
           },
           "bgcolor": "rgb(17,17,17)",
           "radialaxis": {
            "gridcolor": "#506784",
            "linecolor": "#506784",
            "ticks": ""
           }
          },
          "scene": {
           "xaxis": {
            "backgroundcolor": "rgb(17,17,17)",
            "gridcolor": "#506784",
            "gridwidth": 2,
            "linecolor": "#506784",
            "showbackground": true,
            "ticks": "",
            "zerolinecolor": "#C8D4E3"
           },
           "yaxis": {
            "backgroundcolor": "rgb(17,17,17)",
            "gridcolor": "#506784",
            "gridwidth": 2,
            "linecolor": "#506784",
            "showbackground": true,
            "ticks": "",
            "zerolinecolor": "#C8D4E3"
           },
           "zaxis": {
            "backgroundcolor": "rgb(17,17,17)",
            "gridcolor": "#506784",
            "gridwidth": 2,
            "linecolor": "#506784",
            "showbackground": true,
            "ticks": "",
            "zerolinecolor": "#C8D4E3"
           }
          },
          "shapedefaults": {
           "line": {
            "color": "#f2f5fa"
           }
          },
          "sliderdefaults": {
           "bgcolor": "#C8D4E3",
           "bordercolor": "rgb(17,17,17)",
           "borderwidth": 1,
           "tickwidth": 0
          },
          "ternary": {
           "aaxis": {
            "gridcolor": "#506784",
            "linecolor": "#506784",
            "ticks": ""
           },
           "baxis": {
            "gridcolor": "#506784",
            "linecolor": "#506784",
            "ticks": ""
           },
           "bgcolor": "rgb(17,17,17)",
           "caxis": {
            "gridcolor": "#506784",
            "linecolor": "#506784",
            "ticks": ""
           }
          },
          "title": {
           "x": 0.05
          },
          "updatemenudefaults": {
           "bgcolor": "#506784",
           "borderwidth": 0
          },
          "xaxis": {
           "automargin": true,
           "gridcolor": "#283442",
           "linecolor": "#506784",
           "ticks": "",
           "title": {
            "standoff": 15
           },
           "zerolinecolor": "#283442",
           "zerolinewidth": 2
          },
          "yaxis": {
           "automargin": true,
           "gridcolor": "#283442",
           "linecolor": "#506784",
           "ticks": "",
           "title": {
            "standoff": 15
           },
           "zerolinecolor": "#283442",
           "zerolinewidth": 2
          }
         }
        },
        "title": {
         "text": "WORLD RANK VS CITATIONS"
        },
        "xaxis": {
         "title": {
          "text": "World Rank"
         }
        },
        "yaxis": {
         "title": {
          "text": "Citation"
         }
        }
       }
      },
      "text/html": [
       "<div>                            <div id=\"5c73dfc7-17f1-47a0-817d-fe1a5097d7d4\" class=\"plotly-graph-div\" style=\"height:525px; width:100%;\"></div>            <script type=\"text/javascript\">                require([\"plotly\"], function(Plotly) {                    window.PLOTLYENV=window.PLOTLYENV || {};                                    if (document.getElementById(\"5c73dfc7-17f1-47a0-817d-fe1a5097d7d4\")) {                    Plotly.newPlot(                        \"5c73dfc7-17f1-47a0-817d-fe1a5097d7d4\",                        [{\"marker\": {\"color\": \"rgb(163,6,988)\"}, \"mode\": \"markers\", \"name\": \"2014\", \"text\": [\"California Institute of Technology\", \"Harvard University\", \"University of Oxford\", \"Stanford University\", \"Massachusetts Institute of Technology\", \"Princeton University\", \"University of Cambridge\", \"University of California, Berkeley\", \"University of Chicago\", \"Imperial College London\", \"Yale University\", \"University of California, Los Angeles\", \"Columbia University\", \"ETH Zurich \\u2013 Swiss Federal Institute of Technology Zurich\", \"Johns Hopkins University\", \"University of Pennsylvania\", \"Duke University\", \"University of Michigan\", \"Cornell University\", \"University of Toronto\", \"University College London\", \"Northwestern University\", \"University of Tokyo\", \"Carnegie Mellon University\", \"University of Washington\", \"National University of Singapore\", \"University of Texas at Austin\", \"Georgia Institute of Technology\", \"University of Illinois at Urbana-Champaign\", \"University of Wisconsin-Madison\", \"University of British Columbia\", \"London School of Economics and Political Science\", \"University of California, Santa Barbara\", \"University of Melbourne\", \"McGill University\", \"Karolinska Institute\", \"\\u00c9cole Polytechnique F\\u00e9d\\u00e9rale de Lausanne\", \"King\\u2019s College London\", \"University of Edinburgh\", \"New York University\", \"University of California, San Diego\", \"Washington University in St Louis\", \"University of Hong Kong\", \"Seoul National University\", \"Peking University\", \"University of Minnesota\", \"University of North Carolina at Chapel Hill\", \"Australian National University\", \"Pennsylvania State University\", \"Boston University\", \"Tsinghua University\", \"Brown University\", \"Kyoto University\", \"University of California, Davis\", \"LMU Munich\", \"Korea Advanced Institute of Science and Technology (KAIST)\", \"Hong Kong University of Science and Technology\", \"University of Manchester\", \"Ohio State University\", \"Pohang University of Science and Technology\", \"KU Leuven\", \"Purdue University\", \"The University of Queensland\", \"University of G\\u00f6ttingen\", \"Rice University\", \"\\u00c9cole Normale Sup\\u00e9rieure\", \"Leiden University\", \"Heidelberg University\", \"Delft University of Technology\", \"University of Southern California\", \"\\u00c9cole Polytechnique\", \"University of Sydney\", \"Erasmus University Rotterdam\", \"University of Basel\", \"Utrecht University\", \"Nanyang Technological University\", \"Wageningen University and Research Center\", \"University of Pittsburgh\", \"University of Bristol\", \"Durham University\", \"Emory University\", \"Tufts University\", \"Michigan State University\", \"University of Amsterdam\", \"Ghent University\", \"Free University of Berlin\", \"Technical University of Munich\", \"Case Western Reserve University\", \"Vanderbilt University\", \"University of Notre Dame\", \"Monash University\", \"McMaster University\", \"University of California, Irvine\", \"Humboldt University of Berlin\", \"University of Rochester\", \"Pierre and Marie Curie University\", \"University of Colorado Boulder\", \"Maastricht University\", \"University of Groningen\", \"University of Helsinki\"], \"type\": \"scatter\", \"x\": [\"1\", \"2\", \"2\", \"4\", \"5\", \"6\", \"7\", \"8\", \"9\", \"10\", \"11\", \"12\", \"13\", \"14\", \"15\", \"16\", \"17\", \"18\", \"19\", \"20\", \"21\", \"22\", \"23\", \"24\", \"25\", \"26\", \"27\", \"28\", \"29\", \"30\", \"31\", \"32\", \"33\", \"34\", \"35\", \"36\", \"37\", \"38\", \"39\", \"40\", \"40\", \"42\", \"43\", \"44\", \"45\", \"46\", \"47\", \"48\", \"49\", \"50\", \"50\", \"52\", \"52\", \"52\", \"55\", \"56\", \"57\", \"58\", \"59\", \"60\", \"61\", \"62\", \"63\", \"63\", \"65\", \"65\", \"67\", \"68\", \"69\", \"70\", \"70\", \"72\", \"73\", \"74\", \"74\", \"76\", \"77\", \"78\", \"79\", \"80\", \"80\", \"80\", \"83\", \"83\", \"85\", \"86\", \"87\", \"88\", \"88\", \"90\", \"91\", \"92\", \"93\", \"94\", \"95\", \"96\", \"97\", \"98\", \"98\", \"100\"], \"y\": [99.8, 99.1, 95.4, 99.1, 100.0, 99.7, 95.7, 99.3, 98.0, 90.0, 93.5, 95.6, 95.6, 85.0, 95.0, 95.0, 96.7, 90.8, 90.8, 84.5, 84.1, 97.1, 69.8, 93.9, 95.6, 66.4, 91.3, 87.9, 79.4, 87.2, 83.7, 69.2, 99.4, 80.2, 74.5, 76.0, 95.9, 87.6, 87.6, 87.9, 96.7, 96.4, 61.5, 47.3, 62.8, 81.2, 90.2, 71.2, 79.4, 95.3, 59.9, 91.3, 58.2, 81.2, 83.3, 67.0, 72.3, 77.3, 79.4, 85.7, 72.9, 67.0, 73.3, 89.6, 99.9, 87.0, 84.2, 76.0, 47.2, 81.2, 82.3, 66.6, 81.2, 81.4, 82.0, 67.5, 74.1, 84.4, 84.9, 88.2, 90.8, 93.9, 71.5, 75.0, 74.9, 64.8, 80.7, 82.8, 86.5, 91.8, 65.4, 79.4, 89.7, 68.4, 89.7, 82.3, 97.3, 65.8, 71.1, 77.8]}, {\"marker\": {\"color\": \"rgb(163,64,9)\"}, \"mode\": \"lines\", \"name\": \"2015\", \"text\": [\"California Institute of Technology\", \"Harvard University\", \"University of Oxford\", \"Stanford University\", \"University of Cambridge\", \"Massachusetts Institute of Technology\", \"Princeton University\", \"University of California, Berkeley\", \"Imperial College London\", \"Yale University\", \"University of Chicago\", \"University of California, Los Angeles\", \"ETH Zurich \\u2013 Swiss Federal Institute of Technology Zurich\", \"Columbia University\", \"Johns Hopkins University\", \"University of Pennsylvania\", \"University of Michigan\", \"Duke University\", \"Cornell University\", \"University of Toronto\", \"Northwestern University\", \"University College London\", \"University of Tokyo\", \"Carnegie Mellon University\", \"National University of Singapore\", \"University of Washington\", \"Georgia Institute of Technology\", \"University of Texas at Austin\", \"LMU Munich\", \"University of Illinois at Urbana-Champaign\", \"University of Wisconsin-Madison\", \"University of British Columbia\", \"University of Melbourne\", \"London School of Economics and Political Science\", \"\\u00c9cole Polytechnique F\\u00e9d\\u00e9rale de Lausanne\", \"University of Edinburgh\", \"University of California, Santa Barbara\", \"New York University\", \"McGill University\", \"King\\u2019s College London\", \"University of California, San Diego\", \"Washington University in St Louis\", \"University of Hong Kong\", \"Karolinska Institute\", \"Australian National University\", \"University of Minnesota\", \"University of North Carolina at Chapel Hill\", \"Peking University\", \"Tsinghua University\", \"Seoul National University\", \"Hong Kong University of Science and Technology\", \"Korea Advanced Institute of Science and Technology (KAIST)\", \"University of Manchester\", \"Brown University\", \"KU Leuven\", \"University of California, Davis\", \"Boston University\", \"Pennsylvania State University\", \"Kyoto University\", \"University of Sydney\", \"Nanyang Technological University\", \"\\u00c9cole Polytechnique\", \"Scuola Normale Superiore di Pisa\", \"Leiden University\", \"The University of Queensland\", \"Pohang University of Science and Technology\", \"University of G\\u00f6ttingen\", \"Ohio State University\", \"Rice University\", \"Heidelberg University\", \"Delft University of Technology\", \"Erasmus University Rotterdam\", \"Wageningen University and Research Center\", \"University of Bristol\", \"University of Basel\", \"University of Southern California\", \"University of Amsterdam\", \"\\u00c9cole Normale Sup\\u00e9rieure\", \"Utrecht University\", \"Humboldt University of Berlin\", \"Free University of Berlin\", \"Michigan State University\", \"Durham University\", \"Monash University\", \"Middle East Technical University\", \"University of Arizona\", \"University of Notre Dame\", \"Tufts University\", \"University of California, Irvine\", \"Ghent University\", \"University of Massachusetts\", \"University of Pittsburgh\", \"Emory University\", \"McMaster University\", \"University of Glasgow\", \"Vanderbilt University\", \"University of Colorado Boulder\", \"Stockholm University\", \"Technical University of Munich\", \"Uppsala University\"], \"type\": \"scatter\", \"x\": [\"1\", \"2\", \"3\", \"4\", \"5\", \"6\", \"7\", \"8\", \"9\", \"9\", \"11\", \"12\", \"13\", \"14\", \"15\", \"16\", \"17\", \"18\", \"19\", \"20\", \"21\", \"22\", \"23\", \"24\", \"25\", \"26\", \"27\", \"28\", \"29\", \"29\", \"29\", \"32\", \"33\", \"34\", \"34\", \"36\", \"37\", \"38\", \"39\", \"40\", \"41\", \"42\", \"43\", \"44\", \"45\", \"46\", \"46\", \"48\", \"49\", \"50\", \"51\", \"52\", \"52\", \"54\", \"55\", \"55\", \"57\", \"58\", \"59\", \"60\", \"61\", \"61\", \"63\", \"64\", \"65\", \"66\", \"67\", \"68\", \"69\", \"70\", \"71\", \"72\", \"73\", \"74\", \"75\", \"75\", \"77\", \"78\", \"79\", \"80\", \"81\", \"82\", \"83\", \"83\", \"85\", \"86\", \"86\", \"88\", \"88\", \"90\", \"91\", \"91\", \"93\", \"94\", \"94\", \"96\", \"97\", \"98\", \"98\", \"98\"], \"y\": [99.7, 98.9, 95.5, 99.1, 95.2, 100.0, 99.6, 99.1, 89.4, 94.0, 97.3, 95.3, 83.5, 95.3, 93.6, 94.4, 88.9, 96.6, 91.5, 83.0, 96.9, 85.1, 74.7, 92.0, 66.0, 95.0, 85.8, 91.5, 83.0, 77.8, 87.7, 85.3, 80.6, 71.3, 95.0, 88.3, 99.2, 89.5, 76.0, 88.3, 96.4, 97.1, 65.1, 76.8, 71.1, 82.9, 91.0, 63.7, 65.0, 48.7, 72.9, 71.4, 74.3, 92.0, 71.8, 80.4, 94.4, 76.0, 57.0, 69.0, 75.9, 79.9, 96.4, 82.3, 74.2, 84.4, 92.3, 80.4, 99.9, 81.4, 42.6, 82.3, 77.5, 85.1, 81.4, 81.3, 76.6, 84.8, 80.0, 71.9, 67.6, 74.0, 88.9, 65.7, 92.0, 74.0, 90.0, 92.9, 89.5, 73.8, 78.7, 84.4, 89.5, 78.8, 83.7, 87.7, 97.4, 90.9, 78.8, 70.9]}, {\"marker\": {\"color\": \"rgb(199,69,100)\"}, \"mode\": \"lines+markers\", \"name\": \"2016\", \"text\": [\"California Institute of Technology\", \"University of Oxford\", \"Stanford University\", \"University of Cambridge\", \"Massachusetts Institute of Technology\", \"Harvard University\", \"Princeton University\", \"Imperial College London\", \"ETH Zurich \\u2013 Swiss Federal Institute of Technology Zurich\", \"University of Chicago\", \"Johns Hopkins University\", \"Yale University\", \"University of California, Berkeley\", \"University College London\", \"Columbia University\", \"University of California, Los Angeles\", \"University of Pennsylvania\", \"Cornell University\", \"University of Toronto\", \"Duke University\", \"University of Michigan\", \"Carnegie Mellon University\", \"London School of Economics and Political Science\", \"University of Edinburgh\", \"Northwestern University\", \"National University of Singapore\", \"King\\u2019s College London\", \"Karolinska Institute\", \"LMU Munich\", \"New York University\", \"\\u00c9cole Polytechnique F\\u00e9d\\u00e9rale de Lausanne\", \"University of Washington\", \"University of Melbourne\", \"University of British Columbia\", \"KU Leuven\", \"University of Illinois at Urbana-Champaign\", \"Heidelberg University\", \"McGill University\", \"University of California, San Diego\", \"University of California, Santa Barbara\", \"Georgia Institute of Technology\", \"Peking University\", \"University of Tokyo\", \"University of California, Davis\", \"University of Hong Kong\", \"University of Texas at Austin\", \"Tsinghua University\", \"Wageningen University and Research Center\", \"Humboldt University of Berlin\", \"University of Wisconsin-Madison\", \"Brown University\", \"Australian National University\", \"Technical University of Munich\", \"\\u00c9cole Normale Sup\\u00e9rieure\", \"Nanyang Technological University\", \"University of Manchester\", \"University of Sydney\", \"University of Amsterdam\", \"Hong Kong University of Science and Technology\", \"The University of Queensland\", \"Washington University in St Louis\", \"Utrecht University\", \"University of North Carolina at Chapel Hill\", \"Boston University\", \"Delft University of Technology\", \"University of Minnesota\", \"Leiden University\", \"University of Southern California\", \"University of Bristol\", \"Durham University\", \"Erasmus University Rotterdam\", \"Free University of Berlin\", \"Monash University\", \"University of Groningen\", \"Pennsylvania State University\", \"University of Glasgow\", \"University of Helsinki\", \"University of T\\u00fcbingen\", \"University of Pittsburgh\", \"University of Warwick\", \"Uppsala University\", \"University of Copenhagen\", \"University of New South Wales\", \"University of Freiburg\", \"Seoul National University\", \"University of St Andrews\", \"Vanderbilt University\", \"Kyoto University\", \"Maastricht University\", \"Emory University\", \"Lund University\", \"Ohio State University\", \"University of Exeter\", \"University of Bonn\", \"Georgetown University\", \"McMaster University\", \"University of Sheffield\", \"Queen Mary University of London\", \"University of G\\u00f6ttingen\", \"Michigan State University\"], \"type\": \"scatter\", \"x\": [\"1\", \"2\", \"3\", \"4\", \"5\", \"6\", \"7\", \"8\", \"9\", \"10\", \"11\", \"12\", \"13\", \"14\", \"15\", \"16\", \"17\", \"18\", \"19\", \"20\", \"21\", \"22\", \"23\", \"24\", \"25\", \"26\", \"27\", \"28\", \"29\", \"30\", \"31\", \"32\", \"33\", \"34\", \"35\", \"36\", \"37\", \"38\", \"=39\", \"=39\", \"41\", \"42\", \"43\", \"=44\", \"=44\", \"46\", \"=47\", \"=47\", \"49\", \"50\", \"51\", \"52\", \"53\", \"54\", \"55\", \"=56\", \"=56\", \"58\", \"59\", \"=60\", \"=60\", \"62\", \"63\", \"64\", \"=65\", \"=65\", \"67\", \"68\", \"69\", \"70\", \"71\", \"72\", \"73\", \"74\", \"75\", \"=76\", \"=76\", \"78\", \"79\", \"80\", \"81\", \"=82\", \"=82\", \"84\", \"85\", \"86\", \"87\", \"=88\", \"=88\", \"=90\", \"=90\", \"=90\", \"93\", \"=94\", \"=94\", \"=94\", \"97\", \"98\", \"=99\", \"=99\"], \"y\": [99.8, 98.8, 99.9, 97.0, 99.7, 99.8, 99.3, 96.7, 91.1, 99.2, 98.2, 97.2, 99.7, 94.2, 98.1, 98.5, 98.6, 97.2, 90.9, 99.0, 94.4, 99.1, 94.3, 96.3, 96.5, 79.4, 93.8, 92.2, 85.7, 95.3, 94.6, 98.6, 86.6, 91.5, 87.3, 86.8, 88.2, 78.9, 98.7, 99.2, 86.0, 69.1, 60.9, 84.3, 70.1, 92.2, 58.8, 87.8, 73.6, 86.6, 96.4, 72.3, 80.1, 87.1, 85.6, 77.3, 77.5, 87.4, 82.6, 82.4, 99.2, 88.1, 95.9, 97.7, 61.5, 88.0, 85.2, 93.0, 91.2, 87.7, 95.6, 60.2, 73.3, 84.0, 80.5, 92.3, 82.1, 79.3, 92.3, 78.2, 80.9, 86.2, 82.1, 80.5, 50.0, 78.8, 95.7, 46.6, 82.7, 96.7, 81.3, 83.2, 94.3, 85.3, 82.5, 84.9, 80.1, 93.3, 72.7, 76.8]}],                        {\"template\": {\"data\": {\"bar\": [{\"error_x\": {\"color\": \"#f2f5fa\"}, \"error_y\": {\"color\": \"#f2f5fa\"}, \"marker\": {\"line\": {\"color\": \"rgb(17,17,17)\", \"width\": 0.5}}, \"type\": \"bar\"}], \"barpolar\": [{\"marker\": {\"line\": {\"color\": \"rgb(17,17,17)\", \"width\": 0.5}}, \"type\": \"barpolar\"}], \"carpet\": [{\"aaxis\": {\"endlinecolor\": \"#A2B1C6\", \"gridcolor\": \"#506784\", \"linecolor\": \"#506784\", \"minorgridcolor\": \"#506784\", \"startlinecolor\": \"#A2B1C6\"}, \"baxis\": {\"endlinecolor\": \"#A2B1C6\", \"gridcolor\": \"#506784\", \"linecolor\": \"#506784\", \"minorgridcolor\": \"#506784\", \"startlinecolor\": \"#A2B1C6\"}, \"type\": \"carpet\"}], \"choropleth\": [{\"colorbar\": {\"outlinewidth\": 0, \"ticks\": \"\"}, \"type\": \"choropleth\"}], \"contour\": [{\"colorbar\": {\"outlinewidth\": 0, \"ticks\": \"\"}, \"colorscale\": [[0.0, \"#0d0887\"], [0.1111111111111111, \"#46039f\"], [0.2222222222222222, \"#7201a8\"], [0.3333333333333333, \"#9c179e\"], [0.4444444444444444, \"#bd3786\"], [0.5555555555555556, \"#d8576b\"], [0.6666666666666666, \"#ed7953\"], [0.7777777777777778, \"#fb9f3a\"], [0.8888888888888888, \"#fdca26\"], [1.0, \"#f0f921\"]], \"type\": \"contour\"}], \"contourcarpet\": [{\"colorbar\": {\"outlinewidth\": 0, \"ticks\": \"\"}, \"type\": \"contourcarpet\"}], \"heatmap\": [{\"colorbar\": {\"outlinewidth\": 0, \"ticks\": \"\"}, \"colorscale\": [[0.0, \"#0d0887\"], [0.1111111111111111, \"#46039f\"], [0.2222222222222222, \"#7201a8\"], [0.3333333333333333, \"#9c179e\"], [0.4444444444444444, \"#bd3786\"], [0.5555555555555556, \"#d8576b\"], [0.6666666666666666, \"#ed7953\"], [0.7777777777777778, \"#fb9f3a\"], [0.8888888888888888, \"#fdca26\"], [1.0, \"#f0f921\"]], \"type\": \"heatmap\"}], \"heatmapgl\": [{\"colorbar\": {\"outlinewidth\": 0, \"ticks\": \"\"}, \"colorscale\": [[0.0, \"#0d0887\"], [0.1111111111111111, \"#46039f\"], [0.2222222222222222, \"#7201a8\"], [0.3333333333333333, \"#9c179e\"], [0.4444444444444444, \"#bd3786\"], [0.5555555555555556, \"#d8576b\"], [0.6666666666666666, \"#ed7953\"], [0.7777777777777778, \"#fb9f3a\"], [0.8888888888888888, \"#fdca26\"], [1.0, \"#f0f921\"]], \"type\": \"heatmapgl\"}], \"histogram\": [{\"marker\": {\"colorbar\": {\"outlinewidth\": 0, \"ticks\": \"\"}}, \"type\": \"histogram\"}], \"histogram2d\": [{\"colorbar\": {\"outlinewidth\": 0, \"ticks\": \"\"}, \"colorscale\": [[0.0, \"#0d0887\"], [0.1111111111111111, \"#46039f\"], [0.2222222222222222, \"#7201a8\"], [0.3333333333333333, \"#9c179e\"], [0.4444444444444444, \"#bd3786\"], [0.5555555555555556, \"#d8576b\"], [0.6666666666666666, \"#ed7953\"], [0.7777777777777778, \"#fb9f3a\"], [0.8888888888888888, \"#fdca26\"], [1.0, \"#f0f921\"]], \"type\": \"histogram2d\"}], \"histogram2dcontour\": [{\"colorbar\": {\"outlinewidth\": 0, \"ticks\": \"\"}, \"colorscale\": [[0.0, \"#0d0887\"], [0.1111111111111111, \"#46039f\"], [0.2222222222222222, \"#7201a8\"], [0.3333333333333333, \"#9c179e\"], [0.4444444444444444, \"#bd3786\"], [0.5555555555555556, \"#d8576b\"], [0.6666666666666666, \"#ed7953\"], [0.7777777777777778, \"#fb9f3a\"], [0.8888888888888888, \"#fdca26\"], [1.0, \"#f0f921\"]], \"type\": \"histogram2dcontour\"}], \"mesh3d\": [{\"colorbar\": {\"outlinewidth\": 0, \"ticks\": \"\"}, \"type\": \"mesh3d\"}], \"parcoords\": [{\"line\": {\"colorbar\": {\"outlinewidth\": 0, \"ticks\": \"\"}}, \"type\": \"parcoords\"}], \"pie\": [{\"automargin\": true, \"type\": \"pie\"}], \"scatter\": [{\"marker\": {\"line\": {\"color\": \"#283442\"}}, \"type\": \"scatter\"}], \"scatter3d\": [{\"line\": {\"colorbar\": {\"outlinewidth\": 0, \"ticks\": \"\"}}, \"marker\": {\"colorbar\": {\"outlinewidth\": 0, \"ticks\": \"\"}}, \"type\": \"scatter3d\"}], \"scattercarpet\": [{\"marker\": {\"colorbar\": {\"outlinewidth\": 0, \"ticks\": \"\"}}, \"type\": \"scattercarpet\"}], \"scattergeo\": [{\"marker\": {\"colorbar\": {\"outlinewidth\": 0, \"ticks\": \"\"}}, \"type\": \"scattergeo\"}], \"scattergl\": [{\"marker\": {\"line\": {\"color\": \"#283442\"}}, \"type\": \"scattergl\"}], \"scattermapbox\": [{\"marker\": {\"colorbar\": {\"outlinewidth\": 0, \"ticks\": \"\"}}, \"type\": \"scattermapbox\"}], \"scatterpolar\": [{\"marker\": {\"colorbar\": {\"outlinewidth\": 0, \"ticks\": \"\"}}, \"type\": \"scatterpolar\"}], \"scatterpolargl\": [{\"marker\": {\"colorbar\": {\"outlinewidth\": 0, \"ticks\": \"\"}}, \"type\": \"scatterpolargl\"}], \"scatterternary\": [{\"marker\": {\"colorbar\": {\"outlinewidth\": 0, \"ticks\": \"\"}}, \"type\": \"scatterternary\"}], \"surface\": [{\"colorbar\": {\"outlinewidth\": 0, \"ticks\": \"\"}, \"colorscale\": [[0.0, \"#0d0887\"], [0.1111111111111111, \"#46039f\"], [0.2222222222222222, \"#7201a8\"], [0.3333333333333333, \"#9c179e\"], [0.4444444444444444, \"#bd3786\"], [0.5555555555555556, \"#d8576b\"], [0.6666666666666666, \"#ed7953\"], [0.7777777777777778, \"#fb9f3a\"], [0.8888888888888888, \"#fdca26\"], [1.0, \"#f0f921\"]], \"type\": \"surface\"}], \"table\": [{\"cells\": {\"fill\": {\"color\": \"#506784\"}, \"line\": {\"color\": \"rgb(17,17,17)\"}}, \"header\": {\"fill\": {\"color\": \"#2a3f5f\"}, \"line\": {\"color\": \"rgb(17,17,17)\"}}, \"type\": \"table\"}]}, \"layout\": {\"annotationdefaults\": {\"arrowcolor\": \"#f2f5fa\", \"arrowhead\": 0, \"arrowwidth\": 1}, \"autotypenumbers\": \"strict\", \"coloraxis\": {\"colorbar\": {\"outlinewidth\": 0, \"ticks\": \"\"}}, \"colorscale\": {\"diverging\": [[0, \"#8e0152\"], [0.1, \"#c51b7d\"], [0.2, \"#de77ae\"], [0.3, \"#f1b6da\"], [0.4, \"#fde0ef\"], [0.5, \"#f7f7f7\"], [0.6, \"#e6f5d0\"], [0.7, \"#b8e186\"], [0.8, \"#7fbc41\"], [0.9, \"#4d9221\"], [1, \"#276419\"]], \"sequential\": [[0.0, \"#0d0887\"], [0.1111111111111111, \"#46039f\"], [0.2222222222222222, \"#7201a8\"], [0.3333333333333333, \"#9c179e\"], [0.4444444444444444, \"#bd3786\"], [0.5555555555555556, \"#d8576b\"], [0.6666666666666666, \"#ed7953\"], [0.7777777777777778, \"#fb9f3a\"], [0.8888888888888888, \"#fdca26\"], [1.0, \"#f0f921\"]], \"sequentialminus\": [[0.0, \"#0d0887\"], [0.1111111111111111, \"#46039f\"], [0.2222222222222222, \"#7201a8\"], [0.3333333333333333, \"#9c179e\"], [0.4444444444444444, \"#bd3786\"], [0.5555555555555556, \"#d8576b\"], [0.6666666666666666, \"#ed7953\"], [0.7777777777777778, \"#fb9f3a\"], [0.8888888888888888, \"#fdca26\"], [1.0, \"#f0f921\"]]}, \"colorway\": [\"#636efa\", \"#EF553B\", \"#00cc96\", \"#ab63fa\", \"#FFA15A\", \"#19d3f3\", \"#FF6692\", \"#B6E880\", \"#FF97FF\", \"#FECB52\"], \"font\": {\"color\": \"#f2f5fa\"}, \"geo\": {\"bgcolor\": \"rgb(17,17,17)\", \"lakecolor\": \"rgb(17,17,17)\", \"landcolor\": \"rgb(17,17,17)\", \"showlakes\": true, \"showland\": true, \"subunitcolor\": \"#506784\"}, \"hoverlabel\": {\"align\": \"left\"}, \"hovermode\": \"closest\", \"mapbox\": {\"style\": \"dark\"}, \"paper_bgcolor\": \"rgb(17,17,17)\", \"plot_bgcolor\": \"rgb(17,17,17)\", \"polar\": {\"angularaxis\": {\"gridcolor\": \"#506784\", \"linecolor\": \"#506784\", \"ticks\": \"\"}, \"bgcolor\": \"rgb(17,17,17)\", \"radialaxis\": {\"gridcolor\": \"#506784\", \"linecolor\": \"#506784\", \"ticks\": \"\"}}, \"scene\": {\"xaxis\": {\"backgroundcolor\": \"rgb(17,17,17)\", \"gridcolor\": \"#506784\", \"gridwidth\": 2, \"linecolor\": \"#506784\", \"showbackground\": true, \"ticks\": \"\", \"zerolinecolor\": \"#C8D4E3\"}, \"yaxis\": {\"backgroundcolor\": \"rgb(17,17,17)\", \"gridcolor\": \"#506784\", \"gridwidth\": 2, \"linecolor\": \"#506784\", \"showbackground\": true, \"ticks\": \"\", \"zerolinecolor\": \"#C8D4E3\"}, \"zaxis\": {\"backgroundcolor\": \"rgb(17,17,17)\", \"gridcolor\": \"#506784\", \"gridwidth\": 2, \"linecolor\": \"#506784\", \"showbackground\": true, \"ticks\": \"\", \"zerolinecolor\": \"#C8D4E3\"}}, \"shapedefaults\": {\"line\": {\"color\": \"#f2f5fa\"}}, \"sliderdefaults\": {\"bgcolor\": \"#C8D4E3\", \"bordercolor\": \"rgb(17,17,17)\", \"borderwidth\": 1, \"tickwidth\": 0}, \"ternary\": {\"aaxis\": {\"gridcolor\": \"#506784\", \"linecolor\": \"#506784\", \"ticks\": \"\"}, \"baxis\": {\"gridcolor\": \"#506784\", \"linecolor\": \"#506784\", \"ticks\": \"\"}, \"bgcolor\": \"rgb(17,17,17)\", \"caxis\": {\"gridcolor\": \"#506784\", \"linecolor\": \"#506784\", \"ticks\": \"\"}}, \"title\": {\"x\": 0.05}, \"updatemenudefaults\": {\"bgcolor\": \"#506784\", \"borderwidth\": 0}, \"xaxis\": {\"automargin\": true, \"gridcolor\": \"#283442\", \"linecolor\": \"#506784\", \"ticks\": \"\", \"title\": {\"standoff\": 15}, \"zerolinecolor\": \"#283442\", \"zerolinewidth\": 2}, \"yaxis\": {\"automargin\": true, \"gridcolor\": \"#283442\", \"linecolor\": \"#506784\", \"ticks\": \"\", \"title\": {\"standoff\": 15}, \"zerolinecolor\": \"#283442\", \"zerolinewidth\": 2}}}, \"title\": {\"text\": \"WORLD RANK VS CITATIONS\"}, \"xaxis\": {\"title\": {\"text\": \"World Rank\"}}, \"yaxis\": {\"title\": {\"text\": \"Citation\"}}},                        {\"responsive\": true}                    ).then(function(){\n",
       "                            \n",
       "var gd = document.getElementById('5c73dfc7-17f1-47a0-817d-fe1a5097d7d4');\n",
       "var x = new MutationObserver(function (mutations, observer) {{\n",
       "        var display = window.getComputedStyle(gd).display;\n",
       "        if (!display || display === 'none') {{\n",
       "            console.log([gd, 'removed!']);\n",
       "            Plotly.purge(gd);\n",
       "            observer.disconnect();\n",
       "        }}\n",
       "}});\n",
       "\n",
       "// Listen for the removal of the full notebook cells\n",
       "var notebookContainer = gd.closest('#notebook-container');\n",
       "if (notebookContainer) {{\n",
       "    x.observe(notebookContainer, {childList: true});\n",
       "}}\n",
       "\n",
       "// Listen for the clearing of the current output cell\n",
       "var outputEl = gd.closest('.output');\n",
       "if (outputEl) {{\n",
       "    x.observe(outputEl, {childList: true});\n",
       "}}\n",
       "\n",
       "                        })                };                });            </script>        </div>"
      ]
     },
     "metadata": {},
     "output_type": "display_data"
    }
   ],
   "source": [
    "df2014 = timesData[timesData['year'] == 2014].iloc[:100,]\n",
    "df2015 = timesData[timesData['year'] == 2015].iloc[:100,]\n",
    "df2016 = timesData[timesData['year'] == 2016].iloc[:100,]\n",
    "\n",
    "\n",
    "goObject2014 = go.Scatter(x=df2014.world_rank,\n",
    "                   y=df2014.citations,\n",
    "                   name = '2014',\n",
    "                   marker = dict(color = 'rgb(163,6,988)'),\n",
    "                   mode = 'markers',\n",
    "                   text = df2014.university_name)\n",
    "\n",
    "goObject2015 = go.Scatter(x=df2015.world_rank,\n",
    "                   y=df2015.citations,\n",
    "                   name = '2015',\n",
    "                   marker = dict(color = 'rgb(163,64,9)'),\n",
    "                   mode = 'lines',\n",
    "                   text = df2015.university_name)\n",
    "\n",
    "goObject2016 = go.Scatter(x=df2016.world_rank,\n",
    "                   y=df2016.citations,\n",
    "                   name = '2016',\n",
    "                   marker = dict(color = 'rgb(199,69,100)'),\n",
    "                   mode = 'lines+markers',\n",
    "                   text = df2016.university_name)\n",
    "\n",
    "layout = go.Layout(template = 'plotly_dark', title= 'WORLD RANK VS CITATIONS', xaxis=dict(title = 'World Rank'), yaxis=dict(title = 'Citation'))\n",
    "figure = go.Figure(data = [goObject2014, goObject2015, goObject2016], layout = layout)\n",
    "figure.show()"
   ]
  },
  {
   "cell_type": "markdown",
   "metadata": {},
   "source": [
    "# Bubble Plot"
   ]
  },
  {
   "cell_type": "markdown",
   "metadata": {},
   "source": [
    "### University world rank (first 20) vs teaching score with number of students(size) and international score (color) in 2015"
   ]
  },
  {
   "cell_type": "code",
   "execution_count": 527,
   "metadata": {},
   "outputs": [
    {
     "name": "stdout",
     "output_type": "stream",
     "text": [
      "<class 'pandas.core.frame.DataFrame'>\n",
      "Int64Index: 20 entries, 1402 to 1421\n",
      "Data columns (total 14 columns):\n",
      "world_rank                20 non-null object\n",
      "university_name           20 non-null object\n",
      "country                   20 non-null object\n",
      "teaching                  20 non-null float64\n",
      "international             20 non-null object\n",
      "research                  20 non-null float64\n",
      "citations                 20 non-null float64\n",
      "income                    20 non-null object\n",
      "total_score               20 non-null object\n",
      "num_students              20 non-null object\n",
      "student_staff_ratio       20 non-null float64\n",
      "international_students    20 non-null object\n",
      "female_male_ratio         17 non-null object\n",
      "year                      20 non-null int64\n",
      "dtypes: float64(4), int64(1), object(9)\n",
      "memory usage: 2.3+ KB\n"
     ]
    }
   ],
   "source": [
    "df_top_20.info()"
   ]
  },
  {
   "cell_type": "code",
   "execution_count": 528,
   "metadata": {},
   "outputs": [
    {
     "data": {
      "application/vnd.plotly.v1+json": {
       "config": {
        "plotlyServerURL": "https://plot.ly"
       },
       "data": [
        {
         "marker": {
          "color": [
           67,
           67.6,
           90.7,
           69,
           87.8,
           84.3,
           61.2,
           58.5,
           92.7,
           59.8,
           65.2,
           49.2,
           96.6,
           68.3,
           59.7,
           43.8,
           49.8,
           50.5,
           59,
           71.2
          ],
          "showscale": true,
          "size": [
           2.243,
           20.152,
           19.919,
           15.596,
           18.812,
           11.074,
           7.929,
           36.186,
           15.06,
           11.751,
           14.221,
           38.206,
           18.178,
           25.055,
           15.128,
           20.376,
           41.786,
           15.172,
           21.424,
           66.198
          ]
         },
         "mode": "markers",
         "text": [
          "California Institute of Technology",
          "Harvard University",
          "University of Oxford",
          "Stanford University",
          "University of Cambridge",
          "Massachusetts Institute of Technology",
          "Princeton University",
          "University of California, Berkeley",
          "Imperial College London",
          "Yale University",
          "University of Chicago",
          "University of California, Los Angeles",
          "ETH Zurich – Swiss Federal Institute of Technology Zurich",
          "Columbia University",
          "Johns Hopkins University",
          "University of Pennsylvania",
          "University of Michigan",
          "Duke University",
          "Cornell University",
          "University of Toronto"
         ],
         "type": "scatter",
         "x": [
          "1",
          "2",
          "3",
          "4",
          "5",
          "6",
          "7",
          "8",
          "9",
          "9",
          "11",
          "12",
          "13",
          "14",
          "15",
          "16",
          "17",
          "18",
          "19",
          "20"
         ],
         "y": [
          92.2,
          92.9,
          88.6,
          91.5,
          89.7,
          89.1,
          86.6,
          84.2,
          84.6,
          88.5,
          83.9,
          82.4,
          78.2,
          83.9,
          75.6,
          79,
          77,
          73.5,
          71.6,
          74.4
         ]
        }
       ],
       "layout": {
        "template": {
         "data": {
          "bar": [
           {
            "error_x": {
             "color": "#2a3f5f"
            },
            "error_y": {
             "color": "#2a3f5f"
            },
            "marker": {
             "line": {
              "color": "#E5ECF6",
              "width": 0.5
             }
            },
            "type": "bar"
           }
          ],
          "barpolar": [
           {
            "marker": {
             "line": {
              "color": "#E5ECF6",
              "width": 0.5
             }
            },
            "type": "barpolar"
           }
          ],
          "carpet": [
           {
            "aaxis": {
             "endlinecolor": "#2a3f5f",
             "gridcolor": "white",
             "linecolor": "white",
             "minorgridcolor": "white",
             "startlinecolor": "#2a3f5f"
            },
            "baxis": {
             "endlinecolor": "#2a3f5f",
             "gridcolor": "white",
             "linecolor": "white",
             "minorgridcolor": "white",
             "startlinecolor": "#2a3f5f"
            },
            "type": "carpet"
           }
          ],
          "choropleth": [
           {
            "colorbar": {
             "outlinewidth": 0,
             "ticks": ""
            },
            "type": "choropleth"
           }
          ],
          "contour": [
           {
            "colorbar": {
             "outlinewidth": 0,
             "ticks": ""
            },
            "colorscale": [
             [
              0,
              "#0d0887"
             ],
             [
              0.1111111111111111,
              "#46039f"
             ],
             [
              0.2222222222222222,
              "#7201a8"
             ],
             [
              0.3333333333333333,
              "#9c179e"
             ],
             [
              0.4444444444444444,
              "#bd3786"
             ],
             [
              0.5555555555555556,
              "#d8576b"
             ],
             [
              0.6666666666666666,
              "#ed7953"
             ],
             [
              0.7777777777777778,
              "#fb9f3a"
             ],
             [
              0.8888888888888888,
              "#fdca26"
             ],
             [
              1,
              "#f0f921"
             ]
            ],
            "type": "contour"
           }
          ],
          "contourcarpet": [
           {
            "colorbar": {
             "outlinewidth": 0,
             "ticks": ""
            },
            "type": "contourcarpet"
           }
          ],
          "heatmap": [
           {
            "colorbar": {
             "outlinewidth": 0,
             "ticks": ""
            },
            "colorscale": [
             [
              0,
              "#0d0887"
             ],
             [
              0.1111111111111111,
              "#46039f"
             ],
             [
              0.2222222222222222,
              "#7201a8"
             ],
             [
              0.3333333333333333,
              "#9c179e"
             ],
             [
              0.4444444444444444,
              "#bd3786"
             ],
             [
              0.5555555555555556,
              "#d8576b"
             ],
             [
              0.6666666666666666,
              "#ed7953"
             ],
             [
              0.7777777777777778,
              "#fb9f3a"
             ],
             [
              0.8888888888888888,
              "#fdca26"
             ],
             [
              1,
              "#f0f921"
             ]
            ],
            "type": "heatmap"
           }
          ],
          "heatmapgl": [
           {
            "colorbar": {
             "outlinewidth": 0,
             "ticks": ""
            },
            "colorscale": [
             [
              0,
              "#0d0887"
             ],
             [
              0.1111111111111111,
              "#46039f"
             ],
             [
              0.2222222222222222,
              "#7201a8"
             ],
             [
              0.3333333333333333,
              "#9c179e"
             ],
             [
              0.4444444444444444,
              "#bd3786"
             ],
             [
              0.5555555555555556,
              "#d8576b"
             ],
             [
              0.6666666666666666,
              "#ed7953"
             ],
             [
              0.7777777777777778,
              "#fb9f3a"
             ],
             [
              0.8888888888888888,
              "#fdca26"
             ],
             [
              1,
              "#f0f921"
             ]
            ],
            "type": "heatmapgl"
           }
          ],
          "histogram": [
           {
            "marker": {
             "colorbar": {
              "outlinewidth": 0,
              "ticks": ""
             }
            },
            "type": "histogram"
           }
          ],
          "histogram2d": [
           {
            "colorbar": {
             "outlinewidth": 0,
             "ticks": ""
            },
            "colorscale": [
             [
              0,
              "#0d0887"
             ],
             [
              0.1111111111111111,
              "#46039f"
             ],
             [
              0.2222222222222222,
              "#7201a8"
             ],
             [
              0.3333333333333333,
              "#9c179e"
             ],
             [
              0.4444444444444444,
              "#bd3786"
             ],
             [
              0.5555555555555556,
              "#d8576b"
             ],
             [
              0.6666666666666666,
              "#ed7953"
             ],
             [
              0.7777777777777778,
              "#fb9f3a"
             ],
             [
              0.8888888888888888,
              "#fdca26"
             ],
             [
              1,
              "#f0f921"
             ]
            ],
            "type": "histogram2d"
           }
          ],
          "histogram2dcontour": [
           {
            "colorbar": {
             "outlinewidth": 0,
             "ticks": ""
            },
            "colorscale": [
             [
              0,
              "#0d0887"
             ],
             [
              0.1111111111111111,
              "#46039f"
             ],
             [
              0.2222222222222222,
              "#7201a8"
             ],
             [
              0.3333333333333333,
              "#9c179e"
             ],
             [
              0.4444444444444444,
              "#bd3786"
             ],
             [
              0.5555555555555556,
              "#d8576b"
             ],
             [
              0.6666666666666666,
              "#ed7953"
             ],
             [
              0.7777777777777778,
              "#fb9f3a"
             ],
             [
              0.8888888888888888,
              "#fdca26"
             ],
             [
              1,
              "#f0f921"
             ]
            ],
            "type": "histogram2dcontour"
           }
          ],
          "mesh3d": [
           {
            "colorbar": {
             "outlinewidth": 0,
             "ticks": ""
            },
            "type": "mesh3d"
           }
          ],
          "parcoords": [
           {
            "line": {
             "colorbar": {
              "outlinewidth": 0,
              "ticks": ""
             }
            },
            "type": "parcoords"
           }
          ],
          "pie": [
           {
            "automargin": true,
            "type": "pie"
           }
          ],
          "scatter": [
           {
            "marker": {
             "colorbar": {
              "outlinewidth": 0,
              "ticks": ""
             }
            },
            "type": "scatter"
           }
          ],
          "scatter3d": [
           {
            "line": {
             "colorbar": {
              "outlinewidth": 0,
              "ticks": ""
             }
            },
            "marker": {
             "colorbar": {
              "outlinewidth": 0,
              "ticks": ""
             }
            },
            "type": "scatter3d"
           }
          ],
          "scattercarpet": [
           {
            "marker": {
             "colorbar": {
              "outlinewidth": 0,
              "ticks": ""
             }
            },
            "type": "scattercarpet"
           }
          ],
          "scattergeo": [
           {
            "marker": {
             "colorbar": {
              "outlinewidth": 0,
              "ticks": ""
             }
            },
            "type": "scattergeo"
           }
          ],
          "scattergl": [
           {
            "marker": {
             "colorbar": {
              "outlinewidth": 0,
              "ticks": ""
             }
            },
            "type": "scattergl"
           }
          ],
          "scattermapbox": [
           {
            "marker": {
             "colorbar": {
              "outlinewidth": 0,
              "ticks": ""
             }
            },
            "type": "scattermapbox"
           }
          ],
          "scatterpolar": [
           {
            "marker": {
             "colorbar": {
              "outlinewidth": 0,
              "ticks": ""
             }
            },
            "type": "scatterpolar"
           }
          ],
          "scatterpolargl": [
           {
            "marker": {
             "colorbar": {
              "outlinewidth": 0,
              "ticks": ""
             }
            },
            "type": "scatterpolargl"
           }
          ],
          "scatterternary": [
           {
            "marker": {
             "colorbar": {
              "outlinewidth": 0,
              "ticks": ""
             }
            },
            "type": "scatterternary"
           }
          ],
          "surface": [
           {
            "colorbar": {
             "outlinewidth": 0,
             "ticks": ""
            },
            "colorscale": [
             [
              0,
              "#0d0887"
             ],
             [
              0.1111111111111111,
              "#46039f"
             ],
             [
              0.2222222222222222,
              "#7201a8"
             ],
             [
              0.3333333333333333,
              "#9c179e"
             ],
             [
              0.4444444444444444,
              "#bd3786"
             ],
             [
              0.5555555555555556,
              "#d8576b"
             ],
             [
              0.6666666666666666,
              "#ed7953"
             ],
             [
              0.7777777777777778,
              "#fb9f3a"
             ],
             [
              0.8888888888888888,
              "#fdca26"
             ],
             [
              1,
              "#f0f921"
             ]
            ],
            "type": "surface"
           }
          ],
          "table": [
           {
            "cells": {
             "fill": {
              "color": "#EBF0F8"
             },
             "line": {
              "color": "white"
             }
            },
            "header": {
             "fill": {
              "color": "#C8D4E3"
             },
             "line": {
              "color": "white"
             }
            },
            "type": "table"
           }
          ]
         },
         "layout": {
          "annotationdefaults": {
           "arrowcolor": "#2a3f5f",
           "arrowhead": 0,
           "arrowwidth": 1
          },
          "autotypenumbers": "strict",
          "coloraxis": {
           "colorbar": {
            "outlinewidth": 0,
            "ticks": ""
           }
          },
          "colorscale": {
           "diverging": [
            [
             0,
             "#8e0152"
            ],
            [
             0.1,
             "#c51b7d"
            ],
            [
             0.2,
             "#de77ae"
            ],
            [
             0.3,
             "#f1b6da"
            ],
            [
             0.4,
             "#fde0ef"
            ],
            [
             0.5,
             "#f7f7f7"
            ],
            [
             0.6,
             "#e6f5d0"
            ],
            [
             0.7,
             "#b8e186"
            ],
            [
             0.8,
             "#7fbc41"
            ],
            [
             0.9,
             "#4d9221"
            ],
            [
             1,
             "#276419"
            ]
           ],
           "sequential": [
            [
             0,
             "#0d0887"
            ],
            [
             0.1111111111111111,
             "#46039f"
            ],
            [
             0.2222222222222222,
             "#7201a8"
            ],
            [
             0.3333333333333333,
             "#9c179e"
            ],
            [
             0.4444444444444444,
             "#bd3786"
            ],
            [
             0.5555555555555556,
             "#d8576b"
            ],
            [
             0.6666666666666666,
             "#ed7953"
            ],
            [
             0.7777777777777778,
             "#fb9f3a"
            ],
            [
             0.8888888888888888,
             "#fdca26"
            ],
            [
             1,
             "#f0f921"
            ]
           ],
           "sequentialminus": [
            [
             0,
             "#0d0887"
            ],
            [
             0.1111111111111111,
             "#46039f"
            ],
            [
             0.2222222222222222,
             "#7201a8"
            ],
            [
             0.3333333333333333,
             "#9c179e"
            ],
            [
             0.4444444444444444,
             "#bd3786"
            ],
            [
             0.5555555555555556,
             "#d8576b"
            ],
            [
             0.6666666666666666,
             "#ed7953"
            ],
            [
             0.7777777777777778,
             "#fb9f3a"
            ],
            [
             0.8888888888888888,
             "#fdca26"
            ],
            [
             1,
             "#f0f921"
            ]
           ]
          },
          "colorway": [
           "#636efa",
           "#EF553B",
           "#00cc96",
           "#ab63fa",
           "#FFA15A",
           "#19d3f3",
           "#FF6692",
           "#B6E880",
           "#FF97FF",
           "#FECB52"
          ],
          "font": {
           "color": "#2a3f5f"
          },
          "geo": {
           "bgcolor": "white",
           "lakecolor": "white",
           "landcolor": "#E5ECF6",
           "showlakes": true,
           "showland": true,
           "subunitcolor": "white"
          },
          "hoverlabel": {
           "align": "left"
          },
          "hovermode": "closest",
          "mapbox": {
           "style": "light"
          },
          "paper_bgcolor": "white",
          "plot_bgcolor": "#E5ECF6",
          "polar": {
           "angularaxis": {
            "gridcolor": "white",
            "linecolor": "white",
            "ticks": ""
           },
           "bgcolor": "#E5ECF6",
           "radialaxis": {
            "gridcolor": "white",
            "linecolor": "white",
            "ticks": ""
           }
          },
          "scene": {
           "xaxis": {
            "backgroundcolor": "#E5ECF6",
            "gridcolor": "white",
            "gridwidth": 2,
            "linecolor": "white",
            "showbackground": true,
            "ticks": "",
            "zerolinecolor": "white"
           },
           "yaxis": {
            "backgroundcolor": "#E5ECF6",
            "gridcolor": "white",
            "gridwidth": 2,
            "linecolor": "white",
            "showbackground": true,
            "ticks": "",
            "zerolinecolor": "white"
           },
           "zaxis": {
            "backgroundcolor": "#E5ECF6",
            "gridcolor": "white",
            "gridwidth": 2,
            "linecolor": "white",
            "showbackground": true,
            "ticks": "",
            "zerolinecolor": "white"
           }
          },
          "shapedefaults": {
           "line": {
            "color": "#2a3f5f"
           }
          },
          "ternary": {
           "aaxis": {
            "gridcolor": "white",
            "linecolor": "white",
            "ticks": ""
           },
           "baxis": {
            "gridcolor": "white",
            "linecolor": "white",
            "ticks": ""
           },
           "bgcolor": "#E5ECF6",
           "caxis": {
            "gridcolor": "white",
            "linecolor": "white",
            "ticks": ""
           }
          },
          "title": {
           "x": 0.05
          },
          "xaxis": {
           "automargin": true,
           "gridcolor": "white",
           "linecolor": "white",
           "ticks": "",
           "title": {
            "standoff": 15
           },
           "zerolinecolor": "white",
           "zerolinewidth": 2
          },
          "yaxis": {
           "automargin": true,
           "gridcolor": "white",
           "linecolor": "white",
           "ticks": "",
           "title": {
            "standoff": 15
           },
           "zerolinecolor": "white",
           "zerolinewidth": 2
          }
         }
        }
       }
      },
      "text/html": [
       "<div>                            <div id=\"5546ae70-a842-48e0-8a37-ad236a3655a8\" class=\"plotly-graph-div\" style=\"height:525px; width:100%;\"></div>            <script type=\"text/javascript\">                require([\"plotly\"], function(Plotly) {                    window.PLOTLYENV=window.PLOTLYENV || {};                                    if (document.getElementById(\"5546ae70-a842-48e0-8a37-ad236a3655a8\")) {                    Plotly.newPlot(                        \"5546ae70-a842-48e0-8a37-ad236a3655a8\",                        [{\"marker\": {\"color\": [67.0, 67.6, 90.7, 69.0, 87.8, 84.3, 61.2, 58.5, 92.7, 59.8, 65.2, 49.2, 96.6, 68.3, 59.7, 43.8, 49.8, 50.5, 59.0, 71.2], \"showscale\": true, \"size\": [2.243, 20.152, 19.919, 15.596, 18.812, 11.074, 7.929, 36.186, 15.06, 11.751, 14.221, 38.206, 18.178, 25.055, 15.128, 20.376, 41.786, 15.172, 21.424, 66.198]}, \"mode\": \"markers\", \"text\": [\"California Institute of Technology\", \"Harvard University\", \"University of Oxford\", \"Stanford University\", \"University of Cambridge\", \"Massachusetts Institute of Technology\", \"Princeton University\", \"University of California, Berkeley\", \"Imperial College London\", \"Yale University\", \"University of Chicago\", \"University of California, Los Angeles\", \"ETH Zurich \\u2013 Swiss Federal Institute of Technology Zurich\", \"Columbia University\", \"Johns Hopkins University\", \"University of Pennsylvania\", \"University of Michigan\", \"Duke University\", \"Cornell University\", \"University of Toronto\"], \"type\": \"scatter\", \"x\": [\"1\", \"2\", \"3\", \"4\", \"5\", \"6\", \"7\", \"8\", \"9\", \"9\", \"11\", \"12\", \"13\", \"14\", \"15\", \"16\", \"17\", \"18\", \"19\", \"20\"], \"y\": [92.2, 92.9, 88.6, 91.5, 89.7, 89.1, 86.6, 84.2, 84.6, 88.5, 83.9, 82.4, 78.2, 83.9, 75.6, 79.0, 77.0, 73.5, 71.6, 74.4]}],                        {\"template\": {\"data\": {\"bar\": [{\"error_x\": {\"color\": \"#2a3f5f\"}, \"error_y\": {\"color\": \"#2a3f5f\"}, \"marker\": {\"line\": {\"color\": \"#E5ECF6\", \"width\": 0.5}}, \"type\": \"bar\"}], \"barpolar\": [{\"marker\": {\"line\": {\"color\": \"#E5ECF6\", \"width\": 0.5}}, \"type\": \"barpolar\"}], \"carpet\": [{\"aaxis\": {\"endlinecolor\": \"#2a3f5f\", \"gridcolor\": \"white\", \"linecolor\": \"white\", \"minorgridcolor\": \"white\", \"startlinecolor\": \"#2a3f5f\"}, \"baxis\": {\"endlinecolor\": \"#2a3f5f\", \"gridcolor\": \"white\", \"linecolor\": \"white\", \"minorgridcolor\": \"white\", \"startlinecolor\": \"#2a3f5f\"}, \"type\": \"carpet\"}], \"choropleth\": [{\"colorbar\": {\"outlinewidth\": 0, \"ticks\": \"\"}, \"type\": \"choropleth\"}], \"contour\": [{\"colorbar\": {\"outlinewidth\": 0, \"ticks\": \"\"}, \"colorscale\": [[0.0, \"#0d0887\"], [0.1111111111111111, \"#46039f\"], [0.2222222222222222, \"#7201a8\"], [0.3333333333333333, \"#9c179e\"], [0.4444444444444444, \"#bd3786\"], [0.5555555555555556, \"#d8576b\"], [0.6666666666666666, \"#ed7953\"], [0.7777777777777778, \"#fb9f3a\"], [0.8888888888888888, \"#fdca26\"], [1.0, \"#f0f921\"]], \"type\": \"contour\"}], \"contourcarpet\": [{\"colorbar\": {\"outlinewidth\": 0, \"ticks\": \"\"}, \"type\": \"contourcarpet\"}], \"heatmap\": [{\"colorbar\": {\"outlinewidth\": 0, \"ticks\": \"\"}, \"colorscale\": [[0.0, \"#0d0887\"], [0.1111111111111111, \"#46039f\"], [0.2222222222222222, \"#7201a8\"], [0.3333333333333333, \"#9c179e\"], [0.4444444444444444, \"#bd3786\"], [0.5555555555555556, \"#d8576b\"], [0.6666666666666666, \"#ed7953\"], [0.7777777777777778, \"#fb9f3a\"], [0.8888888888888888, \"#fdca26\"], [1.0, \"#f0f921\"]], \"type\": \"heatmap\"}], \"heatmapgl\": [{\"colorbar\": {\"outlinewidth\": 0, \"ticks\": \"\"}, \"colorscale\": [[0.0, \"#0d0887\"], [0.1111111111111111, \"#46039f\"], [0.2222222222222222, \"#7201a8\"], [0.3333333333333333, \"#9c179e\"], [0.4444444444444444, \"#bd3786\"], [0.5555555555555556, \"#d8576b\"], [0.6666666666666666, \"#ed7953\"], [0.7777777777777778, \"#fb9f3a\"], [0.8888888888888888, \"#fdca26\"], [1.0, \"#f0f921\"]], \"type\": \"heatmapgl\"}], \"histogram\": [{\"marker\": {\"colorbar\": {\"outlinewidth\": 0, \"ticks\": \"\"}}, \"type\": \"histogram\"}], \"histogram2d\": [{\"colorbar\": {\"outlinewidth\": 0, \"ticks\": \"\"}, \"colorscale\": [[0.0, \"#0d0887\"], [0.1111111111111111, \"#46039f\"], [0.2222222222222222, \"#7201a8\"], [0.3333333333333333, \"#9c179e\"], [0.4444444444444444, \"#bd3786\"], [0.5555555555555556, \"#d8576b\"], [0.6666666666666666, \"#ed7953\"], [0.7777777777777778, \"#fb9f3a\"], [0.8888888888888888, \"#fdca26\"], [1.0, \"#f0f921\"]], \"type\": \"histogram2d\"}], \"histogram2dcontour\": [{\"colorbar\": {\"outlinewidth\": 0, \"ticks\": \"\"}, \"colorscale\": [[0.0, \"#0d0887\"], [0.1111111111111111, \"#46039f\"], [0.2222222222222222, \"#7201a8\"], [0.3333333333333333, \"#9c179e\"], [0.4444444444444444, \"#bd3786\"], [0.5555555555555556, \"#d8576b\"], [0.6666666666666666, \"#ed7953\"], [0.7777777777777778, \"#fb9f3a\"], [0.8888888888888888, \"#fdca26\"], [1.0, \"#f0f921\"]], \"type\": \"histogram2dcontour\"}], \"mesh3d\": [{\"colorbar\": {\"outlinewidth\": 0, \"ticks\": \"\"}, \"type\": \"mesh3d\"}], \"parcoords\": [{\"line\": {\"colorbar\": {\"outlinewidth\": 0, \"ticks\": \"\"}}, \"type\": \"parcoords\"}], \"pie\": [{\"automargin\": true, \"type\": \"pie\"}], \"scatter\": [{\"marker\": {\"colorbar\": {\"outlinewidth\": 0, \"ticks\": \"\"}}, \"type\": \"scatter\"}], \"scatter3d\": [{\"line\": {\"colorbar\": {\"outlinewidth\": 0, \"ticks\": \"\"}}, \"marker\": {\"colorbar\": {\"outlinewidth\": 0, \"ticks\": \"\"}}, \"type\": \"scatter3d\"}], \"scattercarpet\": [{\"marker\": {\"colorbar\": {\"outlinewidth\": 0, \"ticks\": \"\"}}, \"type\": \"scattercarpet\"}], \"scattergeo\": [{\"marker\": {\"colorbar\": {\"outlinewidth\": 0, \"ticks\": \"\"}}, \"type\": \"scattergeo\"}], \"scattergl\": [{\"marker\": {\"colorbar\": {\"outlinewidth\": 0, \"ticks\": \"\"}}, \"type\": \"scattergl\"}], \"scattermapbox\": [{\"marker\": {\"colorbar\": {\"outlinewidth\": 0, \"ticks\": \"\"}}, \"type\": \"scattermapbox\"}], \"scatterpolar\": [{\"marker\": {\"colorbar\": {\"outlinewidth\": 0, \"ticks\": \"\"}}, \"type\": \"scatterpolar\"}], \"scatterpolargl\": [{\"marker\": {\"colorbar\": {\"outlinewidth\": 0, \"ticks\": \"\"}}, \"type\": \"scatterpolargl\"}], \"scatterternary\": [{\"marker\": {\"colorbar\": {\"outlinewidth\": 0, \"ticks\": \"\"}}, \"type\": \"scatterternary\"}], \"surface\": [{\"colorbar\": {\"outlinewidth\": 0, \"ticks\": \"\"}, \"colorscale\": [[0.0, \"#0d0887\"], [0.1111111111111111, \"#46039f\"], [0.2222222222222222, \"#7201a8\"], [0.3333333333333333, \"#9c179e\"], [0.4444444444444444, \"#bd3786\"], [0.5555555555555556, \"#d8576b\"], [0.6666666666666666, \"#ed7953\"], [0.7777777777777778, \"#fb9f3a\"], [0.8888888888888888, \"#fdca26\"], [1.0, \"#f0f921\"]], \"type\": \"surface\"}], \"table\": [{\"cells\": {\"fill\": {\"color\": \"#EBF0F8\"}, \"line\": {\"color\": \"white\"}}, \"header\": {\"fill\": {\"color\": \"#C8D4E3\"}, \"line\": {\"color\": \"white\"}}, \"type\": \"table\"}]}, \"layout\": {\"annotationdefaults\": {\"arrowcolor\": \"#2a3f5f\", \"arrowhead\": 0, \"arrowwidth\": 1}, \"autotypenumbers\": \"strict\", \"coloraxis\": {\"colorbar\": {\"outlinewidth\": 0, \"ticks\": \"\"}}, \"colorscale\": {\"diverging\": [[0, \"#8e0152\"], [0.1, \"#c51b7d\"], [0.2, \"#de77ae\"], [0.3, \"#f1b6da\"], [0.4, \"#fde0ef\"], [0.5, \"#f7f7f7\"], [0.6, \"#e6f5d0\"], [0.7, \"#b8e186\"], [0.8, \"#7fbc41\"], [0.9, \"#4d9221\"], [1, \"#276419\"]], \"sequential\": [[0.0, \"#0d0887\"], [0.1111111111111111, \"#46039f\"], [0.2222222222222222, \"#7201a8\"], [0.3333333333333333, \"#9c179e\"], [0.4444444444444444, \"#bd3786\"], [0.5555555555555556, \"#d8576b\"], [0.6666666666666666, \"#ed7953\"], [0.7777777777777778, \"#fb9f3a\"], [0.8888888888888888, \"#fdca26\"], [1.0, \"#f0f921\"]], \"sequentialminus\": [[0.0, \"#0d0887\"], [0.1111111111111111, \"#46039f\"], [0.2222222222222222, \"#7201a8\"], [0.3333333333333333, \"#9c179e\"], [0.4444444444444444, \"#bd3786\"], [0.5555555555555556, \"#d8576b\"], [0.6666666666666666, \"#ed7953\"], [0.7777777777777778, \"#fb9f3a\"], [0.8888888888888888, \"#fdca26\"], [1.0, \"#f0f921\"]]}, \"colorway\": [\"#636efa\", \"#EF553B\", \"#00cc96\", \"#ab63fa\", \"#FFA15A\", \"#19d3f3\", \"#FF6692\", \"#B6E880\", \"#FF97FF\", \"#FECB52\"], \"font\": {\"color\": \"#2a3f5f\"}, \"geo\": {\"bgcolor\": \"white\", \"lakecolor\": \"white\", \"landcolor\": \"#E5ECF6\", \"showlakes\": true, \"showland\": true, \"subunitcolor\": \"white\"}, \"hoverlabel\": {\"align\": \"left\"}, \"hovermode\": \"closest\", \"mapbox\": {\"style\": \"light\"}, \"paper_bgcolor\": \"white\", \"plot_bgcolor\": \"#E5ECF6\", \"polar\": {\"angularaxis\": {\"gridcolor\": \"white\", \"linecolor\": \"white\", \"ticks\": \"\"}, \"bgcolor\": \"#E5ECF6\", \"radialaxis\": {\"gridcolor\": \"white\", \"linecolor\": \"white\", \"ticks\": \"\"}}, \"scene\": {\"xaxis\": {\"backgroundcolor\": \"#E5ECF6\", \"gridcolor\": \"white\", \"gridwidth\": 2, \"linecolor\": \"white\", \"showbackground\": true, \"ticks\": \"\", \"zerolinecolor\": \"white\"}, \"yaxis\": {\"backgroundcolor\": \"#E5ECF6\", \"gridcolor\": \"white\", \"gridwidth\": 2, \"linecolor\": \"white\", \"showbackground\": true, \"ticks\": \"\", \"zerolinecolor\": \"white\"}, \"zaxis\": {\"backgroundcolor\": \"#E5ECF6\", \"gridcolor\": \"white\", \"gridwidth\": 2, \"linecolor\": \"white\", \"showbackground\": true, \"ticks\": \"\", \"zerolinecolor\": \"white\"}}, \"shapedefaults\": {\"line\": {\"color\": \"#2a3f5f\"}}, \"ternary\": {\"aaxis\": {\"gridcolor\": \"white\", \"linecolor\": \"white\", \"ticks\": \"\"}, \"baxis\": {\"gridcolor\": \"white\", \"linecolor\": \"white\", \"ticks\": \"\"}, \"bgcolor\": \"#E5ECF6\", \"caxis\": {\"gridcolor\": \"white\", \"linecolor\": \"white\", \"ticks\": \"\"}}, \"title\": {\"x\": 0.05}, \"xaxis\": {\"automargin\": true, \"gridcolor\": \"white\", \"linecolor\": \"white\", \"ticks\": \"\", \"title\": {\"standoff\": 15}, \"zerolinecolor\": \"white\", \"zerolinewidth\": 2}, \"yaxis\": {\"automargin\": true, \"gridcolor\": \"white\", \"linecolor\": \"white\", \"ticks\": \"\", \"title\": {\"standoff\": 15}, \"zerolinecolor\": \"white\", \"zerolinewidth\": 2}}}},                        {\"responsive\": true}                    ).then(function(){\n",
       "                            \n",
       "var gd = document.getElementById('5546ae70-a842-48e0-8a37-ad236a3655a8');\n",
       "var x = new MutationObserver(function (mutations, observer) {{\n",
       "        var display = window.getComputedStyle(gd).display;\n",
       "        if (!display || display === 'none') {{\n",
       "            console.log([gd, 'removed!']);\n",
       "            Plotly.purge(gd);\n",
       "            observer.disconnect();\n",
       "        }}\n",
       "}});\n",
       "\n",
       "// Listen for the removal of the full notebook cells\n",
       "var notebookContainer = gd.closest('#notebook-container');\n",
       "if (notebookContainer) {{\n",
       "    x.observe(notebookContainer, {childList: true});\n",
       "}}\n",
       "\n",
       "// Listen for the clearing of the current output cell\n",
       "var outputEl = gd.closest('.output');\n",
       "if (outputEl) {{\n",
       "    x.observe(outputEl, {childList: true});\n",
       "}}\n",
       "\n",
       "                        })                };                });            </script>        </div>"
      ]
     },
     "metadata": {},
     "output_type": "display_data"
    }
   ],
   "source": [
    "df_top_20 = timesData[timesData['year'] == 2015].iloc[:20]\n",
    "\n",
    "\n",
    "import plotly.graph_objects as go\n",
    "\n",
    "num_student_size = [float(each.replace(',', '.')) for each in df_top_20.num_students]\n",
    "international_colour = [float(each) for each in df_top_20.international]\n",
    "\n",
    "fig = go.Figure(data = [go.Scatter(x = df_top_20.world_rank,\n",
    "                                   y = df_top_20.teaching, \n",
    "                                   mode = 'markers',\n",
    "                                   marker = dict(color = international_colour,\n",
    "                                                 size = num_student_size,\n",
    "                                                  showscale = True\n",
    "                                                ),\n",
    "                                   text = df_top_20.university_name\n",
    "                                  )])\n",
    "fig.show()"
   ]
  },
  {
   "cell_type": "markdown",
   "metadata": {},
   "source": [
    "# Histogram"
   ]
  },
  {
   "cell_type": "markdown",
   "metadata": {},
   "source": [
    "### Histogram of students-staff ratio in 2011 and 2016 year"
   ]
  },
  {
   "cell_type": "code",
   "execution_count": 529,
   "metadata": {},
   "outputs": [
    {
     "data": {
      "application/vnd.plotly.v1+json": {
       "config": {
        "plotlyServerURL": "https://plot.ly"
       },
       "data": [
        {
         "marker": {
          "color": "rgba(171, 50, 96, 0.6)"
         },
         "name": "2011",
         "opacity": 0.75,
         "type": "histogram",
         "x": [
          8.9,
          6.9,
          9,
          7.8,
          8.4,
          11.8,
          11.6,
          16.4,
          11.7,
          4.4,
          10.3,
          6.9,
          3.6,
          10.2,
          14.7,
          9,
          19.5,
          5.9,
          6.5,
          13.1,
          17.6,
          10.7,
          11.8,
          4.8,
          13.8,
          5.7,
          20.1,
          10.1,
          27.3,
          17.6,
          7.3,
          6.5,
          18.7,
          15.5,
          13.7,
          23.7,
          8.3,
          5.7,
          4.8,
          14.1,
          23.8,
          7.9,
          19.2,
          11.5,
          25.6,
          null,
          9,
          10.5,
          16.1,
          7.9,
          3.6,
          18,
          10,
          13.9,
          10.1,
          13,
          5.6,
          13.7,
          8.6,
          6.8,
          4.5,
          15.5,
          13.8,
          5.8,
          6.4,
          13.4,
          16.1,
          14,
          22.7,
          5.5,
          20.2,
          10.2,
          30.1,
          12.9,
          11.8,
          18,
          11.4,
          10.9,
          10,
          17.4,
          32.7,
          null,
          24.5,
          16.9,
          15.7,
          null,
          15.3,
          15.9,
          11.5,
          13.5,
          6.5,
          4.6,
          19.3,
          24.5,
          12,
          12.7,
          17.3,
          8.4,
          6.6,
          8,
          31.5,
          15.1,
          12.7,
          15,
          17.3,
          18.1,
          13.5,
          12.1,
          12.4,
          13.9,
          11,
          null,
          7.3,
          16,
          11.9,
          null,
          22,
          15,
          41.9,
          13.3,
          14,
          15.7,
          5,
          34.1,
          14.9,
          17.1,
          21.6,
          16,
          23.7,
          7.8,
          21.5,
          5,
          31.2,
          11.6,
          11.1,
          13.1,
          15.5,
          20.3,
          16.3,
          8.7,
          15.3,
          12.2,
          15.4,
          17,
          18.9,
          16.4,
          23.3,
          18.2,
          25.9,
          15.8,
          19.4,
          17.2,
          15.2,
          25.9,
          18.3,
          13.6,
          17.4,
          null,
          18.9,
          15.9,
          29.9,
          17.4,
          19.6,
          8.5,
          14.4,
          13.6,
          13.6,
          14.7,
          38.4,
          25.6,
          16.6,
          9.3,
          67.8,
          16.2,
          14.7,
          15,
          4.1,
          52.5,
          40.5,
          70.4,
          16.6,
          27.6,
          22.2,
          18.8,
          12,
          59.1,
          24.6,
          16.9,
          38.9,
          10.8,
          15.7,
          11.6,
          14.4,
          14.6,
          20.5,
          19,
          9.2,
          15.9,
          28.3,
          4.6
         ]
        },
        {
         "marker": {
          "color": "rgba(12, 50, 196, 0.6)"
         },
         "name": "2016",
         "opacity": 0.75,
         "type": "histogram",
         "x": [
          6.9,
          11.6,
          7.8,
          11.8,
          9,
          8.9,
          8.4,
          11.7,
          14.7,
          6.9,
          3.6,
          4.4,
          16.4,
          10.7,
          5.9,
          10.3,
          6.5,
          10.2,
          19.5,
          4.8,
          9,
          13.1,
          null,
          14.1,
          13.8,
          15.5,
          11.4,
          11.5,
          15.5,
          6.8,
          10.5,
          11.8,
          23.7,
          17.6,
          41.9,
          18.7,
          24.5,
          13.7,
          6.5,
          27.3,
          20.1,
          8.3,
          5.7,
          13.9,
          17.6,
          17.4,
          13.7,
          17,
          52.5,
          10.8,
          10.1,
          19.2,
          31.5,
          7.9,
          16.2,
          15.3,
          20.2,
          14.4,
          23.8,
          32.7,
          5.7,
          15.4,
          7.3,
          8.6,
          19.4,
          18,
          17.1,
          12.9,
          14,
          15.7,
          18.9,
          39.3,
          40.5,
          25.6,
          12.4,
          16,
          15.1,
          38.9,
          5.8,
          16.6,
          18.2,
          4.1,
          25.9,
          31.2,
          13.9,
          12.7,
          3.6,
          5.6,
          18.9,
          4.5,
          11.5,
          13.4,
          18.8,
          70.4,
          8.5,
          19.3,
          15.5,
          14,
          25.6,
          15.7,
          17.3,
          4.8,
          9,
          6.6,
          6.5,
          13.6,
          16.1,
          85.8,
          13.8,
          20.7,
          27.6,
          13.5,
          16.5,
          20.3,
          8.7,
          18.1,
          10.1,
          8.4,
          34.1,
          16.4,
          22.5,
          12.1,
          18.7,
          53.9,
          17.3,
          46.1,
          13,
          16.1,
          10,
          15.9,
          14.9,
          15,
          null,
          6.4,
          14.7,
          18.8,
          23.7,
          21.6,
          10.2,
          24.6,
          17.4,
          13,
          20.5,
          15,
          22.7,
          13.1,
          12.3,
          10.2,
          10,
          30.1,
          14.7,
          12,
          20.3,
          16.3,
          14.6,
          43.4,
          13.6,
          37.4,
          4.5,
          18,
          7.7,
          5.7,
          12.7,
          18.3,
          14.8,
          5.5,
          22,
          13.4,
          11.9,
          5,
          42,
          15.8,
          18.9,
          12.2,
          59.1,
          16,
          24.5,
          10.7,
          24.2,
          16.4,
          8.5,
          11.1,
          13.1,
          16.9,
          12.6,
          15.3,
          38.4,
          15,
          29.9,
          30.3,
          17.4,
          11.2,
          15.9,
          21.4,
          6.6,
          15.2,
          13.4,
          43.2,
          14.8,
          17.9,
          15.9,
          17.2,
          22.9,
          19,
          16.5,
          11.6,
          7.1,
          42.7,
          14.4,
          46.6,
          8,
          31.8,
          46.9,
          12.2,
          12,
          9.3,
          null,
          25.9,
          9.2,
          13.6,
          11.6,
          32.6,
          12.1,
          23.8,
          16.2,
          2.9,
          15.1,
          1.1,
          20.3,
          26.3,
          26.9,
          7.2,
          22.2,
          10.9,
          2.1,
          32.3,
          7.9,
          21.5,
          10.9,
          45.4,
          4.6,
          53.6,
          44.1,
          24.4,
          22.8,
          22.4,
          5,
          7.3,
          21.5,
          4.6,
          20.7,
          11.8,
          18.6,
          24.2,
          45.5,
          18.8,
          35.5,
          67.8,
          19.4,
          25.4,
          18.2,
          19,
          15.9,
          22.6,
          19.9,
          22,
          25.9,
          8.2,
          17.4,
          21.9,
          53.9,
          8.4,
          14.6,
          15.8,
          25.9,
          7.7,
          13.3,
          13.5,
          26.8,
          21.9,
          13.6,
          16.8,
          7.8,
          22.1,
          35.8,
          15,
          15.6,
          46.3,
          5.8,
          14.6,
          28.3,
          16.6,
          15.9,
          23.8,
          17,
          6.9,
          8.4,
          11.9,
          52,
          18.6,
          25.4,
          15.9,
          19.2,
          8.2,
          13,
          19.5,
          25.6,
          15.7,
          13,
          30.4,
          19.8,
          17,
          24,
          9.6,
          41.2,
          16.9,
          12.2,
          14.4,
          62.7,
          20,
          0.6,
          24.3,
          72.5,
          18.4,
          7.9,
          64.2,
          16.6,
          7.3,
          17.4,
          10.6,
          16.4,
          15.8,
          20.2,
          18.3,
          40.6,
          25.9,
          12.8,
          12.7,
          23,
          17.8,
          88.9,
          19.4,
          43.8,
          25.8,
          66,
          14.6,
          17.1,
          23.9,
          11.6,
          39.4,
          null,
          23.3,
          26.9,
          22.9,
          10.8,
          17.3,
          17.2,
          10.8,
          12.5,
          28.3,
          10.4,
          11,
          43.7,
          14.9,
          16.9,
          15.2,
          29,
          15.9,
          27.8,
          14.1,
          25.3,
          15.2,
          28,
          2.6,
          null,
          13.9,
          8.5,
          34.3,
          19.6,
          61.2,
          15.9,
          31.7,
          26.2,
          16.3,
          17.1,
          15.3,
          15.9,
          16.6,
          17.1,
          36.5,
          13,
          13.3,
          26.9,
          12.2,
          26.1,
          38.5,
          22.3,
          19.7,
          21.1,
          18.3,
          10.7,
          12,
          null,
          17.8,
          65.1,
          16,
          25.9,
          25,
          21.3,
          17.6,
          38.3,
          51,
          16.5,
          18.9,
          13,
          15.4,
          17.8,
          16.1,
          19,
          17.5,
          30.3,
          17.1,
          22.9,
          15.5,
          14.4,
          34,
          30.2,
          25.9,
          29.5,
          20.4,
          26.8,
          17.8,
          8.2,
          6.8,
          18.7,
          21.5,
          17.3,
          17.5,
          15.9,
          36.3,
          23.9,
          29.1,
          54.4,
          15.7,
          24.9,
          17.4,
          6.7,
          11.3,
          20.1,
          14.9,
          29.4,
          23,
          18.1,
          32.8,
          22.2,
          32.3,
          11.6,
          14.4,
          8.2,
          5.4,
          8.5,
          17.9,
          20.3,
          7.1,
          35.9,
          18.5,
          22.4,
          29.1,
          18,
          11.7,
          15.3,
          18.8,
          19.1,
          18.1,
          26.5,
          12.8,
          5.2,
          58.4,
          17,
          16.3,
          18.7,
          23.6,
          32.8,
          18.5,
          20.2,
          9.5,
          15.5,
          3.3,
          9.9,
          12.6,
          13.3,
          15.8,
          24.7,
          9,
          37.4,
          15.4,
          17,
          32.2,
          14.4,
          12.3,
          8.9,
          25.6,
          16.9,
          21.2,
          17.6,
          23.5,
          15.3,
          4,
          12.6,
          7.1,
          25,
          20.8,
          28.6,
          29.8,
          49.7,
          29.6,
          14.2,
          12,
          17.4,
          12,
          19.1,
          14,
          16.1,
          12.8,
          16,
          30.8,
          10.8,
          19.4,
          8.2,
          17.7,
          14.2,
          12.2,
          18.7,
          26.5,
          16,
          16.1,
          10.4,
          15.1,
          11.9,
          19,
          7.1,
          13.4,
          14.9,
          23.9,
          19.8,
          17.5,
          19.8,
          7.5,
          18.2,
          17.3,
          26.6,
          16.8,
          14.6,
          22.2,
          18.8,
          15.5,
          17.8,
          20.5,
          9.8,
          19.6,
          13,
          26.9,
          26.2,
          18.8,
          19.2,
          21.4,
          10.1,
          13.1,
          13.7,
          11.4,
          23.9,
          15.4,
          21.2,
          22.2,
          20,
          19.7,
          25.7,
          22.8,
          12.7,
          13.9,
          17.9,
          15.3,
          10.9,
          17.5,
          5.4,
          12.9,
          17.7,
          28.6,
          9,
          10.5,
          12.2,
          14.4,
          17.5,
          13.5,
          12.5,
          12.5,
          14.1,
          18.4,
          12.3,
          11.8,
          13,
          15.6,
          17,
          11.3,
          25.1,
          23.3,
          33,
          10.5,
          14.1,
          6.6,
          162.6,
          20.2,
          23,
          22.2,
          26.3,
          57.5,
          18.1,
          17.8,
          null,
          10.6,
          28.3,
          19.5,
          20.5,
          14.5,
          19.5,
          24.9,
          22.1,
          39.1,
          32.5,
          32.3,
          7.1,
          14.3,
          17.5,
          9.2,
          12.6,
          11.4,
          11,
          16.5,
          12.3,
          20.7,
          19.4,
          15,
          16,
          18.5,
          14.5,
          30.2,
          17.2,
          17.1,
          9.7,
          14.8,
          15.2,
          20.3,
          22.9,
          6.9,
          18.9,
          9.9,
          9.8,
          22.4,
          28,
          17.9,
          13.5,
          11.2,
          14.8,
          12.6,
          16.9,
          11.4,
          20.9,
          23.9,
          13.7,
          22.8,
          23.3,
          37.5,
          12.4,
          21.6,
          24.6,
          20.4,
          18.1,
          24.7,
          17.1,
          15.8,
          24.1,
          29.9,
          41.1,
          11.5,
          13.6,
          13.6,
          16.4,
          3.7,
          24.6,
          12.6,
          16.9,
          23.7,
          20.9,
          11.6,
          8.4,
          23.5,
          7.6,
          14.4,
          12.1,
          26.5,
          14.5,
          18.9,
          17.6,
          38.7,
          20.5,
          24.7,
          7,
          15.8,
          7.2,
          47,
          18.4,
          22.9,
          20.3,
          16.5,
          20.9,
          38.1,
          6.7,
          7.8,
          8.5,
          19.3,
          14.1,
          17.4,
          19.8,
          20.6,
          20,
          8.6,
          7.5,
          19.8,
          23.4,
          27.4,
          40.9,
          15.4,
          13.6,
          10.9,
          10.1,
          10.4,
          16.1,
          19,
          10.1,
          13.5,
          11.7,
          17,
          23.6,
          13,
          14.6,
          15.1,
          15.5,
          19,
          24.9,
          17.5,
          13.5,
          18.8,
          9.6,
          2.5,
          14.5,
          17.3,
          15.3,
          24.1,
          24.3,
          108.5,
          9,
          18.5,
          29.2,
          6,
          9,
          32.9,
          13.8,
          11.1,
          8.2,
          13.8,
          27,
          29,
          20.9,
          12.7,
          8.9,
          11.1,
          25.7,
          9.9,
          8.2,
          9.3,
          11.8,
          12.2,
          14.8,
          16.8,
          10.1,
          9.7,
          19,
          14.2,
          14.5,
          16.9,
          21.5,
          21.4,
          19,
          21,
          16.4,
          15.3,
          28.7,
          3.7,
          12.1,
          20.6
         ]
        }
       ],
       "layout": {
        "barmode": "overlay",
        "template": {
         "data": {
          "bar": [
           {
            "error_x": {
             "color": "#2a3f5f"
            },
            "error_y": {
             "color": "#2a3f5f"
            },
            "marker": {
             "line": {
              "color": "#E5ECF6",
              "width": 0.5
             }
            },
            "type": "bar"
           }
          ],
          "barpolar": [
           {
            "marker": {
             "line": {
              "color": "#E5ECF6",
              "width": 0.5
             }
            },
            "type": "barpolar"
           }
          ],
          "carpet": [
           {
            "aaxis": {
             "endlinecolor": "#2a3f5f",
             "gridcolor": "white",
             "linecolor": "white",
             "minorgridcolor": "white",
             "startlinecolor": "#2a3f5f"
            },
            "baxis": {
             "endlinecolor": "#2a3f5f",
             "gridcolor": "white",
             "linecolor": "white",
             "minorgridcolor": "white",
             "startlinecolor": "#2a3f5f"
            },
            "type": "carpet"
           }
          ],
          "choropleth": [
           {
            "colorbar": {
             "outlinewidth": 0,
             "ticks": ""
            },
            "type": "choropleth"
           }
          ],
          "contour": [
           {
            "colorbar": {
             "outlinewidth": 0,
             "ticks": ""
            },
            "colorscale": [
             [
              0,
              "#0d0887"
             ],
             [
              0.1111111111111111,
              "#46039f"
             ],
             [
              0.2222222222222222,
              "#7201a8"
             ],
             [
              0.3333333333333333,
              "#9c179e"
             ],
             [
              0.4444444444444444,
              "#bd3786"
             ],
             [
              0.5555555555555556,
              "#d8576b"
             ],
             [
              0.6666666666666666,
              "#ed7953"
             ],
             [
              0.7777777777777778,
              "#fb9f3a"
             ],
             [
              0.8888888888888888,
              "#fdca26"
             ],
             [
              1,
              "#f0f921"
             ]
            ],
            "type": "contour"
           }
          ],
          "contourcarpet": [
           {
            "colorbar": {
             "outlinewidth": 0,
             "ticks": ""
            },
            "type": "contourcarpet"
           }
          ],
          "heatmap": [
           {
            "colorbar": {
             "outlinewidth": 0,
             "ticks": ""
            },
            "colorscale": [
             [
              0,
              "#0d0887"
             ],
             [
              0.1111111111111111,
              "#46039f"
             ],
             [
              0.2222222222222222,
              "#7201a8"
             ],
             [
              0.3333333333333333,
              "#9c179e"
             ],
             [
              0.4444444444444444,
              "#bd3786"
             ],
             [
              0.5555555555555556,
              "#d8576b"
             ],
             [
              0.6666666666666666,
              "#ed7953"
             ],
             [
              0.7777777777777778,
              "#fb9f3a"
             ],
             [
              0.8888888888888888,
              "#fdca26"
             ],
             [
              1,
              "#f0f921"
             ]
            ],
            "type": "heatmap"
           }
          ],
          "heatmapgl": [
           {
            "colorbar": {
             "outlinewidth": 0,
             "ticks": ""
            },
            "colorscale": [
             [
              0,
              "#0d0887"
             ],
             [
              0.1111111111111111,
              "#46039f"
             ],
             [
              0.2222222222222222,
              "#7201a8"
             ],
             [
              0.3333333333333333,
              "#9c179e"
             ],
             [
              0.4444444444444444,
              "#bd3786"
             ],
             [
              0.5555555555555556,
              "#d8576b"
             ],
             [
              0.6666666666666666,
              "#ed7953"
             ],
             [
              0.7777777777777778,
              "#fb9f3a"
             ],
             [
              0.8888888888888888,
              "#fdca26"
             ],
             [
              1,
              "#f0f921"
             ]
            ],
            "type": "heatmapgl"
           }
          ],
          "histogram": [
           {
            "marker": {
             "colorbar": {
              "outlinewidth": 0,
              "ticks": ""
             }
            },
            "type": "histogram"
           }
          ],
          "histogram2d": [
           {
            "colorbar": {
             "outlinewidth": 0,
             "ticks": ""
            },
            "colorscale": [
             [
              0,
              "#0d0887"
             ],
             [
              0.1111111111111111,
              "#46039f"
             ],
             [
              0.2222222222222222,
              "#7201a8"
             ],
             [
              0.3333333333333333,
              "#9c179e"
             ],
             [
              0.4444444444444444,
              "#bd3786"
             ],
             [
              0.5555555555555556,
              "#d8576b"
             ],
             [
              0.6666666666666666,
              "#ed7953"
             ],
             [
              0.7777777777777778,
              "#fb9f3a"
             ],
             [
              0.8888888888888888,
              "#fdca26"
             ],
             [
              1,
              "#f0f921"
             ]
            ],
            "type": "histogram2d"
           }
          ],
          "histogram2dcontour": [
           {
            "colorbar": {
             "outlinewidth": 0,
             "ticks": ""
            },
            "colorscale": [
             [
              0,
              "#0d0887"
             ],
             [
              0.1111111111111111,
              "#46039f"
             ],
             [
              0.2222222222222222,
              "#7201a8"
             ],
             [
              0.3333333333333333,
              "#9c179e"
             ],
             [
              0.4444444444444444,
              "#bd3786"
             ],
             [
              0.5555555555555556,
              "#d8576b"
             ],
             [
              0.6666666666666666,
              "#ed7953"
             ],
             [
              0.7777777777777778,
              "#fb9f3a"
             ],
             [
              0.8888888888888888,
              "#fdca26"
             ],
             [
              1,
              "#f0f921"
             ]
            ],
            "type": "histogram2dcontour"
           }
          ],
          "mesh3d": [
           {
            "colorbar": {
             "outlinewidth": 0,
             "ticks": ""
            },
            "type": "mesh3d"
           }
          ],
          "parcoords": [
           {
            "line": {
             "colorbar": {
              "outlinewidth": 0,
              "ticks": ""
             }
            },
            "type": "parcoords"
           }
          ],
          "pie": [
           {
            "automargin": true,
            "type": "pie"
           }
          ],
          "scatter": [
           {
            "marker": {
             "colorbar": {
              "outlinewidth": 0,
              "ticks": ""
             }
            },
            "type": "scatter"
           }
          ],
          "scatter3d": [
           {
            "line": {
             "colorbar": {
              "outlinewidth": 0,
              "ticks": ""
             }
            },
            "marker": {
             "colorbar": {
              "outlinewidth": 0,
              "ticks": ""
             }
            },
            "type": "scatter3d"
           }
          ],
          "scattercarpet": [
           {
            "marker": {
             "colorbar": {
              "outlinewidth": 0,
              "ticks": ""
             }
            },
            "type": "scattercarpet"
           }
          ],
          "scattergeo": [
           {
            "marker": {
             "colorbar": {
              "outlinewidth": 0,
              "ticks": ""
             }
            },
            "type": "scattergeo"
           }
          ],
          "scattergl": [
           {
            "marker": {
             "colorbar": {
              "outlinewidth": 0,
              "ticks": ""
             }
            },
            "type": "scattergl"
           }
          ],
          "scattermapbox": [
           {
            "marker": {
             "colorbar": {
              "outlinewidth": 0,
              "ticks": ""
             }
            },
            "type": "scattermapbox"
           }
          ],
          "scatterpolar": [
           {
            "marker": {
             "colorbar": {
              "outlinewidth": 0,
              "ticks": ""
             }
            },
            "type": "scatterpolar"
           }
          ],
          "scatterpolargl": [
           {
            "marker": {
             "colorbar": {
              "outlinewidth": 0,
              "ticks": ""
             }
            },
            "type": "scatterpolargl"
           }
          ],
          "scatterternary": [
           {
            "marker": {
             "colorbar": {
              "outlinewidth": 0,
              "ticks": ""
             }
            },
            "type": "scatterternary"
           }
          ],
          "surface": [
           {
            "colorbar": {
             "outlinewidth": 0,
             "ticks": ""
            },
            "colorscale": [
             [
              0,
              "#0d0887"
             ],
             [
              0.1111111111111111,
              "#46039f"
             ],
             [
              0.2222222222222222,
              "#7201a8"
             ],
             [
              0.3333333333333333,
              "#9c179e"
             ],
             [
              0.4444444444444444,
              "#bd3786"
             ],
             [
              0.5555555555555556,
              "#d8576b"
             ],
             [
              0.6666666666666666,
              "#ed7953"
             ],
             [
              0.7777777777777778,
              "#fb9f3a"
             ],
             [
              0.8888888888888888,
              "#fdca26"
             ],
             [
              1,
              "#f0f921"
             ]
            ],
            "type": "surface"
           }
          ],
          "table": [
           {
            "cells": {
             "fill": {
              "color": "#EBF0F8"
             },
             "line": {
              "color": "white"
             }
            },
            "header": {
             "fill": {
              "color": "#C8D4E3"
             },
             "line": {
              "color": "white"
             }
            },
            "type": "table"
           }
          ]
         },
         "layout": {
          "annotationdefaults": {
           "arrowcolor": "#2a3f5f",
           "arrowhead": 0,
           "arrowwidth": 1
          },
          "autotypenumbers": "strict",
          "coloraxis": {
           "colorbar": {
            "outlinewidth": 0,
            "ticks": ""
           }
          },
          "colorscale": {
           "diverging": [
            [
             0,
             "#8e0152"
            ],
            [
             0.1,
             "#c51b7d"
            ],
            [
             0.2,
             "#de77ae"
            ],
            [
             0.3,
             "#f1b6da"
            ],
            [
             0.4,
             "#fde0ef"
            ],
            [
             0.5,
             "#f7f7f7"
            ],
            [
             0.6,
             "#e6f5d0"
            ],
            [
             0.7,
             "#b8e186"
            ],
            [
             0.8,
             "#7fbc41"
            ],
            [
             0.9,
             "#4d9221"
            ],
            [
             1,
             "#276419"
            ]
           ],
           "sequential": [
            [
             0,
             "#0d0887"
            ],
            [
             0.1111111111111111,
             "#46039f"
            ],
            [
             0.2222222222222222,
             "#7201a8"
            ],
            [
             0.3333333333333333,
             "#9c179e"
            ],
            [
             0.4444444444444444,
             "#bd3786"
            ],
            [
             0.5555555555555556,
             "#d8576b"
            ],
            [
             0.6666666666666666,
             "#ed7953"
            ],
            [
             0.7777777777777778,
             "#fb9f3a"
            ],
            [
             0.8888888888888888,
             "#fdca26"
            ],
            [
             1,
             "#f0f921"
            ]
           ],
           "sequentialminus": [
            [
             0,
             "#0d0887"
            ],
            [
             0.1111111111111111,
             "#46039f"
            ],
            [
             0.2222222222222222,
             "#7201a8"
            ],
            [
             0.3333333333333333,
             "#9c179e"
            ],
            [
             0.4444444444444444,
             "#bd3786"
            ],
            [
             0.5555555555555556,
             "#d8576b"
            ],
            [
             0.6666666666666666,
             "#ed7953"
            ],
            [
             0.7777777777777778,
             "#fb9f3a"
            ],
            [
             0.8888888888888888,
             "#fdca26"
            ],
            [
             1,
             "#f0f921"
            ]
           ]
          },
          "colorway": [
           "#636efa",
           "#EF553B",
           "#00cc96",
           "#ab63fa",
           "#FFA15A",
           "#19d3f3",
           "#FF6692",
           "#B6E880",
           "#FF97FF",
           "#FECB52"
          ],
          "font": {
           "color": "#2a3f5f"
          },
          "geo": {
           "bgcolor": "white",
           "lakecolor": "white",
           "landcolor": "#E5ECF6",
           "showlakes": true,
           "showland": true,
           "subunitcolor": "white"
          },
          "hoverlabel": {
           "align": "left"
          },
          "hovermode": "closest",
          "mapbox": {
           "style": "light"
          },
          "paper_bgcolor": "white",
          "plot_bgcolor": "#E5ECF6",
          "polar": {
           "angularaxis": {
            "gridcolor": "white",
            "linecolor": "white",
            "ticks": ""
           },
           "bgcolor": "#E5ECF6",
           "radialaxis": {
            "gridcolor": "white",
            "linecolor": "white",
            "ticks": ""
           }
          },
          "scene": {
           "xaxis": {
            "backgroundcolor": "#E5ECF6",
            "gridcolor": "white",
            "gridwidth": 2,
            "linecolor": "white",
            "showbackground": true,
            "ticks": "",
            "zerolinecolor": "white"
           },
           "yaxis": {
            "backgroundcolor": "#E5ECF6",
            "gridcolor": "white",
            "gridwidth": 2,
            "linecolor": "white",
            "showbackground": true,
            "ticks": "",
            "zerolinecolor": "white"
           },
           "zaxis": {
            "backgroundcolor": "#E5ECF6",
            "gridcolor": "white",
            "gridwidth": 2,
            "linecolor": "white",
            "showbackground": true,
            "ticks": "",
            "zerolinecolor": "white"
           }
          },
          "shapedefaults": {
           "line": {
            "color": "#2a3f5f"
           }
          },
          "ternary": {
           "aaxis": {
            "gridcolor": "white",
            "linecolor": "white",
            "ticks": ""
           },
           "baxis": {
            "gridcolor": "white",
            "linecolor": "white",
            "ticks": ""
           },
           "bgcolor": "#E5ECF6",
           "caxis": {
            "gridcolor": "white",
            "linecolor": "white",
            "ticks": ""
           }
          },
          "title": {
           "x": 0.05
          },
          "xaxis": {
           "automargin": true,
           "gridcolor": "white",
           "linecolor": "white",
           "ticks": "",
           "title": {
            "standoff": 15
           },
           "zerolinecolor": "white",
           "zerolinewidth": 2
          },
          "yaxis": {
           "automargin": true,
           "gridcolor": "white",
           "linecolor": "white",
           "ticks": "",
           "title": {
            "standoff": 15
           },
           "zerolinecolor": "white",
           "zerolinewidth": 2
          }
         }
        },
        "title": {
         "text": "students-staff ratio in 2011 and 2016"
        },
        "xaxis": {
         "title": {
          "text": "students-staff ratio"
         }
        },
        "yaxis": {
         "title": {
          "text": "Count"
         }
        }
       }
      },
      "text/html": [
       "<div>                            <div id=\"ded9ab22-c10a-4d31-ae6d-4def87a67a88\" class=\"plotly-graph-div\" style=\"height:525px; width:100%;\"></div>            <script type=\"text/javascript\">                require([\"plotly\"], function(Plotly) {                    window.PLOTLYENV=window.PLOTLYENV || {};                                    if (document.getElementById(\"ded9ab22-c10a-4d31-ae6d-4def87a67a88\")) {                    Plotly.newPlot(                        \"ded9ab22-c10a-4d31-ae6d-4def87a67a88\",                        [{\"marker\": {\"color\": \"rgba(171, 50, 96, 0.6)\"}, \"name\": \"2011\", \"opacity\": 0.75, \"type\": \"histogram\", \"x\": [8.9, 6.9, 9.0, 7.8, 8.4, 11.8, 11.6, 16.4, 11.7, 4.4, 10.3, 6.9, 3.6, 10.2, 14.7, 9.0, 19.5, 5.9, 6.5, 13.1, 17.6, 10.7, 11.8, 4.8, 13.8, 5.7, 20.1, 10.1, 27.3, 17.6, 7.3, 6.5, 18.7, 15.5, 13.7, 23.7, 8.3, 5.7, 4.8, 14.1, 23.8, 7.9, 19.2, 11.5, 25.6, null, 9.0, 10.5, 16.1, 7.9, 3.6, 18.0, 10.0, 13.9, 10.1, 13.0, 5.6, 13.7, 8.6, 6.8, 4.5, 15.5, 13.8, 5.8, 6.4, 13.4, 16.1, 14.0, 22.7, 5.5, 20.2, 10.2, 30.1, 12.9, 11.8, 18.0, 11.4, 10.9, 10.0, 17.4, 32.7, null, 24.5, 16.9, 15.7, null, 15.3, 15.9, 11.5, 13.5, 6.5, 4.6, 19.3, 24.5, 12.0, 12.7, 17.3, 8.4, 6.6, 8.0, 31.5, 15.1, 12.7, 15.0, 17.3, 18.1, 13.5, 12.1, 12.4, 13.9, 11.0, null, 7.3, 16.0, 11.9, null, 22.0, 15.0, 41.9, 13.3, 14.0, 15.7, 5.0, 34.1, 14.9, 17.1, 21.6, 16.0, 23.7, 7.8, 21.5, 5.0, 31.2, 11.6, 11.1, 13.1, 15.5, 20.3, 16.3, 8.7, 15.3, 12.2, 15.4, 17.0, 18.9, 16.4, 23.3, 18.2, 25.9, 15.8, 19.4, 17.2, 15.2, 25.9, 18.3, 13.6, 17.4, null, 18.9, 15.9, 29.9, 17.4, 19.6, 8.5, 14.4, 13.6, 13.6, 14.7, 38.4, 25.6, 16.6, 9.3, 67.8, 16.2, 14.7, 15.0, 4.1, 52.5, 40.5, 70.4, 16.6, 27.6, 22.2, 18.8, 12.0, 59.1, 24.6, 16.9, 38.9, 10.8, 15.7, 11.6, 14.4, 14.6, 20.5, 19.0, 9.2, 15.9, 28.3, 4.6]}, {\"marker\": {\"color\": \"rgba(12, 50, 196, 0.6)\"}, \"name\": \"2016\", \"opacity\": 0.75, \"type\": \"histogram\", \"x\": [6.9, 11.6, 7.8, 11.8, 9.0, 8.9, 8.4, 11.7, 14.7, 6.9, 3.6, 4.4, 16.4, 10.7, 5.9, 10.3, 6.5, 10.2, 19.5, 4.8, 9.0, 13.1, null, 14.1, 13.8, 15.5, 11.4, 11.5, 15.5, 6.8, 10.5, 11.8, 23.7, 17.6, 41.9, 18.7, 24.5, 13.7, 6.5, 27.3, 20.1, 8.3, 5.7, 13.9, 17.6, 17.4, 13.7, 17.0, 52.5, 10.8, 10.1, 19.2, 31.5, 7.9, 16.2, 15.3, 20.2, 14.4, 23.8, 32.7, 5.7, 15.4, 7.3, 8.6, 19.4, 18.0, 17.1, 12.9, 14.0, 15.7, 18.9, 39.3, 40.5, 25.6, 12.4, 16.0, 15.1, 38.9, 5.8, 16.6, 18.2, 4.1, 25.9, 31.2, 13.9, 12.7, 3.6, 5.6, 18.9, 4.5, 11.5, 13.4, 18.8, 70.4, 8.5, 19.3, 15.5, 14.0, 25.6, 15.7, 17.3, 4.8, 9.0, 6.6, 6.5, 13.6, 16.1, 85.8, 13.8, 20.7, 27.6, 13.5, 16.5, 20.3, 8.7, 18.1, 10.1, 8.4, 34.1, 16.4, 22.5, 12.1, 18.7, 53.9, 17.3, 46.1, 13.0, 16.1, 10.0, 15.9, 14.9, 15.0, null, 6.4, 14.7, 18.8, 23.7, 21.6, 10.2, 24.6, 17.4, 13.0, 20.5, 15.0, 22.7, 13.1, 12.3, 10.2, 10.0, 30.1, 14.7, 12.0, 20.3, 16.3, 14.6, 43.4, 13.6, 37.4, 4.5, 18.0, 7.7, 5.7, 12.7, 18.3, 14.8, 5.5, 22.0, 13.4, 11.9, 5.0, 42.0, 15.8, 18.9, 12.2, 59.1, 16.0, 24.5, 10.7, 24.2, 16.4, 8.5, 11.1, 13.1, 16.9, 12.6, 15.3, 38.4, 15.0, 29.9, 30.3, 17.4, 11.2, 15.9, 21.4, 6.6, 15.2, 13.4, 43.2, 14.8, 17.9, 15.9, 17.2, 22.9, 19.0, 16.5, 11.6, 7.1, 42.7, 14.4, 46.6, 8.0, 31.8, 46.9, 12.2, 12.0, 9.3, null, 25.9, 9.2, 13.6, 11.6, 32.6, 12.1, 23.8, 16.2, 2.9, 15.1, 1.1, 20.3, 26.3, 26.9, 7.2, 22.2, 10.9, 2.1, 32.3, 7.9, 21.5, 10.9, 45.4, 4.6, 53.6, 44.1, 24.4, 22.8, 22.4, 5.0, 7.3, 21.5, 4.6, 20.7, 11.8, 18.6, 24.2, 45.5, 18.8, 35.5, 67.8, 19.4, 25.4, 18.2, 19.0, 15.9, 22.6, 19.9, 22.0, 25.9, 8.2, 17.4, 21.9, 53.9, 8.4, 14.6, 15.8, 25.9, 7.7, 13.3, 13.5, 26.8, 21.9, 13.6, 16.8, 7.8, 22.1, 35.8, 15.0, 15.6, 46.3, 5.8, 14.6, 28.3, 16.6, 15.9, 23.8, 17.0, 6.9, 8.4, 11.9, 52.0, 18.6, 25.4, 15.9, 19.2, 8.2, 13.0, 19.5, 25.6, 15.7, 13.0, 30.4, 19.8, 17.0, 24.0, 9.6, 41.2, 16.9, 12.2, 14.4, 62.7, 20.0, 0.6, 24.3, 72.5, 18.4, 7.9, 64.2, 16.6, 7.3, 17.4, 10.6, 16.4, 15.8, 20.2, 18.3, 40.6, 25.9, 12.8, 12.7, 23.0, 17.8, 88.9, 19.4, 43.8, 25.8, 66.0, 14.6, 17.1, 23.9, 11.6, 39.4, null, 23.3, 26.9, 22.9, 10.8, 17.3, 17.2, 10.8, 12.5, 28.3, 10.4, 11.0, 43.7, 14.9, 16.9, 15.2, 29.0, 15.9, 27.8, 14.1, 25.3, 15.2, 28.0, 2.6, null, 13.9, 8.5, 34.3, 19.6, 61.2, 15.9, 31.7, 26.2, 16.3, 17.1, 15.3, 15.9, 16.6, 17.1, 36.5, 13.0, 13.3, 26.9, 12.2, 26.1, 38.5, 22.3, 19.7, 21.1, 18.3, 10.7, 12.0, null, 17.8, 65.1, 16.0, 25.9, 25.0, 21.3, 17.6, 38.3, 51.0, 16.5, 18.9, 13.0, 15.4, 17.8, 16.1, 19.0, 17.5, 30.3, 17.1, 22.9, 15.5, 14.4, 34.0, 30.2, 25.9, 29.5, 20.4, 26.8, 17.8, 8.2, 6.8, 18.7, 21.5, 17.3, 17.5, 15.9, 36.3, 23.9, 29.1, 54.4, 15.7, 24.9, 17.4, 6.7, 11.3, 20.1, 14.9, 29.4, 23.0, 18.1, 32.8, 22.2, 32.3, 11.6, 14.4, 8.2, 5.4, 8.5, 17.9, 20.3, 7.1, 35.9, 18.5, 22.4, 29.1, 18.0, 11.7, 15.3, 18.8, 19.1, 18.1, 26.5, 12.8, 5.2, 58.4, 17.0, 16.3, 18.7, 23.6, 32.8, 18.5, 20.2, 9.5, 15.5, 3.3, 9.9, 12.6, 13.3, 15.8, 24.7, 9.0, 37.4, 15.4, 17.0, 32.2, 14.4, 12.3, 8.9, 25.6, 16.9, 21.2, 17.6, 23.5, 15.3, 4.0, 12.6, 7.1, 25.0, 20.8, 28.6, 29.8, 49.7, 29.6, 14.2, 12.0, 17.4, 12.0, 19.1, 14.0, 16.1, 12.8, 16.0, 30.8, 10.8, 19.4, 8.2, 17.7, 14.2, 12.2, 18.7, 26.5, 16.0, 16.1, 10.4, 15.1, 11.9, 19.0, 7.1, 13.4, 14.9, 23.9, 19.8, 17.5, 19.8, 7.5, 18.2, 17.3, 26.6, 16.8, 14.6, 22.2, 18.8, 15.5, 17.8, 20.5, 9.8, 19.6, 13.0, 26.9, 26.2, 18.8, 19.2, 21.4, 10.1, 13.1, 13.7, 11.4, 23.9, 15.4, 21.2, 22.2, 20.0, 19.7, 25.7, 22.8, 12.7, 13.9, 17.9, 15.3, 10.9, 17.5, 5.4, 12.9, 17.7, 28.6, 9.0, 10.5, 12.2, 14.4, 17.5, 13.5, 12.5, 12.5, 14.1, 18.4, 12.3, 11.8, 13.0, 15.6, 17.0, 11.3, 25.1, 23.3, 33.0, 10.5, 14.1, 6.6, 162.6, 20.2, 23.0, 22.2, 26.3, 57.5, 18.1, 17.8, null, 10.6, 28.3, 19.5, 20.5, 14.5, 19.5, 24.9, 22.1, 39.1, 32.5, 32.3, 7.1, 14.3, 17.5, 9.2, 12.6, 11.4, 11.0, 16.5, 12.3, 20.7, 19.4, 15.0, 16.0, 18.5, 14.5, 30.2, 17.2, 17.1, 9.7, 14.8, 15.2, 20.3, 22.9, 6.9, 18.9, 9.9, 9.8, 22.4, 28.0, 17.9, 13.5, 11.2, 14.8, 12.6, 16.9, 11.4, 20.9, 23.9, 13.7, 22.8, 23.3, 37.5, 12.4, 21.6, 24.6, 20.4, 18.1, 24.7, 17.1, 15.8, 24.1, 29.9, 41.1, 11.5, 13.6, 13.6, 16.4, 3.7, 24.6, 12.6, 16.9, 23.7, 20.9, 11.6, 8.4, 23.5, 7.6, 14.4, 12.1, 26.5, 14.5, 18.9, 17.6, 38.7, 20.5, 24.7, 7.0, 15.8, 7.2, 47.0, 18.4, 22.9, 20.3, 16.5, 20.9, 38.1, 6.7, 7.8, 8.5, 19.3, 14.1, 17.4, 19.8, 20.6, 20.0, 8.6, 7.5, 19.8, 23.4, 27.4, 40.9, 15.4, 13.6, 10.9, 10.1, 10.4, 16.1, 19.0, 10.1, 13.5, 11.7, 17.0, 23.6, 13.0, 14.6, 15.1, 15.5, 19.0, 24.9, 17.5, 13.5, 18.8, 9.6, 2.5, 14.5, 17.3, 15.3, 24.1, 24.3, 108.5, 9.0, 18.5, 29.2, 6.0, 9.0, 32.9, 13.8, 11.1, 8.2, 13.8, 27.0, 29.0, 20.9, 12.7, 8.9, 11.1, 25.7, 9.9, 8.2, 9.3, 11.8, 12.2, 14.8, 16.8, 10.1, 9.7, 19.0, 14.2, 14.5, 16.9, 21.5, 21.4, 19.0, 21.0, 16.4, 15.3, 28.7, 3.7, 12.1, 20.6]}],                        {\"barmode\": \"overlay\", \"template\": {\"data\": {\"bar\": [{\"error_x\": {\"color\": \"#2a3f5f\"}, \"error_y\": {\"color\": \"#2a3f5f\"}, \"marker\": {\"line\": {\"color\": \"#E5ECF6\", \"width\": 0.5}}, \"type\": \"bar\"}], \"barpolar\": [{\"marker\": {\"line\": {\"color\": \"#E5ECF6\", \"width\": 0.5}}, \"type\": \"barpolar\"}], \"carpet\": [{\"aaxis\": {\"endlinecolor\": \"#2a3f5f\", \"gridcolor\": \"white\", \"linecolor\": \"white\", \"minorgridcolor\": \"white\", \"startlinecolor\": \"#2a3f5f\"}, \"baxis\": {\"endlinecolor\": \"#2a3f5f\", \"gridcolor\": \"white\", \"linecolor\": \"white\", \"minorgridcolor\": \"white\", \"startlinecolor\": \"#2a3f5f\"}, \"type\": \"carpet\"}], \"choropleth\": [{\"colorbar\": {\"outlinewidth\": 0, \"ticks\": \"\"}, \"type\": \"choropleth\"}], \"contour\": [{\"colorbar\": {\"outlinewidth\": 0, \"ticks\": \"\"}, \"colorscale\": [[0.0, \"#0d0887\"], [0.1111111111111111, \"#46039f\"], [0.2222222222222222, \"#7201a8\"], [0.3333333333333333, \"#9c179e\"], [0.4444444444444444, \"#bd3786\"], [0.5555555555555556, \"#d8576b\"], [0.6666666666666666, \"#ed7953\"], [0.7777777777777778, \"#fb9f3a\"], [0.8888888888888888, \"#fdca26\"], [1.0, \"#f0f921\"]], \"type\": \"contour\"}], \"contourcarpet\": [{\"colorbar\": {\"outlinewidth\": 0, \"ticks\": \"\"}, \"type\": \"contourcarpet\"}], \"heatmap\": [{\"colorbar\": {\"outlinewidth\": 0, \"ticks\": \"\"}, \"colorscale\": [[0.0, \"#0d0887\"], [0.1111111111111111, \"#46039f\"], [0.2222222222222222, \"#7201a8\"], [0.3333333333333333, \"#9c179e\"], [0.4444444444444444, \"#bd3786\"], [0.5555555555555556, \"#d8576b\"], [0.6666666666666666, \"#ed7953\"], [0.7777777777777778, \"#fb9f3a\"], [0.8888888888888888, \"#fdca26\"], [1.0, \"#f0f921\"]], \"type\": \"heatmap\"}], \"heatmapgl\": [{\"colorbar\": {\"outlinewidth\": 0, \"ticks\": \"\"}, \"colorscale\": [[0.0, \"#0d0887\"], [0.1111111111111111, \"#46039f\"], [0.2222222222222222, \"#7201a8\"], [0.3333333333333333, \"#9c179e\"], [0.4444444444444444, \"#bd3786\"], [0.5555555555555556, \"#d8576b\"], [0.6666666666666666, \"#ed7953\"], [0.7777777777777778, \"#fb9f3a\"], [0.8888888888888888, \"#fdca26\"], [1.0, \"#f0f921\"]], \"type\": \"heatmapgl\"}], \"histogram\": [{\"marker\": {\"colorbar\": {\"outlinewidth\": 0, \"ticks\": \"\"}}, \"type\": \"histogram\"}], \"histogram2d\": [{\"colorbar\": {\"outlinewidth\": 0, \"ticks\": \"\"}, \"colorscale\": [[0.0, \"#0d0887\"], [0.1111111111111111, \"#46039f\"], [0.2222222222222222, \"#7201a8\"], [0.3333333333333333, \"#9c179e\"], [0.4444444444444444, \"#bd3786\"], [0.5555555555555556, \"#d8576b\"], [0.6666666666666666, \"#ed7953\"], [0.7777777777777778, \"#fb9f3a\"], [0.8888888888888888, \"#fdca26\"], [1.0, \"#f0f921\"]], \"type\": \"histogram2d\"}], \"histogram2dcontour\": [{\"colorbar\": {\"outlinewidth\": 0, \"ticks\": \"\"}, \"colorscale\": [[0.0, \"#0d0887\"], [0.1111111111111111, \"#46039f\"], [0.2222222222222222, \"#7201a8\"], [0.3333333333333333, \"#9c179e\"], [0.4444444444444444, \"#bd3786\"], [0.5555555555555556, \"#d8576b\"], [0.6666666666666666, \"#ed7953\"], [0.7777777777777778, \"#fb9f3a\"], [0.8888888888888888, \"#fdca26\"], [1.0, \"#f0f921\"]], \"type\": \"histogram2dcontour\"}], \"mesh3d\": [{\"colorbar\": {\"outlinewidth\": 0, \"ticks\": \"\"}, \"type\": \"mesh3d\"}], \"parcoords\": [{\"line\": {\"colorbar\": {\"outlinewidth\": 0, \"ticks\": \"\"}}, \"type\": \"parcoords\"}], \"pie\": [{\"automargin\": true, \"type\": \"pie\"}], \"scatter\": [{\"marker\": {\"colorbar\": {\"outlinewidth\": 0, \"ticks\": \"\"}}, \"type\": \"scatter\"}], \"scatter3d\": [{\"line\": {\"colorbar\": {\"outlinewidth\": 0, \"ticks\": \"\"}}, \"marker\": {\"colorbar\": {\"outlinewidth\": 0, \"ticks\": \"\"}}, \"type\": \"scatter3d\"}], \"scattercarpet\": [{\"marker\": {\"colorbar\": {\"outlinewidth\": 0, \"ticks\": \"\"}}, \"type\": \"scattercarpet\"}], \"scattergeo\": [{\"marker\": {\"colorbar\": {\"outlinewidth\": 0, \"ticks\": \"\"}}, \"type\": \"scattergeo\"}], \"scattergl\": [{\"marker\": {\"colorbar\": {\"outlinewidth\": 0, \"ticks\": \"\"}}, \"type\": \"scattergl\"}], \"scattermapbox\": [{\"marker\": {\"colorbar\": {\"outlinewidth\": 0, \"ticks\": \"\"}}, \"type\": \"scattermapbox\"}], \"scatterpolar\": [{\"marker\": {\"colorbar\": {\"outlinewidth\": 0, \"ticks\": \"\"}}, \"type\": \"scatterpolar\"}], \"scatterpolargl\": [{\"marker\": {\"colorbar\": {\"outlinewidth\": 0, \"ticks\": \"\"}}, \"type\": \"scatterpolargl\"}], \"scatterternary\": [{\"marker\": {\"colorbar\": {\"outlinewidth\": 0, \"ticks\": \"\"}}, \"type\": \"scatterternary\"}], \"surface\": [{\"colorbar\": {\"outlinewidth\": 0, \"ticks\": \"\"}, \"colorscale\": [[0.0, \"#0d0887\"], [0.1111111111111111, \"#46039f\"], [0.2222222222222222, \"#7201a8\"], [0.3333333333333333, \"#9c179e\"], [0.4444444444444444, \"#bd3786\"], [0.5555555555555556, \"#d8576b\"], [0.6666666666666666, \"#ed7953\"], [0.7777777777777778, \"#fb9f3a\"], [0.8888888888888888, \"#fdca26\"], [1.0, \"#f0f921\"]], \"type\": \"surface\"}], \"table\": [{\"cells\": {\"fill\": {\"color\": \"#EBF0F8\"}, \"line\": {\"color\": \"white\"}}, \"header\": {\"fill\": {\"color\": \"#C8D4E3\"}, \"line\": {\"color\": \"white\"}}, \"type\": \"table\"}]}, \"layout\": {\"annotationdefaults\": {\"arrowcolor\": \"#2a3f5f\", \"arrowhead\": 0, \"arrowwidth\": 1}, \"autotypenumbers\": \"strict\", \"coloraxis\": {\"colorbar\": {\"outlinewidth\": 0, \"ticks\": \"\"}}, \"colorscale\": {\"diverging\": [[0, \"#8e0152\"], [0.1, \"#c51b7d\"], [0.2, \"#de77ae\"], [0.3, \"#f1b6da\"], [0.4, \"#fde0ef\"], [0.5, \"#f7f7f7\"], [0.6, \"#e6f5d0\"], [0.7, \"#b8e186\"], [0.8, \"#7fbc41\"], [0.9, \"#4d9221\"], [1, \"#276419\"]], \"sequential\": [[0.0, \"#0d0887\"], [0.1111111111111111, \"#46039f\"], [0.2222222222222222, \"#7201a8\"], [0.3333333333333333, \"#9c179e\"], [0.4444444444444444, \"#bd3786\"], [0.5555555555555556, \"#d8576b\"], [0.6666666666666666, \"#ed7953\"], [0.7777777777777778, \"#fb9f3a\"], [0.8888888888888888, \"#fdca26\"], [1.0, \"#f0f921\"]], \"sequentialminus\": [[0.0, \"#0d0887\"], [0.1111111111111111, \"#46039f\"], [0.2222222222222222, \"#7201a8\"], [0.3333333333333333, \"#9c179e\"], [0.4444444444444444, \"#bd3786\"], [0.5555555555555556, \"#d8576b\"], [0.6666666666666666, \"#ed7953\"], [0.7777777777777778, \"#fb9f3a\"], [0.8888888888888888, \"#fdca26\"], [1.0, \"#f0f921\"]]}, \"colorway\": [\"#636efa\", \"#EF553B\", \"#00cc96\", \"#ab63fa\", \"#FFA15A\", \"#19d3f3\", \"#FF6692\", \"#B6E880\", \"#FF97FF\", \"#FECB52\"], \"font\": {\"color\": \"#2a3f5f\"}, \"geo\": {\"bgcolor\": \"white\", \"lakecolor\": \"white\", \"landcolor\": \"#E5ECF6\", \"showlakes\": true, \"showland\": true, \"subunitcolor\": \"white\"}, \"hoverlabel\": {\"align\": \"left\"}, \"hovermode\": \"closest\", \"mapbox\": {\"style\": \"light\"}, \"paper_bgcolor\": \"white\", \"plot_bgcolor\": \"#E5ECF6\", \"polar\": {\"angularaxis\": {\"gridcolor\": \"white\", \"linecolor\": \"white\", \"ticks\": \"\"}, \"bgcolor\": \"#E5ECF6\", \"radialaxis\": {\"gridcolor\": \"white\", \"linecolor\": \"white\", \"ticks\": \"\"}}, \"scene\": {\"xaxis\": {\"backgroundcolor\": \"#E5ECF6\", \"gridcolor\": \"white\", \"gridwidth\": 2, \"linecolor\": \"white\", \"showbackground\": true, \"ticks\": \"\", \"zerolinecolor\": \"white\"}, \"yaxis\": {\"backgroundcolor\": \"#E5ECF6\", \"gridcolor\": \"white\", \"gridwidth\": 2, \"linecolor\": \"white\", \"showbackground\": true, \"ticks\": \"\", \"zerolinecolor\": \"white\"}, \"zaxis\": {\"backgroundcolor\": \"#E5ECF6\", \"gridcolor\": \"white\", \"gridwidth\": 2, \"linecolor\": \"white\", \"showbackground\": true, \"ticks\": \"\", \"zerolinecolor\": \"white\"}}, \"shapedefaults\": {\"line\": {\"color\": \"#2a3f5f\"}}, \"ternary\": {\"aaxis\": {\"gridcolor\": \"white\", \"linecolor\": \"white\", \"ticks\": \"\"}, \"baxis\": {\"gridcolor\": \"white\", \"linecolor\": \"white\", \"ticks\": \"\"}, \"bgcolor\": \"#E5ECF6\", \"caxis\": {\"gridcolor\": \"white\", \"linecolor\": \"white\", \"ticks\": \"\"}}, \"title\": {\"x\": 0.05}, \"xaxis\": {\"automargin\": true, \"gridcolor\": \"white\", \"linecolor\": \"white\", \"ticks\": \"\", \"title\": {\"standoff\": 15}, \"zerolinecolor\": \"white\", \"zerolinewidth\": 2}, \"yaxis\": {\"automargin\": true, \"gridcolor\": \"white\", \"linecolor\": \"white\", \"ticks\": \"\", \"title\": {\"standoff\": 15}, \"zerolinecolor\": \"white\", \"zerolinewidth\": 2}}}, \"title\": {\"text\": \"students-staff ratio in 2011 and 2016\"}, \"xaxis\": {\"title\": {\"text\": \"students-staff ratio\"}}, \"yaxis\": {\"title\": {\"text\": \"Count\"}}},                        {\"responsive\": true}                    ).then(function(){\n",
       "                            \n",
       "var gd = document.getElementById('ded9ab22-c10a-4d31-ae6d-4def87a67a88');\n",
       "var x = new MutationObserver(function (mutations, observer) {{\n",
       "        var display = window.getComputedStyle(gd).display;\n",
       "        if (!display || display === 'none') {{\n",
       "            console.log([gd, 'removed!']);\n",
       "            Plotly.purge(gd);\n",
       "            observer.disconnect();\n",
       "        }}\n",
       "}});\n",
       "\n",
       "// Listen for the removal of the full notebook cells\n",
       "var notebookContainer = gd.closest('#notebook-container');\n",
       "if (notebookContainer) {{\n",
       "    x.observe(notebookContainer, {childList: true});\n",
       "}}\n",
       "\n",
       "// Listen for the clearing of the current output cell\n",
       "var outputEl = gd.closest('.output');\n",
       "if (outputEl) {{\n",
       "    x.observe(outputEl, {childList: true});\n",
       "}}\n",
       "\n",
       "                        })                };                });            </script>        </div>"
      ]
     },
     "metadata": {},
     "output_type": "display_data"
    }
   ],
   "source": [
    "# prepare data\n",
    "x2011 = timesData.student_staff_ratio[timesData.year == 2011]\n",
    "x2016 = timesData.student_staff_ratio[timesData.year == 2016]\n",
    "\n",
    "# creating plotly graph object\n",
    "import plotly.graph_objs as go\n",
    "\n",
    "# creating histogram trace\n",
    "\n",
    "trace1 = go.Histogram(\n",
    "    x=x2011,\n",
    "    opacity=0.75,\n",
    "    name = \"2011\",\n",
    "    marker=dict(color='rgba(171, 50, 96, 0.6)'))\n",
    "\n",
    "trace2 = go.Histogram(\n",
    "    x=x2016,\n",
    "    opacity=0.75,\n",
    "    name = \"2016\",\n",
    "    marker=dict(color='rgba(12, 50, 196, 0.6)'))\n",
    "\n",
    "data = [trace1, trace2]\n",
    "\n",
    "# modifying layout\n",
    "layout = go.Layout(barmode='overlay',\n",
    "                   title='students-staff ratio in 2011 and 2016',\n",
    "                   xaxis=dict(title='students-staff ratio'),\n",
    "                   yaxis=dict(title='Count'),\n",
    "                   )\n",
    "\n",
    "fig = go.Figure(data=data, layout=layout)\n",
    "fig.show()"
   ]
  },
  {
   "cell_type": "markdown",
   "metadata": {},
   "source": [
    "# Using slider and buttons"
   ]
  },
  {
   "cell_type": "markdown",
   "metadata": {},
   "source": [
    "## Using plotly graphObjects wiht play and pause button "
   ]
  },
  {
   "cell_type": "code",
   "execution_count": 530,
   "metadata": {},
   "outputs": [],
   "source": [
    "import plotly.graph_objects as  go"
   ]
  },
  {
   "cell_type": "code",
   "execution_count": 531,
   "metadata": {},
   "outputs": [],
   "source": [
    "#Subsettinig the data of the top 10 ranked universities thorughout the years\n",
    "timesData['world_rank'] = timesData['world_rank'].astype(str).apply(lambda x: x.replace('-', '').replace('=','')).astype(int)\n",
    "top_10 = timesData[(timesData['world_rank'] <= 10)]"
   ]
  },
  {
   "cell_type": "code",
   "execution_count": 532,
   "metadata": {},
   "outputs": [],
   "source": [
    "#Make a list of years in the dataset\n",
    "years = []\n",
    "for year in top_10.year:\n",
    "    if year not in years:\n",
    "        years.append(year)\n",
    "\n",
    "# make list of ranks\n",
    "names = []\n",
    "for name in top_10.university_name:\n",
    "    if name not in names:\n",
    "        names.append(name)"
   ]
  },
  {
   "cell_type": "code",
   "execution_count": 533,
   "metadata": {},
   "outputs": [
    {
     "name": "stderr",
     "output_type": "stream",
     "text": [
      "C:\\ProgramData\\Anaconda3\\lib\\site-packages\\ipykernel_launcher.py:3: SettingWithCopyWarning:\n",
      "\n",
      "\n",
      "A value is trying to be set on a copy of a slice from a DataFrame.\n",
      "Try using .loc[row_indexer,col_indexer] = value instead\n",
      "\n",
      "See the caveats in the documentation: http://pandas.pydata.org/pandas-docs/stable/user_guide/indexing.html#returning-a-view-versus-a-copy\n",
      "\n",
      "C:\\ProgramData\\Anaconda3\\lib\\site-packages\\ipykernel_launcher.py:4: SettingWithCopyWarning:\n",
      "\n",
      "\n",
      "A value is trying to be set on a copy of a slice from a DataFrame.\n",
      "Try using .loc[row_indexer,col_indexer] = value instead\n",
      "\n",
      "See the caveats in the documentation: http://pandas.pydata.org/pandas-docs/stable/user_guide/indexing.html#returning-a-view-versus-a-copy\n",
      "\n",
      "C:\\ProgramData\\Anaconda3\\lib\\site-packages\\ipykernel_launcher.py:5: SettingWithCopyWarning:\n",
      "\n",
      "\n",
      "A value is trying to be set on a copy of a slice from a DataFrame.\n",
      "Try using .loc[row_indexer,col_indexer] = value instead\n",
      "\n",
      "See the caveats in the documentation: http://pandas.pydata.org/pandas-docs/stable/user_guide/indexing.html#returning-a-view-versus-a-copy\n",
      "\n"
     ]
    }
   ],
   "source": [
    "#Preparing data for the plot\n",
    "num_student_size = [float(each.replace(',', '.')) for each in top_10.num_students]\n",
    "top_10['total_score'] = top_10['total_score'].astype(float)\n",
    "top_10['income'] = top_10['income'].apply(lambda x: x.replace('-','0')).astype(float)\n",
    "top_10['num_students'] = top_10['num_students'].apply(lambda x: x.replace(',','')).astype(float)"
   ]
  },
  {
   "cell_type": "code",
   "execution_count": 534,
   "metadata": {
    "scrolled": true
   },
   "outputs": [
    {
     "data": {
      "application/vnd.plotly.v1+json": {
       "config": {
        "plotlyServerURL": "https://plot.ly"
       },
       "data": [
        {
         "marker": {
          "size": [
           20152
          ],
          "sizemode": "area",
          "sizeref": 20
         },
         "mode": "markers",
         "name": "Harvard University",
         "text": [
          "6"
         ],
         "type": "scatter",
         "x": [
          91.6
         ],
         "y": [
          45.2
         ]
        },
        {
         "marker": {
          "size": [
           2243
          ],
          "sizemode": "area",
          "sizeref": 20
         },
         "mode": "markers",
         "name": "California Institute of Technology",
         "text": [
          "1"
         ],
         "type": "scatter",
         "x": [
          95.2
         ],
         "y": [
          97.8
         ]
        },
        {
         "marker": {
          "size": [
           11074
          ],
          "sizemode": "area",
          "sizeref": 20
         },
         "mode": "markers",
         "name": "Massachusetts Institute of Technology",
         "text": [
          "5"
         ],
         "type": "scatter",
         "x": [
          92
         ],
         "y": [
          95.4
         ]
        },
        {
         "marker": {
          "size": [
           15596
          ],
          "sizemode": "area",
          "sizeref": 20
         },
         "mode": "markers",
         "name": "Stanford University",
         "text": [
          "3"
         ],
         "type": "scatter",
         "x": [
          93.9
         ],
         "y": [
          63.3
         ]
        },
        {
         "marker": {
          "size": [
           7929
          ],
          "sizemode": "area",
          "sizeref": 20
         },
         "mode": "markers",
         "name": "Princeton University",
         "text": [
          "7"
         ],
         "type": "scatter",
         "x": [
          90.1
         ],
         "y": [
          52.1
         ]
        },
        {
         "marker": {
          "size": [
           18812
          ],
          "sizemode": "area",
          "sizeref": 20
         },
         "mode": "markers",
         "name": "University of Cambridge",
         "text": [
          "4"
         ],
         "type": "scatter",
         "x": [
          92.8
         ],
         "y": [
          55
         ]
        },
        {
         "marker": {
          "size": [
           19919
          ],
          "sizemode": "area",
          "sizeref": 20
         },
         "mode": "markers",
         "name": "University of Oxford",
         "text": [
          "2"
         ],
         "type": "scatter",
         "x": [
          94.2
         ],
         "y": [
          73.1
         ]
        },
        {
         "marker": {
          "size": [],
          "sizemode": "area",
          "sizeref": 20
         },
         "mode": "markers",
         "name": "University of California, Berkeley",
         "text": [],
         "type": "scatter",
         "x": [],
         "y": []
        },
        {
         "marker": {
          "size": [
           15060
          ],
          "sizemode": "area",
          "sizeref": 20
         },
         "mode": "markers",
         "name": "Imperial College London",
         "text": [
          "8"
         ],
         "type": "scatter",
         "x": [
          89.1
         ],
         "y": [
          53.7
         ]
        },
        {
         "marker": {
          "size": [],
          "sizemode": "area",
          "sizeref": 20
         },
         "mode": "markers",
         "name": "Yale University",
         "text": [],
         "type": "scatter",
         "x": [],
         "y": []
        },
        {
         "marker": {
          "size": [
           14221
          ],
          "sizemode": "area",
          "sizeref": 20
         },
         "mode": "markers",
         "name": "University of Chicago",
         "text": [
          "10"
         ],
         "type": "scatter",
         "x": [
          87.9
         ],
         "y": [
          36.6
         ]
        },
        {
         "marker": {
          "size": [
           18178
          ],
          "sizemode": "area",
          "sizeref": 20
         },
         "mode": "markers",
         "name": "ETH Zurich – Swiss Federal Institute of Technology Zurich",
         "text": [
          "9"
         ],
         "type": "scatter",
         "x": [
          88.3
         ],
         "y": [
          80
         ]
        }
       ],
       "frames": [
        {
         "data": [
          {
           "marker": {
            "size": [
             20152
            ],
            "sizemode": "area",
            "sizeref": 20
           },
           "mode": "markers",
           "name": "Harvard University",
           "text": [
            "1"
           ],
           "type": "scatter",
           "x": [
            96.1
           ],
           "y": [
            34.5
           ]
          },
          {
           "marker": {
            "size": [
             2243
            ],
            "sizemode": "area",
            "sizeref": 20
           },
           "mode": "markers",
           "name": "California Institute of Technology",
           "text": [
            "2"
           ],
           "type": "scatter",
           "x": [
            96
           ],
           "y": [
            83.7
           ]
          },
          {
           "marker": {
            "size": [
             11074
            ],
            "sizemode": "area",
            "sizeref": 20
           },
           "mode": "markers",
           "name": "Massachusetts Institute of Technology",
           "text": [
            "3"
           ],
           "type": "scatter",
           "x": [
            95.6
           ],
           "y": [
            87.5
           ]
          },
          {
           "marker": {
            "size": [
             15596
            ],
            "sizemode": "area",
            "sizeref": 20
           },
           "mode": "markers",
           "name": "Stanford University",
           "text": [
            "4"
           ],
           "type": "scatter",
           "x": [
            94.3
           ],
           "y": [
            64.3
           ]
          },
          {
           "marker": {
            "size": [
             7929
            ],
            "sizemode": "area",
            "sizeref": 20
           },
           "mode": "markers",
           "name": "Princeton University",
           "text": [
            "5"
           ],
           "type": "scatter",
           "x": [
            94.2
           ],
           "y": [
            0
           ]
          },
          {
           "marker": {
            "size": [
             18812
            ],
            "sizemode": "area",
            "sizeref": 20
           },
           "mode": "markers",
           "name": "University of Cambridge",
           "text": [
            "6"
           ],
           "type": "scatter",
           "x": [
            91.2
           ],
           "y": [
            57
           ]
          },
          {
           "marker": {
            "size": [
             19919
            ],
            "sizemode": "area",
            "sizeref": 20
           },
           "mode": "markers",
           "name": "University of Oxford",
           "text": [
            "6"
           ],
           "type": "scatter",
           "x": [
            91.2
           ],
           "y": [
            73.5
           ]
          },
          {
           "marker": {
            "size": [
             36186
            ],
            "sizemode": "area",
            "sizeref": 20
           },
           "mode": "markers",
           "name": "University of California, Berkeley",
           "text": [
            "8"
           ],
           "type": "scatter",
           "x": [
            91.1
           ],
           "y": [
            0
           ]
          },
          {
           "marker": {
            "size": [
             15060
            ],
            "sizemode": "area",
            "sizeref": 20
           },
           "mode": "markers",
           "name": "Imperial College London",
           "text": [
            "9"
           ],
           "type": "scatter",
           "x": [
            90.6
           ],
           "y": [
            92.9
           ]
          },
          {
           "marker": {
            "size": [
             11751
            ],
            "sizemode": "area",
            "sizeref": 20
           },
           "mode": "markers",
           "name": "Yale University",
           "text": [
            "10"
           ],
           "type": "scatter",
           "x": [
            89.5
           ],
           "y": [
            0
           ]
          },
          {
           "marker": {
            "size": [],
            "sizemode": "area",
            "sizeref": 20
           },
           "mode": "markers",
           "name": "University of Chicago",
           "text": [],
           "type": "scatter",
           "x": [],
           "y": []
          },
          {
           "marker": {
            "size": [],
            "sizemode": "area",
            "sizeref": 20
           },
           "mode": "markers",
           "name": "ETH Zurich – Swiss Federal Institute of Technology Zurich",
           "text": [],
           "type": "scatter",
           "x": [],
           "y": []
          }
         ],
         "name": "2011"
        },
        {
         "data": [
          {
           "marker": {
            "size": [
             20152
            ],
            "sizemode": "area",
            "sizeref": 20
           },
           "mode": "markers",
           "name": "Harvard University",
           "text": [
            "2"
           ],
           "type": "scatter",
           "x": [
            93.9
           ],
           "y": [
            35.9
           ]
          },
          {
           "marker": {
            "size": [
             2243
            ],
            "sizemode": "area",
            "sizeref": 20
           },
           "mode": "markers",
           "name": "California Institute of Technology",
           "text": [
            "1"
           ],
           "type": "scatter",
           "x": [
            94.8
           ],
           "y": [
            97
           ]
          },
          {
           "marker": {
            "size": [
             11074
            ],
            "sizemode": "area",
            "sizeref": 20
           },
           "mode": "markers",
           "name": "Massachusetts Institute of Technology",
           "text": [
            "7"
           ],
           "type": "scatter",
           "x": [
            92.3
           ],
           "y": [
            94.4
           ]
          },
          {
           "marker": {
            "size": [
             15596
            ],
            "sizemode": "area",
            "sizeref": 20
           },
           "mode": "markers",
           "name": "Stanford University",
           "text": [
            "2"
           ],
           "type": "scatter",
           "x": [
            93.9
           ],
           "y": [
            63.8
           ]
          },
          {
           "marker": {
            "size": [
             7929
            ],
            "sizemode": "area",
            "sizeref": 20
           },
           "mode": "markers",
           "name": "Princeton University",
           "text": [
            "5"
           ],
           "type": "scatter",
           "x": [
            92.9
           ],
           "y": [
            81
           ]
          },
          {
           "marker": {
            "size": [
             18812
            ],
            "sizemode": "area",
            "sizeref": 20
           },
           "mode": "markers",
           "name": "University of Cambridge",
           "text": [
            "6"
           ],
           "type": "scatter",
           "x": [
            92.4
           ],
           "y": [
            55.5
           ]
          },
          {
           "marker": {
            "size": [
             19919
            ],
            "sizemode": "area",
            "sizeref": 20
           },
           "mode": "markers",
           "name": "University of Oxford",
           "text": [
            "4"
           ],
           "type": "scatter",
           "x": [
            93.6
           ],
           "y": [
            62.1
           ]
          },
          {
           "marker": {
            "size": [
             36186
            ],
            "sizemode": "area",
            "sizeref": 20
           },
           "mode": "markers",
           "name": "University of California, Berkeley",
           "text": [
            "10"
           ],
           "type": "scatter",
           "x": [
            89.8
           ],
           "y": [
            62.5
           ]
          },
          {
           "marker": {
            "size": [
             15060
            ],
            "sizemode": "area",
            "sizeref": 20
           },
           "mode": "markers",
           "name": "Imperial College London",
           "text": [
            "8"
           ],
           "type": "scatter",
           "x": [
            90.7
           ],
           "y": [
            93.1
           ]
          },
          {
           "marker": {
            "size": [],
            "sizemode": "area",
            "sizeref": 20
           },
           "mode": "markers",
           "name": "Yale University",
           "text": [],
           "type": "scatter",
           "x": [],
           "y": []
          },
          {
           "marker": {
            "size": [
             14221
            ],
            "sizemode": "area",
            "sizeref": 20
           },
           "mode": "markers",
           "name": "University of Chicago",
           "text": [
            "9"
           ],
           "type": "scatter",
           "x": [
            90.2
           ],
           "y": [
            0
           ]
          },
          {
           "marker": {
            "size": [],
            "sizemode": "area",
            "sizeref": 20
           },
           "mode": "markers",
           "name": "ETH Zurich – Swiss Federal Institute of Technology Zurich",
           "text": [],
           "type": "scatter",
           "x": [],
           "y": []
          }
         ],
         "name": "2012"
        },
        {
         "data": [
          {
           "marker": {
            "size": [
             20152
            ],
            "sizemode": "area",
            "sizeref": 20
           },
           "mode": "markers",
           "name": "Harvard University",
           "text": [
            "4"
           ],
           "type": "scatter",
           "x": [
            93.6
           ],
           "y": [
            39.9
           ]
          },
          {
           "marker": {
            "size": [
             2243
            ],
            "sizemode": "area",
            "sizeref": 20
           },
           "mode": "markers",
           "name": "California Institute of Technology",
           "text": [
            "1"
           ],
           "type": "scatter",
           "x": [
            95.5
           ],
           "y": [
            95.6
           ]
          },
          {
           "marker": {
            "size": [
             11074
            ],
            "sizemode": "area",
            "sizeref": 20
           },
           "mode": "markers",
           "name": "Massachusetts Institute of Technology",
           "text": [
            "5"
           ],
           "type": "scatter",
           "x": [
            93.1
           ],
           "y": [
            92.9
           ]
          },
          {
           "marker": {
            "size": [
             15596
            ],
            "sizemode": "area",
            "sizeref": 20
           },
           "mode": "markers",
           "name": "Stanford University",
           "text": [
            "2"
           ],
           "type": "scatter",
           "x": [
            93.7
           ],
           "y": [
            62.4
           ]
          },
          {
           "marker": {
            "size": [
             7929
            ],
            "sizemode": "area",
            "sizeref": 20
           },
           "mode": "markers",
           "name": "Princeton University",
           "text": [
            "6"
           ],
           "type": "scatter",
           "x": [
            92.7
           ],
           "y": [
            79.5
           ]
          },
          {
           "marker": {
            "size": [
             18812
            ],
            "sizemode": "area",
            "sizeref": 20
           },
           "mode": "markers",
           "name": "University of Cambridge",
           "text": [
            "7"
           ],
           "type": "scatter",
           "x": [
            92.6
           ],
           "y": [
            59.1
           ]
          },
          {
           "marker": {
            "size": [
             19919
            ],
            "sizemode": "area",
            "sizeref": 20
           },
           "mode": "markers",
           "name": "University of Oxford",
           "text": [
            "2"
           ],
           "type": "scatter",
           "x": [
            93.7
           ],
           "y": [
            79.8
           ]
          },
          {
           "marker": {
            "size": [
             36186
            ],
            "sizemode": "area",
            "sizeref": 20
           },
           "mode": "markers",
           "name": "University of California, Berkeley",
           "text": [
            "9"
           ],
           "type": "scatter",
           "x": [
            90.5
           ],
           "y": [
            65.4
           ]
          },
          {
           "marker": {
            "size": [
             15060
            ],
            "sizemode": "area",
            "sizeref": 20
           },
           "mode": "markers",
           "name": "Imperial College London",
           "text": [
            "8"
           ],
           "type": "scatter",
           "x": [
            90.6
           ],
           "y": [
            87.5
           ]
          },
          {
           "marker": {
            "size": [],
            "sizemode": "area",
            "sizeref": 20
           },
           "mode": "markers",
           "name": "Yale University",
           "text": [],
           "type": "scatter",
           "x": [],
           "y": []
          },
          {
           "marker": {
            "size": [
             14221
            ],
            "sizemode": "area",
            "sizeref": 20
           },
           "mode": "markers",
           "name": "University of Chicago",
           "text": [
            "10"
           ],
           "type": "scatter",
           "x": [
            90.4
           ],
           "y": [
            0
           ]
          },
          {
           "marker": {
            "size": [],
            "sizemode": "area",
            "sizeref": 20
           },
           "mode": "markers",
           "name": "ETH Zurich – Swiss Federal Institute of Technology Zurich",
           "text": [],
           "type": "scatter",
           "x": [],
           "y": []
          }
         ],
         "name": "2013"
        },
        {
         "data": [
          {
           "marker": {
            "size": [
             20152
            ],
            "sizemode": "area",
            "sizeref": 20
           },
           "mode": "markers",
           "name": "Harvard University",
           "text": [
            "2"
           ],
           "type": "scatter",
           "x": [
            93.9
           ],
           "y": [
            40.6
           ]
          },
          {
           "marker": {
            "size": [
             2243
            ],
            "sizemode": "area",
            "sizeref": 20
           },
           "mode": "markers",
           "name": "California Institute of Technology",
           "text": [
            "1"
           ],
           "type": "scatter",
           "x": [
            94.9
           ],
           "y": [
            91.2
           ]
          },
          {
           "marker": {
            "size": [
             11074
            ],
            "sizemode": "area",
            "sizeref": 20
           },
           "mode": "markers",
           "name": "Massachusetts Institute of Technology",
           "text": [
            "5"
           ],
           "type": "scatter",
           "x": [
            93
           ],
           "y": [
            94.3
           ]
          },
          {
           "marker": {
            "size": [
             15596
            ],
            "sizemode": "area",
            "sizeref": 20
           },
           "mode": "markers",
           "name": "Stanford University",
           "text": [
            "4"
           ],
           "type": "scatter",
           "x": [
            93.8
           ],
           "y": [
            61.3
           ]
          },
          {
           "marker": {
            "size": [
             7929
            ],
            "sizemode": "area",
            "sizeref": 20
           },
           "mode": "markers",
           "name": "Princeton University",
           "text": [
            "6"
           ],
           "type": "scatter",
           "x": [
            92.7
           ],
           "y": [
            80.5
           ]
          },
          {
           "marker": {
            "size": [
             18812
            ],
            "sizemode": "area",
            "sizeref": 20
           },
           "mode": "markers",
           "name": "University of Cambridge",
           "text": [
            "7"
           ],
           "type": "scatter",
           "x": [
            92.3
           ],
           "y": [
            52.8
           ]
          },
          {
           "marker": {
            "size": [
             19919
            ],
            "sizemode": "area",
            "sizeref": 20
           },
           "mode": "markers",
           "name": "University of Oxford",
           "text": [
            "2"
           ],
           "type": "scatter",
           "x": [
            93.9
           ],
           "y": [
            90.3
           ]
          },
          {
           "marker": {
            "size": [
             36186
            ],
            "sizemode": "area",
            "sizeref": 20
           },
           "mode": "markers",
           "name": "University of California, Berkeley",
           "text": [
            "8"
           ],
           "type": "scatter",
           "x": [
            89.8
           ],
           "y": [
            59.5
           ]
          },
          {
           "marker": {
            "size": [
             15060
            ],
            "sizemode": "area",
            "sizeref": 20
           },
           "mode": "markers",
           "name": "Imperial College London",
           "text": [
            "10"
           ],
           "type": "scatter",
           "x": [
            87.5
           ],
           "y": [
            72.3
           ]
          },
          {
           "marker": {
            "size": [],
            "sizemode": "area",
            "sizeref": 20
           },
           "mode": "markers",
           "name": "Yale University",
           "text": [],
           "type": "scatter",
           "x": [],
           "y": []
          },
          {
           "marker": {
            "size": [
             14221
            ],
            "sizemode": "area",
            "sizeref": 20
           },
           "mode": "markers",
           "name": "University of Chicago",
           "text": [
            "9"
           ],
           "type": "scatter",
           "x": [
            87.8
           ],
           "y": [
            0
           ]
          },
          {
           "marker": {
            "size": [],
            "sizemode": "area",
            "sizeref": 20
           },
           "mode": "markers",
           "name": "ETH Zurich – Swiss Federal Institute of Technology Zurich",
           "text": [],
           "type": "scatter",
           "x": [],
           "y": []
          }
         ],
         "name": "2014"
        },
        {
         "data": [
          {
           "marker": {
            "size": [
             20152
            ],
            "sizemode": "area",
            "sizeref": 20
           },
           "mode": "markers",
           "name": "Harvard University",
           "text": [
            "2"
           ],
           "type": "scatter",
           "x": [
            93.3
           ],
           "y": [
            44
           ]
          },
          {
           "marker": {
            "size": [
             2243
            ],
            "sizemode": "area",
            "sizeref": 20
           },
           "mode": "markers",
           "name": "California Institute of Technology",
           "text": [
            "1"
           ],
           "type": "scatter",
           "x": [
            94.3
           ],
           "y": [
            89.1
           ]
          },
          {
           "marker": {
            "size": [
             11074
            ],
            "sizemode": "area",
            "sizeref": 20
           },
           "mode": "markers",
           "name": "Massachusetts Institute of Technology",
           "text": [
            "6"
           ],
           "type": "scatter",
           "x": [
            91.9
           ],
           "y": [
            95.7
           ]
          },
          {
           "marker": {
            "size": [
             15596
            ],
            "sizemode": "area",
            "sizeref": 20
           },
           "mode": "markers",
           "name": "Stanford University",
           "text": [
            "4"
           ],
           "type": "scatter",
           "x": [
            92.9
           ],
           "y": [
            63.1
           ]
          },
          {
           "marker": {
            "size": [
             7929
            ],
            "sizemode": "area",
            "sizeref": 20
           },
           "mode": "markers",
           "name": "Princeton University",
           "text": [
            "7"
           ],
           "type": "scatter",
           "x": [
            90.9
           ],
           "y": [
            82.7
           ]
          },
          {
           "marker": {
            "size": [
             18812
            ],
            "sizemode": "area",
            "sizeref": 20
           },
           "mode": "markers",
           "name": "University of Cambridge",
           "text": [
            "5"
           ],
           "type": "scatter",
           "x": [
            92
           ],
           "y": [
            51.1
           ]
          },
          {
           "marker": {
            "size": [
             19919
            ],
            "sizemode": "area",
            "sizeref": 20
           },
           "mode": "markers",
           "name": "University of Oxford",
           "text": [
            "3"
           ],
           "type": "scatter",
           "x": [
            93.2
           ],
           "y": [
            72.9
           ]
          },
          {
           "marker": {
            "size": [
             36186
            ],
            "sizemode": "area",
            "sizeref": 20
           },
           "mode": "markers",
           "name": "University of California, Berkeley",
           "text": [
            "8"
           ],
           "type": "scatter",
           "x": [
            89.5
           ],
           "y": [
            44.8
           ]
          },
          {
           "marker": {
            "size": [
             15060
            ],
            "sizemode": "area",
            "sizeref": 20
           },
           "mode": "markers",
           "name": "Imperial College London",
           "text": [
            "9"
           ],
           "type": "scatter",
           "x": [
            87.5
           ],
           "y": [
            72.7
           ]
          },
          {
           "marker": {
            "size": [
             11751
            ],
            "sizemode": "area",
            "sizeref": 20
           },
           "mode": "markers",
           "name": "Yale University",
           "text": [
            "9"
           ],
           "type": "scatter",
           "x": [
            87.5
           ],
           "y": [
            42
           ]
          },
          {
           "marker": {
            "size": [],
            "sizemode": "area",
            "sizeref": 20
           },
           "mode": "markers",
           "name": "University of Chicago",
           "text": [],
           "type": "scatter",
           "x": [],
           "y": []
          },
          {
           "marker": {
            "size": [],
            "sizemode": "area",
            "sizeref": 20
           },
           "mode": "markers",
           "name": "ETH Zurich – Swiss Federal Institute of Technology Zurich",
           "text": [],
           "type": "scatter",
           "x": [],
           "y": []
          }
         ],
         "name": "2015"
        },
        {
         "data": [
          {
           "marker": {
            "size": [
             20152
            ],
            "sizemode": "area",
            "sizeref": 20
           },
           "mode": "markers",
           "name": "Harvard University",
           "text": [
            "6"
           ],
           "type": "scatter",
           "x": [
            91.6
           ],
           "y": [
            45.2
           ]
          },
          {
           "marker": {
            "size": [
             2243
            ],
            "sizemode": "area",
            "sizeref": 20
           },
           "mode": "markers",
           "name": "California Institute of Technology",
           "text": [
            "1"
           ],
           "type": "scatter",
           "x": [
            95.2
           ],
           "y": [
            97.8
           ]
          },
          {
           "marker": {
            "size": [
             11074
            ],
            "sizemode": "area",
            "sizeref": 20
           },
           "mode": "markers",
           "name": "Massachusetts Institute of Technology",
           "text": [
            "5"
           ],
           "type": "scatter",
           "x": [
            92
           ],
           "y": [
            95.4
           ]
          },
          {
           "marker": {
            "size": [
             15596
            ],
            "sizemode": "area",
            "sizeref": 20
           },
           "mode": "markers",
           "name": "Stanford University",
           "text": [
            "3"
           ],
           "type": "scatter",
           "x": [
            93.9
           ],
           "y": [
            63.3
           ]
          },
          {
           "marker": {
            "size": [
             7929
            ],
            "sizemode": "area",
            "sizeref": 20
           },
           "mode": "markers",
           "name": "Princeton University",
           "text": [
            "7"
           ],
           "type": "scatter",
           "x": [
            90.1
           ],
           "y": [
            52.1
           ]
          },
          {
           "marker": {
            "size": [
             18812
            ],
            "sizemode": "area",
            "sizeref": 20
           },
           "mode": "markers",
           "name": "University of Cambridge",
           "text": [
            "4"
           ],
           "type": "scatter",
           "x": [
            92.8
           ],
           "y": [
            55
           ]
          },
          {
           "marker": {
            "size": [
             19919
            ],
            "sizemode": "area",
            "sizeref": 20
           },
           "mode": "markers",
           "name": "University of Oxford",
           "text": [
            "2"
           ],
           "type": "scatter",
           "x": [
            94.2
           ],
           "y": [
            73.1
           ]
          },
          {
           "marker": {
            "size": [],
            "sizemode": "area",
            "sizeref": 20
           },
           "mode": "markers",
           "name": "University of California, Berkeley",
           "text": [],
           "type": "scatter",
           "x": [],
           "y": []
          },
          {
           "marker": {
            "size": [
             15060
            ],
            "sizemode": "area",
            "sizeref": 20
           },
           "mode": "markers",
           "name": "Imperial College London",
           "text": [
            "8"
           ],
           "type": "scatter",
           "x": [
            89.1
           ],
           "y": [
            53.7
           ]
          },
          {
           "marker": {
            "size": [],
            "sizemode": "area",
            "sizeref": 20
           },
           "mode": "markers",
           "name": "Yale University",
           "text": [],
           "type": "scatter",
           "x": [],
           "y": []
          },
          {
           "marker": {
            "size": [
             14221
            ],
            "sizemode": "area",
            "sizeref": 20
           },
           "mode": "markers",
           "name": "University of Chicago",
           "text": [
            "10"
           ],
           "type": "scatter",
           "x": [
            87.9
           ],
           "y": [
            36.6
           ]
          },
          {
           "marker": {
            "size": [
             18178
            ],
            "sizemode": "area",
            "sizeref": 20
           },
           "mode": "markers",
           "name": "ETH Zurich – Swiss Federal Institute of Technology Zurich",
           "text": [
            "9"
           ],
           "type": "scatter",
           "x": [
            88.3
           ],
           "y": [
            80
           ]
          }
         ],
         "name": "2016"
        }
       ],
       "layout": {
        "hovermode": "closest",
        "sliders": [
         {
          "active": 0,
          "currentvalue": {
           "font": {
            "size": 20
           },
           "prefix": "Year:",
           "visible": true,
           "xanchor": "right"
          },
          "len": 0.9,
          "pad": {
           "b": 10,
           "t": 50
          },
          "steps": [
           {
            "args": [
             [
              2011
             ],
             {
              "frame": {
               "duration": 300,
               "redraw": false
              },
              "mode": "immediate",
              "transition": {
               "duration": 300
              }
             }
            ],
            "label": "2011",
            "method": "animate"
           },
           {
            "args": [
             [
              2012
             ],
             {
              "frame": {
               "duration": 300,
               "redraw": false
              },
              "mode": "immediate",
              "transition": {
               "duration": 300
              }
             }
            ],
            "label": "2012",
            "method": "animate"
           },
           {
            "args": [
             [
              2013
             ],
             {
              "frame": {
               "duration": 300,
               "redraw": false
              },
              "mode": "immediate",
              "transition": {
               "duration": 300
              }
             }
            ],
            "label": "2013",
            "method": "animate"
           },
           {
            "args": [
             [
              2014
             ],
             {
              "frame": {
               "duration": 300,
               "redraw": false
              },
              "mode": "immediate",
              "transition": {
               "duration": 300
              }
             }
            ],
            "label": "2014",
            "method": "animate"
           },
           {
            "args": [
             [
              2015
             ],
             {
              "frame": {
               "duration": 300,
               "redraw": false
              },
              "mode": "immediate",
              "transition": {
               "duration": 300
              }
             }
            ],
            "label": "2015",
            "method": "animate"
           },
           {
            "args": [
             [
              2016
             ],
             {
              "frame": {
               "duration": 300,
               "redraw": false
              },
              "mode": "immediate",
              "transition": {
               "duration": 300
              }
             }
            ],
            "label": "2016",
            "method": "animate"
           }
          ],
          "transition": {
           "duration": 300,
           "easing": "cubic-in-out"
          },
          "x": 0.1,
          "xanchor": "left",
          "y": 0,
          "yanchor": "top"
         }
        ],
        "template": {
         "data": {
          "bar": [
           {
            "error_x": {
             "color": "#2a3f5f"
            },
            "error_y": {
             "color": "#2a3f5f"
            },
            "marker": {
             "line": {
              "color": "#E5ECF6",
              "width": 0.5
             }
            },
            "type": "bar"
           }
          ],
          "barpolar": [
           {
            "marker": {
             "line": {
              "color": "#E5ECF6",
              "width": 0.5
             }
            },
            "type": "barpolar"
           }
          ],
          "carpet": [
           {
            "aaxis": {
             "endlinecolor": "#2a3f5f",
             "gridcolor": "white",
             "linecolor": "white",
             "minorgridcolor": "white",
             "startlinecolor": "#2a3f5f"
            },
            "baxis": {
             "endlinecolor": "#2a3f5f",
             "gridcolor": "white",
             "linecolor": "white",
             "minorgridcolor": "white",
             "startlinecolor": "#2a3f5f"
            },
            "type": "carpet"
           }
          ],
          "choropleth": [
           {
            "colorbar": {
             "outlinewidth": 0,
             "ticks": ""
            },
            "type": "choropleth"
           }
          ],
          "contour": [
           {
            "colorbar": {
             "outlinewidth": 0,
             "ticks": ""
            },
            "colorscale": [
             [
              0,
              "#0d0887"
             ],
             [
              0.1111111111111111,
              "#46039f"
             ],
             [
              0.2222222222222222,
              "#7201a8"
             ],
             [
              0.3333333333333333,
              "#9c179e"
             ],
             [
              0.4444444444444444,
              "#bd3786"
             ],
             [
              0.5555555555555556,
              "#d8576b"
             ],
             [
              0.6666666666666666,
              "#ed7953"
             ],
             [
              0.7777777777777778,
              "#fb9f3a"
             ],
             [
              0.8888888888888888,
              "#fdca26"
             ],
             [
              1,
              "#f0f921"
             ]
            ],
            "type": "contour"
           }
          ],
          "contourcarpet": [
           {
            "colorbar": {
             "outlinewidth": 0,
             "ticks": ""
            },
            "type": "contourcarpet"
           }
          ],
          "heatmap": [
           {
            "colorbar": {
             "outlinewidth": 0,
             "ticks": ""
            },
            "colorscale": [
             [
              0,
              "#0d0887"
             ],
             [
              0.1111111111111111,
              "#46039f"
             ],
             [
              0.2222222222222222,
              "#7201a8"
             ],
             [
              0.3333333333333333,
              "#9c179e"
             ],
             [
              0.4444444444444444,
              "#bd3786"
             ],
             [
              0.5555555555555556,
              "#d8576b"
             ],
             [
              0.6666666666666666,
              "#ed7953"
             ],
             [
              0.7777777777777778,
              "#fb9f3a"
             ],
             [
              0.8888888888888888,
              "#fdca26"
             ],
             [
              1,
              "#f0f921"
             ]
            ],
            "type": "heatmap"
           }
          ],
          "heatmapgl": [
           {
            "colorbar": {
             "outlinewidth": 0,
             "ticks": ""
            },
            "colorscale": [
             [
              0,
              "#0d0887"
             ],
             [
              0.1111111111111111,
              "#46039f"
             ],
             [
              0.2222222222222222,
              "#7201a8"
             ],
             [
              0.3333333333333333,
              "#9c179e"
             ],
             [
              0.4444444444444444,
              "#bd3786"
             ],
             [
              0.5555555555555556,
              "#d8576b"
             ],
             [
              0.6666666666666666,
              "#ed7953"
             ],
             [
              0.7777777777777778,
              "#fb9f3a"
             ],
             [
              0.8888888888888888,
              "#fdca26"
             ],
             [
              1,
              "#f0f921"
             ]
            ],
            "type": "heatmapgl"
           }
          ],
          "histogram": [
           {
            "marker": {
             "colorbar": {
              "outlinewidth": 0,
              "ticks": ""
             }
            },
            "type": "histogram"
           }
          ],
          "histogram2d": [
           {
            "colorbar": {
             "outlinewidth": 0,
             "ticks": ""
            },
            "colorscale": [
             [
              0,
              "#0d0887"
             ],
             [
              0.1111111111111111,
              "#46039f"
             ],
             [
              0.2222222222222222,
              "#7201a8"
             ],
             [
              0.3333333333333333,
              "#9c179e"
             ],
             [
              0.4444444444444444,
              "#bd3786"
             ],
             [
              0.5555555555555556,
              "#d8576b"
             ],
             [
              0.6666666666666666,
              "#ed7953"
             ],
             [
              0.7777777777777778,
              "#fb9f3a"
             ],
             [
              0.8888888888888888,
              "#fdca26"
             ],
             [
              1,
              "#f0f921"
             ]
            ],
            "type": "histogram2d"
           }
          ],
          "histogram2dcontour": [
           {
            "colorbar": {
             "outlinewidth": 0,
             "ticks": ""
            },
            "colorscale": [
             [
              0,
              "#0d0887"
             ],
             [
              0.1111111111111111,
              "#46039f"
             ],
             [
              0.2222222222222222,
              "#7201a8"
             ],
             [
              0.3333333333333333,
              "#9c179e"
             ],
             [
              0.4444444444444444,
              "#bd3786"
             ],
             [
              0.5555555555555556,
              "#d8576b"
             ],
             [
              0.6666666666666666,
              "#ed7953"
             ],
             [
              0.7777777777777778,
              "#fb9f3a"
             ],
             [
              0.8888888888888888,
              "#fdca26"
             ],
             [
              1,
              "#f0f921"
             ]
            ],
            "type": "histogram2dcontour"
           }
          ],
          "mesh3d": [
           {
            "colorbar": {
             "outlinewidth": 0,
             "ticks": ""
            },
            "type": "mesh3d"
           }
          ],
          "parcoords": [
           {
            "line": {
             "colorbar": {
              "outlinewidth": 0,
              "ticks": ""
             }
            },
            "type": "parcoords"
           }
          ],
          "pie": [
           {
            "automargin": true,
            "type": "pie"
           }
          ],
          "scatter": [
           {
            "marker": {
             "colorbar": {
              "outlinewidth": 0,
              "ticks": ""
             }
            },
            "type": "scatter"
           }
          ],
          "scatter3d": [
           {
            "line": {
             "colorbar": {
              "outlinewidth": 0,
              "ticks": ""
             }
            },
            "marker": {
             "colorbar": {
              "outlinewidth": 0,
              "ticks": ""
             }
            },
            "type": "scatter3d"
           }
          ],
          "scattercarpet": [
           {
            "marker": {
             "colorbar": {
              "outlinewidth": 0,
              "ticks": ""
             }
            },
            "type": "scattercarpet"
           }
          ],
          "scattergeo": [
           {
            "marker": {
             "colorbar": {
              "outlinewidth": 0,
              "ticks": ""
             }
            },
            "type": "scattergeo"
           }
          ],
          "scattergl": [
           {
            "marker": {
             "colorbar": {
              "outlinewidth": 0,
              "ticks": ""
             }
            },
            "type": "scattergl"
           }
          ],
          "scattermapbox": [
           {
            "marker": {
             "colorbar": {
              "outlinewidth": 0,
              "ticks": ""
             }
            },
            "type": "scattermapbox"
           }
          ],
          "scatterpolar": [
           {
            "marker": {
             "colorbar": {
              "outlinewidth": 0,
              "ticks": ""
             }
            },
            "type": "scatterpolar"
           }
          ],
          "scatterpolargl": [
           {
            "marker": {
             "colorbar": {
              "outlinewidth": 0,
              "ticks": ""
             }
            },
            "type": "scatterpolargl"
           }
          ],
          "scatterternary": [
           {
            "marker": {
             "colorbar": {
              "outlinewidth": 0,
              "ticks": ""
             }
            },
            "type": "scatterternary"
           }
          ],
          "surface": [
           {
            "colorbar": {
             "outlinewidth": 0,
             "ticks": ""
            },
            "colorscale": [
             [
              0,
              "#0d0887"
             ],
             [
              0.1111111111111111,
              "#46039f"
             ],
             [
              0.2222222222222222,
              "#7201a8"
             ],
             [
              0.3333333333333333,
              "#9c179e"
             ],
             [
              0.4444444444444444,
              "#bd3786"
             ],
             [
              0.5555555555555556,
              "#d8576b"
             ],
             [
              0.6666666666666666,
              "#ed7953"
             ],
             [
              0.7777777777777778,
              "#fb9f3a"
             ],
             [
              0.8888888888888888,
              "#fdca26"
             ],
             [
              1,
              "#f0f921"
             ]
            ],
            "type": "surface"
           }
          ],
          "table": [
           {
            "cells": {
             "fill": {
              "color": "#EBF0F8"
             },
             "line": {
              "color": "white"
             }
            },
            "header": {
             "fill": {
              "color": "#C8D4E3"
             },
             "line": {
              "color": "white"
             }
            },
            "type": "table"
           }
          ]
         },
         "layout": {
          "annotationdefaults": {
           "arrowcolor": "#2a3f5f",
           "arrowhead": 0,
           "arrowwidth": 1
          },
          "autotypenumbers": "strict",
          "coloraxis": {
           "colorbar": {
            "outlinewidth": 0,
            "ticks": ""
           }
          },
          "colorscale": {
           "diverging": [
            [
             0,
             "#8e0152"
            ],
            [
             0.1,
             "#c51b7d"
            ],
            [
             0.2,
             "#de77ae"
            ],
            [
             0.3,
             "#f1b6da"
            ],
            [
             0.4,
             "#fde0ef"
            ],
            [
             0.5,
             "#f7f7f7"
            ],
            [
             0.6,
             "#e6f5d0"
            ],
            [
             0.7,
             "#b8e186"
            ],
            [
             0.8,
             "#7fbc41"
            ],
            [
             0.9,
             "#4d9221"
            ],
            [
             1,
             "#276419"
            ]
           ],
           "sequential": [
            [
             0,
             "#0d0887"
            ],
            [
             0.1111111111111111,
             "#46039f"
            ],
            [
             0.2222222222222222,
             "#7201a8"
            ],
            [
             0.3333333333333333,
             "#9c179e"
            ],
            [
             0.4444444444444444,
             "#bd3786"
            ],
            [
             0.5555555555555556,
             "#d8576b"
            ],
            [
             0.6666666666666666,
             "#ed7953"
            ],
            [
             0.7777777777777778,
             "#fb9f3a"
            ],
            [
             0.8888888888888888,
             "#fdca26"
            ],
            [
             1,
             "#f0f921"
            ]
           ],
           "sequentialminus": [
            [
             0,
             "#0d0887"
            ],
            [
             0.1111111111111111,
             "#46039f"
            ],
            [
             0.2222222222222222,
             "#7201a8"
            ],
            [
             0.3333333333333333,
             "#9c179e"
            ],
            [
             0.4444444444444444,
             "#bd3786"
            ],
            [
             0.5555555555555556,
             "#d8576b"
            ],
            [
             0.6666666666666666,
             "#ed7953"
            ],
            [
             0.7777777777777778,
             "#fb9f3a"
            ],
            [
             0.8888888888888888,
             "#fdca26"
            ],
            [
             1,
             "#f0f921"
            ]
           ]
          },
          "colorway": [
           "#636efa",
           "#EF553B",
           "#00cc96",
           "#ab63fa",
           "#FFA15A",
           "#19d3f3",
           "#FF6692",
           "#B6E880",
           "#FF97FF",
           "#FECB52"
          ],
          "font": {
           "color": "#2a3f5f"
          },
          "geo": {
           "bgcolor": "white",
           "lakecolor": "white",
           "landcolor": "#E5ECF6",
           "showlakes": true,
           "showland": true,
           "subunitcolor": "white"
          },
          "hoverlabel": {
           "align": "left"
          },
          "hovermode": "closest",
          "mapbox": {
           "style": "light"
          },
          "paper_bgcolor": "white",
          "plot_bgcolor": "#E5ECF6",
          "polar": {
           "angularaxis": {
            "gridcolor": "white",
            "linecolor": "white",
            "ticks": ""
           },
           "bgcolor": "#E5ECF6",
           "radialaxis": {
            "gridcolor": "white",
            "linecolor": "white",
            "ticks": ""
           }
          },
          "scene": {
           "xaxis": {
            "backgroundcolor": "#E5ECF6",
            "gridcolor": "white",
            "gridwidth": 2,
            "linecolor": "white",
            "showbackground": true,
            "ticks": "",
            "zerolinecolor": "white"
           },
           "yaxis": {
            "backgroundcolor": "#E5ECF6",
            "gridcolor": "white",
            "gridwidth": 2,
            "linecolor": "white",
            "showbackground": true,
            "ticks": "",
            "zerolinecolor": "white"
           },
           "zaxis": {
            "backgroundcolor": "#E5ECF6",
            "gridcolor": "white",
            "gridwidth": 2,
            "linecolor": "white",
            "showbackground": true,
            "ticks": "",
            "zerolinecolor": "white"
           }
          },
          "shapedefaults": {
           "line": {
            "color": "#2a3f5f"
           }
          },
          "ternary": {
           "aaxis": {
            "gridcolor": "white",
            "linecolor": "white",
            "ticks": ""
           },
           "baxis": {
            "gridcolor": "white",
            "linecolor": "white",
            "ticks": ""
           },
           "bgcolor": "#E5ECF6",
           "caxis": {
            "gridcolor": "white",
            "linecolor": "white",
            "ticks": ""
           }
          },
          "title": {
           "x": 0.05
          },
          "xaxis": {
           "automargin": true,
           "gridcolor": "white",
           "linecolor": "white",
           "ticks": "",
           "title": {
            "standoff": 15
           },
           "zerolinecolor": "white",
           "zerolinewidth": 2
          },
          "yaxis": {
           "automargin": true,
           "gridcolor": "white",
           "linecolor": "white",
           "ticks": "",
           "title": {
            "standoff": 15
           },
           "zerolinecolor": "white",
           "zerolinewidth": 2
          }
         }
        },
        "updatemenus": [
         {
          "buttons": [
           {
            "args": [
             null,
             {
              "frame": {
               "duration": 500,
               "redraw": false
              },
              "fromcurrent": true,
              "transition": {
               "duration": 300,
               "easing": "quadratic-in-out"
              }
             }
            ],
            "label": "Play",
            "method": "animate"
           },
           {
            "args": [
             [
              null
             ],
             {
              "frame": {
               "duration": 0,
               "redraw": false
              },
              "mode": "immediate",
              "transition": {
               "duration": 0
              }
             }
            ],
            "label": "Pause",
            "method": "animate"
           }
          ],
          "direction": "left",
          "pad": {
           "r": 10,
           "t": 87
          },
          "showactive": false,
          "type": "buttons",
          "x": 0.1,
          "xanchor": "right",
          "y": 0,
          "yanchor": "top"
         }
        ],
        "xaxis": {
         "range": [
          85,
          100
         ],
         "title": {
          "text": "Total Score"
         }
        },
        "yaxis": {
         "title": {
          "text": "income"
         },
         "type": "log"
        }
       }
      },
      "text/html": [
       "<div>                            <div id=\"bf282502-a0da-4e2a-8dc7-c038ad8c6f1c\" class=\"plotly-graph-div\" style=\"height:525px; width:100%;\"></div>            <script type=\"text/javascript\">                require([\"plotly\"], function(Plotly) {                    window.PLOTLYENV=window.PLOTLYENV || {};                                    if (document.getElementById(\"bf282502-a0da-4e2a-8dc7-c038ad8c6f1c\")) {                    Plotly.newPlot(                        \"bf282502-a0da-4e2a-8dc7-c038ad8c6f1c\",                        [{\"marker\": {\"size\": [20152.0], \"sizemode\": \"area\", \"sizeref\": 20}, \"mode\": \"markers\", \"name\": \"Harvard University\", \"text\": [\"6\"], \"type\": \"scatter\", \"x\": [91.6], \"y\": [45.2]}, {\"marker\": {\"size\": [2243.0], \"sizemode\": \"area\", \"sizeref\": 20}, \"mode\": \"markers\", \"name\": \"California Institute of Technology\", \"text\": [\"1\"], \"type\": \"scatter\", \"x\": [95.2], \"y\": [97.8]}, {\"marker\": {\"size\": [11074.0], \"sizemode\": \"area\", \"sizeref\": 20}, \"mode\": \"markers\", \"name\": \"Massachusetts Institute of Technology\", \"text\": [\"5\"], \"type\": \"scatter\", \"x\": [92.0], \"y\": [95.4]}, {\"marker\": {\"size\": [15596.0], \"sizemode\": \"area\", \"sizeref\": 20}, \"mode\": \"markers\", \"name\": \"Stanford University\", \"text\": [\"3\"], \"type\": \"scatter\", \"x\": [93.9], \"y\": [63.3]}, {\"marker\": {\"size\": [7929.0], \"sizemode\": \"area\", \"sizeref\": 20}, \"mode\": \"markers\", \"name\": \"Princeton University\", \"text\": [\"7\"], \"type\": \"scatter\", \"x\": [90.1], \"y\": [52.1]}, {\"marker\": {\"size\": [18812.0], \"sizemode\": \"area\", \"sizeref\": 20}, \"mode\": \"markers\", \"name\": \"University of Cambridge\", \"text\": [\"4\"], \"type\": \"scatter\", \"x\": [92.8], \"y\": [55.0]}, {\"marker\": {\"size\": [19919.0], \"sizemode\": \"area\", \"sizeref\": 20}, \"mode\": \"markers\", \"name\": \"University of Oxford\", \"text\": [\"2\"], \"type\": \"scatter\", \"x\": [94.2], \"y\": [73.1]}, {\"marker\": {\"size\": [], \"sizemode\": \"area\", \"sizeref\": 20}, \"mode\": \"markers\", \"name\": \"University of California, Berkeley\", \"text\": [], \"type\": \"scatter\", \"x\": [], \"y\": []}, {\"marker\": {\"size\": [15060.0], \"sizemode\": \"area\", \"sizeref\": 20}, \"mode\": \"markers\", \"name\": \"Imperial College London\", \"text\": [\"8\"], \"type\": \"scatter\", \"x\": [89.1], \"y\": [53.7]}, {\"marker\": {\"size\": [], \"sizemode\": \"area\", \"sizeref\": 20}, \"mode\": \"markers\", \"name\": \"Yale University\", \"text\": [], \"type\": \"scatter\", \"x\": [], \"y\": []}, {\"marker\": {\"size\": [14221.0], \"sizemode\": \"area\", \"sizeref\": 20}, \"mode\": \"markers\", \"name\": \"University of Chicago\", \"text\": [\"10\"], \"type\": \"scatter\", \"x\": [87.9], \"y\": [36.6]}, {\"marker\": {\"size\": [18178.0], \"sizemode\": \"area\", \"sizeref\": 20}, \"mode\": \"markers\", \"name\": \"ETH Zurich \\u2013 Swiss Federal Institute of Technology Zurich\", \"text\": [\"9\"], \"type\": \"scatter\", \"x\": [88.3], \"y\": [80.0]}],                        {\"hovermode\": \"closest\", \"sliders\": [{\"active\": 0, \"currentvalue\": {\"font\": {\"size\": 20}, \"prefix\": \"Year:\", \"visible\": true, \"xanchor\": \"right\"}, \"len\": 0.9, \"pad\": {\"b\": 10, \"t\": 50}, \"steps\": [{\"args\": [[2011], {\"frame\": {\"duration\": 300, \"redraw\": false}, \"mode\": \"immediate\", \"transition\": {\"duration\": 300}}], \"label\": \"2011\", \"method\": \"animate\"}, {\"args\": [[2012], {\"frame\": {\"duration\": 300, \"redraw\": false}, \"mode\": \"immediate\", \"transition\": {\"duration\": 300}}], \"label\": \"2012\", \"method\": \"animate\"}, {\"args\": [[2013], {\"frame\": {\"duration\": 300, \"redraw\": false}, \"mode\": \"immediate\", \"transition\": {\"duration\": 300}}], \"label\": \"2013\", \"method\": \"animate\"}, {\"args\": [[2014], {\"frame\": {\"duration\": 300, \"redraw\": false}, \"mode\": \"immediate\", \"transition\": {\"duration\": 300}}], \"label\": \"2014\", \"method\": \"animate\"}, {\"args\": [[2015], {\"frame\": {\"duration\": 300, \"redraw\": false}, \"mode\": \"immediate\", \"transition\": {\"duration\": 300}}], \"label\": \"2015\", \"method\": \"animate\"}, {\"args\": [[2016], {\"frame\": {\"duration\": 300, \"redraw\": false}, \"mode\": \"immediate\", \"transition\": {\"duration\": 300}}], \"label\": \"2016\", \"method\": \"animate\"}], \"transition\": {\"duration\": 300, \"easing\": \"cubic-in-out\"}, \"x\": 0.1, \"xanchor\": \"left\", \"y\": 0, \"yanchor\": \"top\"}], \"template\": {\"data\": {\"bar\": [{\"error_x\": {\"color\": \"#2a3f5f\"}, \"error_y\": {\"color\": \"#2a3f5f\"}, \"marker\": {\"line\": {\"color\": \"#E5ECF6\", \"width\": 0.5}}, \"type\": \"bar\"}], \"barpolar\": [{\"marker\": {\"line\": {\"color\": \"#E5ECF6\", \"width\": 0.5}}, \"type\": \"barpolar\"}], \"carpet\": [{\"aaxis\": {\"endlinecolor\": \"#2a3f5f\", \"gridcolor\": \"white\", \"linecolor\": \"white\", \"minorgridcolor\": \"white\", \"startlinecolor\": \"#2a3f5f\"}, \"baxis\": {\"endlinecolor\": \"#2a3f5f\", \"gridcolor\": \"white\", \"linecolor\": \"white\", \"minorgridcolor\": \"white\", \"startlinecolor\": \"#2a3f5f\"}, \"type\": \"carpet\"}], \"choropleth\": [{\"colorbar\": {\"outlinewidth\": 0, \"ticks\": \"\"}, \"type\": \"choropleth\"}], \"contour\": [{\"colorbar\": {\"outlinewidth\": 0, \"ticks\": \"\"}, \"colorscale\": [[0.0, \"#0d0887\"], [0.1111111111111111, \"#46039f\"], [0.2222222222222222, \"#7201a8\"], [0.3333333333333333, \"#9c179e\"], [0.4444444444444444, \"#bd3786\"], [0.5555555555555556, \"#d8576b\"], [0.6666666666666666, \"#ed7953\"], [0.7777777777777778, \"#fb9f3a\"], [0.8888888888888888, \"#fdca26\"], [1.0, \"#f0f921\"]], \"type\": \"contour\"}], \"contourcarpet\": [{\"colorbar\": {\"outlinewidth\": 0, \"ticks\": \"\"}, \"type\": \"contourcarpet\"}], \"heatmap\": [{\"colorbar\": {\"outlinewidth\": 0, \"ticks\": \"\"}, \"colorscale\": [[0.0, \"#0d0887\"], [0.1111111111111111, \"#46039f\"], [0.2222222222222222, \"#7201a8\"], [0.3333333333333333, \"#9c179e\"], [0.4444444444444444, \"#bd3786\"], [0.5555555555555556, \"#d8576b\"], [0.6666666666666666, \"#ed7953\"], [0.7777777777777778, \"#fb9f3a\"], [0.8888888888888888, \"#fdca26\"], [1.0, \"#f0f921\"]], \"type\": \"heatmap\"}], \"heatmapgl\": [{\"colorbar\": {\"outlinewidth\": 0, \"ticks\": \"\"}, \"colorscale\": [[0.0, \"#0d0887\"], [0.1111111111111111, \"#46039f\"], [0.2222222222222222, \"#7201a8\"], [0.3333333333333333, \"#9c179e\"], [0.4444444444444444, \"#bd3786\"], [0.5555555555555556, \"#d8576b\"], [0.6666666666666666, \"#ed7953\"], [0.7777777777777778, \"#fb9f3a\"], [0.8888888888888888, \"#fdca26\"], [1.0, \"#f0f921\"]], \"type\": \"heatmapgl\"}], \"histogram\": [{\"marker\": {\"colorbar\": {\"outlinewidth\": 0, \"ticks\": \"\"}}, \"type\": \"histogram\"}], \"histogram2d\": [{\"colorbar\": {\"outlinewidth\": 0, \"ticks\": \"\"}, \"colorscale\": [[0.0, \"#0d0887\"], [0.1111111111111111, \"#46039f\"], [0.2222222222222222, \"#7201a8\"], [0.3333333333333333, \"#9c179e\"], [0.4444444444444444, \"#bd3786\"], [0.5555555555555556, \"#d8576b\"], [0.6666666666666666, \"#ed7953\"], [0.7777777777777778, \"#fb9f3a\"], [0.8888888888888888, \"#fdca26\"], [1.0, \"#f0f921\"]], \"type\": \"histogram2d\"}], \"histogram2dcontour\": [{\"colorbar\": {\"outlinewidth\": 0, \"ticks\": \"\"}, \"colorscale\": [[0.0, \"#0d0887\"], [0.1111111111111111, \"#46039f\"], [0.2222222222222222, \"#7201a8\"], [0.3333333333333333, \"#9c179e\"], [0.4444444444444444, \"#bd3786\"], [0.5555555555555556, \"#d8576b\"], [0.6666666666666666, \"#ed7953\"], [0.7777777777777778, \"#fb9f3a\"], [0.8888888888888888, \"#fdca26\"], [1.0, \"#f0f921\"]], \"type\": \"histogram2dcontour\"}], \"mesh3d\": [{\"colorbar\": {\"outlinewidth\": 0, \"ticks\": \"\"}, \"type\": \"mesh3d\"}], \"parcoords\": [{\"line\": {\"colorbar\": {\"outlinewidth\": 0, \"ticks\": \"\"}}, \"type\": \"parcoords\"}], \"pie\": [{\"automargin\": true, \"type\": \"pie\"}], \"scatter\": [{\"marker\": {\"colorbar\": {\"outlinewidth\": 0, \"ticks\": \"\"}}, \"type\": \"scatter\"}], \"scatter3d\": [{\"line\": {\"colorbar\": {\"outlinewidth\": 0, \"ticks\": \"\"}}, \"marker\": {\"colorbar\": {\"outlinewidth\": 0, \"ticks\": \"\"}}, \"type\": \"scatter3d\"}], \"scattercarpet\": [{\"marker\": {\"colorbar\": {\"outlinewidth\": 0, \"ticks\": \"\"}}, \"type\": \"scattercarpet\"}], \"scattergeo\": [{\"marker\": {\"colorbar\": {\"outlinewidth\": 0, \"ticks\": \"\"}}, \"type\": \"scattergeo\"}], \"scattergl\": [{\"marker\": {\"colorbar\": {\"outlinewidth\": 0, \"ticks\": \"\"}}, \"type\": \"scattergl\"}], \"scattermapbox\": [{\"marker\": {\"colorbar\": {\"outlinewidth\": 0, \"ticks\": \"\"}}, \"type\": \"scattermapbox\"}], \"scatterpolar\": [{\"marker\": {\"colorbar\": {\"outlinewidth\": 0, \"ticks\": \"\"}}, \"type\": \"scatterpolar\"}], \"scatterpolargl\": [{\"marker\": {\"colorbar\": {\"outlinewidth\": 0, \"ticks\": \"\"}}, \"type\": \"scatterpolargl\"}], \"scatterternary\": [{\"marker\": {\"colorbar\": {\"outlinewidth\": 0, \"ticks\": \"\"}}, \"type\": \"scatterternary\"}], \"surface\": [{\"colorbar\": {\"outlinewidth\": 0, \"ticks\": \"\"}, \"colorscale\": [[0.0, \"#0d0887\"], [0.1111111111111111, \"#46039f\"], [0.2222222222222222, \"#7201a8\"], [0.3333333333333333, \"#9c179e\"], [0.4444444444444444, \"#bd3786\"], [0.5555555555555556, \"#d8576b\"], [0.6666666666666666, \"#ed7953\"], [0.7777777777777778, \"#fb9f3a\"], [0.8888888888888888, \"#fdca26\"], [1.0, \"#f0f921\"]], \"type\": \"surface\"}], \"table\": [{\"cells\": {\"fill\": {\"color\": \"#EBF0F8\"}, \"line\": {\"color\": \"white\"}}, \"header\": {\"fill\": {\"color\": \"#C8D4E3\"}, \"line\": {\"color\": \"white\"}}, \"type\": \"table\"}]}, \"layout\": {\"annotationdefaults\": {\"arrowcolor\": \"#2a3f5f\", \"arrowhead\": 0, \"arrowwidth\": 1}, \"autotypenumbers\": \"strict\", \"coloraxis\": {\"colorbar\": {\"outlinewidth\": 0, \"ticks\": \"\"}}, \"colorscale\": {\"diverging\": [[0, \"#8e0152\"], [0.1, \"#c51b7d\"], [0.2, \"#de77ae\"], [0.3, \"#f1b6da\"], [0.4, \"#fde0ef\"], [0.5, \"#f7f7f7\"], [0.6, \"#e6f5d0\"], [0.7, \"#b8e186\"], [0.8, \"#7fbc41\"], [0.9, \"#4d9221\"], [1, \"#276419\"]], \"sequential\": [[0.0, \"#0d0887\"], [0.1111111111111111, \"#46039f\"], [0.2222222222222222, \"#7201a8\"], [0.3333333333333333, \"#9c179e\"], [0.4444444444444444, \"#bd3786\"], [0.5555555555555556, \"#d8576b\"], [0.6666666666666666, \"#ed7953\"], [0.7777777777777778, \"#fb9f3a\"], [0.8888888888888888, \"#fdca26\"], [1.0, \"#f0f921\"]], \"sequentialminus\": [[0.0, \"#0d0887\"], [0.1111111111111111, \"#46039f\"], [0.2222222222222222, \"#7201a8\"], [0.3333333333333333, \"#9c179e\"], [0.4444444444444444, \"#bd3786\"], [0.5555555555555556, \"#d8576b\"], [0.6666666666666666, \"#ed7953\"], [0.7777777777777778, \"#fb9f3a\"], [0.8888888888888888, \"#fdca26\"], [1.0, \"#f0f921\"]]}, \"colorway\": [\"#636efa\", \"#EF553B\", \"#00cc96\", \"#ab63fa\", \"#FFA15A\", \"#19d3f3\", \"#FF6692\", \"#B6E880\", \"#FF97FF\", \"#FECB52\"], \"font\": {\"color\": \"#2a3f5f\"}, \"geo\": {\"bgcolor\": \"white\", \"lakecolor\": \"white\", \"landcolor\": \"#E5ECF6\", \"showlakes\": true, \"showland\": true, \"subunitcolor\": \"white\"}, \"hoverlabel\": {\"align\": \"left\"}, \"hovermode\": \"closest\", \"mapbox\": {\"style\": \"light\"}, \"paper_bgcolor\": \"white\", \"plot_bgcolor\": \"#E5ECF6\", \"polar\": {\"angularaxis\": {\"gridcolor\": \"white\", \"linecolor\": \"white\", \"ticks\": \"\"}, \"bgcolor\": \"#E5ECF6\", \"radialaxis\": {\"gridcolor\": \"white\", \"linecolor\": \"white\", \"ticks\": \"\"}}, \"scene\": {\"xaxis\": {\"backgroundcolor\": \"#E5ECF6\", \"gridcolor\": \"white\", \"gridwidth\": 2, \"linecolor\": \"white\", \"showbackground\": true, \"ticks\": \"\", \"zerolinecolor\": \"white\"}, \"yaxis\": {\"backgroundcolor\": \"#E5ECF6\", \"gridcolor\": \"white\", \"gridwidth\": 2, \"linecolor\": \"white\", \"showbackground\": true, \"ticks\": \"\", \"zerolinecolor\": \"white\"}, \"zaxis\": {\"backgroundcolor\": \"#E5ECF6\", \"gridcolor\": \"white\", \"gridwidth\": 2, \"linecolor\": \"white\", \"showbackground\": true, \"ticks\": \"\", \"zerolinecolor\": \"white\"}}, \"shapedefaults\": {\"line\": {\"color\": \"#2a3f5f\"}}, \"ternary\": {\"aaxis\": {\"gridcolor\": \"white\", \"linecolor\": \"white\", \"ticks\": \"\"}, \"baxis\": {\"gridcolor\": \"white\", \"linecolor\": \"white\", \"ticks\": \"\"}, \"bgcolor\": \"#E5ECF6\", \"caxis\": {\"gridcolor\": \"white\", \"linecolor\": \"white\", \"ticks\": \"\"}}, \"title\": {\"x\": 0.05}, \"xaxis\": {\"automargin\": true, \"gridcolor\": \"white\", \"linecolor\": \"white\", \"ticks\": \"\", \"title\": {\"standoff\": 15}, \"zerolinecolor\": \"white\", \"zerolinewidth\": 2}, \"yaxis\": {\"automargin\": true, \"gridcolor\": \"white\", \"linecolor\": \"white\", \"ticks\": \"\", \"title\": {\"standoff\": 15}, \"zerolinecolor\": \"white\", \"zerolinewidth\": 2}}}, \"updatemenus\": [{\"buttons\": [{\"args\": [null, {\"frame\": {\"duration\": 500, \"redraw\": false}, \"fromcurrent\": true, \"transition\": {\"duration\": 300, \"easing\": \"quadratic-in-out\"}}], \"label\": \"Play\", \"method\": \"animate\"}, {\"args\": [[null], {\"frame\": {\"duration\": 0, \"redraw\": false}, \"mode\": \"immediate\", \"transition\": {\"duration\": 0}}], \"label\": \"Pause\", \"method\": \"animate\"}], \"direction\": \"left\", \"pad\": {\"r\": 10, \"t\": 87}, \"showactive\": false, \"type\": \"buttons\", \"x\": 0.1, \"xanchor\": \"right\", \"y\": 0, \"yanchor\": \"top\"}], \"xaxis\": {\"range\": [85, 100], \"title\": {\"text\": \"Total Score\"}}, \"yaxis\": {\"title\": {\"text\": \"income\"}, \"type\": \"log\"}},                        {\"responsive\": true}                    ).then(function(){\n",
       "                            Plotly.addFrames('bf282502-a0da-4e2a-8dc7-c038ad8c6f1c', [{\"data\": [{\"marker\": {\"size\": [20152.0], \"sizemode\": \"area\", \"sizeref\": 20}, \"mode\": \"markers\", \"name\": \"Harvard University\", \"text\": [\"1\"], \"x\": [96.1], \"y\": [34.5], \"type\": \"scatter\"}, {\"marker\": {\"size\": [2243.0], \"sizemode\": \"area\", \"sizeref\": 20}, \"mode\": \"markers\", \"name\": \"California Institute of Technology\", \"text\": [\"2\"], \"x\": [96.0], \"y\": [83.7], \"type\": \"scatter\"}, {\"marker\": {\"size\": [11074.0], \"sizemode\": \"area\", \"sizeref\": 20}, \"mode\": \"markers\", \"name\": \"Massachusetts Institute of Technology\", \"text\": [\"3\"], \"x\": [95.6], \"y\": [87.5], \"type\": \"scatter\"}, {\"marker\": {\"size\": [15596.0], \"sizemode\": \"area\", \"sizeref\": 20}, \"mode\": \"markers\", \"name\": \"Stanford University\", \"text\": [\"4\"], \"x\": [94.3], \"y\": [64.3], \"type\": \"scatter\"}, {\"marker\": {\"size\": [7929.0], \"sizemode\": \"area\", \"sizeref\": 20}, \"mode\": \"markers\", \"name\": \"Princeton University\", \"text\": [\"5\"], \"x\": [94.2], \"y\": [0.0], \"type\": \"scatter\"}, {\"marker\": {\"size\": [18812.0], \"sizemode\": \"area\", \"sizeref\": 20}, \"mode\": \"markers\", \"name\": \"University of Cambridge\", \"text\": [\"6\"], \"x\": [91.2], \"y\": [57.0], \"type\": \"scatter\"}, {\"marker\": {\"size\": [19919.0], \"sizemode\": \"area\", \"sizeref\": 20}, \"mode\": \"markers\", \"name\": \"University of Oxford\", \"text\": [\"6\"], \"x\": [91.2], \"y\": [73.5], \"type\": \"scatter\"}, {\"marker\": {\"size\": [36186.0], \"sizemode\": \"area\", \"sizeref\": 20}, \"mode\": \"markers\", \"name\": \"University of California, Berkeley\", \"text\": [\"8\"], \"x\": [91.1], \"y\": [0.0], \"type\": \"scatter\"}, {\"marker\": {\"size\": [15060.0], \"sizemode\": \"area\", \"sizeref\": 20}, \"mode\": \"markers\", \"name\": \"Imperial College London\", \"text\": [\"9\"], \"x\": [90.6], \"y\": [92.9], \"type\": \"scatter\"}, {\"marker\": {\"size\": [11751.0], \"sizemode\": \"area\", \"sizeref\": 20}, \"mode\": \"markers\", \"name\": \"Yale University\", \"text\": [\"10\"], \"x\": [89.5], \"y\": [0.0], \"type\": \"scatter\"}, {\"marker\": {\"size\": [], \"sizemode\": \"area\", \"sizeref\": 20}, \"mode\": \"markers\", \"name\": \"University of Chicago\", \"text\": [], \"x\": [], \"y\": [], \"type\": \"scatter\"}, {\"marker\": {\"size\": [], \"sizemode\": \"area\", \"sizeref\": 20}, \"mode\": \"markers\", \"name\": \"ETH Zurich \\u2013 Swiss Federal Institute of Technology Zurich\", \"text\": [], \"x\": [], \"y\": [], \"type\": \"scatter\"}], \"name\": \"2011\"}, {\"data\": [{\"marker\": {\"size\": [20152.0], \"sizemode\": \"area\", \"sizeref\": 20}, \"mode\": \"markers\", \"name\": \"Harvard University\", \"text\": [\"2\"], \"x\": [93.9], \"y\": [35.9], \"type\": \"scatter\"}, {\"marker\": {\"size\": [2243.0], \"sizemode\": \"area\", \"sizeref\": 20}, \"mode\": \"markers\", \"name\": \"California Institute of Technology\", \"text\": [\"1\"], \"x\": [94.8], \"y\": [97.0], \"type\": \"scatter\"}, {\"marker\": {\"size\": [11074.0], \"sizemode\": \"area\", \"sizeref\": 20}, \"mode\": \"markers\", \"name\": \"Massachusetts Institute of Technology\", \"text\": [\"7\"], \"x\": [92.3], \"y\": [94.4], \"type\": \"scatter\"}, {\"marker\": {\"size\": [15596.0], \"sizemode\": \"area\", \"sizeref\": 20}, \"mode\": \"markers\", \"name\": \"Stanford University\", \"text\": [\"2\"], \"x\": [93.9], \"y\": [63.8], \"type\": \"scatter\"}, {\"marker\": {\"size\": [7929.0], \"sizemode\": \"area\", \"sizeref\": 20}, \"mode\": \"markers\", \"name\": \"Princeton University\", \"text\": [\"5\"], \"x\": [92.9], \"y\": [81.0], \"type\": \"scatter\"}, {\"marker\": {\"size\": [18812.0], \"sizemode\": \"area\", \"sizeref\": 20}, \"mode\": \"markers\", \"name\": \"University of Cambridge\", \"text\": [\"6\"], \"x\": [92.4], \"y\": [55.5], \"type\": \"scatter\"}, {\"marker\": {\"size\": [19919.0], \"sizemode\": \"area\", \"sizeref\": 20}, \"mode\": \"markers\", \"name\": \"University of Oxford\", \"text\": [\"4\"], \"x\": [93.6], \"y\": [62.1], \"type\": \"scatter\"}, {\"marker\": {\"size\": [36186.0], \"sizemode\": \"area\", \"sizeref\": 20}, \"mode\": \"markers\", \"name\": \"University of California, Berkeley\", \"text\": [\"10\"], \"x\": [89.8], \"y\": [62.5], \"type\": \"scatter\"}, {\"marker\": {\"size\": [15060.0], \"sizemode\": \"area\", \"sizeref\": 20}, \"mode\": \"markers\", \"name\": \"Imperial College London\", \"text\": [\"8\"], \"x\": [90.7], \"y\": [93.1], \"type\": \"scatter\"}, {\"marker\": {\"size\": [], \"sizemode\": \"area\", \"sizeref\": 20}, \"mode\": \"markers\", \"name\": \"Yale University\", \"text\": [], \"x\": [], \"y\": [], \"type\": \"scatter\"}, {\"marker\": {\"size\": [14221.0], \"sizemode\": \"area\", \"sizeref\": 20}, \"mode\": \"markers\", \"name\": \"University of Chicago\", \"text\": [\"9\"], \"x\": [90.2], \"y\": [0.0], \"type\": \"scatter\"}, {\"marker\": {\"size\": [], \"sizemode\": \"area\", \"sizeref\": 20}, \"mode\": \"markers\", \"name\": \"ETH Zurich \\u2013 Swiss Federal Institute of Technology Zurich\", \"text\": [], \"x\": [], \"y\": [], \"type\": \"scatter\"}], \"name\": \"2012\"}, {\"data\": [{\"marker\": {\"size\": [20152.0], \"sizemode\": \"area\", \"sizeref\": 20}, \"mode\": \"markers\", \"name\": \"Harvard University\", \"text\": [\"4\"], \"x\": [93.6], \"y\": [39.9], \"type\": \"scatter\"}, {\"marker\": {\"size\": [2243.0], \"sizemode\": \"area\", \"sizeref\": 20}, \"mode\": \"markers\", \"name\": \"California Institute of Technology\", \"text\": [\"1\"], \"x\": [95.5], \"y\": [95.6], \"type\": \"scatter\"}, {\"marker\": {\"size\": [11074.0], \"sizemode\": \"area\", \"sizeref\": 20}, \"mode\": \"markers\", \"name\": \"Massachusetts Institute of Technology\", \"text\": [\"5\"], \"x\": [93.1], \"y\": [92.9], \"type\": \"scatter\"}, {\"marker\": {\"size\": [15596.0], \"sizemode\": \"area\", \"sizeref\": 20}, \"mode\": \"markers\", \"name\": \"Stanford University\", \"text\": [\"2\"], \"x\": [93.7], \"y\": [62.4], \"type\": \"scatter\"}, {\"marker\": {\"size\": [7929.0], \"sizemode\": \"area\", \"sizeref\": 20}, \"mode\": \"markers\", \"name\": \"Princeton University\", \"text\": [\"6\"], \"x\": [92.7], \"y\": [79.5], \"type\": \"scatter\"}, {\"marker\": {\"size\": [18812.0], \"sizemode\": \"area\", \"sizeref\": 20}, \"mode\": \"markers\", \"name\": \"University of Cambridge\", \"text\": [\"7\"], \"x\": [92.6], \"y\": [59.1], \"type\": \"scatter\"}, {\"marker\": {\"size\": [19919.0], \"sizemode\": \"area\", \"sizeref\": 20}, \"mode\": \"markers\", \"name\": \"University of Oxford\", \"text\": [\"2\"], \"x\": [93.7], \"y\": [79.8], \"type\": \"scatter\"}, {\"marker\": {\"size\": [36186.0], \"sizemode\": \"area\", \"sizeref\": 20}, \"mode\": \"markers\", \"name\": \"University of California, Berkeley\", \"text\": [\"9\"], \"x\": [90.5], \"y\": [65.4], \"type\": \"scatter\"}, {\"marker\": {\"size\": [15060.0], \"sizemode\": \"area\", \"sizeref\": 20}, \"mode\": \"markers\", \"name\": \"Imperial College London\", \"text\": [\"8\"], \"x\": [90.6], \"y\": [87.5], \"type\": \"scatter\"}, {\"marker\": {\"size\": [], \"sizemode\": \"area\", \"sizeref\": 20}, \"mode\": \"markers\", \"name\": \"Yale University\", \"text\": [], \"x\": [], \"y\": [], \"type\": \"scatter\"}, {\"marker\": {\"size\": [14221.0], \"sizemode\": \"area\", \"sizeref\": 20}, \"mode\": \"markers\", \"name\": \"University of Chicago\", \"text\": [\"10\"], \"x\": [90.4], \"y\": [0.0], \"type\": \"scatter\"}, {\"marker\": {\"size\": [], \"sizemode\": \"area\", \"sizeref\": 20}, \"mode\": \"markers\", \"name\": \"ETH Zurich \\u2013 Swiss Federal Institute of Technology Zurich\", \"text\": [], \"x\": [], \"y\": [], \"type\": \"scatter\"}], \"name\": \"2013\"}, {\"data\": [{\"marker\": {\"size\": [20152.0], \"sizemode\": \"area\", \"sizeref\": 20}, \"mode\": \"markers\", \"name\": \"Harvard University\", \"text\": [\"2\"], \"x\": [93.9], \"y\": [40.6], \"type\": \"scatter\"}, {\"marker\": {\"size\": [2243.0], \"sizemode\": \"area\", \"sizeref\": 20}, \"mode\": \"markers\", \"name\": \"California Institute of Technology\", \"text\": [\"1\"], \"x\": [94.9], \"y\": [91.2], \"type\": \"scatter\"}, {\"marker\": {\"size\": [11074.0], \"sizemode\": \"area\", \"sizeref\": 20}, \"mode\": \"markers\", \"name\": \"Massachusetts Institute of Technology\", \"text\": [\"5\"], \"x\": [93.0], \"y\": [94.3], \"type\": \"scatter\"}, {\"marker\": {\"size\": [15596.0], \"sizemode\": \"area\", \"sizeref\": 20}, \"mode\": \"markers\", \"name\": \"Stanford University\", \"text\": [\"4\"], \"x\": [93.8], \"y\": [61.3], \"type\": \"scatter\"}, {\"marker\": {\"size\": [7929.0], \"sizemode\": \"area\", \"sizeref\": 20}, \"mode\": \"markers\", \"name\": \"Princeton University\", \"text\": [\"6\"], \"x\": [92.7], \"y\": [80.5], \"type\": \"scatter\"}, {\"marker\": {\"size\": [18812.0], \"sizemode\": \"area\", \"sizeref\": 20}, \"mode\": \"markers\", \"name\": \"University of Cambridge\", \"text\": [\"7\"], \"x\": [92.3], \"y\": [52.8], \"type\": \"scatter\"}, {\"marker\": {\"size\": [19919.0], \"sizemode\": \"area\", \"sizeref\": 20}, \"mode\": \"markers\", \"name\": \"University of Oxford\", \"text\": [\"2\"], \"x\": [93.9], \"y\": [90.3], \"type\": \"scatter\"}, {\"marker\": {\"size\": [36186.0], \"sizemode\": \"area\", \"sizeref\": 20}, \"mode\": \"markers\", \"name\": \"University of California, Berkeley\", \"text\": [\"8\"], \"x\": [89.8], \"y\": [59.5], \"type\": \"scatter\"}, {\"marker\": {\"size\": [15060.0], \"sizemode\": \"area\", \"sizeref\": 20}, \"mode\": \"markers\", \"name\": \"Imperial College London\", \"text\": [\"10\"], \"x\": [87.5], \"y\": [72.3], \"type\": \"scatter\"}, {\"marker\": {\"size\": [], \"sizemode\": \"area\", \"sizeref\": 20}, \"mode\": \"markers\", \"name\": \"Yale University\", \"text\": [], \"x\": [], \"y\": [], \"type\": \"scatter\"}, {\"marker\": {\"size\": [14221.0], \"sizemode\": \"area\", \"sizeref\": 20}, \"mode\": \"markers\", \"name\": \"University of Chicago\", \"text\": [\"9\"], \"x\": [87.8], \"y\": [0.0], \"type\": \"scatter\"}, {\"marker\": {\"size\": [], \"sizemode\": \"area\", \"sizeref\": 20}, \"mode\": \"markers\", \"name\": \"ETH Zurich \\u2013 Swiss Federal Institute of Technology Zurich\", \"text\": [], \"x\": [], \"y\": [], \"type\": \"scatter\"}], \"name\": \"2014\"}, {\"data\": [{\"marker\": {\"size\": [20152.0], \"sizemode\": \"area\", \"sizeref\": 20}, \"mode\": \"markers\", \"name\": \"Harvard University\", \"text\": [\"2\"], \"x\": [93.3], \"y\": [44.0], \"type\": \"scatter\"}, {\"marker\": {\"size\": [2243.0], \"sizemode\": \"area\", \"sizeref\": 20}, \"mode\": \"markers\", \"name\": \"California Institute of Technology\", \"text\": [\"1\"], \"x\": [94.3], \"y\": [89.1], \"type\": \"scatter\"}, {\"marker\": {\"size\": [11074.0], \"sizemode\": \"area\", \"sizeref\": 20}, \"mode\": \"markers\", \"name\": \"Massachusetts Institute of Technology\", \"text\": [\"6\"], \"x\": [91.9], \"y\": [95.7], \"type\": \"scatter\"}, {\"marker\": {\"size\": [15596.0], \"sizemode\": \"area\", \"sizeref\": 20}, \"mode\": \"markers\", \"name\": \"Stanford University\", \"text\": [\"4\"], \"x\": [92.9], \"y\": [63.1], \"type\": \"scatter\"}, {\"marker\": {\"size\": [7929.0], \"sizemode\": \"area\", \"sizeref\": 20}, \"mode\": \"markers\", \"name\": \"Princeton University\", \"text\": [\"7\"], \"x\": [90.9], \"y\": [82.7], \"type\": \"scatter\"}, {\"marker\": {\"size\": [18812.0], \"sizemode\": \"area\", \"sizeref\": 20}, \"mode\": \"markers\", \"name\": \"University of Cambridge\", \"text\": [\"5\"], \"x\": [92.0], \"y\": [51.1], \"type\": \"scatter\"}, {\"marker\": {\"size\": [19919.0], \"sizemode\": \"area\", \"sizeref\": 20}, \"mode\": \"markers\", \"name\": \"University of Oxford\", \"text\": [\"3\"], \"x\": [93.2], \"y\": [72.9], \"type\": \"scatter\"}, {\"marker\": {\"size\": [36186.0], \"sizemode\": \"area\", \"sizeref\": 20}, \"mode\": \"markers\", \"name\": \"University of California, Berkeley\", \"text\": [\"8\"], \"x\": [89.5], \"y\": [44.8], \"type\": \"scatter\"}, {\"marker\": {\"size\": [15060.0], \"sizemode\": \"area\", \"sizeref\": 20}, \"mode\": \"markers\", \"name\": \"Imperial College London\", \"text\": [\"9\"], \"x\": [87.5], \"y\": [72.7], \"type\": \"scatter\"}, {\"marker\": {\"size\": [11751.0], \"sizemode\": \"area\", \"sizeref\": 20}, \"mode\": \"markers\", \"name\": \"Yale University\", \"text\": [\"9\"], \"x\": [87.5], \"y\": [42.0], \"type\": \"scatter\"}, {\"marker\": {\"size\": [], \"sizemode\": \"area\", \"sizeref\": 20}, \"mode\": \"markers\", \"name\": \"University of Chicago\", \"text\": [], \"x\": [], \"y\": [], \"type\": \"scatter\"}, {\"marker\": {\"size\": [], \"sizemode\": \"area\", \"sizeref\": 20}, \"mode\": \"markers\", \"name\": \"ETH Zurich \\u2013 Swiss Federal Institute of Technology Zurich\", \"text\": [], \"x\": [], \"y\": [], \"type\": \"scatter\"}], \"name\": \"2015\"}, {\"data\": [{\"marker\": {\"size\": [20152.0], \"sizemode\": \"area\", \"sizeref\": 20}, \"mode\": \"markers\", \"name\": \"Harvard University\", \"text\": [\"6\"], \"x\": [91.6], \"y\": [45.2], \"type\": \"scatter\"}, {\"marker\": {\"size\": [2243.0], \"sizemode\": \"area\", \"sizeref\": 20}, \"mode\": \"markers\", \"name\": \"California Institute of Technology\", \"text\": [\"1\"], \"x\": [95.2], \"y\": [97.8], \"type\": \"scatter\"}, {\"marker\": {\"size\": [11074.0], \"sizemode\": \"area\", \"sizeref\": 20}, \"mode\": \"markers\", \"name\": \"Massachusetts Institute of Technology\", \"text\": [\"5\"], \"x\": [92.0], \"y\": [95.4], \"type\": \"scatter\"}, {\"marker\": {\"size\": [15596.0], \"sizemode\": \"area\", \"sizeref\": 20}, \"mode\": \"markers\", \"name\": \"Stanford University\", \"text\": [\"3\"], \"x\": [93.9], \"y\": [63.3], \"type\": \"scatter\"}, {\"marker\": {\"size\": [7929.0], \"sizemode\": \"area\", \"sizeref\": 20}, \"mode\": \"markers\", \"name\": \"Princeton University\", \"text\": [\"7\"], \"x\": [90.1], \"y\": [52.1], \"type\": \"scatter\"}, {\"marker\": {\"size\": [18812.0], \"sizemode\": \"area\", \"sizeref\": 20}, \"mode\": \"markers\", \"name\": \"University of Cambridge\", \"text\": [\"4\"], \"x\": [92.8], \"y\": [55.0], \"type\": \"scatter\"}, {\"marker\": {\"size\": [19919.0], \"sizemode\": \"area\", \"sizeref\": 20}, \"mode\": \"markers\", \"name\": \"University of Oxford\", \"text\": [\"2\"], \"x\": [94.2], \"y\": [73.1], \"type\": \"scatter\"}, {\"marker\": {\"size\": [], \"sizemode\": \"area\", \"sizeref\": 20}, \"mode\": \"markers\", \"name\": \"University of California, Berkeley\", \"text\": [], \"x\": [], \"y\": [], \"type\": \"scatter\"}, {\"marker\": {\"size\": [15060.0], \"sizemode\": \"area\", \"sizeref\": 20}, \"mode\": \"markers\", \"name\": \"Imperial College London\", \"text\": [\"8\"], \"x\": [89.1], \"y\": [53.7], \"type\": \"scatter\"}, {\"marker\": {\"size\": [], \"sizemode\": \"area\", \"sizeref\": 20}, \"mode\": \"markers\", \"name\": \"Yale University\", \"text\": [], \"x\": [], \"y\": [], \"type\": \"scatter\"}, {\"marker\": {\"size\": [14221.0], \"sizemode\": \"area\", \"sizeref\": 20}, \"mode\": \"markers\", \"name\": \"University of Chicago\", \"text\": [\"10\"], \"x\": [87.9], \"y\": [36.6], \"type\": \"scatter\"}, {\"marker\": {\"size\": [18178.0], \"sizemode\": \"area\", \"sizeref\": 20}, \"mode\": \"markers\", \"name\": \"ETH Zurich \\u2013 Swiss Federal Institute of Technology Zurich\", \"text\": [\"9\"], \"x\": [88.3], \"y\": [80.0], \"type\": \"scatter\"}], \"name\": \"2016\"}]);\n",
       "                        }).then(function(){\n",
       "                            \n",
       "var gd = document.getElementById('bf282502-a0da-4e2a-8dc7-c038ad8c6f1c');\n",
       "var x = new MutationObserver(function (mutations, observer) {{\n",
       "        var display = window.getComputedStyle(gd).display;\n",
       "        if (!display || display === 'none') {{\n",
       "            console.log([gd, 'removed!']);\n",
       "            Plotly.purge(gd);\n",
       "            observer.disconnect();\n",
       "        }}\n",
       "}});\n",
       "\n",
       "// Listen for the removal of the full notebook cells\n",
       "var notebookContainer = gd.closest('#notebook-container');\n",
       "if (notebookContainer) {{\n",
       "    x.observe(notebookContainer, {childList: true});\n",
       "}}\n",
       "\n",
       "// Listen for the clearing of the current output cell\n",
       "var outputEl = gd.closest('.output');\n",
       "if (outputEl) {{\n",
       "    x.observe(outputEl, {childList: true});\n",
       "}}\n",
       "\n",
       "                        })                };                });            </script>        </div>"
      ]
     },
     "metadata": {},
     "output_type": "display_data"
    }
   ],
   "source": [
    "# make figure\n",
    "fig_dict = {\n",
    "    \"data\": [],\n",
    "    \"layout\": {},\n",
    "    \"frames\": []\n",
    "}\n",
    "\n",
    "# fill in most of layout\n",
    "fig_dict[\"layout\"][\"xaxis\"] = {\"range\": [85, 100], \"title\": \"Total Score\"}\n",
    "fig_dict[\"layout\"][\"yaxis\"] = {\"title\": \"income\", \"type\": \"log\"}\n",
    "fig_dict[\"layout\"][\"hovermode\"] = \"closest\"\n",
    "fig_dict[\"layout\"][\"updatemenus\"] = [\n",
    "    {\n",
    "        \"buttons\": [\n",
    "            {\n",
    "                \"args\": [None, {\"frame\": {\"duration\": 500, \"redraw\": False},\n",
    "                                \"fromcurrent\": True, \"transition\": {\"duration\": 300,\n",
    "                                                                    \"easing\": \"quadratic-in-out\"}}],\n",
    "                \"label\": \"Play\",\n",
    "                \"method\": \"animate\"\n",
    "            },\n",
    "            {\n",
    "                \"args\": [[None], {\"frame\": {\"duration\": 0, \"redraw\": False},\n",
    "                                  \"mode\": \"immediate\",\n",
    "                                  \"transition\": {\"duration\": 0}}],\n",
    "                \"label\": \"Pause\",\n",
    "                \"method\": \"animate\"\n",
    "            }\n",
    "        ],\n",
    "        \"direction\": \"left\",\n",
    "        \"pad\": {\"r\": 10, \"t\": 87},\n",
    "        \"showactive\": False,\n",
    "        \"type\": \"buttons\",\n",
    "        \"x\": 0.1,\n",
    "        \"xanchor\": \"right\",\n",
    "        \"y\": 0,\n",
    "        \"yanchor\": \"top\"\n",
    "    }\n",
    "]\n",
    "\n",
    "sliders_dict = {\n",
    "    \"active\": 0,\n",
    "    \"yanchor\": \"top\",\n",
    "    \"xanchor\": \"left\",\n",
    "    \"currentvalue\": {\n",
    "        \"font\": {\"size\": 20},\n",
    "        \"prefix\": \"Year:\",\n",
    "        \"visible\": True,\n",
    "        \"xanchor\": \"right\"\n",
    "    },\n",
    "    \"transition\": {\"duration\": 300, \"easing\": \"cubic-in-out\"},\n",
    "    \"pad\": {\"b\": 10, \"t\": 50},\n",
    "    \"len\": 0.9,\n",
    "    \"x\": 0.1,\n",
    "    \"y\": 0,\n",
    "    \"steps\": []\n",
    "}\n",
    "\n",
    "\n",
    "# make data\n",
    "year = 2016\n",
    "for name in names:\n",
    "    dataset_by_year = top_10[top_10[\"year\"] == year]\n",
    "    dataset_by_year_and_name = dataset_by_year[\n",
    "        dataset_by_year[\"university_name\"] == name]\n",
    "\n",
    "    data_dict = {\n",
    "        \"x\": list(dataset_by_year_and_name[\"total_score\"]),\n",
    "        \"y\": list(dataset_by_year_and_name[\"income\"]),\n",
    "        \"mode\": \"markers\",\n",
    "        \"text\": list(dataset_by_year_and_name[\"world_rank\"]),\n",
    "        \"marker\": {\n",
    "            \"sizemode\": \"area\",\n",
    "            \"sizeref\": 20,\n",
    "            \"size\": list(dataset_by_year_and_name[\"num_students\"])\n",
    "        },\n",
    "        \"name\": name\n",
    "    }\n",
    "    fig_dict[\"data\"].append(data_dict)\n",
    "    \n",
    "\n",
    "# make frames\n",
    "for year in years:\n",
    "    frame = {\"data\": [], \"name\": str(year)}\n",
    "    for name in names:\n",
    "        dataset_by_year = top_10[top_10[\"year\"] == int(year)]\n",
    "        dataset_by_year_and_name = dataset_by_year[\n",
    "            dataset_by_year[\"university_name\"] == name]\n",
    "\n",
    "        data_dict = {\n",
    "            \"x\": list(dataset_by_year_and_name[\"total_score\"]),\n",
    "            \"y\": list(dataset_by_year_and_name[\"income\"]),\n",
    "            \"mode\": \"markers\",\n",
    "            \"text\": list(dataset_by_year_and_name[\"world_rank\"]),\n",
    "            \"marker\": {\n",
    "                \"sizemode\": \"area\",\n",
    "                \"sizeref\": 20,\n",
    "                \"size\": list(dataset_by_year_and_name[\"num_students\"])\n",
    "            },\n",
    "            \"name\": name\n",
    "        }\n",
    "        frame[\"data\"].append(data_dict)\n",
    "\n",
    "    fig_dict[\"frames\"].append(frame)\n",
    "    slider_step = {\"args\": [\n",
    "        [year],\n",
    "        {\"frame\": {\"duration\": 300, \"redraw\": False},\n",
    "         \"mode\": \"immediate\",\n",
    "         \"transition\": {\"duration\": 300}}\n",
    "    ],\n",
    "        \"label\": year,\n",
    "        \"method\": \"animate\"}\n",
    "    sliders_dict[\"steps\"].append(slider_step)\n",
    "\n",
    "    \n",
    "fig_dict[\"layout\"][\"sliders\"] = [sliders_dict]\n",
    "\n",
    "fig = go.Figure(fig_dict)\n",
    "\n",
    "fig.show()"
   ]
  },
  {
   "cell_type": "markdown",
   "metadata": {},
   "source": [
    "## Using plotly express without play and pause button"
   ]
  },
  {
   "cell_type": "code",
   "execution_count": 535,
   "metadata": {
    "scrolled": true
   },
   "outputs": [
    {
     "data": {
      "application/vnd.plotly.v1+json": {
       "config": {
        "plotlyServerURL": "https://plot.ly"
       },
       "data": [
        {
         "hovertemplate": "<b>%{hovertext}</b><br><br>university_name=Harvard University<br>year=2011<br>total_score=%{x}<br>income=%{y}<br>num_students=%{marker.size}<extra></extra>",
         "hovertext": [
          1
         ],
         "ids": [
          "Harvard University"
         ],
         "legendgroup": "Harvard University",
         "marker": {
          "color": "#636efa",
          "size": [
           20152
          ],
          "sizemode": "area",
          "sizeref": 90.465,
          "symbol": "circle"
         },
         "mode": "markers",
         "name": "Harvard University",
         "orientation": "v",
         "showlegend": true,
         "type": "scatter",
         "x": [
          96.1
         ],
         "xaxis": "x",
         "y": [
          34.5
         ],
         "yaxis": "y"
        },
        {
         "hovertemplate": "<b>%{hovertext}</b><br><br>university_name=California Institute of Technology<br>year=2011<br>total_score=%{x}<br>income=%{y}<br>num_students=%{marker.size}<extra></extra>",
         "hovertext": [
          2
         ],
         "ids": [
          "California Institute of Technology"
         ],
         "legendgroup": "California Institute of Technology",
         "marker": {
          "color": "#EF553B",
          "size": [
           2243
          ],
          "sizemode": "area",
          "sizeref": 90.465,
          "symbol": "circle"
         },
         "mode": "markers",
         "name": "California Institute of Technology",
         "orientation": "v",
         "showlegend": true,
         "type": "scatter",
         "x": [
          96
         ],
         "xaxis": "x",
         "y": [
          83.7
         ],
         "yaxis": "y"
        },
        {
         "hovertemplate": "<b>%{hovertext}</b><br><br>university_name=Massachusetts Institute of Technology<br>year=2011<br>total_score=%{x}<br>income=%{y}<br>num_students=%{marker.size}<extra></extra>",
         "hovertext": [
          3
         ],
         "ids": [
          "Massachusetts Institute of Technology"
         ],
         "legendgroup": "Massachusetts Institute of Technology",
         "marker": {
          "color": "#00cc96",
          "size": [
           11074
          ],
          "sizemode": "area",
          "sizeref": 90.465,
          "symbol": "circle"
         },
         "mode": "markers",
         "name": "Massachusetts Institute of Technology",
         "orientation": "v",
         "showlegend": true,
         "type": "scatter",
         "x": [
          95.6
         ],
         "xaxis": "x",
         "y": [
          87.5
         ],
         "yaxis": "y"
        },
        {
         "hovertemplate": "<b>%{hovertext}</b><br><br>university_name=Stanford University<br>year=2011<br>total_score=%{x}<br>income=%{y}<br>num_students=%{marker.size}<extra></extra>",
         "hovertext": [
          4
         ],
         "ids": [
          "Stanford University"
         ],
         "legendgroup": "Stanford University",
         "marker": {
          "color": "#ab63fa",
          "size": [
           15596
          ],
          "sizemode": "area",
          "sizeref": 90.465,
          "symbol": "circle"
         },
         "mode": "markers",
         "name": "Stanford University",
         "orientation": "v",
         "showlegend": true,
         "type": "scatter",
         "x": [
          94.3
         ],
         "xaxis": "x",
         "y": [
          64.3
         ],
         "yaxis": "y"
        },
        {
         "hovertemplate": "<b>%{hovertext}</b><br><br>university_name=Princeton University<br>year=2011<br>total_score=%{x}<br>income=%{y}<br>num_students=%{marker.size}<extra></extra>",
         "hovertext": [
          5
         ],
         "ids": [
          "Princeton University"
         ],
         "legendgroup": "Princeton University",
         "marker": {
          "color": "#FFA15A",
          "size": [
           7929
          ],
          "sizemode": "area",
          "sizeref": 90.465,
          "symbol": "circle"
         },
         "mode": "markers",
         "name": "Princeton University",
         "orientation": "v",
         "showlegend": true,
         "type": "scatter",
         "x": [
          94.2
         ],
         "xaxis": "x",
         "y": [
          0
         ],
         "yaxis": "y"
        },
        {
         "hovertemplate": "<b>%{hovertext}</b><br><br>university_name=University of Cambridge<br>year=2011<br>total_score=%{x}<br>income=%{y}<br>num_students=%{marker.size}<extra></extra>",
         "hovertext": [
          6
         ],
         "ids": [
          "University of Cambridge"
         ],
         "legendgroup": "University of Cambridge",
         "marker": {
          "color": "#19d3f3",
          "size": [
           18812
          ],
          "sizemode": "area",
          "sizeref": 90.465,
          "symbol": "circle"
         },
         "mode": "markers",
         "name": "University of Cambridge",
         "orientation": "v",
         "showlegend": true,
         "type": "scatter",
         "x": [
          91.2
         ],
         "xaxis": "x",
         "y": [
          57
         ],
         "yaxis": "y"
        },
        {
         "hovertemplate": "<b>%{hovertext}</b><br><br>university_name=University of Oxford<br>year=2011<br>total_score=%{x}<br>income=%{y}<br>num_students=%{marker.size}<extra></extra>",
         "hovertext": [
          6
         ],
         "ids": [
          "University of Oxford"
         ],
         "legendgroup": "University of Oxford",
         "marker": {
          "color": "#FF6692",
          "size": [
           19919
          ],
          "sizemode": "area",
          "sizeref": 90.465,
          "symbol": "circle"
         },
         "mode": "markers",
         "name": "University of Oxford",
         "orientation": "v",
         "showlegend": true,
         "type": "scatter",
         "x": [
          91.2
         ],
         "xaxis": "x",
         "y": [
          73.5
         ],
         "yaxis": "y"
        },
        {
         "hovertemplate": "<b>%{hovertext}</b><br><br>university_name=University of California, Berkeley<br>year=2011<br>total_score=%{x}<br>income=%{y}<br>num_students=%{marker.size}<extra></extra>",
         "hovertext": [
          8
         ],
         "ids": [
          "University of California, Berkeley"
         ],
         "legendgroup": "University of California, Berkeley",
         "marker": {
          "color": "#B6E880",
          "size": [
           36186
          ],
          "sizemode": "area",
          "sizeref": 90.465,
          "symbol": "circle"
         },
         "mode": "markers",
         "name": "University of California, Berkeley",
         "orientation": "v",
         "showlegend": true,
         "type": "scatter",
         "x": [
          91.1
         ],
         "xaxis": "x",
         "y": [
          0
         ],
         "yaxis": "y"
        },
        {
         "hovertemplate": "<b>%{hovertext}</b><br><br>university_name=Imperial College London<br>year=2011<br>total_score=%{x}<br>income=%{y}<br>num_students=%{marker.size}<extra></extra>",
         "hovertext": [
          9
         ],
         "ids": [
          "Imperial College London"
         ],
         "legendgroup": "Imperial College London",
         "marker": {
          "color": "#FF97FF",
          "size": [
           15060
          ],
          "sizemode": "area",
          "sizeref": 90.465,
          "symbol": "circle"
         },
         "mode": "markers",
         "name": "Imperial College London",
         "orientation": "v",
         "showlegend": true,
         "type": "scatter",
         "x": [
          90.6
         ],
         "xaxis": "x",
         "y": [
          92.9
         ],
         "yaxis": "y"
        },
        {
         "hovertemplate": "<b>%{hovertext}</b><br><br>university_name=Yale University<br>year=2011<br>total_score=%{x}<br>income=%{y}<br>num_students=%{marker.size}<extra></extra>",
         "hovertext": [
          10
         ],
         "ids": [
          "Yale University"
         ],
         "legendgroup": "Yale University",
         "marker": {
          "color": "#FECB52",
          "size": [
           11751
          ],
          "sizemode": "area",
          "sizeref": 90.465,
          "symbol": "circle"
         },
         "mode": "markers",
         "name": "Yale University",
         "orientation": "v",
         "showlegend": true,
         "type": "scatter",
         "x": [
          89.5
         ],
         "xaxis": "x",
         "y": [
          0
         ],
         "yaxis": "y"
        }
       ],
       "frames": [
        {
         "data": [
          {
           "hovertemplate": "<b>%{hovertext}</b><br><br>university_name=Harvard University<br>year=2011<br>total_score=%{x}<br>income=%{y}<br>num_students=%{marker.size}<extra></extra>",
           "hovertext": [
            1
           ],
           "ids": [
            "Harvard University"
           ],
           "legendgroup": "Harvard University",
           "marker": {
            "color": "#636efa",
            "size": [
             20152
            ],
            "sizemode": "area",
            "sizeref": 90.465,
            "symbol": "circle"
           },
           "mode": "markers",
           "name": "Harvard University",
           "orientation": "v",
           "showlegend": true,
           "type": "scatter",
           "x": [
            96.1
           ],
           "xaxis": "x",
           "y": [
            34.5
           ],
           "yaxis": "y"
          },
          {
           "hovertemplate": "<b>%{hovertext}</b><br><br>university_name=California Institute of Technology<br>year=2011<br>total_score=%{x}<br>income=%{y}<br>num_students=%{marker.size}<extra></extra>",
           "hovertext": [
            2
           ],
           "ids": [
            "California Institute of Technology"
           ],
           "legendgroup": "California Institute of Technology",
           "marker": {
            "color": "#EF553B",
            "size": [
             2243
            ],
            "sizemode": "area",
            "sizeref": 90.465,
            "symbol": "circle"
           },
           "mode": "markers",
           "name": "California Institute of Technology",
           "orientation": "v",
           "showlegend": true,
           "type": "scatter",
           "x": [
            96
           ],
           "xaxis": "x",
           "y": [
            83.7
           ],
           "yaxis": "y"
          },
          {
           "hovertemplate": "<b>%{hovertext}</b><br><br>university_name=Massachusetts Institute of Technology<br>year=2011<br>total_score=%{x}<br>income=%{y}<br>num_students=%{marker.size}<extra></extra>",
           "hovertext": [
            3
           ],
           "ids": [
            "Massachusetts Institute of Technology"
           ],
           "legendgroup": "Massachusetts Institute of Technology",
           "marker": {
            "color": "#00cc96",
            "size": [
             11074
            ],
            "sizemode": "area",
            "sizeref": 90.465,
            "symbol": "circle"
           },
           "mode": "markers",
           "name": "Massachusetts Institute of Technology",
           "orientation": "v",
           "showlegend": true,
           "type": "scatter",
           "x": [
            95.6
           ],
           "xaxis": "x",
           "y": [
            87.5
           ],
           "yaxis": "y"
          },
          {
           "hovertemplate": "<b>%{hovertext}</b><br><br>university_name=Stanford University<br>year=2011<br>total_score=%{x}<br>income=%{y}<br>num_students=%{marker.size}<extra></extra>",
           "hovertext": [
            4
           ],
           "ids": [
            "Stanford University"
           ],
           "legendgroup": "Stanford University",
           "marker": {
            "color": "#ab63fa",
            "size": [
             15596
            ],
            "sizemode": "area",
            "sizeref": 90.465,
            "symbol": "circle"
           },
           "mode": "markers",
           "name": "Stanford University",
           "orientation": "v",
           "showlegend": true,
           "type": "scatter",
           "x": [
            94.3
           ],
           "xaxis": "x",
           "y": [
            64.3
           ],
           "yaxis": "y"
          },
          {
           "hovertemplate": "<b>%{hovertext}</b><br><br>university_name=Princeton University<br>year=2011<br>total_score=%{x}<br>income=%{y}<br>num_students=%{marker.size}<extra></extra>",
           "hovertext": [
            5
           ],
           "ids": [
            "Princeton University"
           ],
           "legendgroup": "Princeton University",
           "marker": {
            "color": "#FFA15A",
            "size": [
             7929
            ],
            "sizemode": "area",
            "sizeref": 90.465,
            "symbol": "circle"
           },
           "mode": "markers",
           "name": "Princeton University",
           "orientation": "v",
           "showlegend": true,
           "type": "scatter",
           "x": [
            94.2
           ],
           "xaxis": "x",
           "y": [
            0
           ],
           "yaxis": "y"
          },
          {
           "hovertemplate": "<b>%{hovertext}</b><br><br>university_name=University of Cambridge<br>year=2011<br>total_score=%{x}<br>income=%{y}<br>num_students=%{marker.size}<extra></extra>",
           "hovertext": [
            6
           ],
           "ids": [
            "University of Cambridge"
           ],
           "legendgroup": "University of Cambridge",
           "marker": {
            "color": "#19d3f3",
            "size": [
             18812
            ],
            "sizemode": "area",
            "sizeref": 90.465,
            "symbol": "circle"
           },
           "mode": "markers",
           "name": "University of Cambridge",
           "orientation": "v",
           "showlegend": true,
           "type": "scatter",
           "x": [
            91.2
           ],
           "xaxis": "x",
           "y": [
            57
           ],
           "yaxis": "y"
          },
          {
           "hovertemplate": "<b>%{hovertext}</b><br><br>university_name=University of Oxford<br>year=2011<br>total_score=%{x}<br>income=%{y}<br>num_students=%{marker.size}<extra></extra>",
           "hovertext": [
            6
           ],
           "ids": [
            "University of Oxford"
           ],
           "legendgroup": "University of Oxford",
           "marker": {
            "color": "#FF6692",
            "size": [
             19919
            ],
            "sizemode": "area",
            "sizeref": 90.465,
            "symbol": "circle"
           },
           "mode": "markers",
           "name": "University of Oxford",
           "orientation": "v",
           "showlegend": true,
           "type": "scatter",
           "x": [
            91.2
           ],
           "xaxis": "x",
           "y": [
            73.5
           ],
           "yaxis": "y"
          },
          {
           "hovertemplate": "<b>%{hovertext}</b><br><br>university_name=University of California, Berkeley<br>year=2011<br>total_score=%{x}<br>income=%{y}<br>num_students=%{marker.size}<extra></extra>",
           "hovertext": [
            8
           ],
           "ids": [
            "University of California, Berkeley"
           ],
           "legendgroup": "University of California, Berkeley",
           "marker": {
            "color": "#B6E880",
            "size": [
             36186
            ],
            "sizemode": "area",
            "sizeref": 90.465,
            "symbol": "circle"
           },
           "mode": "markers",
           "name": "University of California, Berkeley",
           "orientation": "v",
           "showlegend": true,
           "type": "scatter",
           "x": [
            91.1
           ],
           "xaxis": "x",
           "y": [
            0
           ],
           "yaxis": "y"
          },
          {
           "hovertemplate": "<b>%{hovertext}</b><br><br>university_name=Imperial College London<br>year=2011<br>total_score=%{x}<br>income=%{y}<br>num_students=%{marker.size}<extra></extra>",
           "hovertext": [
            9
           ],
           "ids": [
            "Imperial College London"
           ],
           "legendgroup": "Imperial College London",
           "marker": {
            "color": "#FF97FF",
            "size": [
             15060
            ],
            "sizemode": "area",
            "sizeref": 90.465,
            "symbol": "circle"
           },
           "mode": "markers",
           "name": "Imperial College London",
           "orientation": "v",
           "showlegend": true,
           "type": "scatter",
           "x": [
            90.6
           ],
           "xaxis": "x",
           "y": [
            92.9
           ],
           "yaxis": "y"
          },
          {
           "hovertemplate": "<b>%{hovertext}</b><br><br>university_name=Yale University<br>year=2011<br>total_score=%{x}<br>income=%{y}<br>num_students=%{marker.size}<extra></extra>",
           "hovertext": [
            10
           ],
           "ids": [
            "Yale University"
           ],
           "legendgroup": "Yale University",
           "marker": {
            "color": "#FECB52",
            "size": [
             11751
            ],
            "sizemode": "area",
            "sizeref": 90.465,
            "symbol": "circle"
           },
           "mode": "markers",
           "name": "Yale University",
           "orientation": "v",
           "showlegend": true,
           "type": "scatter",
           "x": [
            89.5
           ],
           "xaxis": "x",
           "y": [
            0
           ],
           "yaxis": "y"
          }
         ],
         "name": "2011"
        },
        {
         "data": [
          {
           "hovertemplate": "<b>%{hovertext}</b><br><br>university_name=Harvard University<br>year=2012<br>total_score=%{x}<br>income=%{y}<br>num_students=%{marker.size}<extra></extra>",
           "hovertext": [
            2
           ],
           "ids": [
            "Harvard University"
           ],
           "legendgroup": "Harvard University",
           "marker": {
            "color": "#636efa",
            "size": [
             20152
            ],
            "sizemode": "area",
            "sizeref": 90.465,
            "symbol": "circle"
           },
           "mode": "markers",
           "name": "Harvard University",
           "orientation": "v",
           "showlegend": true,
           "type": "scatter",
           "x": [
            93.9
           ],
           "xaxis": "x",
           "y": [
            35.9
           ],
           "yaxis": "y"
          },
          {
           "hovertemplate": "<b>%{hovertext}</b><br><br>university_name=California Institute of Technology<br>year=2012<br>total_score=%{x}<br>income=%{y}<br>num_students=%{marker.size}<extra></extra>",
           "hovertext": [
            1
           ],
           "ids": [
            "California Institute of Technology"
           ],
           "legendgroup": "California Institute of Technology",
           "marker": {
            "color": "#EF553B",
            "size": [
             2243
            ],
            "sizemode": "area",
            "sizeref": 90.465,
            "symbol": "circle"
           },
           "mode": "markers",
           "name": "California Institute of Technology",
           "orientation": "v",
           "showlegend": true,
           "type": "scatter",
           "x": [
            94.8
           ],
           "xaxis": "x",
           "y": [
            97
           ],
           "yaxis": "y"
          },
          {
           "hovertemplate": "<b>%{hovertext}</b><br><br>university_name=Massachusetts Institute of Technology<br>year=2012<br>total_score=%{x}<br>income=%{y}<br>num_students=%{marker.size}<extra></extra>",
           "hovertext": [
            7
           ],
           "ids": [
            "Massachusetts Institute of Technology"
           ],
           "legendgroup": "Massachusetts Institute of Technology",
           "marker": {
            "color": "#00cc96",
            "size": [
             11074
            ],
            "sizemode": "area",
            "sizeref": 90.465,
            "symbol": "circle"
           },
           "mode": "markers",
           "name": "Massachusetts Institute of Technology",
           "orientation": "v",
           "showlegend": true,
           "type": "scatter",
           "x": [
            92.3
           ],
           "xaxis": "x",
           "y": [
            94.4
           ],
           "yaxis": "y"
          },
          {
           "hovertemplate": "<b>%{hovertext}</b><br><br>university_name=Stanford University<br>year=2012<br>total_score=%{x}<br>income=%{y}<br>num_students=%{marker.size}<extra></extra>",
           "hovertext": [
            2
           ],
           "ids": [
            "Stanford University"
           ],
           "legendgroup": "Stanford University",
           "marker": {
            "color": "#ab63fa",
            "size": [
             15596
            ],
            "sizemode": "area",
            "sizeref": 90.465,
            "symbol": "circle"
           },
           "mode": "markers",
           "name": "Stanford University",
           "orientation": "v",
           "showlegend": true,
           "type": "scatter",
           "x": [
            93.9
           ],
           "xaxis": "x",
           "y": [
            63.8
           ],
           "yaxis": "y"
          },
          {
           "hovertemplate": "<b>%{hovertext}</b><br><br>university_name=Princeton University<br>year=2012<br>total_score=%{x}<br>income=%{y}<br>num_students=%{marker.size}<extra></extra>",
           "hovertext": [
            5
           ],
           "ids": [
            "Princeton University"
           ],
           "legendgroup": "Princeton University",
           "marker": {
            "color": "#FFA15A",
            "size": [
             7929
            ],
            "sizemode": "area",
            "sizeref": 90.465,
            "symbol": "circle"
           },
           "mode": "markers",
           "name": "Princeton University",
           "orientation": "v",
           "showlegend": true,
           "type": "scatter",
           "x": [
            92.9
           ],
           "xaxis": "x",
           "y": [
            81
           ],
           "yaxis": "y"
          },
          {
           "hovertemplate": "<b>%{hovertext}</b><br><br>university_name=University of Cambridge<br>year=2012<br>total_score=%{x}<br>income=%{y}<br>num_students=%{marker.size}<extra></extra>",
           "hovertext": [
            6
           ],
           "ids": [
            "University of Cambridge"
           ],
           "legendgroup": "University of Cambridge",
           "marker": {
            "color": "#19d3f3",
            "size": [
             18812
            ],
            "sizemode": "area",
            "sizeref": 90.465,
            "symbol": "circle"
           },
           "mode": "markers",
           "name": "University of Cambridge",
           "orientation": "v",
           "showlegend": true,
           "type": "scatter",
           "x": [
            92.4
           ],
           "xaxis": "x",
           "y": [
            55.5
           ],
           "yaxis": "y"
          },
          {
           "hovertemplate": "<b>%{hovertext}</b><br><br>university_name=University of Oxford<br>year=2012<br>total_score=%{x}<br>income=%{y}<br>num_students=%{marker.size}<extra></extra>",
           "hovertext": [
            4
           ],
           "ids": [
            "University of Oxford"
           ],
           "legendgroup": "University of Oxford",
           "marker": {
            "color": "#FF6692",
            "size": [
             19919
            ],
            "sizemode": "area",
            "sizeref": 90.465,
            "symbol": "circle"
           },
           "mode": "markers",
           "name": "University of Oxford",
           "orientation": "v",
           "showlegend": true,
           "type": "scatter",
           "x": [
            93.6
           ],
           "xaxis": "x",
           "y": [
            62.1
           ],
           "yaxis": "y"
          },
          {
           "hovertemplate": "<b>%{hovertext}</b><br><br>university_name=University of California, Berkeley<br>year=2012<br>total_score=%{x}<br>income=%{y}<br>num_students=%{marker.size}<extra></extra>",
           "hovertext": [
            10
           ],
           "ids": [
            "University of California, Berkeley"
           ],
           "legendgroup": "University of California, Berkeley",
           "marker": {
            "color": "#B6E880",
            "size": [
             36186
            ],
            "sizemode": "area",
            "sizeref": 90.465,
            "symbol": "circle"
           },
           "mode": "markers",
           "name": "University of California, Berkeley",
           "orientation": "v",
           "showlegend": true,
           "type": "scatter",
           "x": [
            89.8
           ],
           "xaxis": "x",
           "y": [
            62.5
           ],
           "yaxis": "y"
          },
          {
           "hovertemplate": "<b>%{hovertext}</b><br><br>university_name=Imperial College London<br>year=2012<br>total_score=%{x}<br>income=%{y}<br>num_students=%{marker.size}<extra></extra>",
           "hovertext": [
            8
           ],
           "ids": [
            "Imperial College London"
           ],
           "legendgroup": "Imperial College London",
           "marker": {
            "color": "#FF97FF",
            "size": [
             15060
            ],
            "sizemode": "area",
            "sizeref": 90.465,
            "symbol": "circle"
           },
           "mode": "markers",
           "name": "Imperial College London",
           "orientation": "v",
           "showlegend": true,
           "type": "scatter",
           "x": [
            90.7
           ],
           "xaxis": "x",
           "y": [
            93.1
           ],
           "yaxis": "y"
          },
          {
           "hovertemplate": "<b>%{hovertext}</b><br><br>university_name=University of Chicago<br>year=2012<br>total_score=%{x}<br>income=%{y}<br>num_students=%{marker.size}<extra></extra>",
           "hovertext": [
            9
           ],
           "ids": [
            "University of Chicago"
           ],
           "legendgroup": "University of Chicago",
           "marker": {
            "color": "#636efa",
            "size": [
             14221
            ],
            "sizemode": "area",
            "sizeref": 90.465,
            "symbol": "circle"
           },
           "mode": "markers",
           "name": "University of Chicago",
           "orientation": "v",
           "showlegend": true,
           "type": "scatter",
           "x": [
            90.2
           ],
           "xaxis": "x",
           "y": [
            0
           ],
           "yaxis": "y"
          }
         ],
         "name": "2012"
        },
        {
         "data": [
          {
           "hovertemplate": "<b>%{hovertext}</b><br><br>university_name=Harvard University<br>year=2013<br>total_score=%{x}<br>income=%{y}<br>num_students=%{marker.size}<extra></extra>",
           "hovertext": [
            4
           ],
           "ids": [
            "Harvard University"
           ],
           "legendgroup": "Harvard University",
           "marker": {
            "color": "#636efa",
            "size": [
             20152
            ],
            "sizemode": "area",
            "sizeref": 90.465,
            "symbol": "circle"
           },
           "mode": "markers",
           "name": "Harvard University",
           "orientation": "v",
           "showlegend": true,
           "type": "scatter",
           "x": [
            93.6
           ],
           "xaxis": "x",
           "y": [
            39.9
           ],
           "yaxis": "y"
          },
          {
           "hovertemplate": "<b>%{hovertext}</b><br><br>university_name=California Institute of Technology<br>year=2013<br>total_score=%{x}<br>income=%{y}<br>num_students=%{marker.size}<extra></extra>",
           "hovertext": [
            1
           ],
           "ids": [
            "California Institute of Technology"
           ],
           "legendgroup": "California Institute of Technology",
           "marker": {
            "color": "#EF553B",
            "size": [
             2243
            ],
            "sizemode": "area",
            "sizeref": 90.465,
            "symbol": "circle"
           },
           "mode": "markers",
           "name": "California Institute of Technology",
           "orientation": "v",
           "showlegend": true,
           "type": "scatter",
           "x": [
            95.5
           ],
           "xaxis": "x",
           "y": [
            95.6
           ],
           "yaxis": "y"
          },
          {
           "hovertemplate": "<b>%{hovertext}</b><br><br>university_name=Massachusetts Institute of Technology<br>year=2013<br>total_score=%{x}<br>income=%{y}<br>num_students=%{marker.size}<extra></extra>",
           "hovertext": [
            5
           ],
           "ids": [
            "Massachusetts Institute of Technology"
           ],
           "legendgroup": "Massachusetts Institute of Technology",
           "marker": {
            "color": "#00cc96",
            "size": [
             11074
            ],
            "sizemode": "area",
            "sizeref": 90.465,
            "symbol": "circle"
           },
           "mode": "markers",
           "name": "Massachusetts Institute of Technology",
           "orientation": "v",
           "showlegend": true,
           "type": "scatter",
           "x": [
            93.1
           ],
           "xaxis": "x",
           "y": [
            92.9
           ],
           "yaxis": "y"
          },
          {
           "hovertemplate": "<b>%{hovertext}</b><br><br>university_name=Stanford University<br>year=2013<br>total_score=%{x}<br>income=%{y}<br>num_students=%{marker.size}<extra></extra>",
           "hovertext": [
            2
           ],
           "ids": [
            "Stanford University"
           ],
           "legendgroup": "Stanford University",
           "marker": {
            "color": "#ab63fa",
            "size": [
             15596
            ],
            "sizemode": "area",
            "sizeref": 90.465,
            "symbol": "circle"
           },
           "mode": "markers",
           "name": "Stanford University",
           "orientation": "v",
           "showlegend": true,
           "type": "scatter",
           "x": [
            93.7
           ],
           "xaxis": "x",
           "y": [
            62.4
           ],
           "yaxis": "y"
          },
          {
           "hovertemplate": "<b>%{hovertext}</b><br><br>university_name=Princeton University<br>year=2013<br>total_score=%{x}<br>income=%{y}<br>num_students=%{marker.size}<extra></extra>",
           "hovertext": [
            6
           ],
           "ids": [
            "Princeton University"
           ],
           "legendgroup": "Princeton University",
           "marker": {
            "color": "#FFA15A",
            "size": [
             7929
            ],
            "sizemode": "area",
            "sizeref": 90.465,
            "symbol": "circle"
           },
           "mode": "markers",
           "name": "Princeton University",
           "orientation": "v",
           "showlegend": true,
           "type": "scatter",
           "x": [
            92.7
           ],
           "xaxis": "x",
           "y": [
            79.5
           ],
           "yaxis": "y"
          },
          {
           "hovertemplate": "<b>%{hovertext}</b><br><br>university_name=University of Cambridge<br>year=2013<br>total_score=%{x}<br>income=%{y}<br>num_students=%{marker.size}<extra></extra>",
           "hovertext": [
            7
           ],
           "ids": [
            "University of Cambridge"
           ],
           "legendgroup": "University of Cambridge",
           "marker": {
            "color": "#19d3f3",
            "size": [
             18812
            ],
            "sizemode": "area",
            "sizeref": 90.465,
            "symbol": "circle"
           },
           "mode": "markers",
           "name": "University of Cambridge",
           "orientation": "v",
           "showlegend": true,
           "type": "scatter",
           "x": [
            92.6
           ],
           "xaxis": "x",
           "y": [
            59.1
           ],
           "yaxis": "y"
          },
          {
           "hovertemplate": "<b>%{hovertext}</b><br><br>university_name=University of Oxford<br>year=2013<br>total_score=%{x}<br>income=%{y}<br>num_students=%{marker.size}<extra></extra>",
           "hovertext": [
            2
           ],
           "ids": [
            "University of Oxford"
           ],
           "legendgroup": "University of Oxford",
           "marker": {
            "color": "#FF6692",
            "size": [
             19919
            ],
            "sizemode": "area",
            "sizeref": 90.465,
            "symbol": "circle"
           },
           "mode": "markers",
           "name": "University of Oxford",
           "orientation": "v",
           "showlegend": true,
           "type": "scatter",
           "x": [
            93.7
           ],
           "xaxis": "x",
           "y": [
            79.8
           ],
           "yaxis": "y"
          },
          {
           "hovertemplate": "<b>%{hovertext}</b><br><br>university_name=University of California, Berkeley<br>year=2013<br>total_score=%{x}<br>income=%{y}<br>num_students=%{marker.size}<extra></extra>",
           "hovertext": [
            9
           ],
           "ids": [
            "University of California, Berkeley"
           ],
           "legendgroup": "University of California, Berkeley",
           "marker": {
            "color": "#B6E880",
            "size": [
             36186
            ],
            "sizemode": "area",
            "sizeref": 90.465,
            "symbol": "circle"
           },
           "mode": "markers",
           "name": "University of California, Berkeley",
           "orientation": "v",
           "showlegend": true,
           "type": "scatter",
           "x": [
            90.5
           ],
           "xaxis": "x",
           "y": [
            65.4
           ],
           "yaxis": "y"
          },
          {
           "hovertemplate": "<b>%{hovertext}</b><br><br>university_name=Imperial College London<br>year=2013<br>total_score=%{x}<br>income=%{y}<br>num_students=%{marker.size}<extra></extra>",
           "hovertext": [
            8
           ],
           "ids": [
            "Imperial College London"
           ],
           "legendgroup": "Imperial College London",
           "marker": {
            "color": "#FF97FF",
            "size": [
             15060
            ],
            "sizemode": "area",
            "sizeref": 90.465,
            "symbol": "circle"
           },
           "mode": "markers",
           "name": "Imperial College London",
           "orientation": "v",
           "showlegend": true,
           "type": "scatter",
           "x": [
            90.6
           ],
           "xaxis": "x",
           "y": [
            87.5
           ],
           "yaxis": "y"
          },
          {
           "hovertemplate": "<b>%{hovertext}</b><br><br>university_name=University of Chicago<br>year=2013<br>total_score=%{x}<br>income=%{y}<br>num_students=%{marker.size}<extra></extra>",
           "hovertext": [
            10
           ],
           "ids": [
            "University of Chicago"
           ],
           "legendgroup": "University of Chicago",
           "marker": {
            "color": "#636efa",
            "size": [
             14221
            ],
            "sizemode": "area",
            "sizeref": 90.465,
            "symbol": "circle"
           },
           "mode": "markers",
           "name": "University of Chicago",
           "orientation": "v",
           "showlegend": true,
           "type": "scatter",
           "x": [
            90.4
           ],
           "xaxis": "x",
           "y": [
            0
           ],
           "yaxis": "y"
          }
         ],
         "name": "2013"
        },
        {
         "data": [
          {
           "hovertemplate": "<b>%{hovertext}</b><br><br>university_name=Harvard University<br>year=2014<br>total_score=%{x}<br>income=%{y}<br>num_students=%{marker.size}<extra></extra>",
           "hovertext": [
            2
           ],
           "ids": [
            "Harvard University"
           ],
           "legendgroup": "Harvard University",
           "marker": {
            "color": "#636efa",
            "size": [
             20152
            ],
            "sizemode": "area",
            "sizeref": 90.465,
            "symbol": "circle"
           },
           "mode": "markers",
           "name": "Harvard University",
           "orientation": "v",
           "showlegend": true,
           "type": "scatter",
           "x": [
            93.9
           ],
           "xaxis": "x",
           "y": [
            40.6
           ],
           "yaxis": "y"
          },
          {
           "hovertemplate": "<b>%{hovertext}</b><br><br>university_name=California Institute of Technology<br>year=2014<br>total_score=%{x}<br>income=%{y}<br>num_students=%{marker.size}<extra></extra>",
           "hovertext": [
            1
           ],
           "ids": [
            "California Institute of Technology"
           ],
           "legendgroup": "California Institute of Technology",
           "marker": {
            "color": "#EF553B",
            "size": [
             2243
            ],
            "sizemode": "area",
            "sizeref": 90.465,
            "symbol": "circle"
           },
           "mode": "markers",
           "name": "California Institute of Technology",
           "orientation": "v",
           "showlegend": true,
           "type": "scatter",
           "x": [
            94.9
           ],
           "xaxis": "x",
           "y": [
            91.2
           ],
           "yaxis": "y"
          },
          {
           "hovertemplate": "<b>%{hovertext}</b><br><br>university_name=Massachusetts Institute of Technology<br>year=2014<br>total_score=%{x}<br>income=%{y}<br>num_students=%{marker.size}<extra></extra>",
           "hovertext": [
            5
           ],
           "ids": [
            "Massachusetts Institute of Technology"
           ],
           "legendgroup": "Massachusetts Institute of Technology",
           "marker": {
            "color": "#00cc96",
            "size": [
             11074
            ],
            "sizemode": "area",
            "sizeref": 90.465,
            "symbol": "circle"
           },
           "mode": "markers",
           "name": "Massachusetts Institute of Technology",
           "orientation": "v",
           "showlegend": true,
           "type": "scatter",
           "x": [
            93
           ],
           "xaxis": "x",
           "y": [
            94.3
           ],
           "yaxis": "y"
          },
          {
           "hovertemplate": "<b>%{hovertext}</b><br><br>university_name=Stanford University<br>year=2014<br>total_score=%{x}<br>income=%{y}<br>num_students=%{marker.size}<extra></extra>",
           "hovertext": [
            4
           ],
           "ids": [
            "Stanford University"
           ],
           "legendgroup": "Stanford University",
           "marker": {
            "color": "#ab63fa",
            "size": [
             15596
            ],
            "sizemode": "area",
            "sizeref": 90.465,
            "symbol": "circle"
           },
           "mode": "markers",
           "name": "Stanford University",
           "orientation": "v",
           "showlegend": true,
           "type": "scatter",
           "x": [
            93.8
           ],
           "xaxis": "x",
           "y": [
            61.3
           ],
           "yaxis": "y"
          },
          {
           "hovertemplate": "<b>%{hovertext}</b><br><br>university_name=Princeton University<br>year=2014<br>total_score=%{x}<br>income=%{y}<br>num_students=%{marker.size}<extra></extra>",
           "hovertext": [
            6
           ],
           "ids": [
            "Princeton University"
           ],
           "legendgroup": "Princeton University",
           "marker": {
            "color": "#FFA15A",
            "size": [
             7929
            ],
            "sizemode": "area",
            "sizeref": 90.465,
            "symbol": "circle"
           },
           "mode": "markers",
           "name": "Princeton University",
           "orientation": "v",
           "showlegend": true,
           "type": "scatter",
           "x": [
            92.7
           ],
           "xaxis": "x",
           "y": [
            80.5
           ],
           "yaxis": "y"
          },
          {
           "hovertemplate": "<b>%{hovertext}</b><br><br>university_name=University of Cambridge<br>year=2014<br>total_score=%{x}<br>income=%{y}<br>num_students=%{marker.size}<extra></extra>",
           "hovertext": [
            7
           ],
           "ids": [
            "University of Cambridge"
           ],
           "legendgroup": "University of Cambridge",
           "marker": {
            "color": "#19d3f3",
            "size": [
             18812
            ],
            "sizemode": "area",
            "sizeref": 90.465,
            "symbol": "circle"
           },
           "mode": "markers",
           "name": "University of Cambridge",
           "orientation": "v",
           "showlegend": true,
           "type": "scatter",
           "x": [
            92.3
           ],
           "xaxis": "x",
           "y": [
            52.8
           ],
           "yaxis": "y"
          },
          {
           "hovertemplate": "<b>%{hovertext}</b><br><br>university_name=University of Oxford<br>year=2014<br>total_score=%{x}<br>income=%{y}<br>num_students=%{marker.size}<extra></extra>",
           "hovertext": [
            2
           ],
           "ids": [
            "University of Oxford"
           ],
           "legendgroup": "University of Oxford",
           "marker": {
            "color": "#FF6692",
            "size": [
             19919
            ],
            "sizemode": "area",
            "sizeref": 90.465,
            "symbol": "circle"
           },
           "mode": "markers",
           "name": "University of Oxford",
           "orientation": "v",
           "showlegend": true,
           "type": "scatter",
           "x": [
            93.9
           ],
           "xaxis": "x",
           "y": [
            90.3
           ],
           "yaxis": "y"
          },
          {
           "hovertemplate": "<b>%{hovertext}</b><br><br>university_name=University of California, Berkeley<br>year=2014<br>total_score=%{x}<br>income=%{y}<br>num_students=%{marker.size}<extra></extra>",
           "hovertext": [
            8
           ],
           "ids": [
            "University of California, Berkeley"
           ],
           "legendgroup": "University of California, Berkeley",
           "marker": {
            "color": "#B6E880",
            "size": [
             36186
            ],
            "sizemode": "area",
            "sizeref": 90.465,
            "symbol": "circle"
           },
           "mode": "markers",
           "name": "University of California, Berkeley",
           "orientation": "v",
           "showlegend": true,
           "type": "scatter",
           "x": [
            89.8
           ],
           "xaxis": "x",
           "y": [
            59.5
           ],
           "yaxis": "y"
          },
          {
           "hovertemplate": "<b>%{hovertext}</b><br><br>university_name=Imperial College London<br>year=2014<br>total_score=%{x}<br>income=%{y}<br>num_students=%{marker.size}<extra></extra>",
           "hovertext": [
            10
           ],
           "ids": [
            "Imperial College London"
           ],
           "legendgroup": "Imperial College London",
           "marker": {
            "color": "#FF97FF",
            "size": [
             15060
            ],
            "sizemode": "area",
            "sizeref": 90.465,
            "symbol": "circle"
           },
           "mode": "markers",
           "name": "Imperial College London",
           "orientation": "v",
           "showlegend": true,
           "type": "scatter",
           "x": [
            87.5
           ],
           "xaxis": "x",
           "y": [
            72.3
           ],
           "yaxis": "y"
          },
          {
           "hovertemplate": "<b>%{hovertext}</b><br><br>university_name=University of Chicago<br>year=2014<br>total_score=%{x}<br>income=%{y}<br>num_students=%{marker.size}<extra></extra>",
           "hovertext": [
            9
           ],
           "ids": [
            "University of Chicago"
           ],
           "legendgroup": "University of Chicago",
           "marker": {
            "color": "#636efa",
            "size": [
             14221
            ],
            "sizemode": "area",
            "sizeref": 90.465,
            "symbol": "circle"
           },
           "mode": "markers",
           "name": "University of Chicago",
           "orientation": "v",
           "showlegend": true,
           "type": "scatter",
           "x": [
            87.8
           ],
           "xaxis": "x",
           "y": [
            0
           ],
           "yaxis": "y"
          }
         ],
         "name": "2014"
        },
        {
         "data": [
          {
           "hovertemplate": "<b>%{hovertext}</b><br><br>university_name=Harvard University<br>year=2015<br>total_score=%{x}<br>income=%{y}<br>num_students=%{marker.size}<extra></extra>",
           "hovertext": [
            2
           ],
           "ids": [
            "Harvard University"
           ],
           "legendgroup": "Harvard University",
           "marker": {
            "color": "#636efa",
            "size": [
             20152
            ],
            "sizemode": "area",
            "sizeref": 90.465,
            "symbol": "circle"
           },
           "mode": "markers",
           "name": "Harvard University",
           "orientation": "v",
           "showlegend": true,
           "type": "scatter",
           "x": [
            93.3
           ],
           "xaxis": "x",
           "y": [
            44
           ],
           "yaxis": "y"
          },
          {
           "hovertemplate": "<b>%{hovertext}</b><br><br>university_name=California Institute of Technology<br>year=2015<br>total_score=%{x}<br>income=%{y}<br>num_students=%{marker.size}<extra></extra>",
           "hovertext": [
            1
           ],
           "ids": [
            "California Institute of Technology"
           ],
           "legendgroup": "California Institute of Technology",
           "marker": {
            "color": "#EF553B",
            "size": [
             2243
            ],
            "sizemode": "area",
            "sizeref": 90.465,
            "symbol": "circle"
           },
           "mode": "markers",
           "name": "California Institute of Technology",
           "orientation": "v",
           "showlegend": true,
           "type": "scatter",
           "x": [
            94.3
           ],
           "xaxis": "x",
           "y": [
            89.1
           ],
           "yaxis": "y"
          },
          {
           "hovertemplate": "<b>%{hovertext}</b><br><br>university_name=Massachusetts Institute of Technology<br>year=2015<br>total_score=%{x}<br>income=%{y}<br>num_students=%{marker.size}<extra></extra>",
           "hovertext": [
            6
           ],
           "ids": [
            "Massachusetts Institute of Technology"
           ],
           "legendgroup": "Massachusetts Institute of Technology",
           "marker": {
            "color": "#00cc96",
            "size": [
             11074
            ],
            "sizemode": "area",
            "sizeref": 90.465,
            "symbol": "circle"
           },
           "mode": "markers",
           "name": "Massachusetts Institute of Technology",
           "orientation": "v",
           "showlegend": true,
           "type": "scatter",
           "x": [
            91.9
           ],
           "xaxis": "x",
           "y": [
            95.7
           ],
           "yaxis": "y"
          },
          {
           "hovertemplate": "<b>%{hovertext}</b><br><br>university_name=Stanford University<br>year=2015<br>total_score=%{x}<br>income=%{y}<br>num_students=%{marker.size}<extra></extra>",
           "hovertext": [
            4
           ],
           "ids": [
            "Stanford University"
           ],
           "legendgroup": "Stanford University",
           "marker": {
            "color": "#ab63fa",
            "size": [
             15596
            ],
            "sizemode": "area",
            "sizeref": 90.465,
            "symbol": "circle"
           },
           "mode": "markers",
           "name": "Stanford University",
           "orientation": "v",
           "showlegend": true,
           "type": "scatter",
           "x": [
            92.9
           ],
           "xaxis": "x",
           "y": [
            63.1
           ],
           "yaxis": "y"
          },
          {
           "hovertemplate": "<b>%{hovertext}</b><br><br>university_name=Princeton University<br>year=2015<br>total_score=%{x}<br>income=%{y}<br>num_students=%{marker.size}<extra></extra>",
           "hovertext": [
            7
           ],
           "ids": [
            "Princeton University"
           ],
           "legendgroup": "Princeton University",
           "marker": {
            "color": "#FFA15A",
            "size": [
             7929
            ],
            "sizemode": "area",
            "sizeref": 90.465,
            "symbol": "circle"
           },
           "mode": "markers",
           "name": "Princeton University",
           "orientation": "v",
           "showlegend": true,
           "type": "scatter",
           "x": [
            90.9
           ],
           "xaxis": "x",
           "y": [
            82.7
           ],
           "yaxis": "y"
          },
          {
           "hovertemplate": "<b>%{hovertext}</b><br><br>university_name=University of Cambridge<br>year=2015<br>total_score=%{x}<br>income=%{y}<br>num_students=%{marker.size}<extra></extra>",
           "hovertext": [
            5
           ],
           "ids": [
            "University of Cambridge"
           ],
           "legendgroup": "University of Cambridge",
           "marker": {
            "color": "#19d3f3",
            "size": [
             18812
            ],
            "sizemode": "area",
            "sizeref": 90.465,
            "symbol": "circle"
           },
           "mode": "markers",
           "name": "University of Cambridge",
           "orientation": "v",
           "showlegend": true,
           "type": "scatter",
           "x": [
            92
           ],
           "xaxis": "x",
           "y": [
            51.1
           ],
           "yaxis": "y"
          },
          {
           "hovertemplate": "<b>%{hovertext}</b><br><br>university_name=University of Oxford<br>year=2015<br>total_score=%{x}<br>income=%{y}<br>num_students=%{marker.size}<extra></extra>",
           "hovertext": [
            3
           ],
           "ids": [
            "University of Oxford"
           ],
           "legendgroup": "University of Oxford",
           "marker": {
            "color": "#FF6692",
            "size": [
             19919
            ],
            "sizemode": "area",
            "sizeref": 90.465,
            "symbol": "circle"
           },
           "mode": "markers",
           "name": "University of Oxford",
           "orientation": "v",
           "showlegend": true,
           "type": "scatter",
           "x": [
            93.2
           ],
           "xaxis": "x",
           "y": [
            72.9
           ],
           "yaxis": "y"
          },
          {
           "hovertemplate": "<b>%{hovertext}</b><br><br>university_name=University of California, Berkeley<br>year=2015<br>total_score=%{x}<br>income=%{y}<br>num_students=%{marker.size}<extra></extra>",
           "hovertext": [
            8
           ],
           "ids": [
            "University of California, Berkeley"
           ],
           "legendgroup": "University of California, Berkeley",
           "marker": {
            "color": "#B6E880",
            "size": [
             36186
            ],
            "sizemode": "area",
            "sizeref": 90.465,
            "symbol": "circle"
           },
           "mode": "markers",
           "name": "University of California, Berkeley",
           "orientation": "v",
           "showlegend": true,
           "type": "scatter",
           "x": [
            89.5
           ],
           "xaxis": "x",
           "y": [
            44.8
           ],
           "yaxis": "y"
          },
          {
           "hovertemplate": "<b>%{hovertext}</b><br><br>university_name=Imperial College London<br>year=2015<br>total_score=%{x}<br>income=%{y}<br>num_students=%{marker.size}<extra></extra>",
           "hovertext": [
            9
           ],
           "ids": [
            "Imperial College London"
           ],
           "legendgroup": "Imperial College London",
           "marker": {
            "color": "#FF97FF",
            "size": [
             15060
            ],
            "sizemode": "area",
            "sizeref": 90.465,
            "symbol": "circle"
           },
           "mode": "markers",
           "name": "Imperial College London",
           "orientation": "v",
           "showlegend": true,
           "type": "scatter",
           "x": [
            87.5
           ],
           "xaxis": "x",
           "y": [
            72.7
           ],
           "yaxis": "y"
          },
          {
           "hovertemplate": "<b>%{hovertext}</b><br><br>university_name=Yale University<br>year=2015<br>total_score=%{x}<br>income=%{y}<br>num_students=%{marker.size}<extra></extra>",
           "hovertext": [
            9
           ],
           "ids": [
            "Yale University"
           ],
           "legendgroup": "Yale University",
           "marker": {
            "color": "#FECB52",
            "size": [
             11751
            ],
            "sizemode": "area",
            "sizeref": 90.465,
            "symbol": "circle"
           },
           "mode": "markers",
           "name": "Yale University",
           "orientation": "v",
           "showlegend": true,
           "type": "scatter",
           "x": [
            87.5
           ],
           "xaxis": "x",
           "y": [
            42
           ],
           "yaxis": "y"
          }
         ],
         "name": "2015"
        },
        {
         "data": [
          {
           "hovertemplate": "<b>%{hovertext}</b><br><br>university_name=Harvard University<br>year=2016<br>total_score=%{x}<br>income=%{y}<br>num_students=%{marker.size}<extra></extra>",
           "hovertext": [
            6
           ],
           "ids": [
            "Harvard University"
           ],
           "legendgroup": "Harvard University",
           "marker": {
            "color": "#636efa",
            "size": [
             20152
            ],
            "sizemode": "area",
            "sizeref": 90.465,
            "symbol": "circle"
           },
           "mode": "markers",
           "name": "Harvard University",
           "orientation": "v",
           "showlegend": true,
           "type": "scatter",
           "x": [
            91.6
           ],
           "xaxis": "x",
           "y": [
            45.2
           ],
           "yaxis": "y"
          },
          {
           "hovertemplate": "<b>%{hovertext}</b><br><br>university_name=California Institute of Technology<br>year=2016<br>total_score=%{x}<br>income=%{y}<br>num_students=%{marker.size}<extra></extra>",
           "hovertext": [
            1
           ],
           "ids": [
            "California Institute of Technology"
           ],
           "legendgroup": "California Institute of Technology",
           "marker": {
            "color": "#EF553B",
            "size": [
             2243
            ],
            "sizemode": "area",
            "sizeref": 90.465,
            "symbol": "circle"
           },
           "mode": "markers",
           "name": "California Institute of Technology",
           "orientation": "v",
           "showlegend": true,
           "type": "scatter",
           "x": [
            95.2
           ],
           "xaxis": "x",
           "y": [
            97.8
           ],
           "yaxis": "y"
          },
          {
           "hovertemplate": "<b>%{hovertext}</b><br><br>university_name=Massachusetts Institute of Technology<br>year=2016<br>total_score=%{x}<br>income=%{y}<br>num_students=%{marker.size}<extra></extra>",
           "hovertext": [
            5
           ],
           "ids": [
            "Massachusetts Institute of Technology"
           ],
           "legendgroup": "Massachusetts Institute of Technology",
           "marker": {
            "color": "#00cc96",
            "size": [
             11074
            ],
            "sizemode": "area",
            "sizeref": 90.465,
            "symbol": "circle"
           },
           "mode": "markers",
           "name": "Massachusetts Institute of Technology",
           "orientation": "v",
           "showlegend": true,
           "type": "scatter",
           "x": [
            92
           ],
           "xaxis": "x",
           "y": [
            95.4
           ],
           "yaxis": "y"
          },
          {
           "hovertemplate": "<b>%{hovertext}</b><br><br>university_name=Stanford University<br>year=2016<br>total_score=%{x}<br>income=%{y}<br>num_students=%{marker.size}<extra></extra>",
           "hovertext": [
            3
           ],
           "ids": [
            "Stanford University"
           ],
           "legendgroup": "Stanford University",
           "marker": {
            "color": "#ab63fa",
            "size": [
             15596
            ],
            "sizemode": "area",
            "sizeref": 90.465,
            "symbol": "circle"
           },
           "mode": "markers",
           "name": "Stanford University",
           "orientation": "v",
           "showlegend": true,
           "type": "scatter",
           "x": [
            93.9
           ],
           "xaxis": "x",
           "y": [
            63.3
           ],
           "yaxis": "y"
          },
          {
           "hovertemplate": "<b>%{hovertext}</b><br><br>university_name=Princeton University<br>year=2016<br>total_score=%{x}<br>income=%{y}<br>num_students=%{marker.size}<extra></extra>",
           "hovertext": [
            7
           ],
           "ids": [
            "Princeton University"
           ],
           "legendgroup": "Princeton University",
           "marker": {
            "color": "#FFA15A",
            "size": [
             7929
            ],
            "sizemode": "area",
            "sizeref": 90.465,
            "symbol": "circle"
           },
           "mode": "markers",
           "name": "Princeton University",
           "orientation": "v",
           "showlegend": true,
           "type": "scatter",
           "x": [
            90.1
           ],
           "xaxis": "x",
           "y": [
            52.1
           ],
           "yaxis": "y"
          },
          {
           "hovertemplate": "<b>%{hovertext}</b><br><br>university_name=University of Cambridge<br>year=2016<br>total_score=%{x}<br>income=%{y}<br>num_students=%{marker.size}<extra></extra>",
           "hovertext": [
            4
           ],
           "ids": [
            "University of Cambridge"
           ],
           "legendgroup": "University of Cambridge",
           "marker": {
            "color": "#19d3f3",
            "size": [
             18812
            ],
            "sizemode": "area",
            "sizeref": 90.465,
            "symbol": "circle"
           },
           "mode": "markers",
           "name": "University of Cambridge",
           "orientation": "v",
           "showlegend": true,
           "type": "scatter",
           "x": [
            92.8
           ],
           "xaxis": "x",
           "y": [
            55
           ],
           "yaxis": "y"
          },
          {
           "hovertemplate": "<b>%{hovertext}</b><br><br>university_name=University of Oxford<br>year=2016<br>total_score=%{x}<br>income=%{y}<br>num_students=%{marker.size}<extra></extra>",
           "hovertext": [
            2
           ],
           "ids": [
            "University of Oxford"
           ],
           "legendgroup": "University of Oxford",
           "marker": {
            "color": "#FF6692",
            "size": [
             19919
            ],
            "sizemode": "area",
            "sizeref": 90.465,
            "symbol": "circle"
           },
           "mode": "markers",
           "name": "University of Oxford",
           "orientation": "v",
           "showlegend": true,
           "type": "scatter",
           "x": [
            94.2
           ],
           "xaxis": "x",
           "y": [
            73.1
           ],
           "yaxis": "y"
          },
          {
           "hovertemplate": "<b>%{hovertext}</b><br><br>university_name=Imperial College London<br>year=2016<br>total_score=%{x}<br>income=%{y}<br>num_students=%{marker.size}<extra></extra>",
           "hovertext": [
            8
           ],
           "ids": [
            "Imperial College London"
           ],
           "legendgroup": "Imperial College London",
           "marker": {
            "color": "#FF97FF",
            "size": [
             15060
            ],
            "sizemode": "area",
            "sizeref": 90.465,
            "symbol": "circle"
           },
           "mode": "markers",
           "name": "Imperial College London",
           "orientation": "v",
           "showlegend": true,
           "type": "scatter",
           "x": [
            89.1
           ],
           "xaxis": "x",
           "y": [
            53.7
           ],
           "yaxis": "y"
          },
          {
           "hovertemplate": "<b>%{hovertext}</b><br><br>university_name=University of Chicago<br>year=2016<br>total_score=%{x}<br>income=%{y}<br>num_students=%{marker.size}<extra></extra>",
           "hovertext": [
            10
           ],
           "ids": [
            "University of Chicago"
           ],
           "legendgroup": "University of Chicago",
           "marker": {
            "color": "#636efa",
            "size": [
             14221
            ],
            "sizemode": "area",
            "sizeref": 90.465,
            "symbol": "circle"
           },
           "mode": "markers",
           "name": "University of Chicago",
           "orientation": "v",
           "showlegend": true,
           "type": "scatter",
           "x": [
            87.9
           ],
           "xaxis": "x",
           "y": [
            36.6
           ],
           "yaxis": "y"
          },
          {
           "hovertemplate": "<b>%{hovertext}</b><br><br>university_name=ETH Zurich – Swiss Federal Institute of Technology Zurich<br>year=2016<br>total_score=%{x}<br>income=%{y}<br>num_students=%{marker.size}<extra></extra>",
           "hovertext": [
            9
           ],
           "ids": [
            "ETH Zurich – Swiss Federal Institute of Technology Zurich"
           ],
           "legendgroup": "ETH Zurich – Swiss Federal Institute of Technology Zurich",
           "marker": {
            "color": "#EF553B",
            "size": [
             18178
            ],
            "sizemode": "area",
            "sizeref": 90.465,
            "symbol": "circle"
           },
           "mode": "markers",
           "name": "ETH Zurich – Swiss Federal Institute of Technology Zurich",
           "orientation": "v",
           "showlegend": true,
           "type": "scatter",
           "x": [
            88.3
           ],
           "xaxis": "x",
           "y": [
            80
           ],
           "yaxis": "y"
          }
         ],
         "name": "2016"
        }
       ],
       "layout": {
        "legend": {
         "itemsizing": "constant",
         "title": {
          "text": "university_name"
         },
         "tracegroupgap": 0
        },
        "margin": {
         "t": 60
        },
        "sliders": [
         {
          "active": 0,
          "currentvalue": {
           "prefix": "year="
          },
          "len": 0.9,
          "pad": {
           "b": 10,
           "t": 60
          },
          "steps": [
           {
            "args": [
             [
              "2011"
             ],
             {
              "frame": {
               "duration": 0,
               "redraw": false
              },
              "fromcurrent": true,
              "mode": "immediate",
              "transition": {
               "duration": 0,
               "easing": "linear"
              }
             }
            ],
            "label": "2011",
            "method": "animate"
           },
           {
            "args": [
             [
              "2012"
             ],
             {
              "frame": {
               "duration": 0,
               "redraw": false
              },
              "fromcurrent": true,
              "mode": "immediate",
              "transition": {
               "duration": 0,
               "easing": "linear"
              }
             }
            ],
            "label": "2012",
            "method": "animate"
           },
           {
            "args": [
             [
              "2013"
             ],
             {
              "frame": {
               "duration": 0,
               "redraw": false
              },
              "fromcurrent": true,
              "mode": "immediate",
              "transition": {
               "duration": 0,
               "easing": "linear"
              }
             }
            ],
            "label": "2013",
            "method": "animate"
           },
           {
            "args": [
             [
              "2014"
             ],
             {
              "frame": {
               "duration": 0,
               "redraw": false
              },
              "fromcurrent": true,
              "mode": "immediate",
              "transition": {
               "duration": 0,
               "easing": "linear"
              }
             }
            ],
            "label": "2014",
            "method": "animate"
           },
           {
            "args": [
             [
              "2015"
             ],
             {
              "frame": {
               "duration": 0,
               "redraw": false
              },
              "fromcurrent": true,
              "mode": "immediate",
              "transition": {
               "duration": 0,
               "easing": "linear"
              }
             }
            ],
            "label": "2015",
            "method": "animate"
           },
           {
            "args": [
             [
              "2016"
             ],
             {
              "frame": {
               "duration": 0,
               "redraw": false
              },
              "fromcurrent": true,
              "mode": "immediate",
              "transition": {
               "duration": 0,
               "easing": "linear"
              }
             }
            ],
            "label": "2016",
            "method": "animate"
           }
          ],
          "x": 0.1,
          "xanchor": "left",
          "y": 0,
          "yanchor": "top"
         }
        ],
        "template": {
         "data": {
          "bar": [
           {
            "error_x": {
             "color": "#2a3f5f"
            },
            "error_y": {
             "color": "#2a3f5f"
            },
            "marker": {
             "line": {
              "color": "#E5ECF6",
              "width": 0.5
             }
            },
            "type": "bar"
           }
          ],
          "barpolar": [
           {
            "marker": {
             "line": {
              "color": "#E5ECF6",
              "width": 0.5
             }
            },
            "type": "barpolar"
           }
          ],
          "carpet": [
           {
            "aaxis": {
             "endlinecolor": "#2a3f5f",
             "gridcolor": "white",
             "linecolor": "white",
             "minorgridcolor": "white",
             "startlinecolor": "#2a3f5f"
            },
            "baxis": {
             "endlinecolor": "#2a3f5f",
             "gridcolor": "white",
             "linecolor": "white",
             "minorgridcolor": "white",
             "startlinecolor": "#2a3f5f"
            },
            "type": "carpet"
           }
          ],
          "choropleth": [
           {
            "colorbar": {
             "outlinewidth": 0,
             "ticks": ""
            },
            "type": "choropleth"
           }
          ],
          "contour": [
           {
            "colorbar": {
             "outlinewidth": 0,
             "ticks": ""
            },
            "colorscale": [
             [
              0,
              "#0d0887"
             ],
             [
              0.1111111111111111,
              "#46039f"
             ],
             [
              0.2222222222222222,
              "#7201a8"
             ],
             [
              0.3333333333333333,
              "#9c179e"
             ],
             [
              0.4444444444444444,
              "#bd3786"
             ],
             [
              0.5555555555555556,
              "#d8576b"
             ],
             [
              0.6666666666666666,
              "#ed7953"
             ],
             [
              0.7777777777777778,
              "#fb9f3a"
             ],
             [
              0.8888888888888888,
              "#fdca26"
             ],
             [
              1,
              "#f0f921"
             ]
            ],
            "type": "contour"
           }
          ],
          "contourcarpet": [
           {
            "colorbar": {
             "outlinewidth": 0,
             "ticks": ""
            },
            "type": "contourcarpet"
           }
          ],
          "heatmap": [
           {
            "colorbar": {
             "outlinewidth": 0,
             "ticks": ""
            },
            "colorscale": [
             [
              0,
              "#0d0887"
             ],
             [
              0.1111111111111111,
              "#46039f"
             ],
             [
              0.2222222222222222,
              "#7201a8"
             ],
             [
              0.3333333333333333,
              "#9c179e"
             ],
             [
              0.4444444444444444,
              "#bd3786"
             ],
             [
              0.5555555555555556,
              "#d8576b"
             ],
             [
              0.6666666666666666,
              "#ed7953"
             ],
             [
              0.7777777777777778,
              "#fb9f3a"
             ],
             [
              0.8888888888888888,
              "#fdca26"
             ],
             [
              1,
              "#f0f921"
             ]
            ],
            "type": "heatmap"
           }
          ],
          "heatmapgl": [
           {
            "colorbar": {
             "outlinewidth": 0,
             "ticks": ""
            },
            "colorscale": [
             [
              0,
              "#0d0887"
             ],
             [
              0.1111111111111111,
              "#46039f"
             ],
             [
              0.2222222222222222,
              "#7201a8"
             ],
             [
              0.3333333333333333,
              "#9c179e"
             ],
             [
              0.4444444444444444,
              "#bd3786"
             ],
             [
              0.5555555555555556,
              "#d8576b"
             ],
             [
              0.6666666666666666,
              "#ed7953"
             ],
             [
              0.7777777777777778,
              "#fb9f3a"
             ],
             [
              0.8888888888888888,
              "#fdca26"
             ],
             [
              1,
              "#f0f921"
             ]
            ],
            "type": "heatmapgl"
           }
          ],
          "histogram": [
           {
            "marker": {
             "colorbar": {
              "outlinewidth": 0,
              "ticks": ""
             }
            },
            "type": "histogram"
           }
          ],
          "histogram2d": [
           {
            "colorbar": {
             "outlinewidth": 0,
             "ticks": ""
            },
            "colorscale": [
             [
              0,
              "#0d0887"
             ],
             [
              0.1111111111111111,
              "#46039f"
             ],
             [
              0.2222222222222222,
              "#7201a8"
             ],
             [
              0.3333333333333333,
              "#9c179e"
             ],
             [
              0.4444444444444444,
              "#bd3786"
             ],
             [
              0.5555555555555556,
              "#d8576b"
             ],
             [
              0.6666666666666666,
              "#ed7953"
             ],
             [
              0.7777777777777778,
              "#fb9f3a"
             ],
             [
              0.8888888888888888,
              "#fdca26"
             ],
             [
              1,
              "#f0f921"
             ]
            ],
            "type": "histogram2d"
           }
          ],
          "histogram2dcontour": [
           {
            "colorbar": {
             "outlinewidth": 0,
             "ticks": ""
            },
            "colorscale": [
             [
              0,
              "#0d0887"
             ],
             [
              0.1111111111111111,
              "#46039f"
             ],
             [
              0.2222222222222222,
              "#7201a8"
             ],
             [
              0.3333333333333333,
              "#9c179e"
             ],
             [
              0.4444444444444444,
              "#bd3786"
             ],
             [
              0.5555555555555556,
              "#d8576b"
             ],
             [
              0.6666666666666666,
              "#ed7953"
             ],
             [
              0.7777777777777778,
              "#fb9f3a"
             ],
             [
              0.8888888888888888,
              "#fdca26"
             ],
             [
              1,
              "#f0f921"
             ]
            ],
            "type": "histogram2dcontour"
           }
          ],
          "mesh3d": [
           {
            "colorbar": {
             "outlinewidth": 0,
             "ticks": ""
            },
            "type": "mesh3d"
           }
          ],
          "parcoords": [
           {
            "line": {
             "colorbar": {
              "outlinewidth": 0,
              "ticks": ""
             }
            },
            "type": "parcoords"
           }
          ],
          "pie": [
           {
            "automargin": true,
            "type": "pie"
           }
          ],
          "scatter": [
           {
            "marker": {
             "colorbar": {
              "outlinewidth": 0,
              "ticks": ""
             }
            },
            "type": "scatter"
           }
          ],
          "scatter3d": [
           {
            "line": {
             "colorbar": {
              "outlinewidth": 0,
              "ticks": ""
             }
            },
            "marker": {
             "colorbar": {
              "outlinewidth": 0,
              "ticks": ""
             }
            },
            "type": "scatter3d"
           }
          ],
          "scattercarpet": [
           {
            "marker": {
             "colorbar": {
              "outlinewidth": 0,
              "ticks": ""
             }
            },
            "type": "scattercarpet"
           }
          ],
          "scattergeo": [
           {
            "marker": {
             "colorbar": {
              "outlinewidth": 0,
              "ticks": ""
             }
            },
            "type": "scattergeo"
           }
          ],
          "scattergl": [
           {
            "marker": {
             "colorbar": {
              "outlinewidth": 0,
              "ticks": ""
             }
            },
            "type": "scattergl"
           }
          ],
          "scattermapbox": [
           {
            "marker": {
             "colorbar": {
              "outlinewidth": 0,
              "ticks": ""
             }
            },
            "type": "scattermapbox"
           }
          ],
          "scatterpolar": [
           {
            "marker": {
             "colorbar": {
              "outlinewidth": 0,
              "ticks": ""
             }
            },
            "type": "scatterpolar"
           }
          ],
          "scatterpolargl": [
           {
            "marker": {
             "colorbar": {
              "outlinewidth": 0,
              "ticks": ""
             }
            },
            "type": "scatterpolargl"
           }
          ],
          "scatterternary": [
           {
            "marker": {
             "colorbar": {
              "outlinewidth": 0,
              "ticks": ""
             }
            },
            "type": "scatterternary"
           }
          ],
          "surface": [
           {
            "colorbar": {
             "outlinewidth": 0,
             "ticks": ""
            },
            "colorscale": [
             [
              0,
              "#0d0887"
             ],
             [
              0.1111111111111111,
              "#46039f"
             ],
             [
              0.2222222222222222,
              "#7201a8"
             ],
             [
              0.3333333333333333,
              "#9c179e"
             ],
             [
              0.4444444444444444,
              "#bd3786"
             ],
             [
              0.5555555555555556,
              "#d8576b"
             ],
             [
              0.6666666666666666,
              "#ed7953"
             ],
             [
              0.7777777777777778,
              "#fb9f3a"
             ],
             [
              0.8888888888888888,
              "#fdca26"
             ],
             [
              1,
              "#f0f921"
             ]
            ],
            "type": "surface"
           }
          ],
          "table": [
           {
            "cells": {
             "fill": {
              "color": "#EBF0F8"
             },
             "line": {
              "color": "white"
             }
            },
            "header": {
             "fill": {
              "color": "#C8D4E3"
             },
             "line": {
              "color": "white"
             }
            },
            "type": "table"
           }
          ]
         },
         "layout": {
          "annotationdefaults": {
           "arrowcolor": "#2a3f5f",
           "arrowhead": 0,
           "arrowwidth": 1
          },
          "autotypenumbers": "strict",
          "coloraxis": {
           "colorbar": {
            "outlinewidth": 0,
            "ticks": ""
           }
          },
          "colorscale": {
           "diverging": [
            [
             0,
             "#8e0152"
            ],
            [
             0.1,
             "#c51b7d"
            ],
            [
             0.2,
             "#de77ae"
            ],
            [
             0.3,
             "#f1b6da"
            ],
            [
             0.4,
             "#fde0ef"
            ],
            [
             0.5,
             "#f7f7f7"
            ],
            [
             0.6,
             "#e6f5d0"
            ],
            [
             0.7,
             "#b8e186"
            ],
            [
             0.8,
             "#7fbc41"
            ],
            [
             0.9,
             "#4d9221"
            ],
            [
             1,
             "#276419"
            ]
           ],
           "sequential": [
            [
             0,
             "#0d0887"
            ],
            [
             0.1111111111111111,
             "#46039f"
            ],
            [
             0.2222222222222222,
             "#7201a8"
            ],
            [
             0.3333333333333333,
             "#9c179e"
            ],
            [
             0.4444444444444444,
             "#bd3786"
            ],
            [
             0.5555555555555556,
             "#d8576b"
            ],
            [
             0.6666666666666666,
             "#ed7953"
            ],
            [
             0.7777777777777778,
             "#fb9f3a"
            ],
            [
             0.8888888888888888,
             "#fdca26"
            ],
            [
             1,
             "#f0f921"
            ]
           ],
           "sequentialminus": [
            [
             0,
             "#0d0887"
            ],
            [
             0.1111111111111111,
             "#46039f"
            ],
            [
             0.2222222222222222,
             "#7201a8"
            ],
            [
             0.3333333333333333,
             "#9c179e"
            ],
            [
             0.4444444444444444,
             "#bd3786"
            ],
            [
             0.5555555555555556,
             "#d8576b"
            ],
            [
             0.6666666666666666,
             "#ed7953"
            ],
            [
             0.7777777777777778,
             "#fb9f3a"
            ],
            [
             0.8888888888888888,
             "#fdca26"
            ],
            [
             1,
             "#f0f921"
            ]
           ]
          },
          "colorway": [
           "#636efa",
           "#EF553B",
           "#00cc96",
           "#ab63fa",
           "#FFA15A",
           "#19d3f3",
           "#FF6692",
           "#B6E880",
           "#FF97FF",
           "#FECB52"
          ],
          "font": {
           "color": "#2a3f5f"
          },
          "geo": {
           "bgcolor": "white",
           "lakecolor": "white",
           "landcolor": "#E5ECF6",
           "showlakes": true,
           "showland": true,
           "subunitcolor": "white"
          },
          "hoverlabel": {
           "align": "left"
          },
          "hovermode": "closest",
          "mapbox": {
           "style": "light"
          },
          "paper_bgcolor": "white",
          "plot_bgcolor": "#E5ECF6",
          "polar": {
           "angularaxis": {
            "gridcolor": "white",
            "linecolor": "white",
            "ticks": ""
           },
           "bgcolor": "#E5ECF6",
           "radialaxis": {
            "gridcolor": "white",
            "linecolor": "white",
            "ticks": ""
           }
          },
          "scene": {
           "xaxis": {
            "backgroundcolor": "#E5ECF6",
            "gridcolor": "white",
            "gridwidth": 2,
            "linecolor": "white",
            "showbackground": true,
            "ticks": "",
            "zerolinecolor": "white"
           },
           "yaxis": {
            "backgroundcolor": "#E5ECF6",
            "gridcolor": "white",
            "gridwidth": 2,
            "linecolor": "white",
            "showbackground": true,
            "ticks": "",
            "zerolinecolor": "white"
           },
           "zaxis": {
            "backgroundcolor": "#E5ECF6",
            "gridcolor": "white",
            "gridwidth": 2,
            "linecolor": "white",
            "showbackground": true,
            "ticks": "",
            "zerolinecolor": "white"
           }
          },
          "shapedefaults": {
           "line": {
            "color": "#2a3f5f"
           }
          },
          "ternary": {
           "aaxis": {
            "gridcolor": "white",
            "linecolor": "white",
            "ticks": ""
           },
           "baxis": {
            "gridcolor": "white",
            "linecolor": "white",
            "ticks": ""
           },
           "bgcolor": "#E5ECF6",
           "caxis": {
            "gridcolor": "white",
            "linecolor": "white",
            "ticks": ""
           }
          },
          "title": {
           "x": 0.05
          },
          "xaxis": {
           "automargin": true,
           "gridcolor": "white",
           "linecolor": "white",
           "ticks": "",
           "title": {
            "standoff": 15
           },
           "zerolinecolor": "white",
           "zerolinewidth": 2
          },
          "yaxis": {
           "automargin": true,
           "gridcolor": "white",
           "linecolor": "white",
           "ticks": "",
           "title": {
            "standoff": 15
           },
           "zerolinecolor": "white",
           "zerolinewidth": 2
          }
         }
        },
        "xaxis": {
         "anchor": "y",
         "domain": [
          0,
          1
         ],
         "range": [
          85,
          100
         ],
         "title": {
          "text": "total_score"
         }
        },
        "yaxis": {
         "anchor": "x",
         "domain": [
          0,
          1
         ],
         "range": [
          20,
          110
         ],
         "title": {
          "text": "income"
         }
        }
       }
      },
      "text/html": [
       "<div>                            <div id=\"e008126b-4591-46cc-9113-69f73f1b6b15\" class=\"plotly-graph-div\" style=\"height:525px; width:100%;\"></div>            <script type=\"text/javascript\">                require([\"plotly\"], function(Plotly) {                    window.PLOTLYENV=window.PLOTLYENV || {};                                    if (document.getElementById(\"e008126b-4591-46cc-9113-69f73f1b6b15\")) {                    Plotly.newPlot(                        \"e008126b-4591-46cc-9113-69f73f1b6b15\",                        [{\"hovertemplate\": \"<b>%{hovertext}</b><br><br>university_name=Harvard University<br>year=2011<br>total_score=%{x}<br>income=%{y}<br>num_students=%{marker.size}<extra></extra>\", \"hovertext\": [1.0], \"ids\": [\"Harvard University\"], \"legendgroup\": \"Harvard University\", \"marker\": {\"color\": \"#636efa\", \"size\": [20152.0], \"sizemode\": \"area\", \"sizeref\": 90.465, \"symbol\": \"circle\"}, \"mode\": \"markers\", \"name\": \"Harvard University\", \"orientation\": \"v\", \"showlegend\": true, \"type\": \"scatter\", \"x\": [96.1], \"xaxis\": \"x\", \"y\": [34.5], \"yaxis\": \"y\"}, {\"hovertemplate\": \"<b>%{hovertext}</b><br><br>university_name=California Institute of Technology<br>year=2011<br>total_score=%{x}<br>income=%{y}<br>num_students=%{marker.size}<extra></extra>\", \"hovertext\": [2.0], \"ids\": [\"California Institute of Technology\"], \"legendgroup\": \"California Institute of Technology\", \"marker\": {\"color\": \"#EF553B\", \"size\": [2243.0], \"sizemode\": \"area\", \"sizeref\": 90.465, \"symbol\": \"circle\"}, \"mode\": \"markers\", \"name\": \"California Institute of Technology\", \"orientation\": \"v\", \"showlegend\": true, \"type\": \"scatter\", \"x\": [96.0], \"xaxis\": \"x\", \"y\": [83.7], \"yaxis\": \"y\"}, {\"hovertemplate\": \"<b>%{hovertext}</b><br><br>university_name=Massachusetts Institute of Technology<br>year=2011<br>total_score=%{x}<br>income=%{y}<br>num_students=%{marker.size}<extra></extra>\", \"hovertext\": [3.0], \"ids\": [\"Massachusetts Institute of Technology\"], \"legendgroup\": \"Massachusetts Institute of Technology\", \"marker\": {\"color\": \"#00cc96\", \"size\": [11074.0], \"sizemode\": \"area\", \"sizeref\": 90.465, \"symbol\": \"circle\"}, \"mode\": \"markers\", \"name\": \"Massachusetts Institute of Technology\", \"orientation\": \"v\", \"showlegend\": true, \"type\": \"scatter\", \"x\": [95.6], \"xaxis\": \"x\", \"y\": [87.5], \"yaxis\": \"y\"}, {\"hovertemplate\": \"<b>%{hovertext}</b><br><br>university_name=Stanford University<br>year=2011<br>total_score=%{x}<br>income=%{y}<br>num_students=%{marker.size}<extra></extra>\", \"hovertext\": [4.0], \"ids\": [\"Stanford University\"], \"legendgroup\": \"Stanford University\", \"marker\": {\"color\": \"#ab63fa\", \"size\": [15596.0], \"sizemode\": \"area\", \"sizeref\": 90.465, \"symbol\": \"circle\"}, \"mode\": \"markers\", \"name\": \"Stanford University\", \"orientation\": \"v\", \"showlegend\": true, \"type\": \"scatter\", \"x\": [94.3], \"xaxis\": \"x\", \"y\": [64.3], \"yaxis\": \"y\"}, {\"hovertemplate\": \"<b>%{hovertext}</b><br><br>university_name=Princeton University<br>year=2011<br>total_score=%{x}<br>income=%{y}<br>num_students=%{marker.size}<extra></extra>\", \"hovertext\": [5.0], \"ids\": [\"Princeton University\"], \"legendgroup\": \"Princeton University\", \"marker\": {\"color\": \"#FFA15A\", \"size\": [7929.0], \"sizemode\": \"area\", \"sizeref\": 90.465, \"symbol\": \"circle\"}, \"mode\": \"markers\", \"name\": \"Princeton University\", \"orientation\": \"v\", \"showlegend\": true, \"type\": \"scatter\", \"x\": [94.2], \"xaxis\": \"x\", \"y\": [0.0], \"yaxis\": \"y\"}, {\"hovertemplate\": \"<b>%{hovertext}</b><br><br>university_name=University of Cambridge<br>year=2011<br>total_score=%{x}<br>income=%{y}<br>num_students=%{marker.size}<extra></extra>\", \"hovertext\": [6.0], \"ids\": [\"University of Cambridge\"], \"legendgroup\": \"University of Cambridge\", \"marker\": {\"color\": \"#19d3f3\", \"size\": [18812.0], \"sizemode\": \"area\", \"sizeref\": 90.465, \"symbol\": \"circle\"}, \"mode\": \"markers\", \"name\": \"University of Cambridge\", \"orientation\": \"v\", \"showlegend\": true, \"type\": \"scatter\", \"x\": [91.2], \"xaxis\": \"x\", \"y\": [57.0], \"yaxis\": \"y\"}, {\"hovertemplate\": \"<b>%{hovertext}</b><br><br>university_name=University of Oxford<br>year=2011<br>total_score=%{x}<br>income=%{y}<br>num_students=%{marker.size}<extra></extra>\", \"hovertext\": [6.0], \"ids\": [\"University of Oxford\"], \"legendgroup\": \"University of Oxford\", \"marker\": {\"color\": \"#FF6692\", \"size\": [19919.0], \"sizemode\": \"area\", \"sizeref\": 90.465, \"symbol\": \"circle\"}, \"mode\": \"markers\", \"name\": \"University of Oxford\", \"orientation\": \"v\", \"showlegend\": true, \"type\": \"scatter\", \"x\": [91.2], \"xaxis\": \"x\", \"y\": [73.5], \"yaxis\": \"y\"}, {\"hovertemplate\": \"<b>%{hovertext}</b><br><br>university_name=University of California, Berkeley<br>year=2011<br>total_score=%{x}<br>income=%{y}<br>num_students=%{marker.size}<extra></extra>\", \"hovertext\": [8.0], \"ids\": [\"University of California, Berkeley\"], \"legendgroup\": \"University of California, Berkeley\", \"marker\": {\"color\": \"#B6E880\", \"size\": [36186.0], \"sizemode\": \"area\", \"sizeref\": 90.465, \"symbol\": \"circle\"}, \"mode\": \"markers\", \"name\": \"University of California, Berkeley\", \"orientation\": \"v\", \"showlegend\": true, \"type\": \"scatter\", \"x\": [91.1], \"xaxis\": \"x\", \"y\": [0.0], \"yaxis\": \"y\"}, {\"hovertemplate\": \"<b>%{hovertext}</b><br><br>university_name=Imperial College London<br>year=2011<br>total_score=%{x}<br>income=%{y}<br>num_students=%{marker.size}<extra></extra>\", \"hovertext\": [9.0], \"ids\": [\"Imperial College London\"], \"legendgroup\": \"Imperial College London\", \"marker\": {\"color\": \"#FF97FF\", \"size\": [15060.0], \"sizemode\": \"area\", \"sizeref\": 90.465, \"symbol\": \"circle\"}, \"mode\": \"markers\", \"name\": \"Imperial College London\", \"orientation\": \"v\", \"showlegend\": true, \"type\": \"scatter\", \"x\": [90.6], \"xaxis\": \"x\", \"y\": [92.9], \"yaxis\": \"y\"}, {\"hovertemplate\": \"<b>%{hovertext}</b><br><br>university_name=Yale University<br>year=2011<br>total_score=%{x}<br>income=%{y}<br>num_students=%{marker.size}<extra></extra>\", \"hovertext\": [10.0], \"ids\": [\"Yale University\"], \"legendgroup\": \"Yale University\", \"marker\": {\"color\": \"#FECB52\", \"size\": [11751.0], \"sizemode\": \"area\", \"sizeref\": 90.465, \"symbol\": \"circle\"}, \"mode\": \"markers\", \"name\": \"Yale University\", \"orientation\": \"v\", \"showlegend\": true, \"type\": \"scatter\", \"x\": [89.5], \"xaxis\": \"x\", \"y\": [0.0], \"yaxis\": \"y\"}],                        {\"legend\": {\"itemsizing\": \"constant\", \"title\": {\"text\": \"university_name\"}, \"tracegroupgap\": 0}, \"margin\": {\"t\": 60}, \"sliders\": [{\"active\": 0, \"currentvalue\": {\"prefix\": \"year=\"}, \"len\": 0.9, \"pad\": {\"b\": 10, \"t\": 60}, \"steps\": [{\"args\": [[\"2011\"], {\"frame\": {\"duration\": 0, \"redraw\": false}, \"fromcurrent\": true, \"mode\": \"immediate\", \"transition\": {\"duration\": 0, \"easing\": \"linear\"}}], \"label\": \"2011\", \"method\": \"animate\"}, {\"args\": [[\"2012\"], {\"frame\": {\"duration\": 0, \"redraw\": false}, \"fromcurrent\": true, \"mode\": \"immediate\", \"transition\": {\"duration\": 0, \"easing\": \"linear\"}}], \"label\": \"2012\", \"method\": \"animate\"}, {\"args\": [[\"2013\"], {\"frame\": {\"duration\": 0, \"redraw\": false}, \"fromcurrent\": true, \"mode\": \"immediate\", \"transition\": {\"duration\": 0, \"easing\": \"linear\"}}], \"label\": \"2013\", \"method\": \"animate\"}, {\"args\": [[\"2014\"], {\"frame\": {\"duration\": 0, \"redraw\": false}, \"fromcurrent\": true, \"mode\": \"immediate\", \"transition\": {\"duration\": 0, \"easing\": \"linear\"}}], \"label\": \"2014\", \"method\": \"animate\"}, {\"args\": [[\"2015\"], {\"frame\": {\"duration\": 0, \"redraw\": false}, \"fromcurrent\": true, \"mode\": \"immediate\", \"transition\": {\"duration\": 0, \"easing\": \"linear\"}}], \"label\": \"2015\", \"method\": \"animate\"}, {\"args\": [[\"2016\"], {\"frame\": {\"duration\": 0, \"redraw\": false}, \"fromcurrent\": true, \"mode\": \"immediate\", \"transition\": {\"duration\": 0, \"easing\": \"linear\"}}], \"label\": \"2016\", \"method\": \"animate\"}], \"x\": 0.1, \"xanchor\": \"left\", \"y\": 0, \"yanchor\": \"top\"}], \"template\": {\"data\": {\"bar\": [{\"error_x\": {\"color\": \"#2a3f5f\"}, \"error_y\": {\"color\": \"#2a3f5f\"}, \"marker\": {\"line\": {\"color\": \"#E5ECF6\", \"width\": 0.5}}, \"type\": \"bar\"}], \"barpolar\": [{\"marker\": {\"line\": {\"color\": \"#E5ECF6\", \"width\": 0.5}}, \"type\": \"barpolar\"}], \"carpet\": [{\"aaxis\": {\"endlinecolor\": \"#2a3f5f\", \"gridcolor\": \"white\", \"linecolor\": \"white\", \"minorgridcolor\": \"white\", \"startlinecolor\": \"#2a3f5f\"}, \"baxis\": {\"endlinecolor\": \"#2a3f5f\", \"gridcolor\": \"white\", \"linecolor\": \"white\", \"minorgridcolor\": \"white\", \"startlinecolor\": \"#2a3f5f\"}, \"type\": \"carpet\"}], \"choropleth\": [{\"colorbar\": {\"outlinewidth\": 0, \"ticks\": \"\"}, \"type\": \"choropleth\"}], \"contour\": [{\"colorbar\": {\"outlinewidth\": 0, \"ticks\": \"\"}, \"colorscale\": [[0.0, \"#0d0887\"], [0.1111111111111111, \"#46039f\"], [0.2222222222222222, \"#7201a8\"], [0.3333333333333333, \"#9c179e\"], [0.4444444444444444, \"#bd3786\"], [0.5555555555555556, \"#d8576b\"], [0.6666666666666666, \"#ed7953\"], [0.7777777777777778, \"#fb9f3a\"], [0.8888888888888888, \"#fdca26\"], [1.0, \"#f0f921\"]], \"type\": \"contour\"}], \"contourcarpet\": [{\"colorbar\": {\"outlinewidth\": 0, \"ticks\": \"\"}, \"type\": \"contourcarpet\"}], \"heatmap\": [{\"colorbar\": {\"outlinewidth\": 0, \"ticks\": \"\"}, \"colorscale\": [[0.0, \"#0d0887\"], [0.1111111111111111, \"#46039f\"], [0.2222222222222222, \"#7201a8\"], [0.3333333333333333, \"#9c179e\"], [0.4444444444444444, \"#bd3786\"], [0.5555555555555556, \"#d8576b\"], [0.6666666666666666, \"#ed7953\"], [0.7777777777777778, \"#fb9f3a\"], [0.8888888888888888, \"#fdca26\"], [1.0, \"#f0f921\"]], \"type\": \"heatmap\"}], \"heatmapgl\": [{\"colorbar\": {\"outlinewidth\": 0, \"ticks\": \"\"}, \"colorscale\": [[0.0, \"#0d0887\"], [0.1111111111111111, \"#46039f\"], [0.2222222222222222, \"#7201a8\"], [0.3333333333333333, \"#9c179e\"], [0.4444444444444444, \"#bd3786\"], [0.5555555555555556, \"#d8576b\"], [0.6666666666666666, \"#ed7953\"], [0.7777777777777778, \"#fb9f3a\"], [0.8888888888888888, \"#fdca26\"], [1.0, \"#f0f921\"]], \"type\": \"heatmapgl\"}], \"histogram\": [{\"marker\": {\"colorbar\": {\"outlinewidth\": 0, \"ticks\": \"\"}}, \"type\": \"histogram\"}], \"histogram2d\": [{\"colorbar\": {\"outlinewidth\": 0, \"ticks\": \"\"}, \"colorscale\": [[0.0, \"#0d0887\"], [0.1111111111111111, \"#46039f\"], [0.2222222222222222, \"#7201a8\"], [0.3333333333333333, \"#9c179e\"], [0.4444444444444444, \"#bd3786\"], [0.5555555555555556, \"#d8576b\"], [0.6666666666666666, \"#ed7953\"], [0.7777777777777778, \"#fb9f3a\"], [0.8888888888888888, \"#fdca26\"], [1.0, \"#f0f921\"]], \"type\": \"histogram2d\"}], \"histogram2dcontour\": [{\"colorbar\": {\"outlinewidth\": 0, \"ticks\": \"\"}, \"colorscale\": [[0.0, \"#0d0887\"], [0.1111111111111111, \"#46039f\"], [0.2222222222222222, \"#7201a8\"], [0.3333333333333333, \"#9c179e\"], [0.4444444444444444, \"#bd3786\"], [0.5555555555555556, \"#d8576b\"], [0.6666666666666666, \"#ed7953\"], [0.7777777777777778, \"#fb9f3a\"], [0.8888888888888888, \"#fdca26\"], [1.0, \"#f0f921\"]], \"type\": \"histogram2dcontour\"}], \"mesh3d\": [{\"colorbar\": {\"outlinewidth\": 0, \"ticks\": \"\"}, \"type\": \"mesh3d\"}], \"parcoords\": [{\"line\": {\"colorbar\": {\"outlinewidth\": 0, \"ticks\": \"\"}}, \"type\": \"parcoords\"}], \"pie\": [{\"automargin\": true, \"type\": \"pie\"}], \"scatter\": [{\"marker\": {\"colorbar\": {\"outlinewidth\": 0, \"ticks\": \"\"}}, \"type\": \"scatter\"}], \"scatter3d\": [{\"line\": {\"colorbar\": {\"outlinewidth\": 0, \"ticks\": \"\"}}, \"marker\": {\"colorbar\": {\"outlinewidth\": 0, \"ticks\": \"\"}}, \"type\": \"scatter3d\"}], \"scattercarpet\": [{\"marker\": {\"colorbar\": {\"outlinewidth\": 0, \"ticks\": \"\"}}, \"type\": \"scattercarpet\"}], \"scattergeo\": [{\"marker\": {\"colorbar\": {\"outlinewidth\": 0, \"ticks\": \"\"}}, \"type\": \"scattergeo\"}], \"scattergl\": [{\"marker\": {\"colorbar\": {\"outlinewidth\": 0, \"ticks\": \"\"}}, \"type\": \"scattergl\"}], \"scattermapbox\": [{\"marker\": {\"colorbar\": {\"outlinewidth\": 0, \"ticks\": \"\"}}, \"type\": \"scattermapbox\"}], \"scatterpolar\": [{\"marker\": {\"colorbar\": {\"outlinewidth\": 0, \"ticks\": \"\"}}, \"type\": \"scatterpolar\"}], \"scatterpolargl\": [{\"marker\": {\"colorbar\": {\"outlinewidth\": 0, \"ticks\": \"\"}}, \"type\": \"scatterpolargl\"}], \"scatterternary\": [{\"marker\": {\"colorbar\": {\"outlinewidth\": 0, \"ticks\": \"\"}}, \"type\": \"scatterternary\"}], \"surface\": [{\"colorbar\": {\"outlinewidth\": 0, \"ticks\": \"\"}, \"colorscale\": [[0.0, \"#0d0887\"], [0.1111111111111111, \"#46039f\"], [0.2222222222222222, \"#7201a8\"], [0.3333333333333333, \"#9c179e\"], [0.4444444444444444, \"#bd3786\"], [0.5555555555555556, \"#d8576b\"], [0.6666666666666666, \"#ed7953\"], [0.7777777777777778, \"#fb9f3a\"], [0.8888888888888888, \"#fdca26\"], [1.0, \"#f0f921\"]], \"type\": \"surface\"}], \"table\": [{\"cells\": {\"fill\": {\"color\": \"#EBF0F8\"}, \"line\": {\"color\": \"white\"}}, \"header\": {\"fill\": {\"color\": \"#C8D4E3\"}, \"line\": {\"color\": \"white\"}}, \"type\": \"table\"}]}, \"layout\": {\"annotationdefaults\": {\"arrowcolor\": \"#2a3f5f\", \"arrowhead\": 0, \"arrowwidth\": 1}, \"autotypenumbers\": \"strict\", \"coloraxis\": {\"colorbar\": {\"outlinewidth\": 0, \"ticks\": \"\"}}, \"colorscale\": {\"diverging\": [[0, \"#8e0152\"], [0.1, \"#c51b7d\"], [0.2, \"#de77ae\"], [0.3, \"#f1b6da\"], [0.4, \"#fde0ef\"], [0.5, \"#f7f7f7\"], [0.6, \"#e6f5d0\"], [0.7, \"#b8e186\"], [0.8, \"#7fbc41\"], [0.9, \"#4d9221\"], [1, \"#276419\"]], \"sequential\": [[0.0, \"#0d0887\"], [0.1111111111111111, \"#46039f\"], [0.2222222222222222, \"#7201a8\"], [0.3333333333333333, \"#9c179e\"], [0.4444444444444444, \"#bd3786\"], [0.5555555555555556, \"#d8576b\"], [0.6666666666666666, \"#ed7953\"], [0.7777777777777778, \"#fb9f3a\"], [0.8888888888888888, \"#fdca26\"], [1.0, \"#f0f921\"]], \"sequentialminus\": [[0.0, \"#0d0887\"], [0.1111111111111111, \"#46039f\"], [0.2222222222222222, \"#7201a8\"], [0.3333333333333333, \"#9c179e\"], [0.4444444444444444, \"#bd3786\"], [0.5555555555555556, \"#d8576b\"], [0.6666666666666666, \"#ed7953\"], [0.7777777777777778, \"#fb9f3a\"], [0.8888888888888888, \"#fdca26\"], [1.0, \"#f0f921\"]]}, \"colorway\": [\"#636efa\", \"#EF553B\", \"#00cc96\", \"#ab63fa\", \"#FFA15A\", \"#19d3f3\", \"#FF6692\", \"#B6E880\", \"#FF97FF\", \"#FECB52\"], \"font\": {\"color\": \"#2a3f5f\"}, \"geo\": {\"bgcolor\": \"white\", \"lakecolor\": \"white\", \"landcolor\": \"#E5ECF6\", \"showlakes\": true, \"showland\": true, \"subunitcolor\": \"white\"}, \"hoverlabel\": {\"align\": \"left\"}, \"hovermode\": \"closest\", \"mapbox\": {\"style\": \"light\"}, \"paper_bgcolor\": \"white\", \"plot_bgcolor\": \"#E5ECF6\", \"polar\": {\"angularaxis\": {\"gridcolor\": \"white\", \"linecolor\": \"white\", \"ticks\": \"\"}, \"bgcolor\": \"#E5ECF6\", \"radialaxis\": {\"gridcolor\": \"white\", \"linecolor\": \"white\", \"ticks\": \"\"}}, \"scene\": {\"xaxis\": {\"backgroundcolor\": \"#E5ECF6\", \"gridcolor\": \"white\", \"gridwidth\": 2, \"linecolor\": \"white\", \"showbackground\": true, \"ticks\": \"\", \"zerolinecolor\": \"white\"}, \"yaxis\": {\"backgroundcolor\": \"#E5ECF6\", \"gridcolor\": \"white\", \"gridwidth\": 2, \"linecolor\": \"white\", \"showbackground\": true, \"ticks\": \"\", \"zerolinecolor\": \"white\"}, \"zaxis\": {\"backgroundcolor\": \"#E5ECF6\", \"gridcolor\": \"white\", \"gridwidth\": 2, \"linecolor\": \"white\", \"showbackground\": true, \"ticks\": \"\", \"zerolinecolor\": \"white\"}}, \"shapedefaults\": {\"line\": {\"color\": \"#2a3f5f\"}}, \"ternary\": {\"aaxis\": {\"gridcolor\": \"white\", \"linecolor\": \"white\", \"ticks\": \"\"}, \"baxis\": {\"gridcolor\": \"white\", \"linecolor\": \"white\", \"ticks\": \"\"}, \"bgcolor\": \"#E5ECF6\", \"caxis\": {\"gridcolor\": \"white\", \"linecolor\": \"white\", \"ticks\": \"\"}}, \"title\": {\"x\": 0.05}, \"xaxis\": {\"automargin\": true, \"gridcolor\": \"white\", \"linecolor\": \"white\", \"ticks\": \"\", \"title\": {\"standoff\": 15}, \"zerolinecolor\": \"white\", \"zerolinewidth\": 2}, \"yaxis\": {\"automargin\": true, \"gridcolor\": \"white\", \"linecolor\": \"white\", \"ticks\": \"\", \"title\": {\"standoff\": 15}, \"zerolinecolor\": \"white\", \"zerolinewidth\": 2}}}, \"xaxis\": {\"anchor\": \"y\", \"domain\": [0.0, 1.0], \"range\": [85, 100], \"title\": {\"text\": \"total_score\"}}, \"yaxis\": {\"anchor\": \"x\", \"domain\": [0.0, 1.0], \"range\": [20, 110], \"title\": {\"text\": \"income\"}}},                        {\"responsive\": true}                    ).then(function(){\n",
       "                            Plotly.addFrames('e008126b-4591-46cc-9113-69f73f1b6b15', [{\"data\": [{\"hovertemplate\": \"<b>%{hovertext}</b><br><br>university_name=Harvard University<br>year=2011<br>total_score=%{x}<br>income=%{y}<br>num_students=%{marker.size}<extra></extra>\", \"hovertext\": [1.0], \"ids\": [\"Harvard University\"], \"legendgroup\": \"Harvard University\", \"marker\": {\"color\": \"#636efa\", \"size\": [20152.0], \"sizemode\": \"area\", \"sizeref\": 90.465, \"symbol\": \"circle\"}, \"mode\": \"markers\", \"name\": \"Harvard University\", \"orientation\": \"v\", \"showlegend\": true, \"x\": [96.1], \"xaxis\": \"x\", \"y\": [34.5], \"yaxis\": \"y\", \"type\": \"scatter\"}, {\"hovertemplate\": \"<b>%{hovertext}</b><br><br>university_name=California Institute of Technology<br>year=2011<br>total_score=%{x}<br>income=%{y}<br>num_students=%{marker.size}<extra></extra>\", \"hovertext\": [2.0], \"ids\": [\"California Institute of Technology\"], \"legendgroup\": \"California Institute of Technology\", \"marker\": {\"color\": \"#EF553B\", \"size\": [2243.0], \"sizemode\": \"area\", \"sizeref\": 90.465, \"symbol\": \"circle\"}, \"mode\": \"markers\", \"name\": \"California Institute of Technology\", \"orientation\": \"v\", \"showlegend\": true, \"x\": [96.0], \"xaxis\": \"x\", \"y\": [83.7], \"yaxis\": \"y\", \"type\": \"scatter\"}, {\"hovertemplate\": \"<b>%{hovertext}</b><br><br>university_name=Massachusetts Institute of Technology<br>year=2011<br>total_score=%{x}<br>income=%{y}<br>num_students=%{marker.size}<extra></extra>\", \"hovertext\": [3.0], \"ids\": [\"Massachusetts Institute of Technology\"], \"legendgroup\": \"Massachusetts Institute of Technology\", \"marker\": {\"color\": \"#00cc96\", \"size\": [11074.0], \"sizemode\": \"area\", \"sizeref\": 90.465, \"symbol\": \"circle\"}, \"mode\": \"markers\", \"name\": \"Massachusetts Institute of Technology\", \"orientation\": \"v\", \"showlegend\": true, \"x\": [95.6], \"xaxis\": \"x\", \"y\": [87.5], \"yaxis\": \"y\", \"type\": \"scatter\"}, {\"hovertemplate\": \"<b>%{hovertext}</b><br><br>university_name=Stanford University<br>year=2011<br>total_score=%{x}<br>income=%{y}<br>num_students=%{marker.size}<extra></extra>\", \"hovertext\": [4.0], \"ids\": [\"Stanford University\"], \"legendgroup\": \"Stanford University\", \"marker\": {\"color\": \"#ab63fa\", \"size\": [15596.0], \"sizemode\": \"area\", \"sizeref\": 90.465, \"symbol\": \"circle\"}, \"mode\": \"markers\", \"name\": \"Stanford University\", \"orientation\": \"v\", \"showlegend\": true, \"x\": [94.3], \"xaxis\": \"x\", \"y\": [64.3], \"yaxis\": \"y\", \"type\": \"scatter\"}, {\"hovertemplate\": \"<b>%{hovertext}</b><br><br>university_name=Princeton University<br>year=2011<br>total_score=%{x}<br>income=%{y}<br>num_students=%{marker.size}<extra></extra>\", \"hovertext\": [5.0], \"ids\": [\"Princeton University\"], \"legendgroup\": \"Princeton University\", \"marker\": {\"color\": \"#FFA15A\", \"size\": [7929.0], \"sizemode\": \"area\", \"sizeref\": 90.465, \"symbol\": \"circle\"}, \"mode\": \"markers\", \"name\": \"Princeton University\", \"orientation\": \"v\", \"showlegend\": true, \"x\": [94.2], \"xaxis\": \"x\", \"y\": [0.0], \"yaxis\": \"y\", \"type\": \"scatter\"}, {\"hovertemplate\": \"<b>%{hovertext}</b><br><br>university_name=University of Cambridge<br>year=2011<br>total_score=%{x}<br>income=%{y}<br>num_students=%{marker.size}<extra></extra>\", \"hovertext\": [6.0], \"ids\": [\"University of Cambridge\"], \"legendgroup\": \"University of Cambridge\", \"marker\": {\"color\": \"#19d3f3\", \"size\": [18812.0], \"sizemode\": \"area\", \"sizeref\": 90.465, \"symbol\": \"circle\"}, \"mode\": \"markers\", \"name\": \"University of Cambridge\", \"orientation\": \"v\", \"showlegend\": true, \"x\": [91.2], \"xaxis\": \"x\", \"y\": [57.0], \"yaxis\": \"y\", \"type\": \"scatter\"}, {\"hovertemplate\": \"<b>%{hovertext}</b><br><br>university_name=University of Oxford<br>year=2011<br>total_score=%{x}<br>income=%{y}<br>num_students=%{marker.size}<extra></extra>\", \"hovertext\": [6.0], \"ids\": [\"University of Oxford\"], \"legendgroup\": \"University of Oxford\", \"marker\": {\"color\": \"#FF6692\", \"size\": [19919.0], \"sizemode\": \"area\", \"sizeref\": 90.465, \"symbol\": \"circle\"}, \"mode\": \"markers\", \"name\": \"University of Oxford\", \"orientation\": \"v\", \"showlegend\": true, \"x\": [91.2], \"xaxis\": \"x\", \"y\": [73.5], \"yaxis\": \"y\", \"type\": \"scatter\"}, {\"hovertemplate\": \"<b>%{hovertext}</b><br><br>university_name=University of California, Berkeley<br>year=2011<br>total_score=%{x}<br>income=%{y}<br>num_students=%{marker.size}<extra></extra>\", \"hovertext\": [8.0], \"ids\": [\"University of California, Berkeley\"], \"legendgroup\": \"University of California, Berkeley\", \"marker\": {\"color\": \"#B6E880\", \"size\": [36186.0], \"sizemode\": \"area\", \"sizeref\": 90.465, \"symbol\": \"circle\"}, \"mode\": \"markers\", \"name\": \"University of California, Berkeley\", \"orientation\": \"v\", \"showlegend\": true, \"x\": [91.1], \"xaxis\": \"x\", \"y\": [0.0], \"yaxis\": \"y\", \"type\": \"scatter\"}, {\"hovertemplate\": \"<b>%{hovertext}</b><br><br>university_name=Imperial College London<br>year=2011<br>total_score=%{x}<br>income=%{y}<br>num_students=%{marker.size}<extra></extra>\", \"hovertext\": [9.0], \"ids\": [\"Imperial College London\"], \"legendgroup\": \"Imperial College London\", \"marker\": {\"color\": \"#FF97FF\", \"size\": [15060.0], \"sizemode\": \"area\", \"sizeref\": 90.465, \"symbol\": \"circle\"}, \"mode\": \"markers\", \"name\": \"Imperial College London\", \"orientation\": \"v\", \"showlegend\": true, \"x\": [90.6], \"xaxis\": \"x\", \"y\": [92.9], \"yaxis\": \"y\", \"type\": \"scatter\"}, {\"hovertemplate\": \"<b>%{hovertext}</b><br><br>university_name=Yale University<br>year=2011<br>total_score=%{x}<br>income=%{y}<br>num_students=%{marker.size}<extra></extra>\", \"hovertext\": [10.0], \"ids\": [\"Yale University\"], \"legendgroup\": \"Yale University\", \"marker\": {\"color\": \"#FECB52\", \"size\": [11751.0], \"sizemode\": \"area\", \"sizeref\": 90.465, \"symbol\": \"circle\"}, \"mode\": \"markers\", \"name\": \"Yale University\", \"orientation\": \"v\", \"showlegend\": true, \"x\": [89.5], \"xaxis\": \"x\", \"y\": [0.0], \"yaxis\": \"y\", \"type\": \"scatter\"}], \"name\": \"2011\"}, {\"data\": [{\"hovertemplate\": \"<b>%{hovertext}</b><br><br>university_name=Harvard University<br>year=2012<br>total_score=%{x}<br>income=%{y}<br>num_students=%{marker.size}<extra></extra>\", \"hovertext\": [2.0], \"ids\": [\"Harvard University\"], \"legendgroup\": \"Harvard University\", \"marker\": {\"color\": \"#636efa\", \"size\": [20152.0], \"sizemode\": \"area\", \"sizeref\": 90.465, \"symbol\": \"circle\"}, \"mode\": \"markers\", \"name\": \"Harvard University\", \"orientation\": \"v\", \"showlegend\": true, \"x\": [93.9], \"xaxis\": \"x\", \"y\": [35.9], \"yaxis\": \"y\", \"type\": \"scatter\"}, {\"hovertemplate\": \"<b>%{hovertext}</b><br><br>university_name=California Institute of Technology<br>year=2012<br>total_score=%{x}<br>income=%{y}<br>num_students=%{marker.size}<extra></extra>\", \"hovertext\": [1.0], \"ids\": [\"California Institute of Technology\"], \"legendgroup\": \"California Institute of Technology\", \"marker\": {\"color\": \"#EF553B\", \"size\": [2243.0], \"sizemode\": \"area\", \"sizeref\": 90.465, \"symbol\": \"circle\"}, \"mode\": \"markers\", \"name\": \"California Institute of Technology\", \"orientation\": \"v\", \"showlegend\": true, \"x\": [94.8], \"xaxis\": \"x\", \"y\": [97.0], \"yaxis\": \"y\", \"type\": \"scatter\"}, {\"hovertemplate\": \"<b>%{hovertext}</b><br><br>university_name=Massachusetts Institute of Technology<br>year=2012<br>total_score=%{x}<br>income=%{y}<br>num_students=%{marker.size}<extra></extra>\", \"hovertext\": [7.0], \"ids\": [\"Massachusetts Institute of Technology\"], \"legendgroup\": \"Massachusetts Institute of Technology\", \"marker\": {\"color\": \"#00cc96\", \"size\": [11074.0], \"sizemode\": \"area\", \"sizeref\": 90.465, \"symbol\": \"circle\"}, \"mode\": \"markers\", \"name\": \"Massachusetts Institute of Technology\", \"orientation\": \"v\", \"showlegend\": true, \"x\": [92.3], \"xaxis\": \"x\", \"y\": [94.4], \"yaxis\": \"y\", \"type\": \"scatter\"}, {\"hovertemplate\": \"<b>%{hovertext}</b><br><br>university_name=Stanford University<br>year=2012<br>total_score=%{x}<br>income=%{y}<br>num_students=%{marker.size}<extra></extra>\", \"hovertext\": [2.0], \"ids\": [\"Stanford University\"], \"legendgroup\": \"Stanford University\", \"marker\": {\"color\": \"#ab63fa\", \"size\": [15596.0], \"sizemode\": \"area\", \"sizeref\": 90.465, \"symbol\": \"circle\"}, \"mode\": \"markers\", \"name\": \"Stanford University\", \"orientation\": \"v\", \"showlegend\": true, \"x\": [93.9], \"xaxis\": \"x\", \"y\": [63.8], \"yaxis\": \"y\", \"type\": \"scatter\"}, {\"hovertemplate\": \"<b>%{hovertext}</b><br><br>university_name=Princeton University<br>year=2012<br>total_score=%{x}<br>income=%{y}<br>num_students=%{marker.size}<extra></extra>\", \"hovertext\": [5.0], \"ids\": [\"Princeton University\"], \"legendgroup\": \"Princeton University\", \"marker\": {\"color\": \"#FFA15A\", \"size\": [7929.0], \"sizemode\": \"area\", \"sizeref\": 90.465, \"symbol\": \"circle\"}, \"mode\": \"markers\", \"name\": \"Princeton University\", \"orientation\": \"v\", \"showlegend\": true, \"x\": [92.9], \"xaxis\": \"x\", \"y\": [81.0], \"yaxis\": \"y\", \"type\": \"scatter\"}, {\"hovertemplate\": \"<b>%{hovertext}</b><br><br>university_name=University of Cambridge<br>year=2012<br>total_score=%{x}<br>income=%{y}<br>num_students=%{marker.size}<extra></extra>\", \"hovertext\": [6.0], \"ids\": [\"University of Cambridge\"], \"legendgroup\": \"University of Cambridge\", \"marker\": {\"color\": \"#19d3f3\", \"size\": [18812.0], \"sizemode\": \"area\", \"sizeref\": 90.465, \"symbol\": \"circle\"}, \"mode\": \"markers\", \"name\": \"University of Cambridge\", \"orientation\": \"v\", \"showlegend\": true, \"x\": [92.4], \"xaxis\": \"x\", \"y\": [55.5], \"yaxis\": \"y\", \"type\": \"scatter\"}, {\"hovertemplate\": \"<b>%{hovertext}</b><br><br>university_name=University of Oxford<br>year=2012<br>total_score=%{x}<br>income=%{y}<br>num_students=%{marker.size}<extra></extra>\", \"hovertext\": [4.0], \"ids\": [\"University of Oxford\"], \"legendgroup\": \"University of Oxford\", \"marker\": {\"color\": \"#FF6692\", \"size\": [19919.0], \"sizemode\": \"area\", \"sizeref\": 90.465, \"symbol\": \"circle\"}, \"mode\": \"markers\", \"name\": \"University of Oxford\", \"orientation\": \"v\", \"showlegend\": true, \"x\": [93.6], \"xaxis\": \"x\", \"y\": [62.1], \"yaxis\": \"y\", \"type\": \"scatter\"}, {\"hovertemplate\": \"<b>%{hovertext}</b><br><br>university_name=University of California, Berkeley<br>year=2012<br>total_score=%{x}<br>income=%{y}<br>num_students=%{marker.size}<extra></extra>\", \"hovertext\": [10.0], \"ids\": [\"University of California, Berkeley\"], \"legendgroup\": \"University of California, Berkeley\", \"marker\": {\"color\": \"#B6E880\", \"size\": [36186.0], \"sizemode\": \"area\", \"sizeref\": 90.465, \"symbol\": \"circle\"}, \"mode\": \"markers\", \"name\": \"University of California, Berkeley\", \"orientation\": \"v\", \"showlegend\": true, \"x\": [89.8], \"xaxis\": \"x\", \"y\": [62.5], \"yaxis\": \"y\", \"type\": \"scatter\"}, {\"hovertemplate\": \"<b>%{hovertext}</b><br><br>university_name=Imperial College London<br>year=2012<br>total_score=%{x}<br>income=%{y}<br>num_students=%{marker.size}<extra></extra>\", \"hovertext\": [8.0], \"ids\": [\"Imperial College London\"], \"legendgroup\": \"Imperial College London\", \"marker\": {\"color\": \"#FF97FF\", \"size\": [15060.0], \"sizemode\": \"area\", \"sizeref\": 90.465, \"symbol\": \"circle\"}, \"mode\": \"markers\", \"name\": \"Imperial College London\", \"orientation\": \"v\", \"showlegend\": true, \"x\": [90.7], \"xaxis\": \"x\", \"y\": [93.1], \"yaxis\": \"y\", \"type\": \"scatter\"}, {\"hovertemplate\": \"<b>%{hovertext}</b><br><br>university_name=University of Chicago<br>year=2012<br>total_score=%{x}<br>income=%{y}<br>num_students=%{marker.size}<extra></extra>\", \"hovertext\": [9.0], \"ids\": [\"University of Chicago\"], \"legendgroup\": \"University of Chicago\", \"marker\": {\"color\": \"#636efa\", \"size\": [14221.0], \"sizemode\": \"area\", \"sizeref\": 90.465, \"symbol\": \"circle\"}, \"mode\": \"markers\", \"name\": \"University of Chicago\", \"orientation\": \"v\", \"showlegend\": true, \"x\": [90.2], \"xaxis\": \"x\", \"y\": [0.0], \"yaxis\": \"y\", \"type\": \"scatter\"}], \"name\": \"2012\"}, {\"data\": [{\"hovertemplate\": \"<b>%{hovertext}</b><br><br>university_name=Harvard University<br>year=2013<br>total_score=%{x}<br>income=%{y}<br>num_students=%{marker.size}<extra></extra>\", \"hovertext\": [4.0], \"ids\": [\"Harvard University\"], \"legendgroup\": \"Harvard University\", \"marker\": {\"color\": \"#636efa\", \"size\": [20152.0], \"sizemode\": \"area\", \"sizeref\": 90.465, \"symbol\": \"circle\"}, \"mode\": \"markers\", \"name\": \"Harvard University\", \"orientation\": \"v\", \"showlegend\": true, \"x\": [93.6], \"xaxis\": \"x\", \"y\": [39.9], \"yaxis\": \"y\", \"type\": \"scatter\"}, {\"hovertemplate\": \"<b>%{hovertext}</b><br><br>university_name=California Institute of Technology<br>year=2013<br>total_score=%{x}<br>income=%{y}<br>num_students=%{marker.size}<extra></extra>\", \"hovertext\": [1.0], \"ids\": [\"California Institute of Technology\"], \"legendgroup\": \"California Institute of Technology\", \"marker\": {\"color\": \"#EF553B\", \"size\": [2243.0], \"sizemode\": \"area\", \"sizeref\": 90.465, \"symbol\": \"circle\"}, \"mode\": \"markers\", \"name\": \"California Institute of Technology\", \"orientation\": \"v\", \"showlegend\": true, \"x\": [95.5], \"xaxis\": \"x\", \"y\": [95.6], \"yaxis\": \"y\", \"type\": \"scatter\"}, {\"hovertemplate\": \"<b>%{hovertext}</b><br><br>university_name=Massachusetts Institute of Technology<br>year=2013<br>total_score=%{x}<br>income=%{y}<br>num_students=%{marker.size}<extra></extra>\", \"hovertext\": [5.0], \"ids\": [\"Massachusetts Institute of Technology\"], \"legendgroup\": \"Massachusetts Institute of Technology\", \"marker\": {\"color\": \"#00cc96\", \"size\": [11074.0], \"sizemode\": \"area\", \"sizeref\": 90.465, \"symbol\": \"circle\"}, \"mode\": \"markers\", \"name\": \"Massachusetts Institute of Technology\", \"orientation\": \"v\", \"showlegend\": true, \"x\": [93.1], \"xaxis\": \"x\", \"y\": [92.9], \"yaxis\": \"y\", \"type\": \"scatter\"}, {\"hovertemplate\": \"<b>%{hovertext}</b><br><br>university_name=Stanford University<br>year=2013<br>total_score=%{x}<br>income=%{y}<br>num_students=%{marker.size}<extra></extra>\", \"hovertext\": [2.0], \"ids\": [\"Stanford University\"], \"legendgroup\": \"Stanford University\", \"marker\": {\"color\": \"#ab63fa\", \"size\": [15596.0], \"sizemode\": \"area\", \"sizeref\": 90.465, \"symbol\": \"circle\"}, \"mode\": \"markers\", \"name\": \"Stanford University\", \"orientation\": \"v\", \"showlegend\": true, \"x\": [93.7], \"xaxis\": \"x\", \"y\": [62.4], \"yaxis\": \"y\", \"type\": \"scatter\"}, {\"hovertemplate\": \"<b>%{hovertext}</b><br><br>university_name=Princeton University<br>year=2013<br>total_score=%{x}<br>income=%{y}<br>num_students=%{marker.size}<extra></extra>\", \"hovertext\": [6.0], \"ids\": [\"Princeton University\"], \"legendgroup\": \"Princeton University\", \"marker\": {\"color\": \"#FFA15A\", \"size\": [7929.0], \"sizemode\": \"area\", \"sizeref\": 90.465, \"symbol\": \"circle\"}, \"mode\": \"markers\", \"name\": \"Princeton University\", \"orientation\": \"v\", \"showlegend\": true, \"x\": [92.7], \"xaxis\": \"x\", \"y\": [79.5], \"yaxis\": \"y\", \"type\": \"scatter\"}, {\"hovertemplate\": \"<b>%{hovertext}</b><br><br>university_name=University of Cambridge<br>year=2013<br>total_score=%{x}<br>income=%{y}<br>num_students=%{marker.size}<extra></extra>\", \"hovertext\": [7.0], \"ids\": [\"University of Cambridge\"], \"legendgroup\": \"University of Cambridge\", \"marker\": {\"color\": \"#19d3f3\", \"size\": [18812.0], \"sizemode\": \"area\", \"sizeref\": 90.465, \"symbol\": \"circle\"}, \"mode\": \"markers\", \"name\": \"University of Cambridge\", \"orientation\": \"v\", \"showlegend\": true, \"x\": [92.6], \"xaxis\": \"x\", \"y\": [59.1], \"yaxis\": \"y\", \"type\": \"scatter\"}, {\"hovertemplate\": \"<b>%{hovertext}</b><br><br>university_name=University of Oxford<br>year=2013<br>total_score=%{x}<br>income=%{y}<br>num_students=%{marker.size}<extra></extra>\", \"hovertext\": [2.0], \"ids\": [\"University of Oxford\"], \"legendgroup\": \"University of Oxford\", \"marker\": {\"color\": \"#FF6692\", \"size\": [19919.0], \"sizemode\": \"area\", \"sizeref\": 90.465, \"symbol\": \"circle\"}, \"mode\": \"markers\", \"name\": \"University of Oxford\", \"orientation\": \"v\", \"showlegend\": true, \"x\": [93.7], \"xaxis\": \"x\", \"y\": [79.8], \"yaxis\": \"y\", \"type\": \"scatter\"}, {\"hovertemplate\": \"<b>%{hovertext}</b><br><br>university_name=University of California, Berkeley<br>year=2013<br>total_score=%{x}<br>income=%{y}<br>num_students=%{marker.size}<extra></extra>\", \"hovertext\": [9.0], \"ids\": [\"University of California, Berkeley\"], \"legendgroup\": \"University of California, Berkeley\", \"marker\": {\"color\": \"#B6E880\", \"size\": [36186.0], \"sizemode\": \"area\", \"sizeref\": 90.465, \"symbol\": \"circle\"}, \"mode\": \"markers\", \"name\": \"University of California, Berkeley\", \"orientation\": \"v\", \"showlegend\": true, \"x\": [90.5], \"xaxis\": \"x\", \"y\": [65.4], \"yaxis\": \"y\", \"type\": \"scatter\"}, {\"hovertemplate\": \"<b>%{hovertext}</b><br><br>university_name=Imperial College London<br>year=2013<br>total_score=%{x}<br>income=%{y}<br>num_students=%{marker.size}<extra></extra>\", \"hovertext\": [8.0], \"ids\": [\"Imperial College London\"], \"legendgroup\": \"Imperial College London\", \"marker\": {\"color\": \"#FF97FF\", \"size\": [15060.0], \"sizemode\": \"area\", \"sizeref\": 90.465, \"symbol\": \"circle\"}, \"mode\": \"markers\", \"name\": \"Imperial College London\", \"orientation\": \"v\", \"showlegend\": true, \"x\": [90.6], \"xaxis\": \"x\", \"y\": [87.5], \"yaxis\": \"y\", \"type\": \"scatter\"}, {\"hovertemplate\": \"<b>%{hovertext}</b><br><br>university_name=University of Chicago<br>year=2013<br>total_score=%{x}<br>income=%{y}<br>num_students=%{marker.size}<extra></extra>\", \"hovertext\": [10.0], \"ids\": [\"University of Chicago\"], \"legendgroup\": \"University of Chicago\", \"marker\": {\"color\": \"#636efa\", \"size\": [14221.0], \"sizemode\": \"area\", \"sizeref\": 90.465, \"symbol\": \"circle\"}, \"mode\": \"markers\", \"name\": \"University of Chicago\", \"orientation\": \"v\", \"showlegend\": true, \"x\": [90.4], \"xaxis\": \"x\", \"y\": [0.0], \"yaxis\": \"y\", \"type\": \"scatter\"}], \"name\": \"2013\"}, {\"data\": [{\"hovertemplate\": \"<b>%{hovertext}</b><br><br>university_name=Harvard University<br>year=2014<br>total_score=%{x}<br>income=%{y}<br>num_students=%{marker.size}<extra></extra>\", \"hovertext\": [2.0], \"ids\": [\"Harvard University\"], \"legendgroup\": \"Harvard University\", \"marker\": {\"color\": \"#636efa\", \"size\": [20152.0], \"sizemode\": \"area\", \"sizeref\": 90.465, \"symbol\": \"circle\"}, \"mode\": \"markers\", \"name\": \"Harvard University\", \"orientation\": \"v\", \"showlegend\": true, \"x\": [93.9], \"xaxis\": \"x\", \"y\": [40.6], \"yaxis\": \"y\", \"type\": \"scatter\"}, {\"hovertemplate\": \"<b>%{hovertext}</b><br><br>university_name=California Institute of Technology<br>year=2014<br>total_score=%{x}<br>income=%{y}<br>num_students=%{marker.size}<extra></extra>\", \"hovertext\": [1.0], \"ids\": [\"California Institute of Technology\"], \"legendgroup\": \"California Institute of Technology\", \"marker\": {\"color\": \"#EF553B\", \"size\": [2243.0], \"sizemode\": \"area\", \"sizeref\": 90.465, \"symbol\": \"circle\"}, \"mode\": \"markers\", \"name\": \"California Institute of Technology\", \"orientation\": \"v\", \"showlegend\": true, \"x\": [94.9], \"xaxis\": \"x\", \"y\": [91.2], \"yaxis\": \"y\", \"type\": \"scatter\"}, {\"hovertemplate\": \"<b>%{hovertext}</b><br><br>university_name=Massachusetts Institute of Technology<br>year=2014<br>total_score=%{x}<br>income=%{y}<br>num_students=%{marker.size}<extra></extra>\", \"hovertext\": [5.0], \"ids\": [\"Massachusetts Institute of Technology\"], \"legendgroup\": \"Massachusetts Institute of Technology\", \"marker\": {\"color\": \"#00cc96\", \"size\": [11074.0], \"sizemode\": \"area\", \"sizeref\": 90.465, \"symbol\": \"circle\"}, \"mode\": \"markers\", \"name\": \"Massachusetts Institute of Technology\", \"orientation\": \"v\", \"showlegend\": true, \"x\": [93.0], \"xaxis\": \"x\", \"y\": [94.3], \"yaxis\": \"y\", \"type\": \"scatter\"}, {\"hovertemplate\": \"<b>%{hovertext}</b><br><br>university_name=Stanford University<br>year=2014<br>total_score=%{x}<br>income=%{y}<br>num_students=%{marker.size}<extra></extra>\", \"hovertext\": [4.0], \"ids\": [\"Stanford University\"], \"legendgroup\": \"Stanford University\", \"marker\": {\"color\": \"#ab63fa\", \"size\": [15596.0], \"sizemode\": \"area\", \"sizeref\": 90.465, \"symbol\": \"circle\"}, \"mode\": \"markers\", \"name\": \"Stanford University\", \"orientation\": \"v\", \"showlegend\": true, \"x\": [93.8], \"xaxis\": \"x\", \"y\": [61.3], \"yaxis\": \"y\", \"type\": \"scatter\"}, {\"hovertemplate\": \"<b>%{hovertext}</b><br><br>university_name=Princeton University<br>year=2014<br>total_score=%{x}<br>income=%{y}<br>num_students=%{marker.size}<extra></extra>\", \"hovertext\": [6.0], \"ids\": [\"Princeton University\"], \"legendgroup\": \"Princeton University\", \"marker\": {\"color\": \"#FFA15A\", \"size\": [7929.0], \"sizemode\": \"area\", \"sizeref\": 90.465, \"symbol\": \"circle\"}, \"mode\": \"markers\", \"name\": \"Princeton University\", \"orientation\": \"v\", \"showlegend\": true, \"x\": [92.7], \"xaxis\": \"x\", \"y\": [80.5], \"yaxis\": \"y\", \"type\": \"scatter\"}, {\"hovertemplate\": \"<b>%{hovertext}</b><br><br>university_name=University of Cambridge<br>year=2014<br>total_score=%{x}<br>income=%{y}<br>num_students=%{marker.size}<extra></extra>\", \"hovertext\": [7.0], \"ids\": [\"University of Cambridge\"], \"legendgroup\": \"University of Cambridge\", \"marker\": {\"color\": \"#19d3f3\", \"size\": [18812.0], \"sizemode\": \"area\", \"sizeref\": 90.465, \"symbol\": \"circle\"}, \"mode\": \"markers\", \"name\": \"University of Cambridge\", \"orientation\": \"v\", \"showlegend\": true, \"x\": [92.3], \"xaxis\": \"x\", \"y\": [52.8], \"yaxis\": \"y\", \"type\": \"scatter\"}, {\"hovertemplate\": \"<b>%{hovertext}</b><br><br>university_name=University of Oxford<br>year=2014<br>total_score=%{x}<br>income=%{y}<br>num_students=%{marker.size}<extra></extra>\", \"hovertext\": [2.0], \"ids\": [\"University of Oxford\"], \"legendgroup\": \"University of Oxford\", \"marker\": {\"color\": \"#FF6692\", \"size\": [19919.0], \"sizemode\": \"area\", \"sizeref\": 90.465, \"symbol\": \"circle\"}, \"mode\": \"markers\", \"name\": \"University of Oxford\", \"orientation\": \"v\", \"showlegend\": true, \"x\": [93.9], \"xaxis\": \"x\", \"y\": [90.3], \"yaxis\": \"y\", \"type\": \"scatter\"}, {\"hovertemplate\": \"<b>%{hovertext}</b><br><br>university_name=University of California, Berkeley<br>year=2014<br>total_score=%{x}<br>income=%{y}<br>num_students=%{marker.size}<extra></extra>\", \"hovertext\": [8.0], \"ids\": [\"University of California, Berkeley\"], \"legendgroup\": \"University of California, Berkeley\", \"marker\": {\"color\": \"#B6E880\", \"size\": [36186.0], \"sizemode\": \"area\", \"sizeref\": 90.465, \"symbol\": \"circle\"}, \"mode\": \"markers\", \"name\": \"University of California, Berkeley\", \"orientation\": \"v\", \"showlegend\": true, \"x\": [89.8], \"xaxis\": \"x\", \"y\": [59.5], \"yaxis\": \"y\", \"type\": \"scatter\"}, {\"hovertemplate\": \"<b>%{hovertext}</b><br><br>university_name=Imperial College London<br>year=2014<br>total_score=%{x}<br>income=%{y}<br>num_students=%{marker.size}<extra></extra>\", \"hovertext\": [10.0], \"ids\": [\"Imperial College London\"], \"legendgroup\": \"Imperial College London\", \"marker\": {\"color\": \"#FF97FF\", \"size\": [15060.0], \"sizemode\": \"area\", \"sizeref\": 90.465, \"symbol\": \"circle\"}, \"mode\": \"markers\", \"name\": \"Imperial College London\", \"orientation\": \"v\", \"showlegend\": true, \"x\": [87.5], \"xaxis\": \"x\", \"y\": [72.3], \"yaxis\": \"y\", \"type\": \"scatter\"}, {\"hovertemplate\": \"<b>%{hovertext}</b><br><br>university_name=University of Chicago<br>year=2014<br>total_score=%{x}<br>income=%{y}<br>num_students=%{marker.size}<extra></extra>\", \"hovertext\": [9.0], \"ids\": [\"University of Chicago\"], \"legendgroup\": \"University of Chicago\", \"marker\": {\"color\": \"#636efa\", \"size\": [14221.0], \"sizemode\": \"area\", \"sizeref\": 90.465, \"symbol\": \"circle\"}, \"mode\": \"markers\", \"name\": \"University of Chicago\", \"orientation\": \"v\", \"showlegend\": true, \"x\": [87.8], \"xaxis\": \"x\", \"y\": [0.0], \"yaxis\": \"y\", \"type\": \"scatter\"}], \"name\": \"2014\"}, {\"data\": [{\"hovertemplate\": \"<b>%{hovertext}</b><br><br>university_name=Harvard University<br>year=2015<br>total_score=%{x}<br>income=%{y}<br>num_students=%{marker.size}<extra></extra>\", \"hovertext\": [2.0], \"ids\": [\"Harvard University\"], \"legendgroup\": \"Harvard University\", \"marker\": {\"color\": \"#636efa\", \"size\": [20152.0], \"sizemode\": \"area\", \"sizeref\": 90.465, \"symbol\": \"circle\"}, \"mode\": \"markers\", \"name\": \"Harvard University\", \"orientation\": \"v\", \"showlegend\": true, \"x\": [93.3], \"xaxis\": \"x\", \"y\": [44.0], \"yaxis\": \"y\", \"type\": \"scatter\"}, {\"hovertemplate\": \"<b>%{hovertext}</b><br><br>university_name=California Institute of Technology<br>year=2015<br>total_score=%{x}<br>income=%{y}<br>num_students=%{marker.size}<extra></extra>\", \"hovertext\": [1.0], \"ids\": [\"California Institute of Technology\"], \"legendgroup\": \"California Institute of Technology\", \"marker\": {\"color\": \"#EF553B\", \"size\": [2243.0], \"sizemode\": \"area\", \"sizeref\": 90.465, \"symbol\": \"circle\"}, \"mode\": \"markers\", \"name\": \"California Institute of Technology\", \"orientation\": \"v\", \"showlegend\": true, \"x\": [94.3], \"xaxis\": \"x\", \"y\": [89.1], \"yaxis\": \"y\", \"type\": \"scatter\"}, {\"hovertemplate\": \"<b>%{hovertext}</b><br><br>university_name=Massachusetts Institute of Technology<br>year=2015<br>total_score=%{x}<br>income=%{y}<br>num_students=%{marker.size}<extra></extra>\", \"hovertext\": [6.0], \"ids\": [\"Massachusetts Institute of Technology\"], \"legendgroup\": \"Massachusetts Institute of Technology\", \"marker\": {\"color\": \"#00cc96\", \"size\": [11074.0], \"sizemode\": \"area\", \"sizeref\": 90.465, \"symbol\": \"circle\"}, \"mode\": \"markers\", \"name\": \"Massachusetts Institute of Technology\", \"orientation\": \"v\", \"showlegend\": true, \"x\": [91.9], \"xaxis\": \"x\", \"y\": [95.7], \"yaxis\": \"y\", \"type\": \"scatter\"}, {\"hovertemplate\": \"<b>%{hovertext}</b><br><br>university_name=Stanford University<br>year=2015<br>total_score=%{x}<br>income=%{y}<br>num_students=%{marker.size}<extra></extra>\", \"hovertext\": [4.0], \"ids\": [\"Stanford University\"], \"legendgroup\": \"Stanford University\", \"marker\": {\"color\": \"#ab63fa\", \"size\": [15596.0], \"sizemode\": \"area\", \"sizeref\": 90.465, \"symbol\": \"circle\"}, \"mode\": \"markers\", \"name\": \"Stanford University\", \"orientation\": \"v\", \"showlegend\": true, \"x\": [92.9], \"xaxis\": \"x\", \"y\": [63.1], \"yaxis\": \"y\", \"type\": \"scatter\"}, {\"hovertemplate\": \"<b>%{hovertext}</b><br><br>university_name=Princeton University<br>year=2015<br>total_score=%{x}<br>income=%{y}<br>num_students=%{marker.size}<extra></extra>\", \"hovertext\": [7.0], \"ids\": [\"Princeton University\"], \"legendgroup\": \"Princeton University\", \"marker\": {\"color\": \"#FFA15A\", \"size\": [7929.0], \"sizemode\": \"area\", \"sizeref\": 90.465, \"symbol\": \"circle\"}, \"mode\": \"markers\", \"name\": \"Princeton University\", \"orientation\": \"v\", \"showlegend\": true, \"x\": [90.9], \"xaxis\": \"x\", \"y\": [82.7], \"yaxis\": \"y\", \"type\": \"scatter\"}, {\"hovertemplate\": \"<b>%{hovertext}</b><br><br>university_name=University of Cambridge<br>year=2015<br>total_score=%{x}<br>income=%{y}<br>num_students=%{marker.size}<extra></extra>\", \"hovertext\": [5.0], \"ids\": [\"University of Cambridge\"], \"legendgroup\": \"University of Cambridge\", \"marker\": {\"color\": \"#19d3f3\", \"size\": [18812.0], \"sizemode\": \"area\", \"sizeref\": 90.465, \"symbol\": \"circle\"}, \"mode\": \"markers\", \"name\": \"University of Cambridge\", \"orientation\": \"v\", \"showlegend\": true, \"x\": [92.0], \"xaxis\": \"x\", \"y\": [51.1], \"yaxis\": \"y\", \"type\": \"scatter\"}, {\"hovertemplate\": \"<b>%{hovertext}</b><br><br>university_name=University of Oxford<br>year=2015<br>total_score=%{x}<br>income=%{y}<br>num_students=%{marker.size}<extra></extra>\", \"hovertext\": [3.0], \"ids\": [\"University of Oxford\"], \"legendgroup\": \"University of Oxford\", \"marker\": {\"color\": \"#FF6692\", \"size\": [19919.0], \"sizemode\": \"area\", \"sizeref\": 90.465, \"symbol\": \"circle\"}, \"mode\": \"markers\", \"name\": \"University of Oxford\", \"orientation\": \"v\", \"showlegend\": true, \"x\": [93.2], \"xaxis\": \"x\", \"y\": [72.9], \"yaxis\": \"y\", \"type\": \"scatter\"}, {\"hovertemplate\": \"<b>%{hovertext}</b><br><br>university_name=University of California, Berkeley<br>year=2015<br>total_score=%{x}<br>income=%{y}<br>num_students=%{marker.size}<extra></extra>\", \"hovertext\": [8.0], \"ids\": [\"University of California, Berkeley\"], \"legendgroup\": \"University of California, Berkeley\", \"marker\": {\"color\": \"#B6E880\", \"size\": [36186.0], \"sizemode\": \"area\", \"sizeref\": 90.465, \"symbol\": \"circle\"}, \"mode\": \"markers\", \"name\": \"University of California, Berkeley\", \"orientation\": \"v\", \"showlegend\": true, \"x\": [89.5], \"xaxis\": \"x\", \"y\": [44.8], \"yaxis\": \"y\", \"type\": \"scatter\"}, {\"hovertemplate\": \"<b>%{hovertext}</b><br><br>university_name=Imperial College London<br>year=2015<br>total_score=%{x}<br>income=%{y}<br>num_students=%{marker.size}<extra></extra>\", \"hovertext\": [9.0], \"ids\": [\"Imperial College London\"], \"legendgroup\": \"Imperial College London\", \"marker\": {\"color\": \"#FF97FF\", \"size\": [15060.0], \"sizemode\": \"area\", \"sizeref\": 90.465, \"symbol\": \"circle\"}, \"mode\": \"markers\", \"name\": \"Imperial College London\", \"orientation\": \"v\", \"showlegend\": true, \"x\": [87.5], \"xaxis\": \"x\", \"y\": [72.7], \"yaxis\": \"y\", \"type\": \"scatter\"}, {\"hovertemplate\": \"<b>%{hovertext}</b><br><br>university_name=Yale University<br>year=2015<br>total_score=%{x}<br>income=%{y}<br>num_students=%{marker.size}<extra></extra>\", \"hovertext\": [9.0], \"ids\": [\"Yale University\"], \"legendgroup\": \"Yale University\", \"marker\": {\"color\": \"#FECB52\", \"size\": [11751.0], \"sizemode\": \"area\", \"sizeref\": 90.465, \"symbol\": \"circle\"}, \"mode\": \"markers\", \"name\": \"Yale University\", \"orientation\": \"v\", \"showlegend\": true, \"x\": [87.5], \"xaxis\": \"x\", \"y\": [42.0], \"yaxis\": \"y\", \"type\": \"scatter\"}], \"name\": \"2015\"}, {\"data\": [{\"hovertemplate\": \"<b>%{hovertext}</b><br><br>university_name=Harvard University<br>year=2016<br>total_score=%{x}<br>income=%{y}<br>num_students=%{marker.size}<extra></extra>\", \"hovertext\": [6.0], \"ids\": [\"Harvard University\"], \"legendgroup\": \"Harvard University\", \"marker\": {\"color\": \"#636efa\", \"size\": [20152.0], \"sizemode\": \"area\", \"sizeref\": 90.465, \"symbol\": \"circle\"}, \"mode\": \"markers\", \"name\": \"Harvard University\", \"orientation\": \"v\", \"showlegend\": true, \"x\": [91.6], \"xaxis\": \"x\", \"y\": [45.2], \"yaxis\": \"y\", \"type\": \"scatter\"}, {\"hovertemplate\": \"<b>%{hovertext}</b><br><br>university_name=California Institute of Technology<br>year=2016<br>total_score=%{x}<br>income=%{y}<br>num_students=%{marker.size}<extra></extra>\", \"hovertext\": [1.0], \"ids\": [\"California Institute of Technology\"], \"legendgroup\": \"California Institute of Technology\", \"marker\": {\"color\": \"#EF553B\", \"size\": [2243.0], \"sizemode\": \"area\", \"sizeref\": 90.465, \"symbol\": \"circle\"}, \"mode\": \"markers\", \"name\": \"California Institute of Technology\", \"orientation\": \"v\", \"showlegend\": true, \"x\": [95.2], \"xaxis\": \"x\", \"y\": [97.8], \"yaxis\": \"y\", \"type\": \"scatter\"}, {\"hovertemplate\": \"<b>%{hovertext}</b><br><br>university_name=Massachusetts Institute of Technology<br>year=2016<br>total_score=%{x}<br>income=%{y}<br>num_students=%{marker.size}<extra></extra>\", \"hovertext\": [5.0], \"ids\": [\"Massachusetts Institute of Technology\"], \"legendgroup\": \"Massachusetts Institute of Technology\", \"marker\": {\"color\": \"#00cc96\", \"size\": [11074.0], \"sizemode\": \"area\", \"sizeref\": 90.465, \"symbol\": \"circle\"}, \"mode\": \"markers\", \"name\": \"Massachusetts Institute of Technology\", \"orientation\": \"v\", \"showlegend\": true, \"x\": [92.0], \"xaxis\": \"x\", \"y\": [95.4], \"yaxis\": \"y\", \"type\": \"scatter\"}, {\"hovertemplate\": \"<b>%{hovertext}</b><br><br>university_name=Stanford University<br>year=2016<br>total_score=%{x}<br>income=%{y}<br>num_students=%{marker.size}<extra></extra>\", \"hovertext\": [3.0], \"ids\": [\"Stanford University\"], \"legendgroup\": \"Stanford University\", \"marker\": {\"color\": \"#ab63fa\", \"size\": [15596.0], \"sizemode\": \"area\", \"sizeref\": 90.465, \"symbol\": \"circle\"}, \"mode\": \"markers\", \"name\": \"Stanford University\", \"orientation\": \"v\", \"showlegend\": true, \"x\": [93.9], \"xaxis\": \"x\", \"y\": [63.3], \"yaxis\": \"y\", \"type\": \"scatter\"}, {\"hovertemplate\": \"<b>%{hovertext}</b><br><br>university_name=Princeton University<br>year=2016<br>total_score=%{x}<br>income=%{y}<br>num_students=%{marker.size}<extra></extra>\", \"hovertext\": [7.0], \"ids\": [\"Princeton University\"], \"legendgroup\": \"Princeton University\", \"marker\": {\"color\": \"#FFA15A\", \"size\": [7929.0], \"sizemode\": \"area\", \"sizeref\": 90.465, \"symbol\": \"circle\"}, \"mode\": \"markers\", \"name\": \"Princeton University\", \"orientation\": \"v\", \"showlegend\": true, \"x\": [90.1], \"xaxis\": \"x\", \"y\": [52.1], \"yaxis\": \"y\", \"type\": \"scatter\"}, {\"hovertemplate\": \"<b>%{hovertext}</b><br><br>university_name=University of Cambridge<br>year=2016<br>total_score=%{x}<br>income=%{y}<br>num_students=%{marker.size}<extra></extra>\", \"hovertext\": [4.0], \"ids\": [\"University of Cambridge\"], \"legendgroup\": \"University of Cambridge\", \"marker\": {\"color\": \"#19d3f3\", \"size\": [18812.0], \"sizemode\": \"area\", \"sizeref\": 90.465, \"symbol\": \"circle\"}, \"mode\": \"markers\", \"name\": \"University of Cambridge\", \"orientation\": \"v\", \"showlegend\": true, \"x\": [92.8], \"xaxis\": \"x\", \"y\": [55.0], \"yaxis\": \"y\", \"type\": \"scatter\"}, {\"hovertemplate\": \"<b>%{hovertext}</b><br><br>university_name=University of Oxford<br>year=2016<br>total_score=%{x}<br>income=%{y}<br>num_students=%{marker.size}<extra></extra>\", \"hovertext\": [2.0], \"ids\": [\"University of Oxford\"], \"legendgroup\": \"University of Oxford\", \"marker\": {\"color\": \"#FF6692\", \"size\": [19919.0], \"sizemode\": \"area\", \"sizeref\": 90.465, \"symbol\": \"circle\"}, \"mode\": \"markers\", \"name\": \"University of Oxford\", \"orientation\": \"v\", \"showlegend\": true, \"x\": [94.2], \"xaxis\": \"x\", \"y\": [73.1], \"yaxis\": \"y\", \"type\": \"scatter\"}, {\"hovertemplate\": \"<b>%{hovertext}</b><br><br>university_name=Imperial College London<br>year=2016<br>total_score=%{x}<br>income=%{y}<br>num_students=%{marker.size}<extra></extra>\", \"hovertext\": [8.0], \"ids\": [\"Imperial College London\"], \"legendgroup\": \"Imperial College London\", \"marker\": {\"color\": \"#FF97FF\", \"size\": [15060.0], \"sizemode\": \"area\", \"sizeref\": 90.465, \"symbol\": \"circle\"}, \"mode\": \"markers\", \"name\": \"Imperial College London\", \"orientation\": \"v\", \"showlegend\": true, \"x\": [89.1], \"xaxis\": \"x\", \"y\": [53.7], \"yaxis\": \"y\", \"type\": \"scatter\"}, {\"hovertemplate\": \"<b>%{hovertext}</b><br><br>university_name=University of Chicago<br>year=2016<br>total_score=%{x}<br>income=%{y}<br>num_students=%{marker.size}<extra></extra>\", \"hovertext\": [10.0], \"ids\": [\"University of Chicago\"], \"legendgroup\": \"University of Chicago\", \"marker\": {\"color\": \"#636efa\", \"size\": [14221.0], \"sizemode\": \"area\", \"sizeref\": 90.465, \"symbol\": \"circle\"}, \"mode\": \"markers\", \"name\": \"University of Chicago\", \"orientation\": \"v\", \"showlegend\": true, \"x\": [87.9], \"xaxis\": \"x\", \"y\": [36.6], \"yaxis\": \"y\", \"type\": \"scatter\"}, {\"hovertemplate\": \"<b>%{hovertext}</b><br><br>university_name=ETH Zurich \\u2013 Swiss Federal Institute of Technology Zurich<br>year=2016<br>total_score=%{x}<br>income=%{y}<br>num_students=%{marker.size}<extra></extra>\", \"hovertext\": [9.0], \"ids\": [\"ETH Zurich \\u2013 Swiss Federal Institute of Technology Zurich\"], \"legendgroup\": \"ETH Zurich \\u2013 Swiss Federal Institute of Technology Zurich\", \"marker\": {\"color\": \"#EF553B\", \"size\": [18178.0], \"sizemode\": \"area\", \"sizeref\": 90.465, \"symbol\": \"circle\"}, \"mode\": \"markers\", \"name\": \"ETH Zurich \\u2013 Swiss Federal Institute of Technology Zurich\", \"orientation\": \"v\", \"showlegend\": true, \"x\": [88.3], \"xaxis\": \"x\", \"y\": [80.0], \"yaxis\": \"y\", \"type\": \"scatter\"}], \"name\": \"2016\"}]);\n",
       "                        }).then(function(){\n",
       "                            \n",
       "var gd = document.getElementById('e008126b-4591-46cc-9113-69f73f1b6b15');\n",
       "var x = new MutationObserver(function (mutations, observer) {{\n",
       "        var display = window.getComputedStyle(gd).display;\n",
       "        if (!display || display === 'none') {{\n",
       "            console.log([gd, 'removed!']);\n",
       "            Plotly.purge(gd);\n",
       "            observer.disconnect();\n",
       "        }}\n",
       "}});\n",
       "\n",
       "// Listen for the removal of the full notebook cells\n",
       "var notebookContainer = gd.closest('#notebook-container');\n",
       "if (notebookContainer) {{\n",
       "    x.observe(notebookContainer, {childList: true});\n",
       "}}\n",
       "\n",
       "// Listen for the clearing of the current output cell\n",
       "var outputEl = gd.closest('.output');\n",
       "if (outputEl) {{\n",
       "    x.observe(outputEl, {childList: true});\n",
       "}}\n",
       "\n",
       "                        })                };                });            </script>        </div>"
      ]
     },
     "metadata": {},
     "output_type": "display_data"
    }
   ],
   "source": [
    "import plotly.express as px\n",
    "fig = px.scatter(top_10, x=\"total_score\", y=\"income\", animation_frame=\"year\", animation_group=\"university_name\",\n",
    "           size=\"num_students\", color=\"university_name\", hover_name=\"world_rank\"\n",
    "                 , range_x=[85,100], range_y=[20,110])\n",
    "fig[\"layout\"].pop(\"updatemenus\") # optional, drop animation buttons\n",
    "fig.show()"
   ]
  },
  {
   "cell_type": "markdown",
   "metadata": {},
   "source": [
    "# Since I am a huge huge fan of F1, I couldn't resist practicing my newly acquired skills to display the 2021 drivers Lineup"
   ]
  },
  {
   "cell_type": "markdown",
   "metadata": {},
   "source": [
    "## How excited are you?"
   ]
  },
  {
   "cell_type": "code",
   "execution_count": 536,
   "metadata": {},
   "outputs": [
    {
     "data": {
      "application/vnd.plotly.v1+json": {
       "config": {
        "plotlyServerURL": "https://plot.ly"
       },
       "data": [
        {
         "ids": [
          "2021 DRIVER LINEUP",
          "Mercedes",
          "Lewis Hamilton",
          "Valtteri Bottas",
          "Ferrari",
          "Carlos Sainz Jr",
          "Charles Leclerc",
          "Red Bull",
          "Max Verstappen",
          "Sergio Perez",
          "McLaren",
          "Daniel Ricciardo",
          "Lando Norris",
          "Alpine",
          "Esteban Ocon",
          "Fernando Alonso",
          "AlphaTauri",
          "Yuki Tsunoda",
          "Pierre Gasly",
          "Aston Martin",
          "Sebastian Vettel",
          "Lance Stroll",
          "Alpha Romeo",
          "Kimi Raikkonen",
          "Antonio Giovinazzi",
          "Haas",
          "Mick Schumacher",
          "Nikita Mazepin",
          "Williams",
          "George Russell",
          "Nicholas Latifi"
         ],
         "labels": [
          "2021 DRIVER LINEUP",
          "Mercedes",
          "Lewis Hamilton",
          "Valtteri Bottas",
          "Ferrari",
          "Carlos Sainz Jr",
          "Charles Leclerc",
          "Red Bull",
          "Max Verstappen",
          "Sergio Perez",
          "McLaren",
          "Daniel Ricciardo",
          "Lando Norris",
          "Alpine",
          "Esteban Ocon",
          "Fernando Alonso",
          "AlphaTauri",
          "Yuki Tsunoda",
          "Pierre Gasly",
          "Aston<br>Martin",
          "Sebastian Vettel",
          "Lance Stroll",
          "Alpha<br>Romeo",
          "Kimi Raikkonen",
          "Antonio Giovinazzi",
          "Haas",
          "Mick Schumacher",
          "Nikita Mazepin",
          "Williams",
          "George Russell",
          "Nicholas Latifi"
         ],
         "parents": [
          "",
          "2021 DRIVER LINEUP",
          "Mercedes",
          "Mercedes",
          "2021 DRIVER LINEUP",
          "Ferrari",
          "Ferrari",
          "2021 DRIVER LINEUP",
          "Red Bull",
          "Red Bull",
          "2021 DRIVER LINEUP",
          "McLaren",
          "McLaren",
          "2021 DRIVER LINEUP",
          "Alpine",
          "Alpine",
          "2021 DRIVER LINEUP",
          "AlphaTauri",
          "AlphaTauri",
          "2021 DRIVER LINEUP",
          "Aston Martin",
          "Aston Martin",
          "2021 DRIVER LINEUP",
          "Alpha Romeo",
          "Alpha Romeo",
          "2021 DRIVER LINEUP",
          "Haas",
          "Haas",
          "2021 DRIVER LINEUP",
          "Williams",
          "Williams"
         ],
         "type": "sunburst"
        }
       ],
       "layout": {
        "autosize": false,
        "height": 490,
        "margin": {
         "b": 0,
         "l": 0,
         "r": 0,
         "t": 0
        },
        "template": {
         "data": {
          "bar": [
           {
            "error_x": {
             "color": "#2a3f5f"
            },
            "error_y": {
             "color": "#2a3f5f"
            },
            "marker": {
             "line": {
              "color": "#E5ECF6",
              "width": 0.5
             }
            },
            "type": "bar"
           }
          ],
          "barpolar": [
           {
            "marker": {
             "line": {
              "color": "#E5ECF6",
              "width": 0.5
             }
            },
            "type": "barpolar"
           }
          ],
          "carpet": [
           {
            "aaxis": {
             "endlinecolor": "#2a3f5f",
             "gridcolor": "white",
             "linecolor": "white",
             "minorgridcolor": "white",
             "startlinecolor": "#2a3f5f"
            },
            "baxis": {
             "endlinecolor": "#2a3f5f",
             "gridcolor": "white",
             "linecolor": "white",
             "minorgridcolor": "white",
             "startlinecolor": "#2a3f5f"
            },
            "type": "carpet"
           }
          ],
          "choropleth": [
           {
            "colorbar": {
             "outlinewidth": 0,
             "ticks": ""
            },
            "type": "choropleth"
           }
          ],
          "contour": [
           {
            "colorbar": {
             "outlinewidth": 0,
             "ticks": ""
            },
            "colorscale": [
             [
              0,
              "#0d0887"
             ],
             [
              0.1111111111111111,
              "#46039f"
             ],
             [
              0.2222222222222222,
              "#7201a8"
             ],
             [
              0.3333333333333333,
              "#9c179e"
             ],
             [
              0.4444444444444444,
              "#bd3786"
             ],
             [
              0.5555555555555556,
              "#d8576b"
             ],
             [
              0.6666666666666666,
              "#ed7953"
             ],
             [
              0.7777777777777778,
              "#fb9f3a"
             ],
             [
              0.8888888888888888,
              "#fdca26"
             ],
             [
              1,
              "#f0f921"
             ]
            ],
            "type": "contour"
           }
          ],
          "contourcarpet": [
           {
            "colorbar": {
             "outlinewidth": 0,
             "ticks": ""
            },
            "type": "contourcarpet"
           }
          ],
          "heatmap": [
           {
            "colorbar": {
             "outlinewidth": 0,
             "ticks": ""
            },
            "colorscale": [
             [
              0,
              "#0d0887"
             ],
             [
              0.1111111111111111,
              "#46039f"
             ],
             [
              0.2222222222222222,
              "#7201a8"
             ],
             [
              0.3333333333333333,
              "#9c179e"
             ],
             [
              0.4444444444444444,
              "#bd3786"
             ],
             [
              0.5555555555555556,
              "#d8576b"
             ],
             [
              0.6666666666666666,
              "#ed7953"
             ],
             [
              0.7777777777777778,
              "#fb9f3a"
             ],
             [
              0.8888888888888888,
              "#fdca26"
             ],
             [
              1,
              "#f0f921"
             ]
            ],
            "type": "heatmap"
           }
          ],
          "heatmapgl": [
           {
            "colorbar": {
             "outlinewidth": 0,
             "ticks": ""
            },
            "colorscale": [
             [
              0,
              "#0d0887"
             ],
             [
              0.1111111111111111,
              "#46039f"
             ],
             [
              0.2222222222222222,
              "#7201a8"
             ],
             [
              0.3333333333333333,
              "#9c179e"
             ],
             [
              0.4444444444444444,
              "#bd3786"
             ],
             [
              0.5555555555555556,
              "#d8576b"
             ],
             [
              0.6666666666666666,
              "#ed7953"
             ],
             [
              0.7777777777777778,
              "#fb9f3a"
             ],
             [
              0.8888888888888888,
              "#fdca26"
             ],
             [
              1,
              "#f0f921"
             ]
            ],
            "type": "heatmapgl"
           }
          ],
          "histogram": [
           {
            "marker": {
             "colorbar": {
              "outlinewidth": 0,
              "ticks": ""
             }
            },
            "type": "histogram"
           }
          ],
          "histogram2d": [
           {
            "colorbar": {
             "outlinewidth": 0,
             "ticks": ""
            },
            "colorscale": [
             [
              0,
              "#0d0887"
             ],
             [
              0.1111111111111111,
              "#46039f"
             ],
             [
              0.2222222222222222,
              "#7201a8"
             ],
             [
              0.3333333333333333,
              "#9c179e"
             ],
             [
              0.4444444444444444,
              "#bd3786"
             ],
             [
              0.5555555555555556,
              "#d8576b"
             ],
             [
              0.6666666666666666,
              "#ed7953"
             ],
             [
              0.7777777777777778,
              "#fb9f3a"
             ],
             [
              0.8888888888888888,
              "#fdca26"
             ],
             [
              1,
              "#f0f921"
             ]
            ],
            "type": "histogram2d"
           }
          ],
          "histogram2dcontour": [
           {
            "colorbar": {
             "outlinewidth": 0,
             "ticks": ""
            },
            "colorscale": [
             [
              0,
              "#0d0887"
             ],
             [
              0.1111111111111111,
              "#46039f"
             ],
             [
              0.2222222222222222,
              "#7201a8"
             ],
             [
              0.3333333333333333,
              "#9c179e"
             ],
             [
              0.4444444444444444,
              "#bd3786"
             ],
             [
              0.5555555555555556,
              "#d8576b"
             ],
             [
              0.6666666666666666,
              "#ed7953"
             ],
             [
              0.7777777777777778,
              "#fb9f3a"
             ],
             [
              0.8888888888888888,
              "#fdca26"
             ],
             [
              1,
              "#f0f921"
             ]
            ],
            "type": "histogram2dcontour"
           }
          ],
          "mesh3d": [
           {
            "colorbar": {
             "outlinewidth": 0,
             "ticks": ""
            },
            "type": "mesh3d"
           }
          ],
          "parcoords": [
           {
            "line": {
             "colorbar": {
              "outlinewidth": 0,
              "ticks": ""
             }
            },
            "type": "parcoords"
           }
          ],
          "pie": [
           {
            "automargin": true,
            "type": "pie"
           }
          ],
          "scatter": [
           {
            "marker": {
             "colorbar": {
              "outlinewidth": 0,
              "ticks": ""
             }
            },
            "type": "scatter"
           }
          ],
          "scatter3d": [
           {
            "line": {
             "colorbar": {
              "outlinewidth": 0,
              "ticks": ""
             }
            },
            "marker": {
             "colorbar": {
              "outlinewidth": 0,
              "ticks": ""
             }
            },
            "type": "scatter3d"
           }
          ],
          "scattercarpet": [
           {
            "marker": {
             "colorbar": {
              "outlinewidth": 0,
              "ticks": ""
             }
            },
            "type": "scattercarpet"
           }
          ],
          "scattergeo": [
           {
            "marker": {
             "colorbar": {
              "outlinewidth": 0,
              "ticks": ""
             }
            },
            "type": "scattergeo"
           }
          ],
          "scattergl": [
           {
            "marker": {
             "colorbar": {
              "outlinewidth": 0,
              "ticks": ""
             }
            },
            "type": "scattergl"
           }
          ],
          "scattermapbox": [
           {
            "marker": {
             "colorbar": {
              "outlinewidth": 0,
              "ticks": ""
             }
            },
            "type": "scattermapbox"
           }
          ],
          "scatterpolar": [
           {
            "marker": {
             "colorbar": {
              "outlinewidth": 0,
              "ticks": ""
             }
            },
            "type": "scatterpolar"
           }
          ],
          "scatterpolargl": [
           {
            "marker": {
             "colorbar": {
              "outlinewidth": 0,
              "ticks": ""
             }
            },
            "type": "scatterpolargl"
           }
          ],
          "scatterternary": [
           {
            "marker": {
             "colorbar": {
              "outlinewidth": 0,
              "ticks": ""
             }
            },
            "type": "scatterternary"
           }
          ],
          "surface": [
           {
            "colorbar": {
             "outlinewidth": 0,
             "ticks": ""
            },
            "colorscale": [
             [
              0,
              "#0d0887"
             ],
             [
              0.1111111111111111,
              "#46039f"
             ],
             [
              0.2222222222222222,
              "#7201a8"
             ],
             [
              0.3333333333333333,
              "#9c179e"
             ],
             [
              0.4444444444444444,
              "#bd3786"
             ],
             [
              0.5555555555555556,
              "#d8576b"
             ],
             [
              0.6666666666666666,
              "#ed7953"
             ],
             [
              0.7777777777777778,
              "#fb9f3a"
             ],
             [
              0.8888888888888888,
              "#fdca26"
             ],
             [
              1,
              "#f0f921"
             ]
            ],
            "type": "surface"
           }
          ],
          "table": [
           {
            "cells": {
             "fill": {
              "color": "#EBF0F8"
             },
             "line": {
              "color": "white"
             }
            },
            "header": {
             "fill": {
              "color": "#C8D4E3"
             },
             "line": {
              "color": "white"
             }
            },
            "type": "table"
           }
          ]
         },
         "layout": {
          "annotationdefaults": {
           "arrowcolor": "#2a3f5f",
           "arrowhead": 0,
           "arrowwidth": 1
          },
          "autotypenumbers": "strict",
          "coloraxis": {
           "colorbar": {
            "outlinewidth": 0,
            "ticks": ""
           }
          },
          "colorscale": {
           "diverging": [
            [
             0,
             "#8e0152"
            ],
            [
             0.1,
             "#c51b7d"
            ],
            [
             0.2,
             "#de77ae"
            ],
            [
             0.3,
             "#f1b6da"
            ],
            [
             0.4,
             "#fde0ef"
            ],
            [
             0.5,
             "#f7f7f7"
            ],
            [
             0.6,
             "#e6f5d0"
            ],
            [
             0.7,
             "#b8e186"
            ],
            [
             0.8,
             "#7fbc41"
            ],
            [
             0.9,
             "#4d9221"
            ],
            [
             1,
             "#276419"
            ]
           ],
           "sequential": [
            [
             0,
             "#0d0887"
            ],
            [
             0.1111111111111111,
             "#46039f"
            ],
            [
             0.2222222222222222,
             "#7201a8"
            ],
            [
             0.3333333333333333,
             "#9c179e"
            ],
            [
             0.4444444444444444,
             "#bd3786"
            ],
            [
             0.5555555555555556,
             "#d8576b"
            ],
            [
             0.6666666666666666,
             "#ed7953"
            ],
            [
             0.7777777777777778,
             "#fb9f3a"
            ],
            [
             0.8888888888888888,
             "#fdca26"
            ],
            [
             1,
             "#f0f921"
            ]
           ],
           "sequentialminus": [
            [
             0,
             "#0d0887"
            ],
            [
             0.1111111111111111,
             "#46039f"
            ],
            [
             0.2222222222222222,
             "#7201a8"
            ],
            [
             0.3333333333333333,
             "#9c179e"
            ],
            [
             0.4444444444444444,
             "#bd3786"
            ],
            [
             0.5555555555555556,
             "#d8576b"
            ],
            [
             0.6666666666666666,
             "#ed7953"
            ],
            [
             0.7777777777777778,
             "#fb9f3a"
            ],
            [
             0.8888888888888888,
             "#fdca26"
            ],
            [
             1,
             "#f0f921"
            ]
           ]
          },
          "colorway": [
           "#636efa",
           "#EF553B",
           "#00cc96",
           "#ab63fa",
           "#FFA15A",
           "#19d3f3",
           "#FF6692",
           "#B6E880",
           "#FF97FF",
           "#FECB52"
          ],
          "font": {
           "color": "#2a3f5f"
          },
          "geo": {
           "bgcolor": "white",
           "lakecolor": "white",
           "landcolor": "#E5ECF6",
           "showlakes": true,
           "showland": true,
           "subunitcolor": "white"
          },
          "hoverlabel": {
           "align": "left"
          },
          "hovermode": "closest",
          "mapbox": {
           "style": "light"
          },
          "paper_bgcolor": "white",
          "plot_bgcolor": "#E5ECF6",
          "polar": {
           "angularaxis": {
            "gridcolor": "white",
            "linecolor": "white",
            "ticks": ""
           },
           "bgcolor": "#E5ECF6",
           "radialaxis": {
            "gridcolor": "white",
            "linecolor": "white",
            "ticks": ""
           }
          },
          "scene": {
           "xaxis": {
            "backgroundcolor": "#E5ECF6",
            "gridcolor": "white",
            "gridwidth": 2,
            "linecolor": "white",
            "showbackground": true,
            "ticks": "",
            "zerolinecolor": "white"
           },
           "yaxis": {
            "backgroundcolor": "#E5ECF6",
            "gridcolor": "white",
            "gridwidth": 2,
            "linecolor": "white",
            "showbackground": true,
            "ticks": "",
            "zerolinecolor": "white"
           },
           "zaxis": {
            "backgroundcolor": "#E5ECF6",
            "gridcolor": "white",
            "gridwidth": 2,
            "linecolor": "white",
            "showbackground": true,
            "ticks": "",
            "zerolinecolor": "white"
           }
          },
          "shapedefaults": {
           "line": {
            "color": "#2a3f5f"
           }
          },
          "ternary": {
           "aaxis": {
            "gridcolor": "white",
            "linecolor": "white",
            "ticks": ""
           },
           "baxis": {
            "gridcolor": "white",
            "linecolor": "white",
            "ticks": ""
           },
           "bgcolor": "#E5ECF6",
           "caxis": {
            "gridcolor": "white",
            "linecolor": "white",
            "ticks": ""
           }
          },
          "title": {
           "x": 0.05
          },
          "xaxis": {
           "automargin": true,
           "gridcolor": "white",
           "linecolor": "white",
           "ticks": "",
           "title": {
            "standoff": 15
           },
           "zerolinecolor": "white",
           "zerolinewidth": 2
          },
          "yaxis": {
           "automargin": true,
           "gridcolor": "white",
           "linecolor": "white",
           "ticks": "",
           "title": {
            "standoff": 15
           },
           "zerolinecolor": "white",
           "zerolinewidth": 2
          }
         }
        },
        "width": 490
       }
      },
      "text/html": [
       "<div>                            <div id=\"cc118f7c-4e16-425f-83f6-612f0334633d\" class=\"plotly-graph-div\" style=\"height:490px; width:490px;\"></div>            <script type=\"text/javascript\">                require([\"plotly\"], function(Plotly) {                    window.PLOTLYENV=window.PLOTLYENV || {};                                    if (document.getElementById(\"cc118f7c-4e16-425f-83f6-612f0334633d\")) {                    Plotly.newPlot(                        \"cc118f7c-4e16-425f-83f6-612f0334633d\",                        [{\"ids\": [\"2021 DRIVER LINEUP\", \"Mercedes\", \"Lewis Hamilton\", \"Valtteri Bottas\", \"Ferrari\", \"Carlos Sainz Jr\", \"Charles Leclerc\", \"Red Bull\", \"Max Verstappen\", \"Sergio Perez\", \"McLaren\", \"Daniel Ricciardo\", \"Lando Norris\", \"Alpine\", \"Esteban Ocon\", \"Fernando Alonso\", \"AlphaTauri\", \"Yuki Tsunoda\", \"Pierre Gasly\", \"Aston Martin\", \"Sebastian Vettel\", \"Lance Stroll\", \"Alpha Romeo\", \"Kimi Raikkonen\", \"Antonio Giovinazzi\", \"Haas\", \"Mick Schumacher\", \"Nikita Mazepin\", \"Williams\", \"George Russell\", \"Nicholas Latifi\"], \"labels\": [\"2021 DRIVER LINEUP\", \"Mercedes\", \"Lewis Hamilton\", \"Valtteri Bottas\", \"Ferrari\", \"Carlos Sainz Jr\", \"Charles Leclerc\", \"Red Bull\", \"Max Verstappen\", \"Sergio Perez\", \"McLaren\", \"Daniel Ricciardo\", \"Lando Norris\", \"Alpine\", \"Esteban Ocon\", \"Fernando Alonso\", \"AlphaTauri\", \"Yuki Tsunoda\", \"Pierre Gasly\", \"Aston<br>Martin\", \"Sebastian Vettel\", \"Lance Stroll\", \"Alpha<br>Romeo\", \"Kimi Raikkonen\", \"Antonio Giovinazzi\", \"Haas\", \"Mick Schumacher\", \"Nikita Mazepin\", \"Williams\", \"George Russell\", \"Nicholas Latifi\"], \"parents\": [\"\", \"2021 DRIVER LINEUP\", \"Mercedes\", \"Mercedes\", \"2021 DRIVER LINEUP\", \"Ferrari\", \"Ferrari\", \"2021 DRIVER LINEUP\", \"Red Bull\", \"Red Bull\", \"2021 DRIVER LINEUP\", \"McLaren\", \"McLaren\", \"2021 DRIVER LINEUP\", \"Alpine\", \"Alpine\", \"2021 DRIVER LINEUP\", \"AlphaTauri\", \"AlphaTauri\", \"2021 DRIVER LINEUP\", \"Aston Martin\", \"Aston Martin\", \"2021 DRIVER LINEUP\", \"Alpha Romeo\", \"Alpha Romeo\", \"2021 DRIVER LINEUP\", \"Haas\", \"Haas\", \"2021 DRIVER LINEUP\", \"Williams\", \"Williams\"], \"type\": \"sunburst\"}],                        {\"autosize\": false, \"height\": 490, \"margin\": {\"b\": 0, \"l\": 0, \"r\": 0, \"t\": 0}, \"template\": {\"data\": {\"bar\": [{\"error_x\": {\"color\": \"#2a3f5f\"}, \"error_y\": {\"color\": \"#2a3f5f\"}, \"marker\": {\"line\": {\"color\": \"#E5ECF6\", \"width\": 0.5}}, \"type\": \"bar\"}], \"barpolar\": [{\"marker\": {\"line\": {\"color\": \"#E5ECF6\", \"width\": 0.5}}, \"type\": \"barpolar\"}], \"carpet\": [{\"aaxis\": {\"endlinecolor\": \"#2a3f5f\", \"gridcolor\": \"white\", \"linecolor\": \"white\", \"minorgridcolor\": \"white\", \"startlinecolor\": \"#2a3f5f\"}, \"baxis\": {\"endlinecolor\": \"#2a3f5f\", \"gridcolor\": \"white\", \"linecolor\": \"white\", \"minorgridcolor\": \"white\", \"startlinecolor\": \"#2a3f5f\"}, \"type\": \"carpet\"}], \"choropleth\": [{\"colorbar\": {\"outlinewidth\": 0, \"ticks\": \"\"}, \"type\": \"choropleth\"}], \"contour\": [{\"colorbar\": {\"outlinewidth\": 0, \"ticks\": \"\"}, \"colorscale\": [[0.0, \"#0d0887\"], [0.1111111111111111, \"#46039f\"], [0.2222222222222222, \"#7201a8\"], [0.3333333333333333, \"#9c179e\"], [0.4444444444444444, \"#bd3786\"], [0.5555555555555556, \"#d8576b\"], [0.6666666666666666, \"#ed7953\"], [0.7777777777777778, \"#fb9f3a\"], [0.8888888888888888, \"#fdca26\"], [1.0, \"#f0f921\"]], \"type\": \"contour\"}], \"contourcarpet\": [{\"colorbar\": {\"outlinewidth\": 0, \"ticks\": \"\"}, \"type\": \"contourcarpet\"}], \"heatmap\": [{\"colorbar\": {\"outlinewidth\": 0, \"ticks\": \"\"}, \"colorscale\": [[0.0, \"#0d0887\"], [0.1111111111111111, \"#46039f\"], [0.2222222222222222, \"#7201a8\"], [0.3333333333333333, \"#9c179e\"], [0.4444444444444444, \"#bd3786\"], [0.5555555555555556, \"#d8576b\"], [0.6666666666666666, \"#ed7953\"], [0.7777777777777778, \"#fb9f3a\"], [0.8888888888888888, \"#fdca26\"], [1.0, \"#f0f921\"]], \"type\": \"heatmap\"}], \"heatmapgl\": [{\"colorbar\": {\"outlinewidth\": 0, \"ticks\": \"\"}, \"colorscale\": [[0.0, \"#0d0887\"], [0.1111111111111111, \"#46039f\"], [0.2222222222222222, \"#7201a8\"], [0.3333333333333333, \"#9c179e\"], [0.4444444444444444, \"#bd3786\"], [0.5555555555555556, \"#d8576b\"], [0.6666666666666666, \"#ed7953\"], [0.7777777777777778, \"#fb9f3a\"], [0.8888888888888888, \"#fdca26\"], [1.0, \"#f0f921\"]], \"type\": \"heatmapgl\"}], \"histogram\": [{\"marker\": {\"colorbar\": {\"outlinewidth\": 0, \"ticks\": \"\"}}, \"type\": \"histogram\"}], \"histogram2d\": [{\"colorbar\": {\"outlinewidth\": 0, \"ticks\": \"\"}, \"colorscale\": [[0.0, \"#0d0887\"], [0.1111111111111111, \"#46039f\"], [0.2222222222222222, \"#7201a8\"], [0.3333333333333333, \"#9c179e\"], [0.4444444444444444, \"#bd3786\"], [0.5555555555555556, \"#d8576b\"], [0.6666666666666666, \"#ed7953\"], [0.7777777777777778, \"#fb9f3a\"], [0.8888888888888888, \"#fdca26\"], [1.0, \"#f0f921\"]], \"type\": \"histogram2d\"}], \"histogram2dcontour\": [{\"colorbar\": {\"outlinewidth\": 0, \"ticks\": \"\"}, \"colorscale\": [[0.0, \"#0d0887\"], [0.1111111111111111, \"#46039f\"], [0.2222222222222222, \"#7201a8\"], [0.3333333333333333, \"#9c179e\"], [0.4444444444444444, \"#bd3786\"], [0.5555555555555556, \"#d8576b\"], [0.6666666666666666, \"#ed7953\"], [0.7777777777777778, \"#fb9f3a\"], [0.8888888888888888, \"#fdca26\"], [1.0, \"#f0f921\"]], \"type\": \"histogram2dcontour\"}], \"mesh3d\": [{\"colorbar\": {\"outlinewidth\": 0, \"ticks\": \"\"}, \"type\": \"mesh3d\"}], \"parcoords\": [{\"line\": {\"colorbar\": {\"outlinewidth\": 0, \"ticks\": \"\"}}, \"type\": \"parcoords\"}], \"pie\": [{\"automargin\": true, \"type\": \"pie\"}], \"scatter\": [{\"marker\": {\"colorbar\": {\"outlinewidth\": 0, \"ticks\": \"\"}}, \"type\": \"scatter\"}], \"scatter3d\": [{\"line\": {\"colorbar\": {\"outlinewidth\": 0, \"ticks\": \"\"}}, \"marker\": {\"colorbar\": {\"outlinewidth\": 0, \"ticks\": \"\"}}, \"type\": \"scatter3d\"}], \"scattercarpet\": [{\"marker\": {\"colorbar\": {\"outlinewidth\": 0, \"ticks\": \"\"}}, \"type\": \"scattercarpet\"}], \"scattergeo\": [{\"marker\": {\"colorbar\": {\"outlinewidth\": 0, \"ticks\": \"\"}}, \"type\": \"scattergeo\"}], \"scattergl\": [{\"marker\": {\"colorbar\": {\"outlinewidth\": 0, \"ticks\": \"\"}}, \"type\": \"scattergl\"}], \"scattermapbox\": [{\"marker\": {\"colorbar\": {\"outlinewidth\": 0, \"ticks\": \"\"}}, \"type\": \"scattermapbox\"}], \"scatterpolar\": [{\"marker\": {\"colorbar\": {\"outlinewidth\": 0, \"ticks\": \"\"}}, \"type\": \"scatterpolar\"}], \"scatterpolargl\": [{\"marker\": {\"colorbar\": {\"outlinewidth\": 0, \"ticks\": \"\"}}, \"type\": \"scatterpolargl\"}], \"scatterternary\": [{\"marker\": {\"colorbar\": {\"outlinewidth\": 0, \"ticks\": \"\"}}, \"type\": \"scatterternary\"}], \"surface\": [{\"colorbar\": {\"outlinewidth\": 0, \"ticks\": \"\"}, \"colorscale\": [[0.0, \"#0d0887\"], [0.1111111111111111, \"#46039f\"], [0.2222222222222222, \"#7201a8\"], [0.3333333333333333, \"#9c179e\"], [0.4444444444444444, \"#bd3786\"], [0.5555555555555556, \"#d8576b\"], [0.6666666666666666, \"#ed7953\"], [0.7777777777777778, \"#fb9f3a\"], [0.8888888888888888, \"#fdca26\"], [1.0, \"#f0f921\"]], \"type\": \"surface\"}], \"table\": [{\"cells\": {\"fill\": {\"color\": \"#EBF0F8\"}, \"line\": {\"color\": \"white\"}}, \"header\": {\"fill\": {\"color\": \"#C8D4E3\"}, \"line\": {\"color\": \"white\"}}, \"type\": \"table\"}]}, \"layout\": {\"annotationdefaults\": {\"arrowcolor\": \"#2a3f5f\", \"arrowhead\": 0, \"arrowwidth\": 1}, \"autotypenumbers\": \"strict\", \"coloraxis\": {\"colorbar\": {\"outlinewidth\": 0, \"ticks\": \"\"}}, \"colorscale\": {\"diverging\": [[0, \"#8e0152\"], [0.1, \"#c51b7d\"], [0.2, \"#de77ae\"], [0.3, \"#f1b6da\"], [0.4, \"#fde0ef\"], [0.5, \"#f7f7f7\"], [0.6, \"#e6f5d0\"], [0.7, \"#b8e186\"], [0.8, \"#7fbc41\"], [0.9, \"#4d9221\"], [1, \"#276419\"]], \"sequential\": [[0.0, \"#0d0887\"], [0.1111111111111111, \"#46039f\"], [0.2222222222222222, \"#7201a8\"], [0.3333333333333333, \"#9c179e\"], [0.4444444444444444, \"#bd3786\"], [0.5555555555555556, \"#d8576b\"], [0.6666666666666666, \"#ed7953\"], [0.7777777777777778, \"#fb9f3a\"], [0.8888888888888888, \"#fdca26\"], [1.0, \"#f0f921\"]], \"sequentialminus\": [[0.0, \"#0d0887\"], [0.1111111111111111, \"#46039f\"], [0.2222222222222222, \"#7201a8\"], [0.3333333333333333, \"#9c179e\"], [0.4444444444444444, \"#bd3786\"], [0.5555555555555556, \"#d8576b\"], [0.6666666666666666, \"#ed7953\"], [0.7777777777777778, \"#fb9f3a\"], [0.8888888888888888, \"#fdca26\"], [1.0, \"#f0f921\"]]}, \"colorway\": [\"#636efa\", \"#EF553B\", \"#00cc96\", \"#ab63fa\", \"#FFA15A\", \"#19d3f3\", \"#FF6692\", \"#B6E880\", \"#FF97FF\", \"#FECB52\"], \"font\": {\"color\": \"#2a3f5f\"}, \"geo\": {\"bgcolor\": \"white\", \"lakecolor\": \"white\", \"landcolor\": \"#E5ECF6\", \"showlakes\": true, \"showland\": true, \"subunitcolor\": \"white\"}, \"hoverlabel\": {\"align\": \"left\"}, \"hovermode\": \"closest\", \"mapbox\": {\"style\": \"light\"}, \"paper_bgcolor\": \"white\", \"plot_bgcolor\": \"#E5ECF6\", \"polar\": {\"angularaxis\": {\"gridcolor\": \"white\", \"linecolor\": \"white\", \"ticks\": \"\"}, \"bgcolor\": \"#E5ECF6\", \"radialaxis\": {\"gridcolor\": \"white\", \"linecolor\": \"white\", \"ticks\": \"\"}}, \"scene\": {\"xaxis\": {\"backgroundcolor\": \"#E5ECF6\", \"gridcolor\": \"white\", \"gridwidth\": 2, \"linecolor\": \"white\", \"showbackground\": true, \"ticks\": \"\", \"zerolinecolor\": \"white\"}, \"yaxis\": {\"backgroundcolor\": \"#E5ECF6\", \"gridcolor\": \"white\", \"gridwidth\": 2, \"linecolor\": \"white\", \"showbackground\": true, \"ticks\": \"\", \"zerolinecolor\": \"white\"}, \"zaxis\": {\"backgroundcolor\": \"#E5ECF6\", \"gridcolor\": \"white\", \"gridwidth\": 2, \"linecolor\": \"white\", \"showbackground\": true, \"ticks\": \"\", \"zerolinecolor\": \"white\"}}, \"shapedefaults\": {\"line\": {\"color\": \"#2a3f5f\"}}, \"ternary\": {\"aaxis\": {\"gridcolor\": \"white\", \"linecolor\": \"white\", \"ticks\": \"\"}, \"baxis\": {\"gridcolor\": \"white\", \"linecolor\": \"white\", \"ticks\": \"\"}, \"bgcolor\": \"#E5ECF6\", \"caxis\": {\"gridcolor\": \"white\", \"linecolor\": \"white\", \"ticks\": \"\"}}, \"title\": {\"x\": 0.05}, \"xaxis\": {\"automargin\": true, \"gridcolor\": \"white\", \"linecolor\": \"white\", \"ticks\": \"\", \"title\": {\"standoff\": 15}, \"zerolinecolor\": \"white\", \"zerolinewidth\": 2}, \"yaxis\": {\"automargin\": true, \"gridcolor\": \"white\", \"linecolor\": \"white\", \"ticks\": \"\", \"title\": {\"standoff\": 15}, \"zerolinecolor\": \"white\", \"zerolinewidth\": 2}}}, \"width\": 490},                        {\"responsive\": true}                    ).then(function(){\n",
       "                            \n",
       "var gd = document.getElementById('cc118f7c-4e16-425f-83f6-612f0334633d');\n",
       "var x = new MutationObserver(function (mutations, observer) {{\n",
       "        var display = window.getComputedStyle(gd).display;\n",
       "        if (!display || display === 'none') {{\n",
       "            console.log([gd, 'removed!']);\n",
       "            Plotly.purge(gd);\n",
       "            observer.disconnect();\n",
       "        }}\n",
       "}});\n",
       "\n",
       "// Listen for the removal of the full notebook cells\n",
       "var notebookContainer = gd.closest('#notebook-container');\n",
       "if (notebookContainer) {{\n",
       "    x.observe(notebookContainer, {childList: true});\n",
       "}}\n",
       "\n",
       "// Listen for the clearing of the current output cell\n",
       "var outputEl = gd.closest('.output');\n",
       "if (outputEl) {{\n",
       "    x.observe(outputEl, {childList: true});\n",
       "}}\n",
       "\n",
       "                        })                };                });            </script>        </div>"
      ]
     },
     "metadata": {},
     "output_type": "display_data"
    }
   ],
   "source": [
    "import plotly.graph_objects as go\n",
    "fig = go.Figure(go.Sunburst(\n",
    "                ids = ['2021 DRIVER LINEUP', 'Mercedes', 'Lewis Hamilton', 'Valtteri Bottas', 'Ferrari', 'Carlos Sainz Jr',\n",
    "                          'Charles Leclerc', 'Red Bull', 'Max Verstappen', 'Sergio Perez', 'McLaren', 'Daniel Ricciardo',\n",
    "                          'Lando Norris', 'Alpine', 'Esteban Ocon', 'Fernando Alonso', 'AlphaTauri', 'Yuki Tsunoda', \n",
    "                          'Pierre Gasly', 'Aston Martin', 'Sebastian Vettel', 'Lance Stroll', 'Alpha Romeo', 'Kimi Raikkonen',\n",
    "                          'Antonio Giovinazzi', 'Haas', 'Mick Schumacher', 'Nikita Mazepin' ,'Williams', 'George Russell',\n",
    "                          'Nicholas Latifi'],\n",
    "                labels = ['2021 DRIVER LINEUP', 'Mercedes', 'Lewis Hamilton', 'Valtteri Bottas', 'Ferrari', 'Carlos Sainz Jr',\n",
    "                          'Charles Leclerc', 'Red Bull', 'Max Verstappen', 'Sergio Perez', 'McLaren', 'Daniel Ricciardo',\n",
    "                          'Lando Norris', 'Alpine', 'Esteban Ocon', 'Fernando Alonso', 'AlphaTauri', 'Yuki Tsunoda', \n",
    "                          'Pierre Gasly', 'Aston<br>Martin', 'Sebastian Vettel', 'Lance Stroll', 'Alpha<br>Romeo', 'Kimi Raikkonen',\n",
    "                          'Antonio Giovinazzi', 'Haas', 'Mick Schumacher', 'Nikita Mazepin' ,'Williams', 'George Russell',\n",
    "                          'Nicholas Latifi'],\n",
    "                parents = ['', '2021 DRIVER LINEUP', 'Mercedes', 'Mercedes', '2021 DRIVER LINEUP', 'Ferrari',\n",
    "                          'Ferrari', '2021 DRIVER LINEUP', 'Red Bull', 'Red Bull', '2021 DRIVER LINEUP', 'McLaren',\n",
    "                          'McLaren', '2021 DRIVER LINEUP', 'Alpine', 'Alpine', '2021 DRIVER LINEUP', 'AlphaTauri',\n",
    "                          'AlphaTauri', '2021 DRIVER LINEUP', 'Aston Martin', 'Aston Martin', '2021 DRIVER LINEUP', 'Alpha Romeo',\n",
    "                          'Alpha Romeo', '2021 DRIVER LINEUP', 'Haas', 'Haas', '2021 DRIVER LINEUP', 'Williams', 'Williams']\n",
    "                )\n",
    "             )\n",
    "\n",
    "fig.update_layout( autosize=False,\n",
    "    width=490,\n",
    "    height=490,\n",
    "    margin=dict(\n",
    "        l=0,\n",
    "        r=0,\n",
    "        b=0,\n",
    "        t=0\n",
    "    ),\n",
    "        template = 'plotly')\n",
    "fig.show()"
   ]
  }
 ],
 "metadata": {
  "kernelspec": {
   "display_name": "Python 3",
   "language": "python",
   "name": "python3"
  },
  "language_info": {
   "codemirror_mode": {
    "name": "ipython",
    "version": 3
   },
   "file_extension": ".py",
   "mimetype": "text/x-python",
   "name": "python",
   "nbconvert_exporter": "python",
   "pygments_lexer": "ipython3",
   "version": "3.7.4"
  }
 },
 "nbformat": 4,
 "nbformat_minor": 4
}
